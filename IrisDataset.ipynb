{
  "nbformat": 4,
  "nbformat_minor": 0,
  "metadata": {
    "colab": {
      "name": "IrisDataset.ipynb",
      "provenance": [],
      "collapsed_sections": []
    },
    "kernelspec": {
      "name": "python3",
      "display_name": "Python 3"
    }
  },
  "cells": [
    {
      "cell_type": "code",
      "metadata": {
        "id": "U-kPyGkfYiwN",
        "colab": {
          "base_uri": "https://localhost:8080/",
          "height": 1000
        },
        "outputId": "ef2646e6-f9cf-4153-d1db-4299d5f38ddf"
      },
      "source": [
        "\n",
        "# Svc için sınıflandırma algoritması başarısı : 0.9696969696969697,\n",
        "# Svc için pipeline kullanımı sonucu başarı: 0.9713804713804713,\n",
        "# Svc için GridSearch sonucu başarı: {'kmeans__n_clusters': 89}   0.9747474747474747,\n",
        "\n",
        "# KNN için sınıflandırma algoritması başarısı : 0.9644444444444444,\n",
        "# KNN için pipeline kullanımı sonucu başarı: 0.9688888888888889,\n",
        "# KNN için GridSearch sonucu başarı: {'kmeans__n_clusters': 89}   0.9711111111111,\n",
        "\n",
        "#Kütüphaneler eklendi\n",
        "import numpy as np\n",
        "import pandas as pd\n",
        "from sklearn.metrics import confusion_matrix\n",
        "from sklearn.cluster import KMeans\n",
        "# Veri Yukleme\n",
        "veriler = pd.read_excel('Iris.xls')\n",
        "# Verimiz iris bitkisinin veri kümesidir.\n",
        "# Verilerin bağımlı ve bağımsız değişken olarak tanımlanması\n",
        "x=veriler.iloc[:,1:4]#bağımsız\n",
        "y=veriler.iloc[:,4:]#bağımlı\n",
        "#Verilerin test ve eğitim seti olarak bölünmesi\n",
        "from sklearn.datasets import load_digits\n",
        "X_digits, y_digits = load_digits(return_X_y=True)\n",
        "from sklearn.model_selection import train_test_split\n",
        "X_train, X_test, y_train, y_test = train_test_split(X_digits, y_digits,test_size=0.33,random_state=0)\n",
        "# ----Support Vector Machine sınıflandırma algoritması kullanımı\n",
        "from sklearn.svm import SVC\n",
        "svc=SVC(kernel='linear', random_state=1)\n",
        "svc.fit(X_train,y_train)\n",
        "y_pred=svc.predict(X_test)\n",
        "print(\"SVC score :\",svc.score(X_test,y_test))\n",
        "\n",
        "# Başarısı 0.9696969696969697\n",
        "#Pipeline oluşturulması:\n",
        "from sklearn.pipeline import Pipeline\n",
        "pipeline = Pipeline([\n",
        "(\"kmeans\", KMeans(n_clusters=50,random_state=1)),\n",
        "(\"svc\", SVC(random_state=0)),\n",
        "])\n",
        "pipeline.fit(X_train, y_train)\n",
        "\n",
        "print(\"New SVC score with Pipeline\",pipeline.score(X_test, y_test))\n",
        "# Başarısı 0.9713804713804713\n",
        "\n",
        "#En optimum sonucu bulabilmek için:\n",
        "from sklearn.model_selection import GridSearchCV\n",
        "param_grid = dict(kmeans__n_clusters=range(2, 100))\n",
        "grid_clf = GridSearchCV(pipeline, param_grid, cv=3, verbose=2)\n",
        "grid_clf.fit(X_train, y_train)\n",
        "print(grid_clf.best_params_)\n",
        "print(\"New SVC score with GRIDSEARCH:\",grid_clf.score(X_test, y_test))\n",
        "#Başarısı  {'kmeans__n_clusters': 89}   0.9747474747474747\n"
      ],
      "execution_count": null,
      "outputs": [
        {
          "output_type": "stream",
          "text": [
            "SVC score : 0.9696969696969697\n",
            "New SVC score with Pipeline 0.9713804713804713\n",
            "Fitting 3 folds for each of 98 candidates, totalling 294 fits\n",
            "[CV] kmeans__n_clusters=2 ............................................\n",
            "[CV] ............................. kmeans__n_clusters=2, total=   0.2s\n",
            "[CV] kmeans__n_clusters=2 ............................................\n"
          ],
          "name": "stdout"
        },
        {
          "output_type": "stream",
          "text": [
            "[Parallel(n_jobs=1)]: Using backend SequentialBackend with 1 concurrent workers.\n",
            "[Parallel(n_jobs=1)]: Done   1 out of   1 | elapsed:    0.2s remaining:    0.0s\n"
          ],
          "name": "stderr"
        },
        {
          "output_type": "stream",
          "text": [
            "[CV] ............................. kmeans__n_clusters=2, total=   0.2s\n",
            "[CV] kmeans__n_clusters=2 ............................................\n",
            "[CV] ............................. kmeans__n_clusters=2, total=   0.1s\n",
            "[CV] kmeans__n_clusters=3 ............................................\n",
            "[CV] ............................. kmeans__n_clusters=3, total=   0.2s\n",
            "[CV] kmeans__n_clusters=3 ............................................\n",
            "[CV] ............................. kmeans__n_clusters=3, total=   0.2s\n",
            "[CV] kmeans__n_clusters=3 ............................................\n",
            "[CV] ............................. kmeans__n_clusters=3, total=   0.2s\n",
            "[CV] kmeans__n_clusters=4 ............................................\n",
            "[CV] ............................. kmeans__n_clusters=4, total=   0.2s\n",
            "[CV] kmeans__n_clusters=4 ............................................\n",
            "[CV] ............................. kmeans__n_clusters=4, total=   0.2s\n",
            "[CV] kmeans__n_clusters=4 ............................................\n",
            "[CV] ............................. kmeans__n_clusters=4, total=   0.2s\n",
            "[CV] kmeans__n_clusters=5 ............................................\n",
            "[CV] ............................. kmeans__n_clusters=5, total=   0.2s\n",
            "[CV] kmeans__n_clusters=5 ............................................\n",
            "[CV] ............................. kmeans__n_clusters=5, total=   0.2s\n",
            "[CV] kmeans__n_clusters=5 ............................................\n",
            "[CV] ............................. kmeans__n_clusters=5, total=   0.2s\n",
            "[CV] kmeans__n_clusters=6 ............................................\n",
            "[CV] ............................. kmeans__n_clusters=6, total=   0.2s\n",
            "[CV] kmeans__n_clusters=6 ............................................\n",
            "[CV] ............................. kmeans__n_clusters=6, total=   0.2s\n",
            "[CV] kmeans__n_clusters=6 ............................................\n",
            "[CV] ............................. kmeans__n_clusters=6, total=   0.2s\n",
            "[CV] kmeans__n_clusters=7 ............................................\n",
            "[CV] ............................. kmeans__n_clusters=7, total=   0.2s\n",
            "[CV] kmeans__n_clusters=7 ............................................\n",
            "[CV] ............................. kmeans__n_clusters=7, total=   0.2s\n",
            "[CV] kmeans__n_clusters=7 ............................................\n",
            "[CV] ............................. kmeans__n_clusters=7, total=   0.2s\n",
            "[CV] kmeans__n_clusters=8 ............................................\n",
            "[CV] ............................. kmeans__n_clusters=8, total=   0.2s\n",
            "[CV] kmeans__n_clusters=8 ............................................\n",
            "[CV] ............................. kmeans__n_clusters=8, total=   0.2s\n",
            "[CV] kmeans__n_clusters=8 ............................................\n",
            "[CV] ............................. kmeans__n_clusters=8, total=   0.2s\n",
            "[CV] kmeans__n_clusters=9 ............................................\n",
            "[CV] ............................. kmeans__n_clusters=9, total=   0.2s\n",
            "[CV] kmeans__n_clusters=9 ............................................\n",
            "[CV] ............................. kmeans__n_clusters=9, total=   0.2s\n",
            "[CV] kmeans__n_clusters=9 ............................................\n",
            "[CV] ............................. kmeans__n_clusters=9, total=   0.3s\n",
            "[CV] kmeans__n_clusters=10 ...........................................\n",
            "[CV] ............................ kmeans__n_clusters=10, total=   0.2s\n",
            "[CV] kmeans__n_clusters=10 ...........................................\n",
            "[CV] ............................ kmeans__n_clusters=10, total=   0.2s\n",
            "[CV] kmeans__n_clusters=10 ...........................................\n",
            "[CV] ............................ kmeans__n_clusters=10, total=   0.3s\n",
            "[CV] kmeans__n_clusters=11 ...........................................\n",
            "[CV] ............................ kmeans__n_clusters=11, total=   0.2s\n",
            "[CV] kmeans__n_clusters=11 ...........................................\n",
            "[CV] ............................ kmeans__n_clusters=11, total=   0.3s\n",
            "[CV] kmeans__n_clusters=11 ...........................................\n",
            "[CV] ............................ kmeans__n_clusters=11, total=   0.2s\n",
            "[CV] kmeans__n_clusters=12 ...........................................\n",
            "[CV] ............................ kmeans__n_clusters=12, total=   0.3s\n",
            "[CV] kmeans__n_clusters=12 ...........................................\n",
            "[CV] ............................ kmeans__n_clusters=12, total=   0.2s\n",
            "[CV] kmeans__n_clusters=12 ...........................................\n",
            "[CV] ............................ kmeans__n_clusters=12, total=   0.3s\n",
            "[CV] kmeans__n_clusters=13 ...........................................\n",
            "[CV] ............................ kmeans__n_clusters=13, total=   0.3s\n",
            "[CV] kmeans__n_clusters=13 ...........................................\n",
            "[CV] ............................ kmeans__n_clusters=13, total=   0.3s\n",
            "[CV] kmeans__n_clusters=13 ...........................................\n",
            "[CV] ............................ kmeans__n_clusters=13, total=   0.3s\n",
            "[CV] kmeans__n_clusters=14 ...........................................\n",
            "[CV] ............................ kmeans__n_clusters=14, total=   0.3s\n",
            "[CV] kmeans__n_clusters=14 ...........................................\n",
            "[CV] ............................ kmeans__n_clusters=14, total=   0.3s\n",
            "[CV] kmeans__n_clusters=14 ...........................................\n",
            "[CV] ............................ kmeans__n_clusters=14, total=   0.3s\n",
            "[CV] kmeans__n_clusters=15 ...........................................\n",
            "[CV] ............................ kmeans__n_clusters=15, total=   0.3s\n",
            "[CV] kmeans__n_clusters=15 ...........................................\n",
            "[CV] ............................ kmeans__n_clusters=15, total=   0.3s\n",
            "[CV] kmeans__n_clusters=15 ...........................................\n",
            "[CV] ............................ kmeans__n_clusters=15, total=   0.3s\n",
            "[CV] kmeans__n_clusters=16 ...........................................\n",
            "[CV] ............................ kmeans__n_clusters=16, total=   0.3s\n",
            "[CV] kmeans__n_clusters=16 ...........................................\n",
            "[CV] ............................ kmeans__n_clusters=16, total=   0.3s\n",
            "[CV] kmeans__n_clusters=16 ...........................................\n",
            "[CV] ............................ kmeans__n_clusters=16, total=   0.3s\n",
            "[CV] kmeans__n_clusters=17 ...........................................\n",
            "[CV] ............................ kmeans__n_clusters=17, total=   0.3s\n",
            "[CV] kmeans__n_clusters=17 ...........................................\n",
            "[CV] ............................ kmeans__n_clusters=17, total=   0.3s\n",
            "[CV] kmeans__n_clusters=17 ...........................................\n",
            "[CV] ............................ kmeans__n_clusters=17, total=   0.3s\n",
            "[CV] kmeans__n_clusters=18 ...........................................\n",
            "[CV] ............................ kmeans__n_clusters=18, total=   0.3s\n",
            "[CV] kmeans__n_clusters=18 ...........................................\n",
            "[CV] ............................ kmeans__n_clusters=18, total=   0.3s\n",
            "[CV] kmeans__n_clusters=18 ...........................................\n",
            "[CV] ............................ kmeans__n_clusters=18, total=   0.3s\n",
            "[CV] kmeans__n_clusters=19 ...........................................\n",
            "[CV] ............................ kmeans__n_clusters=19, total=   0.3s\n",
            "[CV] kmeans__n_clusters=19 ...........................................\n",
            "[CV] ............................ kmeans__n_clusters=19, total=   0.3s\n",
            "[CV] kmeans__n_clusters=19 ...........................................\n",
            "[CV] ............................ kmeans__n_clusters=19, total=   0.4s\n",
            "[CV] kmeans__n_clusters=20 ...........................................\n",
            "[CV] ............................ kmeans__n_clusters=20, total=   0.3s\n",
            "[CV] kmeans__n_clusters=20 ...........................................\n",
            "[CV] ............................ kmeans__n_clusters=20, total=   0.3s\n",
            "[CV] kmeans__n_clusters=20 ...........................................\n",
            "[CV] ............................ kmeans__n_clusters=20, total=   0.3s\n",
            "[CV] kmeans__n_clusters=21 ...........................................\n",
            "[CV] ............................ kmeans__n_clusters=21, total=   0.4s\n",
            "[CV] kmeans__n_clusters=21 ...........................................\n",
            "[CV] ............................ kmeans__n_clusters=21, total=   0.3s\n",
            "[CV] kmeans__n_clusters=21 ...........................................\n",
            "[CV] ............................ kmeans__n_clusters=21, total=   0.3s\n",
            "[CV] kmeans__n_clusters=22 ...........................................\n",
            "[CV] ............................ kmeans__n_clusters=22, total=   0.4s\n",
            "[CV] kmeans__n_clusters=22 ...........................................\n",
            "[CV] ............................ kmeans__n_clusters=22, total=   0.3s\n",
            "[CV] kmeans__n_clusters=22 ...........................................\n",
            "[CV] ............................ kmeans__n_clusters=22, total=   0.3s\n",
            "[CV] kmeans__n_clusters=23 ...........................................\n",
            "[CV] ............................ kmeans__n_clusters=23, total=   0.4s\n",
            "[CV] kmeans__n_clusters=23 ...........................................\n",
            "[CV] ............................ kmeans__n_clusters=23, total=   0.3s\n",
            "[CV] kmeans__n_clusters=23 ...........................................\n",
            "[CV] ............................ kmeans__n_clusters=23, total=   0.4s\n",
            "[CV] kmeans__n_clusters=24 ...........................................\n",
            "[CV] ............................ kmeans__n_clusters=24, total=   0.4s\n",
            "[CV] kmeans__n_clusters=24 ...........................................\n",
            "[CV] ............................ kmeans__n_clusters=24, total=   0.4s\n",
            "[CV] kmeans__n_clusters=24 ...........................................\n",
            "[CV] ............................ kmeans__n_clusters=24, total=   0.4s\n",
            "[CV] kmeans__n_clusters=25 ...........................................\n",
            "[CV] ............................ kmeans__n_clusters=25, total=   0.4s\n",
            "[CV] kmeans__n_clusters=25 ...........................................\n",
            "[CV] ............................ kmeans__n_clusters=25, total=   0.4s\n",
            "[CV] kmeans__n_clusters=25 ...........................................\n",
            "[CV] ............................ kmeans__n_clusters=25, total=   0.4s\n",
            "[CV] kmeans__n_clusters=26 ...........................................\n",
            "[CV] ............................ kmeans__n_clusters=26, total=   0.4s\n",
            "[CV] kmeans__n_clusters=26 ...........................................\n",
            "[CV] ............................ kmeans__n_clusters=26, total=   0.4s\n",
            "[CV] kmeans__n_clusters=26 ...........................................\n",
            "[CV] ............................ kmeans__n_clusters=26, total=   0.4s\n",
            "[CV] kmeans__n_clusters=27 ...........................................\n",
            "[CV] ............................ kmeans__n_clusters=27, total=   0.4s\n",
            "[CV] kmeans__n_clusters=27 ...........................................\n",
            "[CV] ............................ kmeans__n_clusters=27, total=   0.4s\n",
            "[CV] kmeans__n_clusters=27 ...........................................\n",
            "[CV] ............................ kmeans__n_clusters=27, total=   0.4s\n",
            "[CV] kmeans__n_clusters=28 ...........................................\n",
            "[CV] ............................ kmeans__n_clusters=28, total=   0.4s\n",
            "[CV] kmeans__n_clusters=28 ...........................................\n",
            "[CV] ............................ kmeans__n_clusters=28, total=   0.4s\n",
            "[CV] kmeans__n_clusters=28 ...........................................\n",
            "[CV] ............................ kmeans__n_clusters=28, total=   0.4s\n",
            "[CV] kmeans__n_clusters=29 ...........................................\n",
            "[CV] ............................ kmeans__n_clusters=29, total=   0.4s\n",
            "[CV] kmeans__n_clusters=29 ...........................................\n",
            "[CV] ............................ kmeans__n_clusters=29, total=   0.4s\n",
            "[CV] kmeans__n_clusters=29 ...........................................\n",
            "[CV] ............................ kmeans__n_clusters=29, total=   0.4s\n",
            "[CV] kmeans__n_clusters=30 ...........................................\n",
            "[CV] ............................ kmeans__n_clusters=30, total=   0.4s\n",
            "[CV] kmeans__n_clusters=30 ...........................................\n",
            "[CV] ............................ kmeans__n_clusters=30, total=   0.4s\n",
            "[CV] kmeans__n_clusters=30 ...........................................\n",
            "[CV] ............................ kmeans__n_clusters=30, total=   0.4s\n",
            "[CV] kmeans__n_clusters=31 ...........................................\n",
            "[CV] ............................ kmeans__n_clusters=31, total=   0.4s\n",
            "[CV] kmeans__n_clusters=31 ...........................................\n",
            "[CV] ............................ kmeans__n_clusters=31, total=   0.4s\n",
            "[CV] kmeans__n_clusters=31 ...........................................\n",
            "[CV] ............................ kmeans__n_clusters=31, total=   0.4s\n",
            "[CV] kmeans__n_clusters=32 ...........................................\n",
            "[CV] ............................ kmeans__n_clusters=32, total=   0.4s\n",
            "[CV] kmeans__n_clusters=32 ...........................................\n",
            "[CV] ............................ kmeans__n_clusters=32, total=   0.4s\n",
            "[CV] kmeans__n_clusters=32 ...........................................\n",
            "[CV] ............................ kmeans__n_clusters=32, total=   0.4s\n",
            "[CV] kmeans__n_clusters=33 ...........................................\n",
            "[CV] ............................ kmeans__n_clusters=33, total=   0.4s\n",
            "[CV] kmeans__n_clusters=33 ...........................................\n",
            "[CV] ............................ kmeans__n_clusters=33, total=   0.4s\n",
            "[CV] kmeans__n_clusters=33 ...........................................\n",
            "[CV] ............................ kmeans__n_clusters=33, total=   0.5s\n",
            "[CV] kmeans__n_clusters=34 ...........................................\n",
            "[CV] ............................ kmeans__n_clusters=34, total=   0.5s\n",
            "[CV] kmeans__n_clusters=34 ...........................................\n",
            "[CV] ............................ kmeans__n_clusters=34, total=   0.4s\n",
            "[CV] kmeans__n_clusters=34 ...........................................\n",
            "[CV] ............................ kmeans__n_clusters=34, total=   0.5s\n",
            "[CV] kmeans__n_clusters=35 ...........................................\n",
            "[CV] ............................ kmeans__n_clusters=35, total=   0.5s\n",
            "[CV] kmeans__n_clusters=35 ...........................................\n",
            "[CV] ............................ kmeans__n_clusters=35, total=   0.4s\n",
            "[CV] kmeans__n_clusters=35 ...........................................\n",
            "[CV] ............................ kmeans__n_clusters=35, total=   0.4s\n",
            "[CV] kmeans__n_clusters=36 ...........................................\n",
            "[CV] ............................ kmeans__n_clusters=36, total=   0.5s\n",
            "[CV] kmeans__n_clusters=36 ...........................................\n",
            "[CV] ............................ kmeans__n_clusters=36, total=   0.5s\n",
            "[CV] kmeans__n_clusters=36 ...........................................\n",
            "[CV] ............................ kmeans__n_clusters=36, total=   0.5s\n",
            "[CV] kmeans__n_clusters=37 ...........................................\n",
            "[CV] ............................ kmeans__n_clusters=37, total=   0.5s\n",
            "[CV] kmeans__n_clusters=37 ...........................................\n",
            "[CV] ............................ kmeans__n_clusters=37, total=   0.5s\n",
            "[CV] kmeans__n_clusters=37 ...........................................\n",
            "[CV] ............................ kmeans__n_clusters=37, total=   0.5s\n",
            "[CV] kmeans__n_clusters=38 ...........................................\n",
            "[CV] ............................ kmeans__n_clusters=38, total=   0.5s\n",
            "[CV] kmeans__n_clusters=38 ...........................................\n",
            "[CV] ............................ kmeans__n_clusters=38, total=   0.5s\n",
            "[CV] kmeans__n_clusters=38 ...........................................\n",
            "[CV] ............................ kmeans__n_clusters=38, total=   0.5s\n",
            "[CV] kmeans__n_clusters=39 ...........................................\n",
            "[CV] ............................ kmeans__n_clusters=39, total=   0.5s\n",
            "[CV] kmeans__n_clusters=39 ...........................................\n",
            "[CV] ............................ kmeans__n_clusters=39, total=   0.5s\n",
            "[CV] kmeans__n_clusters=39 ...........................................\n",
            "[CV] ............................ kmeans__n_clusters=39, total=   0.5s\n",
            "[CV] kmeans__n_clusters=40 ...........................................\n",
            "[CV] ............................ kmeans__n_clusters=40, total=   0.5s\n",
            "[CV] kmeans__n_clusters=40 ...........................................\n",
            "[CV] ............................ kmeans__n_clusters=40, total=   0.5s\n",
            "[CV] kmeans__n_clusters=40 ...........................................\n",
            "[CV] ............................ kmeans__n_clusters=40, total=   0.5s\n",
            "[CV] kmeans__n_clusters=41 ...........................................\n",
            "[CV] ............................ kmeans__n_clusters=41, total=   0.5s\n",
            "[CV] kmeans__n_clusters=41 ...........................................\n",
            "[CV] ............................ kmeans__n_clusters=41, total=   0.5s\n",
            "[CV] kmeans__n_clusters=41 ...........................................\n",
            "[CV] ............................ kmeans__n_clusters=41, total=   0.6s\n",
            "[CV] kmeans__n_clusters=42 ...........................................\n",
            "[CV] ............................ kmeans__n_clusters=42, total=   0.5s\n",
            "[CV] kmeans__n_clusters=42 ...........................................\n",
            "[CV] ............................ kmeans__n_clusters=42, total=   0.5s\n",
            "[CV] kmeans__n_clusters=42 ...........................................\n",
            "[CV] ............................ kmeans__n_clusters=42, total=   0.5s\n",
            "[CV] kmeans__n_clusters=43 ...........................................\n",
            "[CV] ............................ kmeans__n_clusters=43, total=   0.5s\n",
            "[CV] kmeans__n_clusters=43 ...........................................\n",
            "[CV] ............................ kmeans__n_clusters=43, total=   0.5s\n",
            "[CV] kmeans__n_clusters=43 ...........................................\n",
            "[CV] ............................ kmeans__n_clusters=43, total=   0.6s\n",
            "[CV] kmeans__n_clusters=44 ...........................................\n",
            "[CV] ............................ kmeans__n_clusters=44, total=   0.6s\n",
            "[CV] kmeans__n_clusters=44 ...........................................\n",
            "[CV] ............................ kmeans__n_clusters=44, total=   0.5s\n",
            "[CV] kmeans__n_clusters=44 ...........................................\n",
            "[CV] ............................ kmeans__n_clusters=44, total=   0.6s\n",
            "[CV] kmeans__n_clusters=45 ...........................................\n",
            "[CV] ............................ kmeans__n_clusters=45, total=   0.5s\n",
            "[CV] kmeans__n_clusters=45 ...........................................\n",
            "[CV] ............................ kmeans__n_clusters=45, total=   0.5s\n",
            "[CV] kmeans__n_clusters=45 ...........................................\n",
            "[CV] ............................ kmeans__n_clusters=45, total=   0.5s\n",
            "[CV] kmeans__n_clusters=46 ...........................................\n",
            "[CV] ............................ kmeans__n_clusters=46, total=   0.6s\n",
            "[CV] kmeans__n_clusters=46 ...........................................\n",
            "[CV] ............................ kmeans__n_clusters=46, total=   0.5s\n",
            "[CV] kmeans__n_clusters=46 ...........................................\n",
            "[CV] ............................ kmeans__n_clusters=46, total=   0.6s\n",
            "[CV] kmeans__n_clusters=47 ...........................................\n",
            "[CV] ............................ kmeans__n_clusters=47, total=   0.6s\n",
            "[CV] kmeans__n_clusters=47 ...........................................\n",
            "[CV] ............................ kmeans__n_clusters=47, total=   0.6s\n",
            "[CV] kmeans__n_clusters=47 ...........................................\n",
            "[CV] ............................ kmeans__n_clusters=47, total=   0.6s\n",
            "[CV] kmeans__n_clusters=48 ...........................................\n",
            "[CV] ............................ kmeans__n_clusters=48, total=   0.6s\n",
            "[CV] kmeans__n_clusters=48 ...........................................\n",
            "[CV] ............................ kmeans__n_clusters=48, total=   0.6s\n",
            "[CV] kmeans__n_clusters=48 ...........................................\n",
            "[CV] ............................ kmeans__n_clusters=48, total=   0.6s\n",
            "[CV] kmeans__n_clusters=49 ...........................................\n",
            "[CV] ............................ kmeans__n_clusters=49, total=   0.6s\n",
            "[CV] kmeans__n_clusters=49 ...........................................\n",
            "[CV] ............................ kmeans__n_clusters=49, total=   0.6s\n",
            "[CV] kmeans__n_clusters=49 ...........................................\n",
            "[CV] ............................ kmeans__n_clusters=49, total=   0.6s\n",
            "[CV] kmeans__n_clusters=50 ...........................................\n",
            "[CV] ............................ kmeans__n_clusters=50, total=   0.6s\n",
            "[CV] kmeans__n_clusters=50 ...........................................\n",
            "[CV] ............................ kmeans__n_clusters=50, total=   0.6s\n",
            "[CV] kmeans__n_clusters=50 ...........................................\n",
            "[CV] ............................ kmeans__n_clusters=50, total=   0.6s\n",
            "[CV] kmeans__n_clusters=51 ...........................................\n",
            "[CV] ............................ kmeans__n_clusters=51, total=   0.6s\n",
            "[CV] kmeans__n_clusters=51 ...........................................\n",
            "[CV] ............................ kmeans__n_clusters=51, total=   0.6s\n",
            "[CV] kmeans__n_clusters=51 ...........................................\n",
            "[CV] ............................ kmeans__n_clusters=51, total=   0.6s\n",
            "[CV] kmeans__n_clusters=52 ...........................................\n",
            "[CV] ............................ kmeans__n_clusters=52, total=   0.6s\n",
            "[CV] kmeans__n_clusters=52 ...........................................\n",
            "[CV] ............................ kmeans__n_clusters=52, total=   0.6s\n",
            "[CV] kmeans__n_clusters=52 ...........................................\n",
            "[CV] ............................ kmeans__n_clusters=52, total=   0.6s\n",
            "[CV] kmeans__n_clusters=53 ...........................................\n",
            "[CV] ............................ kmeans__n_clusters=53, total=   0.6s\n",
            "[CV] kmeans__n_clusters=53 ...........................................\n",
            "[CV] ............................ kmeans__n_clusters=53, total=   0.6s\n",
            "[CV] kmeans__n_clusters=53 ...........................................\n",
            "[CV] ............................ kmeans__n_clusters=53, total=   0.6s\n",
            "[CV] kmeans__n_clusters=54 ...........................................\n",
            "[CV] ............................ kmeans__n_clusters=54, total=   0.7s\n",
            "[CV] kmeans__n_clusters=54 ...........................................\n",
            "[CV] ............................ kmeans__n_clusters=54, total=   0.6s\n",
            "[CV] kmeans__n_clusters=54 ...........................................\n",
            "[CV] ............................ kmeans__n_clusters=54, total=   0.6s\n",
            "[CV] kmeans__n_clusters=55 ...........................................\n",
            "[CV] ............................ kmeans__n_clusters=55, total=   0.7s\n",
            "[CV] kmeans__n_clusters=55 ...........................................\n",
            "[CV] ............................ kmeans__n_clusters=55, total=   0.7s\n",
            "[CV] kmeans__n_clusters=55 ...........................................\n",
            "[CV] ............................ kmeans__n_clusters=55, total=   0.6s\n",
            "[CV] kmeans__n_clusters=56 ...........................................\n",
            "[CV] ............................ kmeans__n_clusters=56, total=   0.7s\n",
            "[CV] kmeans__n_clusters=56 ...........................................\n",
            "[CV] ............................ kmeans__n_clusters=56, total=   0.7s\n",
            "[CV] kmeans__n_clusters=56 ...........................................\n",
            "[CV] ............................ kmeans__n_clusters=56, total=   0.7s\n",
            "[CV] kmeans__n_clusters=57 ...........................................\n",
            "[CV] ............................ kmeans__n_clusters=57, total=   0.7s\n",
            "[CV] kmeans__n_clusters=57 ...........................................\n",
            "[CV] ............................ kmeans__n_clusters=57, total=   0.7s\n",
            "[CV] kmeans__n_clusters=57 ...........................................\n",
            "[CV] ............................ kmeans__n_clusters=57, total=   0.7s\n",
            "[CV] kmeans__n_clusters=58 ...........................................\n",
            "[CV] ............................ kmeans__n_clusters=58, total=   0.7s\n",
            "[CV] kmeans__n_clusters=58 ...........................................\n",
            "[CV] ............................ kmeans__n_clusters=58, total=   0.7s\n",
            "[CV] kmeans__n_clusters=58 ...........................................\n",
            "[CV] ............................ kmeans__n_clusters=58, total=   0.7s\n",
            "[CV] kmeans__n_clusters=59 ...........................................\n",
            "[CV] ............................ kmeans__n_clusters=59, total=   0.7s\n",
            "[CV] kmeans__n_clusters=59 ...........................................\n",
            "[CV] ............................ kmeans__n_clusters=59, total=   0.7s\n",
            "[CV] kmeans__n_clusters=59 ...........................................\n",
            "[CV] ............................ kmeans__n_clusters=59, total=   0.7s\n",
            "[CV] kmeans__n_clusters=60 ...........................................\n",
            "[CV] ............................ kmeans__n_clusters=60, total=   0.7s\n",
            "[CV] kmeans__n_clusters=60 ...........................................\n",
            "[CV] ............................ kmeans__n_clusters=60, total=   0.7s\n",
            "[CV] kmeans__n_clusters=60 ...........................................\n",
            "[CV] ............................ kmeans__n_clusters=60, total=   0.7s\n",
            "[CV] kmeans__n_clusters=61 ...........................................\n",
            "[CV] ............................ kmeans__n_clusters=61, total=   0.7s\n",
            "[CV] kmeans__n_clusters=61 ...........................................\n",
            "[CV] ............................ kmeans__n_clusters=61, total=   0.7s\n",
            "[CV] kmeans__n_clusters=61 ...........................................\n",
            "[CV] ............................ kmeans__n_clusters=61, total=   0.7s\n",
            "[CV] kmeans__n_clusters=62 ...........................................\n",
            "[CV] ............................ kmeans__n_clusters=62, total=   0.7s\n",
            "[CV] kmeans__n_clusters=62 ...........................................\n",
            "[CV] ............................ kmeans__n_clusters=62, total=   0.7s\n",
            "[CV] kmeans__n_clusters=62 ...........................................\n",
            "[CV] ............................ kmeans__n_clusters=62, total=   0.7s\n",
            "[CV] kmeans__n_clusters=63 ...........................................\n",
            "[CV] ............................ kmeans__n_clusters=63, total=   0.7s\n",
            "[CV] kmeans__n_clusters=63 ...........................................\n",
            "[CV] ............................ kmeans__n_clusters=63, total=   0.7s\n",
            "[CV] kmeans__n_clusters=63 ...........................................\n",
            "[CV] ............................ kmeans__n_clusters=63, total=   0.7s\n",
            "[CV] kmeans__n_clusters=64 ...........................................\n",
            "[CV] ............................ kmeans__n_clusters=64, total=   0.8s\n",
            "[CV] kmeans__n_clusters=64 ...........................................\n",
            "[CV] ............................ kmeans__n_clusters=64, total=   0.8s\n",
            "[CV] kmeans__n_clusters=64 ...........................................\n",
            "[CV] ............................ kmeans__n_clusters=64, total=   0.7s\n",
            "[CV] kmeans__n_clusters=65 ...........................................\n",
            "[CV] ............................ kmeans__n_clusters=65, total=   0.8s\n",
            "[CV] kmeans__n_clusters=65 ...........................................\n",
            "[CV] ............................ kmeans__n_clusters=65, total=   0.7s\n",
            "[CV] kmeans__n_clusters=65 ...........................................\n",
            "[CV] ............................ kmeans__n_clusters=65, total=   0.7s\n",
            "[CV] kmeans__n_clusters=66 ...........................................\n",
            "[CV] ............................ kmeans__n_clusters=66, total=   0.8s\n",
            "[CV] kmeans__n_clusters=66 ...........................................\n",
            "[CV] ............................ kmeans__n_clusters=66, total=   0.8s\n",
            "[CV] kmeans__n_clusters=66 ...........................................\n",
            "[CV] ............................ kmeans__n_clusters=66, total=   0.7s\n",
            "[CV] kmeans__n_clusters=67 ...........................................\n",
            "[CV] ............................ kmeans__n_clusters=67, total=   0.8s\n",
            "[CV] kmeans__n_clusters=67 ...........................................\n",
            "[CV] ............................ kmeans__n_clusters=67, total=   0.8s\n",
            "[CV] kmeans__n_clusters=67 ...........................................\n",
            "[CV] ............................ kmeans__n_clusters=67, total=   0.8s\n",
            "[CV] kmeans__n_clusters=68 ...........................................\n",
            "[CV] ............................ kmeans__n_clusters=68, total=   0.8s\n",
            "[CV] kmeans__n_clusters=68 ...........................................\n",
            "[CV] ............................ kmeans__n_clusters=68, total=   0.7s\n",
            "[CV] kmeans__n_clusters=68 ...........................................\n",
            "[CV] ............................ kmeans__n_clusters=68, total=   0.8s\n",
            "[CV] kmeans__n_clusters=69 ...........................................\n",
            "[CV] ............................ kmeans__n_clusters=69, total=   0.8s\n",
            "[CV] kmeans__n_clusters=69 ...........................................\n",
            "[CV] ............................ kmeans__n_clusters=69, total=   0.8s\n",
            "[CV] kmeans__n_clusters=69 ...........................................\n",
            "[CV] ............................ kmeans__n_clusters=69, total=   0.8s\n",
            "[CV] kmeans__n_clusters=70 ...........................................\n",
            "[CV] ............................ kmeans__n_clusters=70, total=   0.8s\n",
            "[CV] kmeans__n_clusters=70 ...........................................\n",
            "[CV] ............................ kmeans__n_clusters=70, total=   0.8s\n",
            "[CV] kmeans__n_clusters=70 ...........................................\n",
            "[CV] ............................ kmeans__n_clusters=70, total=   0.8s\n",
            "[CV] kmeans__n_clusters=71 ...........................................\n",
            "[CV] ............................ kmeans__n_clusters=71, total=   0.8s\n",
            "[CV] kmeans__n_clusters=71 ...........................................\n",
            "[CV] ............................ kmeans__n_clusters=71, total=   0.8s\n",
            "[CV] kmeans__n_clusters=71 ...........................................\n",
            "[CV] ............................ kmeans__n_clusters=71, total=   0.8s\n",
            "[CV] kmeans__n_clusters=72 ...........................................\n",
            "[CV] ............................ kmeans__n_clusters=72, total=   0.8s\n",
            "[CV] kmeans__n_clusters=72 ...........................................\n",
            "[CV] ............................ kmeans__n_clusters=72, total=   0.8s\n",
            "[CV] kmeans__n_clusters=72 ...........................................\n",
            "[CV] ............................ kmeans__n_clusters=72, total=   0.8s\n",
            "[CV] kmeans__n_clusters=73 ...........................................\n",
            "[CV] ............................ kmeans__n_clusters=73, total=   0.8s\n",
            "[CV] kmeans__n_clusters=73 ...........................................\n",
            "[CV] ............................ kmeans__n_clusters=73, total=   0.9s\n",
            "[CV] kmeans__n_clusters=73 ...........................................\n",
            "[CV] ............................ kmeans__n_clusters=73, total=   0.8s\n",
            "[CV] kmeans__n_clusters=74 ...........................................\n",
            "[CV] ............................ kmeans__n_clusters=74, total=   0.8s\n",
            "[CV] kmeans__n_clusters=74 ...........................................\n",
            "[CV] ............................ kmeans__n_clusters=74, total=   0.8s\n",
            "[CV] kmeans__n_clusters=74 ...........................................\n",
            "[CV] ............................ kmeans__n_clusters=74, total=   0.8s\n",
            "[CV] kmeans__n_clusters=75 ...........................................\n",
            "[CV] ............................ kmeans__n_clusters=75, total=   0.8s\n",
            "[CV] kmeans__n_clusters=75 ...........................................\n",
            "[CV] ............................ kmeans__n_clusters=75, total=   0.9s\n",
            "[CV] kmeans__n_clusters=75 ...........................................\n",
            "[CV] ............................ kmeans__n_clusters=75, total=   0.8s\n",
            "[CV] kmeans__n_clusters=76 ...........................................\n",
            "[CV] ............................ kmeans__n_clusters=76, total=   0.8s\n",
            "[CV] kmeans__n_clusters=76 ...........................................\n",
            "[CV] ............................ kmeans__n_clusters=76, total=   0.9s\n",
            "[CV] kmeans__n_clusters=76 ...........................................\n",
            "[CV] ............................ kmeans__n_clusters=76, total=   0.8s\n",
            "[CV] kmeans__n_clusters=77 ...........................................\n",
            "[CV] ............................ kmeans__n_clusters=77, total=   0.8s\n",
            "[CV] kmeans__n_clusters=77 ...........................................\n",
            "[CV] ............................ kmeans__n_clusters=77, total=   0.9s\n",
            "[CV] kmeans__n_clusters=77 ...........................................\n",
            "[CV] ............................ kmeans__n_clusters=77, total=   0.8s\n",
            "[CV] kmeans__n_clusters=78 ...........................................\n",
            "[CV] ............................ kmeans__n_clusters=78, total=   0.8s\n",
            "[CV] kmeans__n_clusters=78 ...........................................\n",
            "[CV] ............................ kmeans__n_clusters=78, total=   0.9s\n",
            "[CV] kmeans__n_clusters=78 ...........................................\n",
            "[CV] ............................ kmeans__n_clusters=78, total=   0.9s\n",
            "[CV] kmeans__n_clusters=79 ...........................................\n",
            "[CV] ............................ kmeans__n_clusters=79, total=   0.9s\n",
            "[CV] kmeans__n_clusters=79 ...........................................\n",
            "[CV] ............................ kmeans__n_clusters=79, total=   0.9s\n",
            "[CV] kmeans__n_clusters=79 ...........................................\n",
            "[CV] ............................ kmeans__n_clusters=79, total=   0.9s\n",
            "[CV] kmeans__n_clusters=80 ...........................................\n",
            "[CV] ............................ kmeans__n_clusters=80, total=   0.9s\n",
            "[CV] kmeans__n_clusters=80 ...........................................\n",
            "[CV] ............................ kmeans__n_clusters=80, total=   0.9s\n",
            "[CV] kmeans__n_clusters=80 ...........................................\n",
            "[CV] ............................ kmeans__n_clusters=80, total=   0.9s\n",
            "[CV] kmeans__n_clusters=81 ...........................................\n",
            "[CV] ............................ kmeans__n_clusters=81, total=   0.9s\n",
            "[CV] kmeans__n_clusters=81 ...........................................\n",
            "[CV] ............................ kmeans__n_clusters=81, total=   0.9s\n",
            "[CV] kmeans__n_clusters=81 ...........................................\n",
            "[CV] ............................ kmeans__n_clusters=81, total=   0.9s\n",
            "[CV] kmeans__n_clusters=82 ...........................................\n",
            "[CV] ............................ kmeans__n_clusters=82, total=   0.9s\n",
            "[CV] kmeans__n_clusters=82 ...........................................\n",
            "[CV] ............................ kmeans__n_clusters=82, total=   0.9s\n",
            "[CV] kmeans__n_clusters=82 ...........................................\n",
            "[CV] ............................ kmeans__n_clusters=82, total=   0.9s\n",
            "[CV] kmeans__n_clusters=83 ...........................................\n",
            "[CV] ............................ kmeans__n_clusters=83, total=   0.9s\n",
            "[CV] kmeans__n_clusters=83 ...........................................\n",
            "[CV] ............................ kmeans__n_clusters=83, total=   0.9s\n",
            "[CV] kmeans__n_clusters=83 ...........................................\n",
            "[CV] ............................ kmeans__n_clusters=83, total=   0.9s\n",
            "[CV] kmeans__n_clusters=84 ...........................................\n",
            "[CV] ............................ kmeans__n_clusters=84, total=   0.9s\n",
            "[CV] kmeans__n_clusters=84 ...........................................\n",
            "[CV] ............................ kmeans__n_clusters=84, total=   0.9s\n",
            "[CV] kmeans__n_clusters=84 ...........................................\n",
            "[CV] ............................ kmeans__n_clusters=84, total=   1.0s\n",
            "[CV] kmeans__n_clusters=85 ...........................................\n",
            "[CV] ............................ kmeans__n_clusters=85, total=   0.9s\n",
            "[CV] kmeans__n_clusters=85 ...........................................\n",
            "[CV] ............................ kmeans__n_clusters=85, total=   0.9s\n",
            "[CV] kmeans__n_clusters=85 ...........................................\n",
            "[CV] ............................ kmeans__n_clusters=85, total=   0.9s\n",
            "[CV] kmeans__n_clusters=86 ...........................................\n",
            "[CV] ............................ kmeans__n_clusters=86, total=   0.9s\n",
            "[CV] kmeans__n_clusters=86 ...........................................\n",
            "[CV] ............................ kmeans__n_clusters=86, total=   0.9s\n",
            "[CV] kmeans__n_clusters=86 ...........................................\n",
            "[CV] ............................ kmeans__n_clusters=86, total=   0.9s\n",
            "[CV] kmeans__n_clusters=87 ...........................................\n",
            "[CV] ............................ kmeans__n_clusters=87, total=   0.9s\n",
            "[CV] kmeans__n_clusters=87 ...........................................\n",
            "[CV] ............................ kmeans__n_clusters=87, total=   0.9s\n",
            "[CV] kmeans__n_clusters=87 ...........................................\n",
            "[CV] ............................ kmeans__n_clusters=87, total=   0.9s\n",
            "[CV] kmeans__n_clusters=88 ...........................................\n",
            "[CV] ............................ kmeans__n_clusters=88, total=   0.9s\n",
            "[CV] kmeans__n_clusters=88 ...........................................\n",
            "[CV] ............................ kmeans__n_clusters=88, total=   0.9s\n",
            "[CV] kmeans__n_clusters=88 ...........................................\n",
            "[CV] ............................ kmeans__n_clusters=88, total=   1.0s\n",
            "[CV] kmeans__n_clusters=89 ...........................................\n",
            "[CV] ............................ kmeans__n_clusters=89, total=   0.9s\n",
            "[CV] kmeans__n_clusters=89 ...........................................\n",
            "[CV] ............................ kmeans__n_clusters=89, total=   1.0s\n",
            "[CV] kmeans__n_clusters=89 ...........................................\n",
            "[CV] ............................ kmeans__n_clusters=89, total=   0.9s\n",
            "[CV] kmeans__n_clusters=90 ...........................................\n",
            "[CV] ............................ kmeans__n_clusters=90, total=   0.9s\n",
            "[CV] kmeans__n_clusters=90 ...........................................\n",
            "[CV] ............................ kmeans__n_clusters=90, total=   0.9s\n",
            "[CV] kmeans__n_clusters=90 ...........................................\n",
            "[CV] ............................ kmeans__n_clusters=90, total=   1.0s\n",
            "[CV] kmeans__n_clusters=91 ...........................................\n",
            "[CV] ............................ kmeans__n_clusters=91, total=   0.9s\n",
            "[CV] kmeans__n_clusters=91 ...........................................\n",
            "[CV] ............................ kmeans__n_clusters=91, total=   1.0s\n",
            "[CV] kmeans__n_clusters=91 ...........................................\n",
            "[CV] ............................ kmeans__n_clusters=91, total=   1.0s\n",
            "[CV] kmeans__n_clusters=92 ...........................................\n",
            "[CV] ............................ kmeans__n_clusters=92, total=   1.0s\n",
            "[CV] kmeans__n_clusters=92 ...........................................\n",
            "[CV] ............................ kmeans__n_clusters=92, total=   1.0s\n",
            "[CV] kmeans__n_clusters=92 ...........................................\n",
            "[CV] ............................ kmeans__n_clusters=92, total=   1.0s\n",
            "[CV] kmeans__n_clusters=93 ...........................................\n",
            "[CV] ............................ kmeans__n_clusters=93, total=   1.0s\n",
            "[CV] kmeans__n_clusters=93 ...........................................\n",
            "[CV] ............................ kmeans__n_clusters=93, total=   1.0s\n",
            "[CV] kmeans__n_clusters=93 ...........................................\n",
            "[CV] ............................ kmeans__n_clusters=93, total=   1.0s\n",
            "[CV] kmeans__n_clusters=94 ...........................................\n",
            "[CV] ............................ kmeans__n_clusters=94, total=   1.0s\n",
            "[CV] kmeans__n_clusters=94 ...........................................\n",
            "[CV] ............................ kmeans__n_clusters=94, total=   1.0s\n",
            "[CV] kmeans__n_clusters=94 ...........................................\n",
            "[CV] ............................ kmeans__n_clusters=94, total=   1.0s\n",
            "[CV] kmeans__n_clusters=95 ...........................................\n",
            "[CV] ............................ kmeans__n_clusters=95, total=   1.0s\n",
            "[CV] kmeans__n_clusters=95 ...........................................\n",
            "[CV] ............................ kmeans__n_clusters=95, total=   1.0s\n",
            "[CV] kmeans__n_clusters=95 ...........................................\n",
            "[CV] ............................ kmeans__n_clusters=95, total=   1.0s\n",
            "[CV] kmeans__n_clusters=96 ...........................................\n",
            "[CV] ............................ kmeans__n_clusters=96, total=   1.0s\n",
            "[CV] kmeans__n_clusters=96 ...........................................\n",
            "[CV] ............................ kmeans__n_clusters=96, total=   1.0s\n",
            "[CV] kmeans__n_clusters=96 ...........................................\n",
            "[CV] ............................ kmeans__n_clusters=96, total=   1.0s\n",
            "[CV] kmeans__n_clusters=97 ...........................................\n",
            "[CV] ............................ kmeans__n_clusters=97, total=   1.0s\n",
            "[CV] kmeans__n_clusters=97 ...........................................\n",
            "[CV] ............................ kmeans__n_clusters=97, total=   1.1s\n",
            "[CV] kmeans__n_clusters=97 ...........................................\n",
            "[CV] ............................ kmeans__n_clusters=97, total=   1.0s\n",
            "[CV] kmeans__n_clusters=98 ...........................................\n",
            "[CV] ............................ kmeans__n_clusters=98, total=   1.0s\n",
            "[CV] kmeans__n_clusters=98 ...........................................\n",
            "[CV] ............................ kmeans__n_clusters=98, total=   1.0s\n",
            "[CV] kmeans__n_clusters=98 ...........................................\n",
            "[CV] ............................ kmeans__n_clusters=98, total=   1.0s\n",
            "[CV] kmeans__n_clusters=99 ...........................................\n",
            "[CV] ............................ kmeans__n_clusters=99, total=   1.0s\n",
            "[CV] kmeans__n_clusters=99 ...........................................\n",
            "[CV] ............................ kmeans__n_clusters=99, total=   1.0s\n",
            "[CV] kmeans__n_clusters=99 ...........................................\n",
            "[CV] ............................ kmeans__n_clusters=99, total=   1.0s\n"
          ],
          "name": "stdout"
        },
        {
          "output_type": "stream",
          "text": [
            "[Parallel(n_jobs=1)]: Done 294 out of 294 | elapsed:  3.0min finished\n"
          ],
          "name": "stderr"
        },
        {
          "output_type": "stream",
          "text": [
            "{'kmeans__n_clusters': 89}\n",
            "New SVC score with GRIDSEARCH: 0.9747474747474747\n"
          ],
          "name": "stdout"
        }
      ]
    },
    {
      "cell_type": "code",
      "metadata": {
        "id": "IgTjEQQQnWuq",
        "colab": {
          "base_uri": "https://localhost:8080/",
          "height": 1000
        },
        "outputId": "a33a65cb-8881-485f-b625-357ab18b6c70"
      },
      "source": [
        "# -----KNN sınıflandırma algoritması için :\n",
        "from sklearn.model_selection import train_test_split\n",
        "X_train, X_test, y_train, y_test = train_test_split(X_digits, y_digits,random_state=0)\n",
        "from sklearn.neighbors import KNeighborsClassifier\n",
        "knn=KNeighborsClassifier(n_neighbors=20 ,metric=\"minkowski\")\n",
        "knn.fit(X_train,y_train)\n",
        "y_pred=knn.predict( X_test)\n",
        "print(\"KNN score :\",knn.score(X_test,y_test))\n",
        "#Başarısı= 0.9644444444444444\n",
        "# Pipeline oluşturulması\n",
        "from sklearn.pipeline import Pipeline\n",
        "pipeline = Pipeline([\n",
        "    (\"kmeans\", KMeans(n_clusters=45,init='k-means++',random_state=0)),\n",
        "    (\"knn\",KNeighborsClassifier()),\n",
        "    ])\n",
        "pipeline.fit(X_train,y_train)\n",
        "print(\"Yeni KNN Sonucu= \", pipeline.score(X_test,y_test))\n",
        "#Başarısı =   0.9688888888888889\n",
        "#En optimum sonucun hesaplanması:\n",
        "from sklearn.model_selection import GridSearchCV\n",
        "param_grid = dict(kmeans__n_clusters=range(2, 100))\n",
        "grid_clf = GridSearchCV(pipeline, param_grid, cv=3, verbose=2)\n",
        "grid_clf.fit(X_train,y_train)\n",
        "print(grid_clf.best_params_)\n",
        "print(\"En Optimum KNN Sonucu= \",grid_clf.score(X_test, y_test))\n",
        "# EN OPTİMUM KNN SONUCU =  0.9711111111111"
      ],
      "execution_count": null,
      "outputs": [
        {
          "output_type": "stream",
          "text": [
            "KNN score : 0.9644444444444444\n",
            "Yeni KNN Sonucu=  0.9688888888888889\n",
            "Fitting 3 folds for each of 98 candidates, totalling 294 fits\n",
            "[CV] kmeans__n_clusters=2 ............................................\n",
            "[CV] ............................. kmeans__n_clusters=2, total=   0.1s\n",
            "[CV] kmeans__n_clusters=2 ............................................\n"
          ],
          "name": "stdout"
        },
        {
          "output_type": "stream",
          "text": [
            "[Parallel(n_jobs=1)]: Using backend SequentialBackend with 1 concurrent workers.\n",
            "[Parallel(n_jobs=1)]: Done   1 out of   1 | elapsed:    0.1s remaining:    0.0s\n"
          ],
          "name": "stderr"
        },
        {
          "output_type": "stream",
          "text": [
            "[CV] ............................. kmeans__n_clusters=2, total=   0.2s\n",
            "[CV] kmeans__n_clusters=2 ............................................\n",
            "[CV] ............................. kmeans__n_clusters=2, total=   0.1s\n",
            "[CV] kmeans__n_clusters=3 ............................................\n",
            "[CV] ............................. kmeans__n_clusters=3, total=   0.1s\n",
            "[CV] kmeans__n_clusters=3 ............................................\n",
            "[CV] ............................. kmeans__n_clusters=3, total=   0.1s\n",
            "[CV] kmeans__n_clusters=3 ............................................\n",
            "[CV] ............................. kmeans__n_clusters=3, total=   0.1s\n",
            "[CV] kmeans__n_clusters=4 ............................................\n",
            "[CV] ............................. kmeans__n_clusters=4, total=   0.2s\n",
            "[CV] kmeans__n_clusters=4 ............................................\n",
            "[CV] ............................. kmeans__n_clusters=4, total=   0.2s\n",
            "[CV] kmeans__n_clusters=4 ............................................\n",
            "[CV] ............................. kmeans__n_clusters=4, total=   0.2s\n",
            "[CV] kmeans__n_clusters=5 ............................................\n",
            "[CV] ............................. kmeans__n_clusters=5, total=   0.2s\n",
            "[CV] kmeans__n_clusters=5 ............................................\n",
            "[CV] ............................. kmeans__n_clusters=5, total=   0.2s\n",
            "[CV] kmeans__n_clusters=5 ............................................\n",
            "[CV] ............................. kmeans__n_clusters=5, total=   0.2s\n",
            "[CV] kmeans__n_clusters=6 ............................................\n",
            "[CV] ............................. kmeans__n_clusters=6, total=   0.2s\n",
            "[CV] kmeans__n_clusters=6 ............................................\n",
            "[CV] ............................. kmeans__n_clusters=6, total=   0.2s\n",
            "[CV] kmeans__n_clusters=6 ............................................\n",
            "[CV] ............................. kmeans__n_clusters=6, total=   0.2s\n",
            "[CV] kmeans__n_clusters=7 ............................................\n",
            "[CV] ............................. kmeans__n_clusters=7, total=   0.2s\n",
            "[CV] kmeans__n_clusters=7 ............................................\n",
            "[CV] ............................. kmeans__n_clusters=7, total=   0.2s\n",
            "[CV] kmeans__n_clusters=7 ............................................\n",
            "[CV] ............................. kmeans__n_clusters=7, total=   0.2s\n",
            "[CV] kmeans__n_clusters=8 ............................................\n",
            "[CV] ............................. kmeans__n_clusters=8, total=   0.2s\n",
            "[CV] kmeans__n_clusters=8 ............................................\n",
            "[CV] ............................. kmeans__n_clusters=8, total=   0.2s\n",
            "[CV] kmeans__n_clusters=8 ............................................\n",
            "[CV] ............................. kmeans__n_clusters=8, total=   0.2s\n",
            "[CV] kmeans__n_clusters=9 ............................................\n",
            "[CV] ............................. kmeans__n_clusters=9, total=   0.2s\n",
            "[CV] kmeans__n_clusters=9 ............................................\n",
            "[CV] ............................. kmeans__n_clusters=9, total=   0.2s\n",
            "[CV] kmeans__n_clusters=9 ............................................\n",
            "[CV] ............................. kmeans__n_clusters=9, total=   0.2s\n",
            "[CV] kmeans__n_clusters=10 ...........................................\n",
            "[CV] ............................ kmeans__n_clusters=10, total=   0.2s\n",
            "[CV] kmeans__n_clusters=10 ...........................................\n",
            "[CV] ............................ kmeans__n_clusters=10, total=   0.2s\n",
            "[CV] kmeans__n_clusters=10 ...........................................\n",
            "[CV] ............................ kmeans__n_clusters=10, total=   0.2s\n",
            "[CV] kmeans__n_clusters=11 ...........................................\n",
            "[CV] ............................ kmeans__n_clusters=11, total=   0.2s\n",
            "[CV] kmeans__n_clusters=11 ...........................................\n",
            "[CV] ............................ kmeans__n_clusters=11, total=   0.2s\n",
            "[CV] kmeans__n_clusters=11 ...........................................\n",
            "[CV] ............................ kmeans__n_clusters=11, total=   0.3s\n",
            "[CV] kmeans__n_clusters=12 ...........................................\n",
            "[CV] ............................ kmeans__n_clusters=12, total=   0.3s\n",
            "[CV] kmeans__n_clusters=12 ...........................................\n",
            "[CV] ............................ kmeans__n_clusters=12, total=   0.3s\n",
            "[CV] kmeans__n_clusters=12 ...........................................\n",
            "[CV] ............................ kmeans__n_clusters=12, total=   0.3s\n",
            "[CV] kmeans__n_clusters=13 ...........................................\n",
            "[CV] ............................ kmeans__n_clusters=13, total=   0.3s\n",
            "[CV] kmeans__n_clusters=13 ...........................................\n",
            "[CV] ............................ kmeans__n_clusters=13, total=   0.2s\n",
            "[CV] kmeans__n_clusters=13 ...........................................\n",
            "[CV] ............................ kmeans__n_clusters=13, total=   0.3s\n",
            "[CV] kmeans__n_clusters=14 ...........................................\n",
            "[CV] ............................ kmeans__n_clusters=14, total=   0.3s\n",
            "[CV] kmeans__n_clusters=14 ...........................................\n",
            "[CV] ............................ kmeans__n_clusters=14, total=   0.3s\n",
            "[CV] kmeans__n_clusters=14 ...........................................\n",
            "[CV] ............................ kmeans__n_clusters=14, total=   0.3s\n",
            "[CV] kmeans__n_clusters=15 ...........................................\n",
            "[CV] ............................ kmeans__n_clusters=15, total=   0.3s\n",
            "[CV] kmeans__n_clusters=15 ...........................................\n",
            "[CV] ............................ kmeans__n_clusters=15, total=   0.3s\n",
            "[CV] kmeans__n_clusters=15 ...........................................\n",
            "[CV] ............................ kmeans__n_clusters=15, total=   0.3s\n",
            "[CV] kmeans__n_clusters=16 ...........................................\n",
            "[CV] ............................ kmeans__n_clusters=16, total=   0.3s\n",
            "[CV] kmeans__n_clusters=16 ...........................................\n",
            "[CV] ............................ kmeans__n_clusters=16, total=   0.3s\n",
            "[CV] kmeans__n_clusters=16 ...........................................\n",
            "[CV] ............................ kmeans__n_clusters=16, total=   0.3s\n",
            "[CV] kmeans__n_clusters=17 ...........................................\n",
            "[CV] ............................ kmeans__n_clusters=17, total=   0.3s\n",
            "[CV] kmeans__n_clusters=17 ...........................................\n",
            "[CV] ............................ kmeans__n_clusters=17, total=   0.3s\n",
            "[CV] kmeans__n_clusters=17 ...........................................\n",
            "[CV] ............................ kmeans__n_clusters=17, total=   0.3s\n",
            "[CV] kmeans__n_clusters=18 ...........................................\n",
            "[CV] ............................ kmeans__n_clusters=18, total=   0.3s\n",
            "[CV] kmeans__n_clusters=18 ...........................................\n",
            "[CV] ............................ kmeans__n_clusters=18, total=   0.3s\n",
            "[CV] kmeans__n_clusters=18 ...........................................\n",
            "[CV] ............................ kmeans__n_clusters=18, total=   0.3s\n",
            "[CV] kmeans__n_clusters=19 ...........................................\n",
            "[CV] ............................ kmeans__n_clusters=19, total=   0.3s\n",
            "[CV] kmeans__n_clusters=19 ...........................................\n",
            "[CV] ............................ kmeans__n_clusters=19, total=   0.3s\n",
            "[CV] kmeans__n_clusters=19 ...........................................\n",
            "[CV] ............................ kmeans__n_clusters=19, total=   0.4s\n",
            "[CV] kmeans__n_clusters=20 ...........................................\n",
            "[CV] ............................ kmeans__n_clusters=20, total=   0.3s\n",
            "[CV] kmeans__n_clusters=20 ...........................................\n",
            "[CV] ............................ kmeans__n_clusters=20, total=   0.4s\n",
            "[CV] kmeans__n_clusters=20 ...........................................\n",
            "[CV] ............................ kmeans__n_clusters=20, total=   0.3s\n",
            "[CV] kmeans__n_clusters=21 ...........................................\n",
            "[CV] ............................ kmeans__n_clusters=21, total=   0.3s\n",
            "[CV] kmeans__n_clusters=21 ...........................................\n",
            "[CV] ............................ kmeans__n_clusters=21, total=   0.4s\n",
            "[CV] kmeans__n_clusters=21 ...........................................\n",
            "[CV] ............................ kmeans__n_clusters=21, total=   0.4s\n",
            "[CV] kmeans__n_clusters=22 ...........................................\n",
            "[CV] ............................ kmeans__n_clusters=22, total=   0.4s\n",
            "[CV] kmeans__n_clusters=22 ...........................................\n",
            "[CV] ............................ kmeans__n_clusters=22, total=   0.4s\n",
            "[CV] kmeans__n_clusters=22 ...........................................\n",
            "[CV] ............................ kmeans__n_clusters=22, total=   0.4s\n",
            "[CV] kmeans__n_clusters=23 ...........................................\n",
            "[CV] ............................ kmeans__n_clusters=23, total=   0.4s\n",
            "[CV] kmeans__n_clusters=23 ...........................................\n",
            "[CV] ............................ kmeans__n_clusters=23, total=   0.4s\n",
            "[CV] kmeans__n_clusters=23 ...........................................\n",
            "[CV] ............................ kmeans__n_clusters=23, total=   0.4s\n",
            "[CV] kmeans__n_clusters=24 ...........................................\n",
            "[CV] ............................ kmeans__n_clusters=24, total=   0.4s\n",
            "[CV] kmeans__n_clusters=24 ...........................................\n",
            "[CV] ............................ kmeans__n_clusters=24, total=   0.4s\n",
            "[CV] kmeans__n_clusters=24 ...........................................\n",
            "[CV] ............................ kmeans__n_clusters=24, total=   0.4s\n",
            "[CV] kmeans__n_clusters=25 ...........................................\n",
            "[CV] ............................ kmeans__n_clusters=25, total=   0.4s\n",
            "[CV] kmeans__n_clusters=25 ...........................................\n",
            "[CV] ............................ kmeans__n_clusters=25, total=   0.4s\n",
            "[CV] kmeans__n_clusters=25 ...........................................\n",
            "[CV] ............................ kmeans__n_clusters=25, total=   0.4s\n",
            "[CV] kmeans__n_clusters=26 ...........................................\n",
            "[CV] ............................ kmeans__n_clusters=26, total=   0.4s\n",
            "[CV] kmeans__n_clusters=26 ...........................................\n",
            "[CV] ............................ kmeans__n_clusters=26, total=   0.4s\n",
            "[CV] kmeans__n_clusters=26 ...........................................\n",
            "[CV] ............................ kmeans__n_clusters=26, total=   0.4s\n",
            "[CV] kmeans__n_clusters=27 ...........................................\n",
            "[CV] ............................ kmeans__n_clusters=27, total=   0.4s\n",
            "[CV] kmeans__n_clusters=27 ...........................................\n",
            "[CV] ............................ kmeans__n_clusters=27, total=   0.4s\n",
            "[CV] kmeans__n_clusters=27 ...........................................\n",
            "[CV] ............................ kmeans__n_clusters=27, total=   0.4s\n",
            "[CV] kmeans__n_clusters=28 ...........................................\n",
            "[CV] ............................ kmeans__n_clusters=28, total=   0.4s\n",
            "[CV] kmeans__n_clusters=28 ...........................................\n",
            "[CV] ............................ kmeans__n_clusters=28, total=   0.4s\n",
            "[CV] kmeans__n_clusters=28 ...........................................\n",
            "[CV] ............................ kmeans__n_clusters=28, total=   0.5s\n",
            "[CV] kmeans__n_clusters=29 ...........................................\n",
            "[CV] ............................ kmeans__n_clusters=29, total=   0.4s\n",
            "[CV] kmeans__n_clusters=29 ...........................................\n",
            "[CV] ............................ kmeans__n_clusters=29, total=   0.4s\n",
            "[CV] kmeans__n_clusters=29 ...........................................\n",
            "[CV] ............................ kmeans__n_clusters=29, total=   0.5s\n",
            "[CV] kmeans__n_clusters=30 ...........................................\n",
            "[CV] ............................ kmeans__n_clusters=30, total=   0.5s\n",
            "[CV] kmeans__n_clusters=30 ...........................................\n",
            "[CV] ............................ kmeans__n_clusters=30, total=   0.5s\n",
            "[CV] kmeans__n_clusters=30 ...........................................\n",
            "[CV] ............................ kmeans__n_clusters=30, total=   0.5s\n",
            "[CV] kmeans__n_clusters=31 ...........................................\n",
            "[CV] ............................ kmeans__n_clusters=31, total=   0.5s\n",
            "[CV] kmeans__n_clusters=31 ...........................................\n",
            "[CV] ............................ kmeans__n_clusters=31, total=   0.5s\n",
            "[CV] kmeans__n_clusters=31 ...........................................\n",
            "[CV] ............................ kmeans__n_clusters=31, total=   0.5s\n",
            "[CV] kmeans__n_clusters=32 ...........................................\n",
            "[CV] ............................ kmeans__n_clusters=32, total=   0.5s\n",
            "[CV] kmeans__n_clusters=32 ...........................................\n",
            "[CV] ............................ kmeans__n_clusters=32, total=   0.5s\n",
            "[CV] kmeans__n_clusters=32 ...........................................\n",
            "[CV] ............................ kmeans__n_clusters=32, total=   0.5s\n",
            "[CV] kmeans__n_clusters=33 ...........................................\n",
            "[CV] ............................ kmeans__n_clusters=33, total=   0.5s\n",
            "[CV] kmeans__n_clusters=33 ...........................................\n",
            "[CV] ............................ kmeans__n_clusters=33, total=   0.5s\n",
            "[CV] kmeans__n_clusters=33 ...........................................\n",
            "[CV] ............................ kmeans__n_clusters=33, total=   0.5s\n",
            "[CV] kmeans__n_clusters=34 ...........................................\n",
            "[CV] ............................ kmeans__n_clusters=34, total=   0.5s\n",
            "[CV] kmeans__n_clusters=34 ...........................................\n",
            "[CV] ............................ kmeans__n_clusters=34, total=   0.5s\n",
            "[CV] kmeans__n_clusters=34 ...........................................\n",
            "[CV] ............................ kmeans__n_clusters=34, total=   0.5s\n",
            "[CV] kmeans__n_clusters=35 ...........................................\n",
            "[CV] ............................ kmeans__n_clusters=35, total=   0.5s\n",
            "[CV] kmeans__n_clusters=35 ...........................................\n",
            "[CV] ............................ kmeans__n_clusters=35, total=   0.5s\n",
            "[CV] kmeans__n_clusters=35 ...........................................\n",
            "[CV] ............................ kmeans__n_clusters=35, total=   0.5s\n",
            "[CV] kmeans__n_clusters=36 ...........................................\n",
            "[CV] ............................ kmeans__n_clusters=36, total=   0.5s\n",
            "[CV] kmeans__n_clusters=36 ...........................................\n",
            "[CV] ............................ kmeans__n_clusters=36, total=   0.5s\n",
            "[CV] kmeans__n_clusters=36 ...........................................\n",
            "[CV] ............................ kmeans__n_clusters=36, total=   0.5s\n",
            "[CV] kmeans__n_clusters=37 ...........................................\n",
            "[CV] ............................ kmeans__n_clusters=37, total=   0.5s\n",
            "[CV] kmeans__n_clusters=37 ...........................................\n",
            "[CV] ............................ kmeans__n_clusters=37, total=   0.5s\n",
            "[CV] kmeans__n_clusters=37 ...........................................\n",
            "[CV] ............................ kmeans__n_clusters=37, total=   0.5s\n",
            "[CV] kmeans__n_clusters=38 ...........................................\n",
            "[CV] ............................ kmeans__n_clusters=38, total=   0.6s\n",
            "[CV] kmeans__n_clusters=38 ...........................................\n",
            "[CV] ............................ kmeans__n_clusters=38, total=   0.5s\n",
            "[CV] kmeans__n_clusters=38 ...........................................\n",
            "[CV] ............................ kmeans__n_clusters=38, total=   0.6s\n",
            "[CV] kmeans__n_clusters=39 ...........................................\n",
            "[CV] ............................ kmeans__n_clusters=39, total=   0.5s\n",
            "[CV] kmeans__n_clusters=39 ...........................................\n",
            "[CV] ............................ kmeans__n_clusters=39, total=   0.6s\n",
            "[CV] kmeans__n_clusters=39 ...........................................\n",
            "[CV] ............................ kmeans__n_clusters=39, total=   0.5s\n",
            "[CV] kmeans__n_clusters=40 ...........................................\n",
            "[CV] ............................ kmeans__n_clusters=40, total=   0.6s\n",
            "[CV] kmeans__n_clusters=40 ...........................................\n",
            "[CV] ............................ kmeans__n_clusters=40, total=   0.6s\n",
            "[CV] kmeans__n_clusters=40 ...........................................\n",
            "[CV] ............................ kmeans__n_clusters=40, total=   0.5s\n",
            "[CV] kmeans__n_clusters=41 ...........................................\n",
            "[CV] ............................ kmeans__n_clusters=41, total=   0.6s\n",
            "[CV] kmeans__n_clusters=41 ...........................................\n",
            "[CV] ............................ kmeans__n_clusters=41, total=   0.5s\n",
            "[CV] kmeans__n_clusters=41 ...........................................\n",
            "[CV] ............................ kmeans__n_clusters=41, total=   0.6s\n",
            "[CV] kmeans__n_clusters=42 ...........................................\n",
            "[CV] ............................ kmeans__n_clusters=42, total=   0.6s\n",
            "[CV] kmeans__n_clusters=42 ...........................................\n",
            "[CV] ............................ kmeans__n_clusters=42, total=   0.6s\n",
            "[CV] kmeans__n_clusters=42 ...........................................\n",
            "[CV] ............................ kmeans__n_clusters=42, total=   0.6s\n",
            "[CV] kmeans__n_clusters=43 ...........................................\n",
            "[CV] ............................ kmeans__n_clusters=43, total=   0.6s\n",
            "[CV] kmeans__n_clusters=43 ...........................................\n",
            "[CV] ............................ kmeans__n_clusters=43, total=   0.6s\n",
            "[CV] kmeans__n_clusters=43 ...........................................\n",
            "[CV] ............................ kmeans__n_clusters=43, total=   0.6s\n",
            "[CV] kmeans__n_clusters=44 ...........................................\n",
            "[CV] ............................ kmeans__n_clusters=44, total=   0.6s\n",
            "[CV] kmeans__n_clusters=44 ...........................................\n",
            "[CV] ............................ kmeans__n_clusters=44, total=   0.6s\n",
            "[CV] kmeans__n_clusters=44 ...........................................\n",
            "[CV] ............................ kmeans__n_clusters=44, total=   0.6s\n",
            "[CV] kmeans__n_clusters=45 ...........................................\n",
            "[CV] ............................ kmeans__n_clusters=45, total=   0.6s\n",
            "[CV] kmeans__n_clusters=45 ...........................................\n",
            "[CV] ............................ kmeans__n_clusters=45, total=   0.6s\n",
            "[CV] kmeans__n_clusters=45 ...........................................\n",
            "[CV] ............................ kmeans__n_clusters=45, total=   0.6s\n",
            "[CV] kmeans__n_clusters=46 ...........................................\n",
            "[CV] ............................ kmeans__n_clusters=46, total=   0.7s\n",
            "[CV] kmeans__n_clusters=46 ...........................................\n",
            "[CV] ............................ kmeans__n_clusters=46, total=   0.6s\n",
            "[CV] kmeans__n_clusters=46 ...........................................\n",
            "[CV] ............................ kmeans__n_clusters=46, total=   0.6s\n",
            "[CV] kmeans__n_clusters=47 ...........................................\n",
            "[CV] ............................ kmeans__n_clusters=47, total=   0.6s\n",
            "[CV] kmeans__n_clusters=47 ...........................................\n",
            "[CV] ............................ kmeans__n_clusters=47, total=   0.6s\n",
            "[CV] kmeans__n_clusters=47 ...........................................\n",
            "[CV] ............................ kmeans__n_clusters=47, total=   0.6s\n",
            "[CV] kmeans__n_clusters=48 ...........................................\n",
            "[CV] ............................ kmeans__n_clusters=48, total=   0.6s\n",
            "[CV] kmeans__n_clusters=48 ...........................................\n",
            "[CV] ............................ kmeans__n_clusters=48, total=   0.6s\n",
            "[CV] kmeans__n_clusters=48 ...........................................\n",
            "[CV] ............................ kmeans__n_clusters=48, total=   0.6s\n",
            "[CV] kmeans__n_clusters=49 ...........................................\n",
            "[CV] ............................ kmeans__n_clusters=49, total=   0.6s\n",
            "[CV] kmeans__n_clusters=49 ...........................................\n",
            "[CV] ............................ kmeans__n_clusters=49, total=   0.6s\n",
            "[CV] kmeans__n_clusters=49 ...........................................\n",
            "[CV] ............................ kmeans__n_clusters=49, total=   0.7s\n",
            "[CV] kmeans__n_clusters=50 ...........................................\n",
            "[CV] ............................ kmeans__n_clusters=50, total=   0.6s\n",
            "[CV] kmeans__n_clusters=50 ...........................................\n",
            "[CV] ............................ kmeans__n_clusters=50, total=   0.7s\n",
            "[CV] kmeans__n_clusters=50 ...........................................\n",
            "[CV] ............................ kmeans__n_clusters=50, total=   0.7s\n",
            "[CV] kmeans__n_clusters=51 ...........................................\n",
            "[CV] ............................ kmeans__n_clusters=51, total=   0.7s\n",
            "[CV] kmeans__n_clusters=51 ...........................................\n",
            "[CV] ............................ kmeans__n_clusters=51, total=   0.7s\n",
            "[CV] kmeans__n_clusters=51 ...........................................\n",
            "[CV] ............................ kmeans__n_clusters=51, total=   0.7s\n",
            "[CV] kmeans__n_clusters=52 ...........................................\n",
            "[CV] ............................ kmeans__n_clusters=52, total=   0.7s\n",
            "[CV] kmeans__n_clusters=52 ...........................................\n",
            "[CV] ............................ kmeans__n_clusters=52, total=   0.7s\n",
            "[CV] kmeans__n_clusters=52 ...........................................\n",
            "[CV] ............................ kmeans__n_clusters=52, total=   0.7s\n",
            "[CV] kmeans__n_clusters=53 ...........................................\n",
            "[CV] ............................ kmeans__n_clusters=53, total=   0.7s\n",
            "[CV] kmeans__n_clusters=53 ...........................................\n",
            "[CV] ............................ kmeans__n_clusters=53, total=   0.7s\n",
            "[CV] kmeans__n_clusters=53 ...........................................\n",
            "[CV] ............................ kmeans__n_clusters=53, total=   0.7s\n",
            "[CV] kmeans__n_clusters=54 ...........................................\n",
            "[CV] ............................ kmeans__n_clusters=54, total=   0.7s\n",
            "[CV] kmeans__n_clusters=54 ...........................................\n",
            "[CV] ............................ kmeans__n_clusters=54, total=   0.7s\n",
            "[CV] kmeans__n_clusters=54 ...........................................\n",
            "[CV] ............................ kmeans__n_clusters=54, total=   0.7s\n",
            "[CV] kmeans__n_clusters=55 ...........................................\n",
            "[CV] ............................ kmeans__n_clusters=55, total=   0.7s\n",
            "[CV] kmeans__n_clusters=55 ...........................................\n",
            "[CV] ............................ kmeans__n_clusters=55, total=   0.7s\n",
            "[CV] kmeans__n_clusters=55 ...........................................\n",
            "[CV] ............................ kmeans__n_clusters=55, total=   0.7s\n",
            "[CV] kmeans__n_clusters=56 ...........................................\n",
            "[CV] ............................ kmeans__n_clusters=56, total=   0.7s\n",
            "[CV] kmeans__n_clusters=56 ...........................................\n",
            "[CV] ............................ kmeans__n_clusters=56, total=   0.7s\n",
            "[CV] kmeans__n_clusters=56 ...........................................\n",
            "[CV] ............................ kmeans__n_clusters=56, total=   0.7s\n",
            "[CV] kmeans__n_clusters=57 ...........................................\n",
            "[CV] ............................ kmeans__n_clusters=57, total=   0.7s\n",
            "[CV] kmeans__n_clusters=57 ...........................................\n",
            "[CV] ............................ kmeans__n_clusters=57, total=   0.7s\n",
            "[CV] kmeans__n_clusters=57 ...........................................\n",
            "[CV] ............................ kmeans__n_clusters=57, total=   0.7s\n",
            "[CV] kmeans__n_clusters=58 ...........................................\n",
            "[CV] ............................ kmeans__n_clusters=58, total=   0.7s\n",
            "[CV] kmeans__n_clusters=58 ...........................................\n",
            "[CV] ............................ kmeans__n_clusters=58, total=   0.8s\n",
            "[CV] kmeans__n_clusters=58 ...........................................\n",
            "[CV] ............................ kmeans__n_clusters=58, total=   0.7s\n",
            "[CV] kmeans__n_clusters=59 ...........................................\n",
            "[CV] ............................ kmeans__n_clusters=59, total=   0.8s\n",
            "[CV] kmeans__n_clusters=59 ...........................................\n",
            "[CV] ............................ kmeans__n_clusters=59, total=   0.7s\n",
            "[CV] kmeans__n_clusters=59 ...........................................\n",
            "[CV] ............................ kmeans__n_clusters=59, total=   0.8s\n",
            "[CV] kmeans__n_clusters=60 ...........................................\n",
            "[CV] ............................ kmeans__n_clusters=60, total=   0.8s\n",
            "[CV] kmeans__n_clusters=60 ...........................................\n",
            "[CV] ............................ kmeans__n_clusters=60, total=   0.8s\n",
            "[CV] kmeans__n_clusters=60 ...........................................\n",
            "[CV] ............................ kmeans__n_clusters=60, total=   0.8s\n",
            "[CV] kmeans__n_clusters=61 ...........................................\n",
            "[CV] ............................ kmeans__n_clusters=61, total=   0.8s\n",
            "[CV] kmeans__n_clusters=61 ...........................................\n",
            "[CV] ............................ kmeans__n_clusters=61, total=   0.8s\n",
            "[CV] kmeans__n_clusters=61 ...........................................\n",
            "[CV] ............................ kmeans__n_clusters=61, total=   0.8s\n",
            "[CV] kmeans__n_clusters=62 ...........................................\n",
            "[CV] ............................ kmeans__n_clusters=62, total=   0.8s\n",
            "[CV] kmeans__n_clusters=62 ...........................................\n",
            "[CV] ............................ kmeans__n_clusters=62, total=   0.8s\n",
            "[CV] kmeans__n_clusters=62 ...........................................\n",
            "[CV] ............................ kmeans__n_clusters=62, total=   0.8s\n",
            "[CV] kmeans__n_clusters=63 ...........................................\n",
            "[CV] ............................ kmeans__n_clusters=63, total=   0.8s\n",
            "[CV] kmeans__n_clusters=63 ...........................................\n",
            "[CV] ............................ kmeans__n_clusters=63, total=   0.8s\n",
            "[CV] kmeans__n_clusters=63 ...........................................\n",
            "[CV] ............................ kmeans__n_clusters=63, total=   0.8s\n",
            "[CV] kmeans__n_clusters=64 ...........................................\n",
            "[CV] ............................ kmeans__n_clusters=64, total=   0.8s\n",
            "[CV] kmeans__n_clusters=64 ...........................................\n",
            "[CV] ............................ kmeans__n_clusters=64, total=   0.8s\n",
            "[CV] kmeans__n_clusters=64 ...........................................\n",
            "[CV] ............................ kmeans__n_clusters=64, total=   0.8s\n",
            "[CV] kmeans__n_clusters=65 ...........................................\n",
            "[CV] ............................ kmeans__n_clusters=65, total=   0.8s\n",
            "[CV] kmeans__n_clusters=65 ...........................................\n",
            "[CV] ............................ kmeans__n_clusters=65, total=   0.8s\n",
            "[CV] kmeans__n_clusters=65 ...........................................\n",
            "[CV] ............................ kmeans__n_clusters=65, total=   0.8s\n",
            "[CV] kmeans__n_clusters=66 ...........................................\n",
            "[CV] ............................ kmeans__n_clusters=66, total=   0.8s\n",
            "[CV] kmeans__n_clusters=66 ...........................................\n",
            "[CV] ............................ kmeans__n_clusters=66, total=   0.8s\n",
            "[CV] kmeans__n_clusters=66 ...........................................\n",
            "[CV] ............................ kmeans__n_clusters=66, total=   0.8s\n",
            "[CV] kmeans__n_clusters=67 ...........................................\n",
            "[CV] ............................ kmeans__n_clusters=67, total=   0.8s\n",
            "[CV] kmeans__n_clusters=67 ...........................................\n",
            "[CV] ............................ kmeans__n_clusters=67, total=   0.8s\n",
            "[CV] kmeans__n_clusters=67 ...........................................\n",
            "[CV] ............................ kmeans__n_clusters=67, total=   0.8s\n",
            "[CV] kmeans__n_clusters=68 ...........................................\n",
            "[CV] ............................ kmeans__n_clusters=68, total=   0.8s\n",
            "[CV] kmeans__n_clusters=68 ...........................................\n",
            "[CV] ............................ kmeans__n_clusters=68, total=   0.8s\n",
            "[CV] kmeans__n_clusters=68 ...........................................\n",
            "[CV] ............................ kmeans__n_clusters=68, total=   0.8s\n",
            "[CV] kmeans__n_clusters=69 ...........................................\n",
            "[CV] ............................ kmeans__n_clusters=69, total=   0.8s\n",
            "[CV] kmeans__n_clusters=69 ...........................................\n",
            "[CV] ............................ kmeans__n_clusters=69, total=   0.9s\n",
            "[CV] kmeans__n_clusters=69 ...........................................\n",
            "[CV] ............................ kmeans__n_clusters=69, total=   0.8s\n",
            "[CV] kmeans__n_clusters=70 ...........................................\n",
            "[CV] ............................ kmeans__n_clusters=70, total=   0.9s\n",
            "[CV] kmeans__n_clusters=70 ...........................................\n",
            "[CV] ............................ kmeans__n_clusters=70, total=   0.9s\n",
            "[CV] kmeans__n_clusters=70 ...........................................\n",
            "[CV] ............................ kmeans__n_clusters=70, total=   0.9s\n",
            "[CV] kmeans__n_clusters=71 ...........................................\n",
            "[CV] ............................ kmeans__n_clusters=71, total=   0.8s\n",
            "[CV] kmeans__n_clusters=71 ...........................................\n",
            "[CV] ............................ kmeans__n_clusters=71, total=   0.9s\n",
            "[CV] kmeans__n_clusters=71 ...........................................\n",
            "[CV] ............................ kmeans__n_clusters=71, total=   0.9s\n",
            "[CV] kmeans__n_clusters=72 ...........................................\n",
            "[CV] ............................ kmeans__n_clusters=72, total=   0.9s\n",
            "[CV] kmeans__n_clusters=72 ...........................................\n",
            "[CV] ............................ kmeans__n_clusters=72, total=   0.9s\n",
            "[CV] kmeans__n_clusters=72 ...........................................\n",
            "[CV] ............................ kmeans__n_clusters=72, total=   0.9s\n",
            "[CV] kmeans__n_clusters=73 ...........................................\n",
            "[CV] ............................ kmeans__n_clusters=73, total=   0.9s\n",
            "[CV] kmeans__n_clusters=73 ...........................................\n",
            "[CV] ............................ kmeans__n_clusters=73, total=   0.9s\n",
            "[CV] kmeans__n_clusters=73 ...........................................\n",
            "[CV] ............................ kmeans__n_clusters=73, total=   0.9s\n",
            "[CV] kmeans__n_clusters=74 ...........................................\n",
            "[CV] ............................ kmeans__n_clusters=74, total=   0.9s\n",
            "[CV] kmeans__n_clusters=74 ...........................................\n",
            "[CV] ............................ kmeans__n_clusters=74, total=   0.9s\n",
            "[CV] kmeans__n_clusters=74 ...........................................\n",
            "[CV] ............................ kmeans__n_clusters=74, total=   0.9s\n",
            "[CV] kmeans__n_clusters=75 ...........................................\n",
            "[CV] ............................ kmeans__n_clusters=75, total=   0.9s\n",
            "[CV] kmeans__n_clusters=75 ...........................................\n",
            "[CV] ............................ kmeans__n_clusters=75, total=   0.9s\n",
            "[CV] kmeans__n_clusters=75 ...........................................\n",
            "[CV] ............................ kmeans__n_clusters=75, total=   0.9s\n",
            "[CV] kmeans__n_clusters=76 ...........................................\n",
            "[CV] ............................ kmeans__n_clusters=76, total=   0.9s\n",
            "[CV] kmeans__n_clusters=76 ...........................................\n",
            "[CV] ............................ kmeans__n_clusters=76, total=   0.9s\n",
            "[CV] kmeans__n_clusters=76 ...........................................\n",
            "[CV] ............................ kmeans__n_clusters=76, total=   1.0s\n",
            "[CV] kmeans__n_clusters=77 ...........................................\n",
            "[CV] ............................ kmeans__n_clusters=77, total=   1.0s\n",
            "[CV] kmeans__n_clusters=77 ...........................................\n",
            "[CV] ............................ kmeans__n_clusters=77, total=   0.9s\n",
            "[CV] kmeans__n_clusters=77 ...........................................\n",
            "[CV] ............................ kmeans__n_clusters=77, total=   0.9s\n",
            "[CV] kmeans__n_clusters=78 ...........................................\n",
            "[CV] ............................ kmeans__n_clusters=78, total=   0.9s\n",
            "[CV] kmeans__n_clusters=78 ...........................................\n",
            "[CV] ............................ kmeans__n_clusters=78, total=   0.9s\n",
            "[CV] kmeans__n_clusters=78 ...........................................\n",
            "[CV] ............................ kmeans__n_clusters=78, total=   0.9s\n",
            "[CV] kmeans__n_clusters=79 ...........................................\n",
            "[CV] ............................ kmeans__n_clusters=79, total=   0.9s\n",
            "[CV] kmeans__n_clusters=79 ...........................................\n",
            "[CV] ............................ kmeans__n_clusters=79, total=   0.9s\n",
            "[CV] kmeans__n_clusters=79 ...........................................\n",
            "[CV] ............................ kmeans__n_clusters=79, total=   0.9s\n",
            "[CV] kmeans__n_clusters=80 ...........................................\n",
            "[CV] ............................ kmeans__n_clusters=80, total=   1.0s\n",
            "[CV] kmeans__n_clusters=80 ...........................................\n",
            "[CV] ............................ kmeans__n_clusters=80, total=   0.9s\n",
            "[CV] kmeans__n_clusters=80 ...........................................\n",
            "[CV] ............................ kmeans__n_clusters=80, total=   0.9s\n",
            "[CV] kmeans__n_clusters=81 ...........................................\n",
            "[CV] ............................ kmeans__n_clusters=81, total=   0.9s\n",
            "[CV] kmeans__n_clusters=81 ...........................................\n",
            "[CV] ............................ kmeans__n_clusters=81, total=   1.0s\n",
            "[CV] kmeans__n_clusters=81 ...........................................\n",
            "[CV] ............................ kmeans__n_clusters=81, total=   1.0s\n",
            "[CV] kmeans__n_clusters=82 ...........................................\n",
            "[CV] ............................ kmeans__n_clusters=82, total=   1.0s\n",
            "[CV] kmeans__n_clusters=82 ...........................................\n",
            "[CV] ............................ kmeans__n_clusters=82, total=   1.0s\n",
            "[CV] kmeans__n_clusters=82 ...........................................\n",
            "[CV] ............................ kmeans__n_clusters=82, total=   1.0s\n",
            "[CV] kmeans__n_clusters=83 ...........................................\n",
            "[CV] ............................ kmeans__n_clusters=83, total=   1.0s\n",
            "[CV] kmeans__n_clusters=83 ...........................................\n",
            "[CV] ............................ kmeans__n_clusters=83, total=   1.0s\n",
            "[CV] kmeans__n_clusters=83 ...........................................\n",
            "[CV] ............................ kmeans__n_clusters=83, total=   1.0s\n",
            "[CV] kmeans__n_clusters=84 ...........................................\n",
            "[CV] ............................ kmeans__n_clusters=84, total=   1.0s\n",
            "[CV] kmeans__n_clusters=84 ...........................................\n",
            "[CV] ............................ kmeans__n_clusters=84, total=   1.0s\n",
            "[CV] kmeans__n_clusters=84 ...........................................\n",
            "[CV] ............................ kmeans__n_clusters=84, total=   1.0s\n",
            "[CV] kmeans__n_clusters=85 ...........................................\n",
            "[CV] ............................ kmeans__n_clusters=85, total=   1.0s\n",
            "[CV] kmeans__n_clusters=85 ...........................................\n",
            "[CV] ............................ kmeans__n_clusters=85, total=   1.0s\n",
            "[CV] kmeans__n_clusters=85 ...........................................\n",
            "[CV] ............................ kmeans__n_clusters=85, total=   1.0s\n",
            "[CV] kmeans__n_clusters=86 ...........................................\n",
            "[CV] ............................ kmeans__n_clusters=86, total=   1.0s\n",
            "[CV] kmeans__n_clusters=86 ...........................................\n",
            "[CV] ............................ kmeans__n_clusters=86, total=   1.0s\n",
            "[CV] kmeans__n_clusters=86 ...........................................\n",
            "[CV] ............................ kmeans__n_clusters=86, total=   1.0s\n",
            "[CV] kmeans__n_clusters=87 ...........................................\n",
            "[CV] ............................ kmeans__n_clusters=87, total=   1.0s\n",
            "[CV] kmeans__n_clusters=87 ...........................................\n",
            "[CV] ............................ kmeans__n_clusters=87, total=   1.0s\n",
            "[CV] kmeans__n_clusters=87 ...........................................\n",
            "[CV] ............................ kmeans__n_clusters=87, total=   1.0s\n",
            "[CV] kmeans__n_clusters=88 ...........................................\n",
            "[CV] ............................ kmeans__n_clusters=88, total=   1.0s\n",
            "[CV] kmeans__n_clusters=88 ...........................................\n",
            "[CV] ............................ kmeans__n_clusters=88, total=   1.1s\n",
            "[CV] kmeans__n_clusters=88 ...........................................\n",
            "[CV] ............................ kmeans__n_clusters=88, total=   1.0s\n",
            "[CV] kmeans__n_clusters=89 ...........................................\n",
            "[CV] ............................ kmeans__n_clusters=89, total=   1.0s\n",
            "[CV] kmeans__n_clusters=89 ...........................................\n",
            "[CV] ............................ kmeans__n_clusters=89, total=   1.1s\n",
            "[CV] kmeans__n_clusters=89 ...........................................\n",
            "[CV] ............................ kmeans__n_clusters=89, total=   1.1s\n",
            "[CV] kmeans__n_clusters=90 ...........................................\n",
            "[CV] ............................ kmeans__n_clusters=90, total=   1.0s\n",
            "[CV] kmeans__n_clusters=90 ...........................................\n",
            "[CV] ............................ kmeans__n_clusters=90, total=   1.1s\n",
            "[CV] kmeans__n_clusters=90 ...........................................\n",
            "[CV] ............................ kmeans__n_clusters=90, total=   1.0s\n",
            "[CV] kmeans__n_clusters=91 ...........................................\n",
            "[CV] ............................ kmeans__n_clusters=91, total=   1.1s\n",
            "[CV] kmeans__n_clusters=91 ...........................................\n",
            "[CV] ............................ kmeans__n_clusters=91, total=   1.0s\n",
            "[CV] kmeans__n_clusters=91 ...........................................\n",
            "[CV] ............................ kmeans__n_clusters=91, total=   1.0s\n",
            "[CV] kmeans__n_clusters=92 ...........................................\n",
            "[CV] ............................ kmeans__n_clusters=92, total=   1.1s\n",
            "[CV] kmeans__n_clusters=92 ...........................................\n",
            "[CV] ............................ kmeans__n_clusters=92, total=   1.1s\n",
            "[CV] kmeans__n_clusters=92 ...........................................\n",
            "[CV] ............................ kmeans__n_clusters=92, total=   1.1s\n",
            "[CV] kmeans__n_clusters=93 ...........................................\n",
            "[CV] ............................ kmeans__n_clusters=93, total=   1.1s\n",
            "[CV] kmeans__n_clusters=93 ...........................................\n",
            "[CV] ............................ kmeans__n_clusters=93, total=   1.1s\n",
            "[CV] kmeans__n_clusters=93 ...........................................\n",
            "[CV] ............................ kmeans__n_clusters=93, total=   1.1s\n",
            "[CV] kmeans__n_clusters=94 ...........................................\n",
            "[CV] ............................ kmeans__n_clusters=94, total=   1.1s\n",
            "[CV] kmeans__n_clusters=94 ...........................................\n",
            "[CV] ............................ kmeans__n_clusters=94, total=   1.1s\n",
            "[CV] kmeans__n_clusters=94 ...........................................\n",
            "[CV] ............................ kmeans__n_clusters=94, total=   1.1s\n",
            "[CV] kmeans__n_clusters=95 ...........................................\n",
            "[CV] ............................ kmeans__n_clusters=95, total=   1.1s\n",
            "[CV] kmeans__n_clusters=95 ...........................................\n",
            "[CV] ............................ kmeans__n_clusters=95, total=   1.1s\n",
            "[CV] kmeans__n_clusters=95 ...........................................\n",
            "[CV] ............................ kmeans__n_clusters=95, total=   1.1s\n",
            "[CV] kmeans__n_clusters=96 ...........................................\n",
            "[CV] ............................ kmeans__n_clusters=96, total=   1.1s\n",
            "[CV] kmeans__n_clusters=96 ...........................................\n",
            "[CV] ............................ kmeans__n_clusters=96, total=   1.1s\n",
            "[CV] kmeans__n_clusters=96 ...........................................\n",
            "[CV] ............................ kmeans__n_clusters=96, total=   1.1s\n",
            "[CV] kmeans__n_clusters=97 ...........................................\n",
            "[CV] ............................ kmeans__n_clusters=97, total=   1.2s\n",
            "[CV] kmeans__n_clusters=97 ...........................................\n",
            "[CV] ............................ kmeans__n_clusters=97, total=   1.1s\n",
            "[CV] kmeans__n_clusters=97 ...........................................\n",
            "[CV] ............................ kmeans__n_clusters=97, total=   1.1s\n",
            "[CV] kmeans__n_clusters=98 ...........................................\n",
            "[CV] ............................ kmeans__n_clusters=98, total=   1.1s\n",
            "[CV] kmeans__n_clusters=98 ...........................................\n",
            "[CV] ............................ kmeans__n_clusters=98, total=   1.1s\n",
            "[CV] kmeans__n_clusters=98 ...........................................\n",
            "[CV] ............................ kmeans__n_clusters=98, total=   1.1s\n",
            "[CV] kmeans__n_clusters=99 ...........................................\n",
            "[CV] ............................ kmeans__n_clusters=99, total=   1.1s\n",
            "[CV] kmeans__n_clusters=99 ...........................................\n",
            "[CV] ............................ kmeans__n_clusters=99, total=   1.1s\n",
            "[CV] kmeans__n_clusters=99 ...........................................\n",
            "[CV] ............................ kmeans__n_clusters=99, total=   1.1s\n"
          ],
          "name": "stdout"
        },
        {
          "output_type": "stream",
          "text": [
            "[Parallel(n_jobs=1)]: Done 294 out of 294 | elapsed:  3.2min finished\n"
          ],
          "name": "stderr"
        },
        {
          "output_type": "stream",
          "text": [
            "{'kmeans__n_clusters': 76}\n",
            "En Optimum KNN Sonucu=  0.9711111111111111\n"
          ],
          "name": "stdout"
        }
      ]
    },
    {
      "cell_type": "code",
      "metadata": {
        "id": "MctF7D875QV6",
        "colab": {
          "base_uri": "https://localhost:8080/",
          "height": 1000
        },
        "outputId": "a2459d7d-f7f6-4688-c403-fab8b4f15156"
      },
      "source": [
        "\n",
        "#Navie Bayes :  NB score : 0.8333333333333334\n",
        "#New NB score with Pipeline 0.8977777777777778\n",
        "#New NB score with GRIDSEARCH: 0.9022222222222223\n",
        "\n",
        "\n",
        "#Logistic regression score: 0.9511111111111111\n",
        "#New LR score with Pipeline 0.9533333333333334\n",
        "#New LR score with GRIDSEARCH: 0.9466666666666667\n",
        "\n",
        "\n",
        "\n",
        "\n",
        "X_train, X_test, y_train, y_test = train_test_split(X_digits, y_digits,random_state=0)\n",
        "from sklearn.naive_bayes import GaussianNB\n",
        "nb=GaussianNB()\n",
        "nb.fit(X_train,y_train)\n",
        "y_pred=nb.predict(X_test)\n",
        "#karmaşıklık matrisi NAVIEBAYES için\n",
        "cm_nb=confusion_matrix(y_test,y_pred)\n",
        "print(\"NB score :\",nb.score(X_test,y_test))\n",
        "#burada GaussianNavieBayes kodu ile kendi verimizin degerini hesapladık\n",
        "from sklearn.pipeline import Pipeline\n",
        "pipeline2 = Pipeline([\n",
        "(\"kmeans\", KMeans(n_clusters=50,random_state=0)),\n",
        "(\"nb\", GaussianNB()),\n",
        "])\n",
        "pipeline2.fit(X_train, y_train)\n",
        "\n",
        "print(\"New NB score with Pipeline\",pipeline2.score(X_test, y_test))\n",
        "#pipeline'ı yine kendi kodumuza göre uyarlayıp sonucu ekrana yazdırdık\n",
        "from sklearn.model_selection import GridSearchCV\n",
        "param_grid = dict(kmeans__n_clusters=range(2, 100))\n",
        "grid_clf = GridSearchCV(pipeline2, param_grid, cv=3, verbose=2)\n",
        "grid_clf.fit(X_train, y_train)\n",
        "print(grid_clf.best_params_)\n",
        "print(\"New NB score with GRIDSEARCH:\",grid_clf.score(X_test, y_test))\n",
        "#son olarak GridSearchCV kodundan pipeline verilerini cekerek yeni ve daha iyi bir deger bulduk."
      ],
      "execution_count": null,
      "outputs": [
        {
          "output_type": "stream",
          "text": [
            "NB score : 0.8333333333333334\n",
            "New NB score with Pipeline 0.8977777777777778\n",
            "Fitting 3 folds for each of 98 candidates, totalling 294 fits\n",
            "[CV] kmeans__n_clusters=2 ............................................\n",
            "[CV] ............................. kmeans__n_clusters=2, total=   0.1s\n",
            "[CV] kmeans__n_clusters=2 ............................................\n"
          ],
          "name": "stdout"
        },
        {
          "output_type": "stream",
          "text": [
            "[Parallel(n_jobs=1)]: Using backend SequentialBackend with 1 concurrent workers.\n",
            "[Parallel(n_jobs=1)]: Done   1 out of   1 | elapsed:    0.1s remaining:    0.0s\n"
          ],
          "name": "stderr"
        },
        {
          "output_type": "stream",
          "text": [
            "[CV] ............................. kmeans__n_clusters=2, total=   0.1s\n",
            "[CV] kmeans__n_clusters=2 ............................................\n",
            "[CV] ............................. kmeans__n_clusters=2, total=   0.1s\n",
            "[CV] kmeans__n_clusters=3 ............................................\n",
            "[CV] ............................. kmeans__n_clusters=3, total=   0.1s\n",
            "[CV] kmeans__n_clusters=3 ............................................\n",
            "[CV] ............................. kmeans__n_clusters=3, total=   0.1s\n",
            "[CV] kmeans__n_clusters=3 ............................................\n",
            "[CV] ............................. kmeans__n_clusters=3, total=   0.1s\n",
            "[CV] kmeans__n_clusters=4 ............................................\n",
            "[CV] ............................. kmeans__n_clusters=4, total=   0.1s\n",
            "[CV] kmeans__n_clusters=4 ............................................\n",
            "[CV] ............................. kmeans__n_clusters=4, total=   0.1s\n",
            "[CV] kmeans__n_clusters=4 ............................................\n",
            "[CV] ............................. kmeans__n_clusters=4, total=   0.2s\n",
            "[CV] kmeans__n_clusters=5 ............................................\n",
            "[CV] ............................. kmeans__n_clusters=5, total=   0.1s\n",
            "[CV] kmeans__n_clusters=5 ............................................\n",
            "[CV] ............................. kmeans__n_clusters=5, total=   0.1s\n",
            "[CV] kmeans__n_clusters=5 ............................................\n",
            "[CV] ............................. kmeans__n_clusters=5, total=   0.1s\n",
            "[CV] kmeans__n_clusters=6 ............................................\n",
            "[CV] ............................. kmeans__n_clusters=6, total=   0.2s\n",
            "[CV] kmeans__n_clusters=6 ............................................\n",
            "[CV] ............................. kmeans__n_clusters=6, total=   0.2s\n",
            "[CV] kmeans__n_clusters=6 ............................................\n",
            "[CV] ............................. kmeans__n_clusters=6, total=   0.2s\n",
            "[CV] kmeans__n_clusters=7 ............................................\n",
            "[CV] ............................. kmeans__n_clusters=7, total=   0.2s\n",
            "[CV] kmeans__n_clusters=7 ............................................\n",
            "[CV] ............................. kmeans__n_clusters=7, total=   0.2s\n",
            "[CV] kmeans__n_clusters=7 ............................................\n",
            "[CV] ............................. kmeans__n_clusters=7, total=   0.2s\n",
            "[CV] kmeans__n_clusters=8 ............................................\n",
            "[CV] ............................. kmeans__n_clusters=8, total=   0.2s\n",
            "[CV] kmeans__n_clusters=8 ............................................\n",
            "[CV] ............................. kmeans__n_clusters=8, total=   0.2s\n",
            "[CV] kmeans__n_clusters=8 ............................................\n",
            "[CV] ............................. kmeans__n_clusters=8, total=   0.2s\n",
            "[CV] kmeans__n_clusters=9 ............................................\n",
            "[CV] ............................. kmeans__n_clusters=9, total=   0.2s\n",
            "[CV] kmeans__n_clusters=9 ............................................\n",
            "[CV] ............................. kmeans__n_clusters=9, total=   0.2s\n",
            "[CV] kmeans__n_clusters=9 ............................................\n",
            "[CV] ............................. kmeans__n_clusters=9, total=   0.2s\n",
            "[CV] kmeans__n_clusters=10 ...........................................\n",
            "[CV] ............................ kmeans__n_clusters=10, total=   0.2s\n",
            "[CV] kmeans__n_clusters=10 ...........................................\n",
            "[CV] ............................ kmeans__n_clusters=10, total=   0.2s\n",
            "[CV] kmeans__n_clusters=10 ...........................................\n",
            "[CV] ............................ kmeans__n_clusters=10, total=   0.2s\n",
            "[CV] kmeans__n_clusters=11 ...........................................\n",
            "[CV] ............................ kmeans__n_clusters=11, total=   0.2s\n",
            "[CV] kmeans__n_clusters=11 ...........................................\n",
            "[CV] ............................ kmeans__n_clusters=11, total=   0.2s\n",
            "[CV] kmeans__n_clusters=11 ...........................................\n",
            "[CV] ............................ kmeans__n_clusters=11, total=   0.2s\n",
            "[CV] kmeans__n_clusters=12 ...........................................\n",
            "[CV] ............................ kmeans__n_clusters=12, total=   0.3s\n",
            "[CV] kmeans__n_clusters=12 ...........................................\n",
            "[CV] ............................ kmeans__n_clusters=12, total=   0.2s\n",
            "[CV] kmeans__n_clusters=12 ...........................................\n",
            "[CV] ............................ kmeans__n_clusters=12, total=   0.3s\n",
            "[CV] kmeans__n_clusters=13 ...........................................\n",
            "[CV] ............................ kmeans__n_clusters=13, total=   0.3s\n",
            "[CV] kmeans__n_clusters=13 ...........................................\n",
            "[CV] ............................ kmeans__n_clusters=13, total=   0.2s\n",
            "[CV] kmeans__n_clusters=13 ...........................................\n",
            "[CV] ............................ kmeans__n_clusters=13, total=   0.3s\n",
            "[CV] kmeans__n_clusters=14 ...........................................\n",
            "[CV] ............................ kmeans__n_clusters=14, total=   0.3s\n",
            "[CV] kmeans__n_clusters=14 ...........................................\n",
            "[CV] ............................ kmeans__n_clusters=14, total=   0.3s\n",
            "[CV] kmeans__n_clusters=14 ...........................................\n",
            "[CV] ............................ kmeans__n_clusters=14, total=   0.3s\n",
            "[CV] kmeans__n_clusters=15 ...........................................\n",
            "[CV] ............................ kmeans__n_clusters=15, total=   0.3s\n",
            "[CV] kmeans__n_clusters=15 ...........................................\n",
            "[CV] ............................ kmeans__n_clusters=15, total=   0.3s\n",
            "[CV] kmeans__n_clusters=15 ...........................................\n",
            "[CV] ............................ kmeans__n_clusters=15, total=   0.3s\n",
            "[CV] kmeans__n_clusters=16 ...........................................\n",
            "[CV] ............................ kmeans__n_clusters=16, total=   0.3s\n",
            "[CV] kmeans__n_clusters=16 ...........................................\n",
            "[CV] ............................ kmeans__n_clusters=16, total=   0.3s\n",
            "[CV] kmeans__n_clusters=16 ...........................................\n",
            "[CV] ............................ kmeans__n_clusters=16, total=   0.3s\n",
            "[CV] kmeans__n_clusters=17 ...........................................\n",
            "[CV] ............................ kmeans__n_clusters=17, total=   0.3s\n",
            "[CV] kmeans__n_clusters=17 ...........................................\n",
            "[CV] ............................ kmeans__n_clusters=17, total=   0.3s\n",
            "[CV] kmeans__n_clusters=17 ...........................................\n",
            "[CV] ............................ kmeans__n_clusters=17, total=   0.3s\n",
            "[CV] kmeans__n_clusters=18 ...........................................\n",
            "[CV] ............................ kmeans__n_clusters=18, total=   0.3s\n",
            "[CV] kmeans__n_clusters=18 ...........................................\n",
            "[CV] ............................ kmeans__n_clusters=18, total=   0.3s\n",
            "[CV] kmeans__n_clusters=18 ...........................................\n",
            "[CV] ............................ kmeans__n_clusters=18, total=   0.3s\n",
            "[CV] kmeans__n_clusters=19 ...........................................\n",
            "[CV] ............................ kmeans__n_clusters=19, total=   0.3s\n",
            "[CV] kmeans__n_clusters=19 ...........................................\n",
            "[CV] ............................ kmeans__n_clusters=19, total=   0.3s\n",
            "[CV] kmeans__n_clusters=19 ...........................................\n",
            "[CV] ............................ kmeans__n_clusters=19, total=   0.3s\n",
            "[CV] kmeans__n_clusters=20 ...........................................\n",
            "[CV] ............................ kmeans__n_clusters=20, total=   0.3s\n",
            "[CV] kmeans__n_clusters=20 ...........................................\n",
            "[CV] ............................ kmeans__n_clusters=20, total=   0.3s\n",
            "[CV] kmeans__n_clusters=20 ...........................................\n",
            "[CV] ............................ kmeans__n_clusters=20, total=   0.3s\n",
            "[CV] kmeans__n_clusters=21 ...........................................\n",
            "[CV] ............................ kmeans__n_clusters=21, total=   0.3s\n",
            "[CV] kmeans__n_clusters=21 ...........................................\n",
            "[CV] ............................ kmeans__n_clusters=21, total=   0.3s\n",
            "[CV] kmeans__n_clusters=21 ...........................................\n",
            "[CV] ............................ kmeans__n_clusters=21, total=   0.3s\n",
            "[CV] kmeans__n_clusters=22 ...........................................\n",
            "[CV] ............................ kmeans__n_clusters=22, total=   0.3s\n",
            "[CV] kmeans__n_clusters=22 ...........................................\n",
            "[CV] ............................ kmeans__n_clusters=22, total=   0.4s\n",
            "[CV] kmeans__n_clusters=22 ...........................................\n",
            "[CV] ............................ kmeans__n_clusters=22, total=   0.3s\n",
            "[CV] kmeans__n_clusters=23 ...........................................\n",
            "[CV] ............................ kmeans__n_clusters=23, total=   0.3s\n",
            "[CV] kmeans__n_clusters=23 ...........................................\n",
            "[CV] ............................ kmeans__n_clusters=23, total=   0.4s\n",
            "[CV] kmeans__n_clusters=23 ...........................................\n",
            "[CV] ............................ kmeans__n_clusters=23, total=   0.4s\n",
            "[CV] kmeans__n_clusters=24 ...........................................\n",
            "[CV] ............................ kmeans__n_clusters=24, total=   0.3s\n",
            "[CV] kmeans__n_clusters=24 ...........................................\n",
            "[CV] ............................ kmeans__n_clusters=24, total=   0.4s\n",
            "[CV] kmeans__n_clusters=24 ...........................................\n",
            "[CV] ............................ kmeans__n_clusters=24, total=   0.4s\n",
            "[CV] kmeans__n_clusters=25 ...........................................\n",
            "[CV] ............................ kmeans__n_clusters=25, total=   0.3s\n",
            "[CV] kmeans__n_clusters=25 ...........................................\n",
            "[CV] ............................ kmeans__n_clusters=25, total=   0.4s\n",
            "[CV] kmeans__n_clusters=25 ...........................................\n",
            "[CV] ............................ kmeans__n_clusters=25, total=   0.4s\n",
            "[CV] kmeans__n_clusters=26 ...........................................\n",
            "[CV] ............................ kmeans__n_clusters=26, total=   0.4s\n",
            "[CV] kmeans__n_clusters=26 ...........................................\n",
            "[CV] ............................ kmeans__n_clusters=26, total=   0.4s\n",
            "[CV] kmeans__n_clusters=26 ...........................................\n",
            "[CV] ............................ kmeans__n_clusters=26, total=   0.4s\n",
            "[CV] kmeans__n_clusters=27 ...........................................\n",
            "[CV] ............................ kmeans__n_clusters=27, total=   0.4s\n",
            "[CV] kmeans__n_clusters=27 ...........................................\n",
            "[CV] ............................ kmeans__n_clusters=27, total=   0.4s\n",
            "[CV] kmeans__n_clusters=27 ...........................................\n",
            "[CV] ............................ kmeans__n_clusters=27, total=   0.4s\n",
            "[CV] kmeans__n_clusters=28 ...........................................\n",
            "[CV] ............................ kmeans__n_clusters=28, total=   0.4s\n",
            "[CV] kmeans__n_clusters=28 ...........................................\n",
            "[CV] ............................ kmeans__n_clusters=28, total=   0.4s\n",
            "[CV] kmeans__n_clusters=28 ...........................................\n",
            "[CV] ............................ kmeans__n_clusters=28, total=   0.4s\n",
            "[CV] kmeans__n_clusters=29 ...........................................\n",
            "[CV] ............................ kmeans__n_clusters=29, total=   0.4s\n",
            "[CV] kmeans__n_clusters=29 ...........................................\n",
            "[CV] ............................ kmeans__n_clusters=29, total=   0.4s\n",
            "[CV] kmeans__n_clusters=29 ...........................................\n",
            "[CV] ............................ kmeans__n_clusters=29, total=   0.4s\n",
            "[CV] kmeans__n_clusters=30 ...........................................\n",
            "[CV] ............................ kmeans__n_clusters=30, total=   0.4s\n",
            "[CV] kmeans__n_clusters=30 ...........................................\n",
            "[CV] ............................ kmeans__n_clusters=30, total=   0.4s\n",
            "[CV] kmeans__n_clusters=30 ...........................................\n",
            "[CV] ............................ kmeans__n_clusters=30, total=   0.4s\n",
            "[CV] kmeans__n_clusters=31 ...........................................\n",
            "[CV] ............................ kmeans__n_clusters=31, total=   0.4s\n",
            "[CV] kmeans__n_clusters=31 ...........................................\n",
            "[CV] ............................ kmeans__n_clusters=31, total=   0.4s\n",
            "[CV] kmeans__n_clusters=31 ...........................................\n",
            "[CV] ............................ kmeans__n_clusters=31, total=   0.4s\n",
            "[CV] kmeans__n_clusters=32 ...........................................\n",
            "[CV] ............................ kmeans__n_clusters=32, total=   0.4s\n",
            "[CV] kmeans__n_clusters=32 ...........................................\n",
            "[CV] ............................ kmeans__n_clusters=32, total=   0.4s\n",
            "[CV] kmeans__n_clusters=32 ...........................................\n",
            "[CV] ............................ kmeans__n_clusters=32, total=   0.5s\n",
            "[CV] kmeans__n_clusters=33 ...........................................\n",
            "[CV] ............................ kmeans__n_clusters=33, total=   0.5s\n",
            "[CV] kmeans__n_clusters=33 ...........................................\n",
            "[CV] ............................ kmeans__n_clusters=33, total=   0.4s\n",
            "[CV] kmeans__n_clusters=33 ...........................................\n",
            "[CV] ............................ kmeans__n_clusters=33, total=   0.5s\n",
            "[CV] kmeans__n_clusters=34 ...........................................\n",
            "[CV] ............................ kmeans__n_clusters=34, total=   0.5s\n",
            "[CV] kmeans__n_clusters=34 ...........................................\n",
            "[CV] ............................ kmeans__n_clusters=34, total=   0.5s\n",
            "[CV] kmeans__n_clusters=34 ...........................................\n",
            "[CV] ............................ kmeans__n_clusters=34, total=   0.4s\n",
            "[CV] kmeans__n_clusters=35 ...........................................\n",
            "[CV] ............................ kmeans__n_clusters=35, total=   0.4s\n",
            "[CV] kmeans__n_clusters=35 ...........................................\n",
            "[CV] ............................ kmeans__n_clusters=35, total=   0.5s\n",
            "[CV] kmeans__n_clusters=35 ...........................................\n",
            "[CV] ............................ kmeans__n_clusters=35, total=   0.5s\n",
            "[CV] kmeans__n_clusters=36 ...........................................\n",
            "[CV] ............................ kmeans__n_clusters=36, total=   0.5s\n",
            "[CV] kmeans__n_clusters=36 ...........................................\n",
            "[CV] ............................ kmeans__n_clusters=36, total=   0.4s\n",
            "[CV] kmeans__n_clusters=36 ...........................................\n",
            "[CV] ............................ kmeans__n_clusters=36, total=   0.5s\n",
            "[CV] kmeans__n_clusters=37 ...........................................\n",
            "[CV] ............................ kmeans__n_clusters=37, total=   0.5s\n",
            "[CV] kmeans__n_clusters=37 ...........................................\n",
            "[CV] ............................ kmeans__n_clusters=37, total=   0.5s\n",
            "[CV] kmeans__n_clusters=37 ...........................................\n",
            "[CV] ............................ kmeans__n_clusters=37, total=   0.5s\n",
            "[CV] kmeans__n_clusters=38 ...........................................\n",
            "[CV] ............................ kmeans__n_clusters=38, total=   0.5s\n",
            "[CV] kmeans__n_clusters=38 ...........................................\n",
            "[CV] ............................ kmeans__n_clusters=38, total=   0.5s\n",
            "[CV] kmeans__n_clusters=38 ...........................................\n",
            "[CV] ............................ kmeans__n_clusters=38, total=   0.5s\n",
            "[CV] kmeans__n_clusters=39 ...........................................\n",
            "[CV] ............................ kmeans__n_clusters=39, total=   0.5s\n",
            "[CV] kmeans__n_clusters=39 ...........................................\n",
            "[CV] ............................ kmeans__n_clusters=39, total=   0.5s\n",
            "[CV] kmeans__n_clusters=39 ...........................................\n",
            "[CV] ............................ kmeans__n_clusters=39, total=   0.5s\n",
            "[CV] kmeans__n_clusters=40 ...........................................\n",
            "[CV] ............................ kmeans__n_clusters=40, total=   0.5s\n",
            "[CV] kmeans__n_clusters=40 ...........................................\n",
            "[CV] ............................ kmeans__n_clusters=40, total=   0.5s\n",
            "[CV] kmeans__n_clusters=40 ...........................................\n",
            "[CV] ............................ kmeans__n_clusters=40, total=   0.5s\n",
            "[CV] kmeans__n_clusters=41 ...........................................\n",
            "[CV] ............................ kmeans__n_clusters=41, total=   0.5s\n",
            "[CV] kmeans__n_clusters=41 ...........................................\n",
            "[CV] ............................ kmeans__n_clusters=41, total=   0.5s\n",
            "[CV] kmeans__n_clusters=41 ...........................................\n",
            "[CV] ............................ kmeans__n_clusters=41, total=   0.5s\n",
            "[CV] kmeans__n_clusters=42 ...........................................\n",
            "[CV] ............................ kmeans__n_clusters=42, total=   0.5s\n",
            "[CV] kmeans__n_clusters=42 ...........................................\n",
            "[CV] ............................ kmeans__n_clusters=42, total=   0.5s\n",
            "[CV] kmeans__n_clusters=42 ...........................................\n",
            "[CV] ............................ kmeans__n_clusters=42, total=   0.6s\n",
            "[CV] kmeans__n_clusters=43 ...........................................\n",
            "[CV] ............................ kmeans__n_clusters=43, total=   0.6s\n",
            "[CV] kmeans__n_clusters=43 ...........................................\n",
            "[CV] ............................ kmeans__n_clusters=43, total=   0.5s\n",
            "[CV] kmeans__n_clusters=43 ...........................................\n",
            "[CV] ............................ kmeans__n_clusters=43, total=   0.6s\n",
            "[CV] kmeans__n_clusters=44 ...........................................\n",
            "[CV] ............................ kmeans__n_clusters=44, total=   0.6s\n",
            "[CV] kmeans__n_clusters=44 ...........................................\n",
            "[CV] ............................ kmeans__n_clusters=44, total=   0.6s\n",
            "[CV] kmeans__n_clusters=44 ...........................................\n",
            "[CV] ............................ kmeans__n_clusters=44, total=   0.5s\n",
            "[CV] kmeans__n_clusters=45 ...........................................\n",
            "[CV] ............................ kmeans__n_clusters=45, total=   0.6s\n",
            "[CV] kmeans__n_clusters=45 ...........................................\n",
            "[CV] ............................ kmeans__n_clusters=45, total=   0.6s\n",
            "[CV] kmeans__n_clusters=45 ...........................................\n",
            "[CV] ............................ kmeans__n_clusters=45, total=   0.6s\n",
            "[CV] kmeans__n_clusters=46 ...........................................\n",
            "[CV] ............................ kmeans__n_clusters=46, total=   0.6s\n",
            "[CV] kmeans__n_clusters=46 ...........................................\n",
            "[CV] ............................ kmeans__n_clusters=46, total=   0.6s\n",
            "[CV] kmeans__n_clusters=46 ...........................................\n",
            "[CV] ............................ kmeans__n_clusters=46, total=   0.6s\n",
            "[CV] kmeans__n_clusters=47 ...........................................\n",
            "[CV] ............................ kmeans__n_clusters=47, total=   0.6s\n",
            "[CV] kmeans__n_clusters=47 ...........................................\n",
            "[CV] ............................ kmeans__n_clusters=47, total=   0.6s\n",
            "[CV] kmeans__n_clusters=47 ...........................................\n",
            "[CV] ............................ kmeans__n_clusters=47, total=   0.6s\n",
            "[CV] kmeans__n_clusters=48 ...........................................\n",
            "[CV] ............................ kmeans__n_clusters=48, total=   0.6s\n",
            "[CV] kmeans__n_clusters=48 ...........................................\n",
            "[CV] ............................ kmeans__n_clusters=48, total=   0.6s\n",
            "[CV] kmeans__n_clusters=48 ...........................................\n",
            "[CV] ............................ kmeans__n_clusters=48, total=   0.6s\n",
            "[CV] kmeans__n_clusters=49 ...........................................\n",
            "[CV] ............................ kmeans__n_clusters=49, total=   0.6s\n",
            "[CV] kmeans__n_clusters=49 ...........................................\n",
            "[CV] ............................ kmeans__n_clusters=49, total=   0.6s\n",
            "[CV] kmeans__n_clusters=49 ...........................................\n",
            "[CV] ............................ kmeans__n_clusters=49, total=   0.6s\n",
            "[CV] kmeans__n_clusters=50 ...........................................\n",
            "[CV] ............................ kmeans__n_clusters=50, total=   0.6s\n",
            "[CV] kmeans__n_clusters=50 ...........................................\n",
            "[CV] ............................ kmeans__n_clusters=50, total=   0.6s\n",
            "[CV] kmeans__n_clusters=50 ...........................................\n",
            "[CV] ............................ kmeans__n_clusters=50, total=   0.6s\n",
            "[CV] kmeans__n_clusters=51 ...........................................\n",
            "[CV] ............................ kmeans__n_clusters=51, total=   0.6s\n",
            "[CV] kmeans__n_clusters=51 ...........................................\n",
            "[CV] ............................ kmeans__n_clusters=51, total=   0.6s\n",
            "[CV] kmeans__n_clusters=51 ...........................................\n",
            "[CV] ............................ kmeans__n_clusters=51, total=   0.6s\n",
            "[CV] kmeans__n_clusters=52 ...........................................\n",
            "[CV] ............................ kmeans__n_clusters=52, total=   0.6s\n",
            "[CV] kmeans__n_clusters=52 ...........................................\n",
            "[CV] ............................ kmeans__n_clusters=52, total=   0.6s\n",
            "[CV] kmeans__n_clusters=52 ...........................................\n",
            "[CV] ............................ kmeans__n_clusters=52, total=   0.6s\n",
            "[CV] kmeans__n_clusters=53 ...........................................\n",
            "[CV] ............................ kmeans__n_clusters=53, total=   0.6s\n",
            "[CV] kmeans__n_clusters=53 ...........................................\n",
            "[CV] ............................ kmeans__n_clusters=53, total=   0.6s\n",
            "[CV] kmeans__n_clusters=53 ...........................................\n",
            "[CV] ............................ kmeans__n_clusters=53, total=   0.6s\n",
            "[CV] kmeans__n_clusters=54 ...........................................\n",
            "[CV] ............................ kmeans__n_clusters=54, total=   0.6s\n",
            "[CV] kmeans__n_clusters=54 ...........................................\n",
            "[CV] ............................ kmeans__n_clusters=54, total=   0.6s\n",
            "[CV] kmeans__n_clusters=54 ...........................................\n",
            "[CV] ............................ kmeans__n_clusters=54, total=   0.6s\n",
            "[CV] kmeans__n_clusters=55 ...........................................\n",
            "[CV] ............................ kmeans__n_clusters=55, total=   0.7s\n",
            "[CV] kmeans__n_clusters=55 ...........................................\n",
            "[CV] ............................ kmeans__n_clusters=55, total=   0.6s\n",
            "[CV] kmeans__n_clusters=55 ...........................................\n",
            "[CV] ............................ kmeans__n_clusters=55, total=   0.6s\n",
            "[CV] kmeans__n_clusters=56 ...........................................\n",
            "[CV] ............................ kmeans__n_clusters=56, total=   0.7s\n",
            "[CV] kmeans__n_clusters=56 ...........................................\n",
            "[CV] ............................ kmeans__n_clusters=56, total=   0.6s\n",
            "[CV] kmeans__n_clusters=56 ...........................................\n",
            "[CV] ............................ kmeans__n_clusters=56, total=   0.7s\n",
            "[CV] kmeans__n_clusters=57 ...........................................\n",
            "[CV] ............................ kmeans__n_clusters=57, total=   0.7s\n",
            "[CV] kmeans__n_clusters=57 ...........................................\n",
            "[CV] ............................ kmeans__n_clusters=57, total=   0.7s\n",
            "[CV] kmeans__n_clusters=57 ...........................................\n",
            "[CV] ............................ kmeans__n_clusters=57, total=   0.7s\n",
            "[CV] kmeans__n_clusters=58 ...........................................\n",
            "[CV] ............................ kmeans__n_clusters=58, total=   0.7s\n",
            "[CV] kmeans__n_clusters=58 ...........................................\n",
            "[CV] ............................ kmeans__n_clusters=58, total=   0.7s\n",
            "[CV] kmeans__n_clusters=58 ...........................................\n",
            "[CV] ............................ kmeans__n_clusters=58, total=   0.7s\n",
            "[CV] kmeans__n_clusters=59 ...........................................\n",
            "[CV] ............................ kmeans__n_clusters=59, total=   0.7s\n",
            "[CV] kmeans__n_clusters=59 ...........................................\n",
            "[CV] ............................ kmeans__n_clusters=59, total=   0.7s\n",
            "[CV] kmeans__n_clusters=59 ...........................................\n",
            "[CV] ............................ kmeans__n_clusters=59, total=   0.7s\n",
            "[CV] kmeans__n_clusters=60 ...........................................\n",
            "[CV] ............................ kmeans__n_clusters=60, total=   0.7s\n",
            "[CV] kmeans__n_clusters=60 ...........................................\n",
            "[CV] ............................ kmeans__n_clusters=60, total=   0.7s\n",
            "[CV] kmeans__n_clusters=60 ...........................................\n",
            "[CV] ............................ kmeans__n_clusters=60, total=   0.7s\n",
            "[CV] kmeans__n_clusters=61 ...........................................\n",
            "[CV] ............................ kmeans__n_clusters=61, total=   0.7s\n",
            "[CV] kmeans__n_clusters=61 ...........................................\n",
            "[CV] ............................ kmeans__n_clusters=61, total=   0.7s\n",
            "[CV] kmeans__n_clusters=61 ...........................................\n",
            "[CV] ............................ kmeans__n_clusters=61, total=   0.7s\n",
            "[CV] kmeans__n_clusters=62 ...........................................\n",
            "[CV] ............................ kmeans__n_clusters=62, total=   0.7s\n",
            "[CV] kmeans__n_clusters=62 ...........................................\n",
            "[CV] ............................ kmeans__n_clusters=62, total=   0.7s\n",
            "[CV] kmeans__n_clusters=62 ...........................................\n",
            "[CV] ............................ kmeans__n_clusters=62, total=   0.7s\n",
            "[CV] kmeans__n_clusters=63 ...........................................\n",
            "[CV] ............................ kmeans__n_clusters=63, total=   0.7s\n",
            "[CV] kmeans__n_clusters=63 ...........................................\n",
            "[CV] ............................ kmeans__n_clusters=63, total=   0.7s\n",
            "[CV] kmeans__n_clusters=63 ...........................................\n",
            "[CV] ............................ kmeans__n_clusters=63, total=   0.7s\n",
            "[CV] kmeans__n_clusters=64 ...........................................\n",
            "[CV] ............................ kmeans__n_clusters=64, total=   0.7s\n",
            "[CV] kmeans__n_clusters=64 ...........................................\n",
            "[CV] ............................ kmeans__n_clusters=64, total=   0.7s\n",
            "[CV] kmeans__n_clusters=64 ...........................................\n",
            "[CV] ............................ kmeans__n_clusters=64, total=   0.7s\n",
            "[CV] kmeans__n_clusters=65 ...........................................\n",
            "[CV] ............................ kmeans__n_clusters=65, total=   0.8s\n",
            "[CV] kmeans__n_clusters=65 ...........................................\n",
            "[CV] ............................ kmeans__n_clusters=65, total=   0.7s\n",
            "[CV] kmeans__n_clusters=65 ...........................................\n",
            "[CV] ............................ kmeans__n_clusters=65, total=   0.8s\n",
            "[CV] kmeans__n_clusters=66 ...........................................\n",
            "[CV] ............................ kmeans__n_clusters=66, total=   0.7s\n",
            "[CV] kmeans__n_clusters=66 ...........................................\n",
            "[CV] ............................ kmeans__n_clusters=66, total=   0.8s\n",
            "[CV] kmeans__n_clusters=66 ...........................................\n",
            "[CV] ............................ kmeans__n_clusters=66, total=   0.8s\n",
            "[CV] kmeans__n_clusters=67 ...........................................\n",
            "[CV] ............................ kmeans__n_clusters=67, total=   0.8s\n",
            "[CV] kmeans__n_clusters=67 ...........................................\n",
            "[CV] ............................ kmeans__n_clusters=67, total=   0.8s\n",
            "[CV] kmeans__n_clusters=67 ...........................................\n",
            "[CV] ............................ kmeans__n_clusters=67, total=   0.8s\n",
            "[CV] kmeans__n_clusters=68 ...........................................\n",
            "[CV] ............................ kmeans__n_clusters=68, total=   0.7s\n",
            "[CV] kmeans__n_clusters=68 ...........................................\n",
            "[CV] ............................ kmeans__n_clusters=68, total=   0.8s\n",
            "[CV] kmeans__n_clusters=68 ...........................................\n",
            "[CV] ............................ kmeans__n_clusters=68, total=   0.8s\n",
            "[CV] kmeans__n_clusters=69 ...........................................\n",
            "[CV] ............................ kmeans__n_clusters=69, total=   0.8s\n",
            "[CV] kmeans__n_clusters=69 ...........................................\n",
            "[CV] ............................ kmeans__n_clusters=69, total=   0.8s\n",
            "[CV] kmeans__n_clusters=69 ...........................................\n",
            "[CV] ............................ kmeans__n_clusters=69, total=   0.8s\n",
            "[CV] kmeans__n_clusters=70 ...........................................\n",
            "[CV] ............................ kmeans__n_clusters=70, total=   0.8s\n",
            "[CV] kmeans__n_clusters=70 ...........................................\n",
            "[CV] ............................ kmeans__n_clusters=70, total=   0.8s\n",
            "[CV] kmeans__n_clusters=70 ...........................................\n",
            "[CV] ............................ kmeans__n_clusters=70, total=   0.8s\n",
            "[CV] kmeans__n_clusters=71 ...........................................\n",
            "[CV] ............................ kmeans__n_clusters=71, total=   0.8s\n",
            "[CV] kmeans__n_clusters=71 ...........................................\n",
            "[CV] ............................ kmeans__n_clusters=71, total=   0.8s\n",
            "[CV] kmeans__n_clusters=71 ...........................................\n",
            "[CV] ............................ kmeans__n_clusters=71, total=   0.8s\n",
            "[CV] kmeans__n_clusters=72 ...........................................\n",
            "[CV] ............................ kmeans__n_clusters=72, total=   0.8s\n",
            "[CV] kmeans__n_clusters=72 ...........................................\n",
            "[CV] ............................ kmeans__n_clusters=72, total=   0.8s\n",
            "[CV] kmeans__n_clusters=72 ...........................................\n",
            "[CV] ............................ kmeans__n_clusters=72, total=   0.8s\n",
            "[CV] kmeans__n_clusters=73 ...........................................\n",
            "[CV] ............................ kmeans__n_clusters=73, total=   0.8s\n",
            "[CV] kmeans__n_clusters=73 ...........................................\n",
            "[CV] ............................ kmeans__n_clusters=73, total=   0.8s\n",
            "[CV] kmeans__n_clusters=73 ...........................................\n",
            "[CV] ............................ kmeans__n_clusters=73, total=   0.8s\n",
            "[CV] kmeans__n_clusters=74 ...........................................\n",
            "[CV] ............................ kmeans__n_clusters=74, total=   0.8s\n",
            "[CV] kmeans__n_clusters=74 ...........................................\n",
            "[CV] ............................ kmeans__n_clusters=74, total=   0.8s\n",
            "[CV] kmeans__n_clusters=74 ...........................................\n",
            "[CV] ............................ kmeans__n_clusters=74, total=   0.8s\n",
            "[CV] kmeans__n_clusters=75 ...........................................\n",
            "[CV] ............................ kmeans__n_clusters=75, total=   0.8s\n",
            "[CV] kmeans__n_clusters=75 ...........................................\n",
            "[CV] ............................ kmeans__n_clusters=75, total=   0.8s\n",
            "[CV] kmeans__n_clusters=75 ...........................................\n",
            "[CV] ............................ kmeans__n_clusters=75, total=   0.8s\n",
            "[CV] kmeans__n_clusters=76 ...........................................\n",
            "[CV] ............................ kmeans__n_clusters=76, total=   0.9s\n",
            "[CV] kmeans__n_clusters=76 ...........................................\n",
            "[CV] ............................ kmeans__n_clusters=76, total=   0.8s\n",
            "[CV] kmeans__n_clusters=76 ...........................................\n",
            "[CV] ............................ kmeans__n_clusters=76, total=   0.8s\n",
            "[CV] kmeans__n_clusters=77 ...........................................\n",
            "[CV] ............................ kmeans__n_clusters=77, total=   0.8s\n",
            "[CV] kmeans__n_clusters=77 ...........................................\n",
            "[CV] ............................ kmeans__n_clusters=77, total=   0.8s\n",
            "[CV] kmeans__n_clusters=77 ...........................................\n",
            "[CV] ............................ kmeans__n_clusters=77, total=   0.9s\n",
            "[CV] kmeans__n_clusters=78 ...........................................\n",
            "[CV] ............................ kmeans__n_clusters=78, total=   0.9s\n",
            "[CV] kmeans__n_clusters=78 ...........................................\n",
            "[CV] ............................ kmeans__n_clusters=78, total=   0.8s\n",
            "[CV] kmeans__n_clusters=78 ...........................................\n",
            "[CV] ............................ kmeans__n_clusters=78, total=   0.9s\n",
            "[CV] kmeans__n_clusters=79 ...........................................\n",
            "[CV] ............................ kmeans__n_clusters=79, total=   0.9s\n",
            "[CV] kmeans__n_clusters=79 ...........................................\n",
            "[CV] ............................ kmeans__n_clusters=79, total=   0.8s\n",
            "[CV] kmeans__n_clusters=79 ...........................................\n",
            "[CV] ............................ kmeans__n_clusters=79, total=   0.9s\n",
            "[CV] kmeans__n_clusters=80 ...........................................\n",
            "[CV] ............................ kmeans__n_clusters=80, total=   0.9s\n",
            "[CV] kmeans__n_clusters=80 ...........................................\n",
            "[CV] ............................ kmeans__n_clusters=80, total=   0.8s\n",
            "[CV] kmeans__n_clusters=80 ...........................................\n",
            "[CV] ............................ kmeans__n_clusters=80, total=   0.9s\n",
            "[CV] kmeans__n_clusters=81 ...........................................\n",
            "[CV] ............................ kmeans__n_clusters=81, total=   0.9s\n",
            "[CV] kmeans__n_clusters=81 ...........................................\n",
            "[CV] ............................ kmeans__n_clusters=81, total=   0.9s\n",
            "[CV] kmeans__n_clusters=81 ...........................................\n",
            "[CV] ............................ kmeans__n_clusters=81, total=   0.9s\n",
            "[CV] kmeans__n_clusters=82 ...........................................\n",
            "[CV] ............................ kmeans__n_clusters=82, total=   0.9s\n",
            "[CV] kmeans__n_clusters=82 ...........................................\n",
            "[CV] ............................ kmeans__n_clusters=82, total=   0.9s\n",
            "[CV] kmeans__n_clusters=82 ...........................................\n",
            "[CV] ............................ kmeans__n_clusters=82, total=   0.9s\n",
            "[CV] kmeans__n_clusters=83 ...........................................\n",
            "[CV] ............................ kmeans__n_clusters=83, total=   0.9s\n",
            "[CV] kmeans__n_clusters=83 ...........................................\n",
            "[CV] ............................ kmeans__n_clusters=83, total=   0.9s\n",
            "[CV] kmeans__n_clusters=83 ...........................................\n",
            "[CV] ............................ kmeans__n_clusters=83, total=   0.9s\n",
            "[CV] kmeans__n_clusters=84 ...........................................\n",
            "[CV] ............................ kmeans__n_clusters=84, total=   0.9s\n",
            "[CV] kmeans__n_clusters=84 ...........................................\n",
            "[CV] ............................ kmeans__n_clusters=84, total=   0.9s\n",
            "[CV] kmeans__n_clusters=84 ...........................................\n",
            "[CV] ............................ kmeans__n_clusters=84, total=   0.9s\n",
            "[CV] kmeans__n_clusters=85 ...........................................\n",
            "[CV] ............................ kmeans__n_clusters=85, total=   0.9s\n",
            "[CV] kmeans__n_clusters=85 ...........................................\n",
            "[CV] ............................ kmeans__n_clusters=85, total=   0.9s\n",
            "[CV] kmeans__n_clusters=85 ...........................................\n",
            "[CV] ............................ kmeans__n_clusters=85, total=   0.9s\n",
            "[CV] kmeans__n_clusters=86 ...........................................\n",
            "[CV] ............................ kmeans__n_clusters=86, total=   0.9s\n",
            "[CV] kmeans__n_clusters=86 ...........................................\n",
            "[CV] ............................ kmeans__n_clusters=86, total=   0.9s\n",
            "[CV] kmeans__n_clusters=86 ...........................................\n",
            "[CV] ............................ kmeans__n_clusters=86, total=   0.9s\n",
            "[CV] kmeans__n_clusters=87 ...........................................\n",
            "[CV] ............................ kmeans__n_clusters=87, total=   0.9s\n",
            "[CV] kmeans__n_clusters=87 ...........................................\n",
            "[CV] ............................ kmeans__n_clusters=87, total=   0.9s\n",
            "[CV] kmeans__n_clusters=87 ...........................................\n",
            "[CV] ............................ kmeans__n_clusters=87, total=   0.9s\n",
            "[CV] kmeans__n_clusters=88 ...........................................\n",
            "[CV] ............................ kmeans__n_clusters=88, total=   0.9s\n",
            "[CV] kmeans__n_clusters=88 ...........................................\n",
            "[CV] ............................ kmeans__n_clusters=88, total=   0.9s\n",
            "[CV] kmeans__n_clusters=88 ...........................................\n",
            "[CV] ............................ kmeans__n_clusters=88, total=   1.0s\n",
            "[CV] kmeans__n_clusters=89 ...........................................\n",
            "[CV] ............................ kmeans__n_clusters=89, total=   1.0s\n",
            "[CV] kmeans__n_clusters=89 ...........................................\n",
            "[CV] ............................ kmeans__n_clusters=89, total=   1.0s\n",
            "[CV] kmeans__n_clusters=89 ...........................................\n",
            "[CV] ............................ kmeans__n_clusters=89, total=   0.9s\n",
            "[CV] kmeans__n_clusters=90 ...........................................\n",
            "[CV] ............................ kmeans__n_clusters=90, total=   1.0s\n",
            "[CV] kmeans__n_clusters=90 ...........................................\n",
            "[CV] ............................ kmeans__n_clusters=90, total=   1.0s\n",
            "[CV] kmeans__n_clusters=90 ...........................................\n",
            "[CV] ............................ kmeans__n_clusters=90, total=   1.0s\n",
            "[CV] kmeans__n_clusters=91 ...........................................\n",
            "[CV] ............................ kmeans__n_clusters=91, total=   1.0s\n",
            "[CV] kmeans__n_clusters=91 ...........................................\n",
            "[CV] ............................ kmeans__n_clusters=91, total=   1.0s\n",
            "[CV] kmeans__n_clusters=91 ...........................................\n",
            "[CV] ............................ kmeans__n_clusters=91, total=   1.0s\n",
            "[CV] kmeans__n_clusters=92 ...........................................\n",
            "[CV] ............................ kmeans__n_clusters=92, total=   1.0s\n",
            "[CV] kmeans__n_clusters=92 ...........................................\n",
            "[CV] ............................ kmeans__n_clusters=92, total=   1.0s\n",
            "[CV] kmeans__n_clusters=92 ...........................................\n",
            "[CV] ............................ kmeans__n_clusters=92, total=   1.0s\n",
            "[CV] kmeans__n_clusters=93 ...........................................\n",
            "[CV] ............................ kmeans__n_clusters=93, total=   1.0s\n",
            "[CV] kmeans__n_clusters=93 ...........................................\n",
            "[CV] ............................ kmeans__n_clusters=93, total=   1.0s\n",
            "[CV] kmeans__n_clusters=93 ...........................................\n",
            "[CV] ............................ kmeans__n_clusters=93, total=   1.0s\n",
            "[CV] kmeans__n_clusters=94 ...........................................\n",
            "[CV] ............................ kmeans__n_clusters=94, total=   1.0s\n",
            "[CV] kmeans__n_clusters=94 ...........................................\n",
            "[CV] ............................ kmeans__n_clusters=94, total=   1.0s\n",
            "[CV] kmeans__n_clusters=94 ...........................................\n",
            "[CV] ............................ kmeans__n_clusters=94, total=   1.0s\n",
            "[CV] kmeans__n_clusters=95 ...........................................\n",
            "[CV] ............................ kmeans__n_clusters=95, total=   1.0s\n",
            "[CV] kmeans__n_clusters=95 ...........................................\n",
            "[CV] ............................ kmeans__n_clusters=95, total=   1.0s\n",
            "[CV] kmeans__n_clusters=95 ...........................................\n",
            "[CV] ............................ kmeans__n_clusters=95, total=   1.0s\n",
            "[CV] kmeans__n_clusters=96 ...........................................\n",
            "[CV] ............................ kmeans__n_clusters=96, total=   1.0s\n",
            "[CV] kmeans__n_clusters=96 ...........................................\n",
            "[CV] ............................ kmeans__n_clusters=96, total=   1.0s\n",
            "[CV] kmeans__n_clusters=96 ...........................................\n",
            "[CV] ............................ kmeans__n_clusters=96, total=   1.0s\n",
            "[CV] kmeans__n_clusters=97 ...........................................\n",
            "[CV] ............................ kmeans__n_clusters=97, total=   1.0s\n",
            "[CV] kmeans__n_clusters=97 ...........................................\n",
            "[CV] ............................ kmeans__n_clusters=97, total=   1.0s\n",
            "[CV] kmeans__n_clusters=97 ...........................................\n",
            "[CV] ............................ kmeans__n_clusters=97, total=   1.0s\n",
            "[CV] kmeans__n_clusters=98 ...........................................\n",
            "[CV] ............................ kmeans__n_clusters=98, total=   1.0s\n",
            "[CV] kmeans__n_clusters=98 ...........................................\n",
            "[CV] ............................ kmeans__n_clusters=98, total=   1.0s\n",
            "[CV] kmeans__n_clusters=98 ...........................................\n",
            "[CV] ............................ kmeans__n_clusters=98, total=   1.0s\n",
            "[CV] kmeans__n_clusters=99 ...........................................\n",
            "[CV] ............................ kmeans__n_clusters=99, total=   1.0s\n",
            "[CV] kmeans__n_clusters=99 ...........................................\n",
            "[CV] ............................ kmeans__n_clusters=99, total=   1.0s\n",
            "[CV] kmeans__n_clusters=99 ...........................................\n",
            "[CV] ............................ kmeans__n_clusters=99, total=   1.1s\n"
          ],
          "name": "stdout"
        },
        {
          "output_type": "stream",
          "text": [
            "[Parallel(n_jobs=1)]: Done 294 out of 294 | elapsed:  3.0min finished\n"
          ],
          "name": "stderr"
        },
        {
          "output_type": "stream",
          "text": [
            "{'kmeans__n_clusters': 66}\n",
            "New NB score with GRIDSEARCH: 0.9022222222222223\n"
          ],
          "name": "stdout"
        }
      ]
    },
    {
      "cell_type": "code",
      "metadata": {
        "id": "7kM4RJnA9pLl",
        "colab": {
          "base_uri": "https://localhost:8080/",
          "height": 1000
        },
        "outputId": "5131e10d-abe2-40ee-b465-7fe61c3c76ff"
      },
      "source": [
        "X_train, X_test, y_train, y_test = train_test_split(X_digits, y_digits,random_state=0)\n",
        "from sklearn.linear_model import LogisticRegression\n",
        "logr=LogisticRegression(random_state=0)\n",
        "logr.fit(X_train,y_train)\n",
        "y_pred=logr.predict(X_test)\n",
        "\n",
        "print(\"LogisticRegression\")\n",
        "print(\"Logistic regression score:\",logr.score(X_test,y_test))\n",
        "\n",
        "from sklearn.pipeline import Pipeline\n",
        "pipeline = Pipeline([\n",
        "(\"kmeans\", KMeans(n_clusters=50,random_state=0)),\n",
        "(\"logr\", LogisticRegression(random_state=1)),\n",
        "])\n",
        "pipeline.fit(X_train, y_train)\n",
        "\n",
        "print(\"New LR score with Pipeline\",pipeline.score(X_test, y_test))\n",
        "\n",
        "from sklearn.model_selection import GridSearchCV\n",
        "param_grid = dict(kmeans__n_clusters=range(2, 100))\n",
        "grid_clf = GridSearchCV(pipeline, param_grid, cv=3, verbose=2)\n",
        "grid_clf.fit(X_train, y_train)\n",
        "print(grid_clf.best_params_)\n",
        "print(\"New LR score with GRIDSEARCH:\",grid_clf.score(X_test, y_test))"
      ],
      "execution_count": null,
      "outputs": [
        {
          "output_type": "stream",
          "text": [
            "/usr/local/lib/python3.6/dist-packages/sklearn/linear_model/_logistic.py:940: ConvergenceWarning: lbfgs failed to converge (status=1):\n",
            "STOP: TOTAL NO. of ITERATIONS REACHED LIMIT.\n",
            "\n",
            "Increase the number of iterations (max_iter) or scale the data as shown in:\n",
            "    https://scikit-learn.org/stable/modules/preprocessing.html\n",
            "Please also refer to the documentation for alternative solver options:\n",
            "    https://scikit-learn.org/stable/modules/linear_model.html#logistic-regression\n",
            "  extra_warning_msg=_LOGISTIC_SOLVER_CONVERGENCE_MSG)\n"
          ],
          "name": "stderr"
        },
        {
          "output_type": "stream",
          "text": [
            "LogisticRegression\n",
            "Logistic regression score: 0.9511111111111111\n"
          ],
          "name": "stdout"
        },
        {
          "output_type": "stream",
          "text": [
            "/usr/local/lib/python3.6/dist-packages/sklearn/linear_model/_logistic.py:940: ConvergenceWarning: lbfgs failed to converge (status=1):\n",
            "STOP: TOTAL NO. of ITERATIONS REACHED LIMIT.\n",
            "\n",
            "Increase the number of iterations (max_iter) or scale the data as shown in:\n",
            "    https://scikit-learn.org/stable/modules/preprocessing.html\n",
            "Please also refer to the documentation for alternative solver options:\n",
            "    https://scikit-learn.org/stable/modules/linear_model.html#logistic-regression\n",
            "  extra_warning_msg=_LOGISTIC_SOLVER_CONVERGENCE_MSG)\n",
            "[Parallel(n_jobs=1)]: Using backend SequentialBackend with 1 concurrent workers.\n"
          ],
          "name": "stderr"
        },
        {
          "output_type": "stream",
          "text": [
            "New LR score with Pipeline 0.9533333333333334\n",
            "Fitting 3 folds for each of 98 candidates, totalling 294 fits\n",
            "[CV] kmeans__n_clusters=2 ............................................\n"
          ],
          "name": "stdout"
        },
        {
          "output_type": "stream",
          "text": [
            "/usr/local/lib/python3.6/dist-packages/sklearn/linear_model/_logistic.py:940: ConvergenceWarning: lbfgs failed to converge (status=1):\n",
            "STOP: TOTAL NO. of ITERATIONS REACHED LIMIT.\n",
            "\n",
            "Increase the number of iterations (max_iter) or scale the data as shown in:\n",
            "    https://scikit-learn.org/stable/modules/preprocessing.html\n",
            "Please also refer to the documentation for alternative solver options:\n",
            "    https://scikit-learn.org/stable/modules/linear_model.html#logistic-regression\n",
            "  extra_warning_msg=_LOGISTIC_SOLVER_CONVERGENCE_MSG)\n",
            "[Parallel(n_jobs=1)]: Done   1 out of   1 | elapsed:    0.2s remaining:    0.0s\n"
          ],
          "name": "stderr"
        },
        {
          "output_type": "stream",
          "text": [
            "[CV] ............................. kmeans__n_clusters=2, total=   0.2s\n",
            "[CV] kmeans__n_clusters=2 ............................................\n"
          ],
          "name": "stdout"
        },
        {
          "output_type": "stream",
          "text": [
            "/usr/local/lib/python3.6/dist-packages/sklearn/linear_model/_logistic.py:940: ConvergenceWarning: lbfgs failed to converge (status=1):\n",
            "STOP: TOTAL NO. of ITERATIONS REACHED LIMIT.\n",
            "\n",
            "Increase the number of iterations (max_iter) or scale the data as shown in:\n",
            "    https://scikit-learn.org/stable/modules/preprocessing.html\n",
            "Please also refer to the documentation for alternative solver options:\n",
            "    https://scikit-learn.org/stable/modules/linear_model.html#logistic-regression\n",
            "  extra_warning_msg=_LOGISTIC_SOLVER_CONVERGENCE_MSG)\n"
          ],
          "name": "stderr"
        },
        {
          "output_type": "stream",
          "text": [
            "[CV] ............................. kmeans__n_clusters=2, total=   0.3s\n",
            "[CV] kmeans__n_clusters=2 ............................................\n"
          ],
          "name": "stdout"
        },
        {
          "output_type": "stream",
          "text": [
            "/usr/local/lib/python3.6/dist-packages/sklearn/linear_model/_logistic.py:940: ConvergenceWarning: lbfgs failed to converge (status=1):\n",
            "STOP: TOTAL NO. of ITERATIONS REACHED LIMIT.\n",
            "\n",
            "Increase the number of iterations (max_iter) or scale the data as shown in:\n",
            "    https://scikit-learn.org/stable/modules/preprocessing.html\n",
            "Please also refer to the documentation for alternative solver options:\n",
            "    https://scikit-learn.org/stable/modules/linear_model.html#logistic-regression\n",
            "  extra_warning_msg=_LOGISTIC_SOLVER_CONVERGENCE_MSG)\n"
          ],
          "name": "stderr"
        },
        {
          "output_type": "stream",
          "text": [
            "[CV] ............................. kmeans__n_clusters=2, total=   0.2s\n",
            "[CV] kmeans__n_clusters=3 ............................................\n"
          ],
          "name": "stdout"
        },
        {
          "output_type": "stream",
          "text": [
            "/usr/local/lib/python3.6/dist-packages/sklearn/linear_model/_logistic.py:940: ConvergenceWarning: lbfgs failed to converge (status=1):\n",
            "STOP: TOTAL NO. of ITERATIONS REACHED LIMIT.\n",
            "\n",
            "Increase the number of iterations (max_iter) or scale the data as shown in:\n",
            "    https://scikit-learn.org/stable/modules/preprocessing.html\n",
            "Please also refer to the documentation for alternative solver options:\n",
            "    https://scikit-learn.org/stable/modules/linear_model.html#logistic-regression\n",
            "  extra_warning_msg=_LOGISTIC_SOLVER_CONVERGENCE_MSG)\n"
          ],
          "name": "stderr"
        },
        {
          "output_type": "stream",
          "text": [
            "[CV] ............................. kmeans__n_clusters=3, total=   0.2s\n",
            "[CV] kmeans__n_clusters=3 ............................................\n"
          ],
          "name": "stdout"
        },
        {
          "output_type": "stream",
          "text": [
            "/usr/local/lib/python3.6/dist-packages/sklearn/linear_model/_logistic.py:940: ConvergenceWarning: lbfgs failed to converge (status=1):\n",
            "STOP: TOTAL NO. of ITERATIONS REACHED LIMIT.\n",
            "\n",
            "Increase the number of iterations (max_iter) or scale the data as shown in:\n",
            "    https://scikit-learn.org/stable/modules/preprocessing.html\n",
            "Please also refer to the documentation for alternative solver options:\n",
            "    https://scikit-learn.org/stable/modules/linear_model.html#logistic-regression\n",
            "  extra_warning_msg=_LOGISTIC_SOLVER_CONVERGENCE_MSG)\n"
          ],
          "name": "stderr"
        },
        {
          "output_type": "stream",
          "text": [
            "[CV] ............................. kmeans__n_clusters=3, total=   0.3s\n",
            "[CV] kmeans__n_clusters=3 ............................................\n"
          ],
          "name": "stdout"
        },
        {
          "output_type": "stream",
          "text": [
            "/usr/local/lib/python3.6/dist-packages/sklearn/linear_model/_logistic.py:940: ConvergenceWarning: lbfgs failed to converge (status=1):\n",
            "STOP: TOTAL NO. of ITERATIONS REACHED LIMIT.\n",
            "\n",
            "Increase the number of iterations (max_iter) or scale the data as shown in:\n",
            "    https://scikit-learn.org/stable/modules/preprocessing.html\n",
            "Please also refer to the documentation for alternative solver options:\n",
            "    https://scikit-learn.org/stable/modules/linear_model.html#logistic-regression\n",
            "  extra_warning_msg=_LOGISTIC_SOLVER_CONVERGENCE_MSG)\n"
          ],
          "name": "stderr"
        },
        {
          "output_type": "stream",
          "text": [
            "[CV] ............................. kmeans__n_clusters=3, total=   0.3s\n",
            "[CV] kmeans__n_clusters=4 ............................................\n"
          ],
          "name": "stdout"
        },
        {
          "output_type": "stream",
          "text": [
            "/usr/local/lib/python3.6/dist-packages/sklearn/linear_model/_logistic.py:940: ConvergenceWarning: lbfgs failed to converge (status=1):\n",
            "STOP: TOTAL NO. of ITERATIONS REACHED LIMIT.\n",
            "\n",
            "Increase the number of iterations (max_iter) or scale the data as shown in:\n",
            "    https://scikit-learn.org/stable/modules/preprocessing.html\n",
            "Please also refer to the documentation for alternative solver options:\n",
            "    https://scikit-learn.org/stable/modules/linear_model.html#logistic-regression\n",
            "  extra_warning_msg=_LOGISTIC_SOLVER_CONVERGENCE_MSG)\n"
          ],
          "name": "stderr"
        },
        {
          "output_type": "stream",
          "text": [
            "[CV] ............................. kmeans__n_clusters=4, total=   0.3s\n",
            "[CV] kmeans__n_clusters=4 ............................................\n"
          ],
          "name": "stdout"
        },
        {
          "output_type": "stream",
          "text": [
            "/usr/local/lib/python3.6/dist-packages/sklearn/linear_model/_logistic.py:940: ConvergenceWarning: lbfgs failed to converge (status=1):\n",
            "STOP: TOTAL NO. of ITERATIONS REACHED LIMIT.\n",
            "\n",
            "Increase the number of iterations (max_iter) or scale the data as shown in:\n",
            "    https://scikit-learn.org/stable/modules/preprocessing.html\n",
            "Please also refer to the documentation for alternative solver options:\n",
            "    https://scikit-learn.org/stable/modules/linear_model.html#logistic-regression\n",
            "  extra_warning_msg=_LOGISTIC_SOLVER_CONVERGENCE_MSG)\n"
          ],
          "name": "stderr"
        },
        {
          "output_type": "stream",
          "text": [
            "[CV] ............................. kmeans__n_clusters=4, total=   0.3s\n",
            "[CV] kmeans__n_clusters=4 ............................................\n"
          ],
          "name": "stdout"
        },
        {
          "output_type": "stream",
          "text": [
            "/usr/local/lib/python3.6/dist-packages/sklearn/linear_model/_logistic.py:940: ConvergenceWarning: lbfgs failed to converge (status=1):\n",
            "STOP: TOTAL NO. of ITERATIONS REACHED LIMIT.\n",
            "\n",
            "Increase the number of iterations (max_iter) or scale the data as shown in:\n",
            "    https://scikit-learn.org/stable/modules/preprocessing.html\n",
            "Please also refer to the documentation for alternative solver options:\n",
            "    https://scikit-learn.org/stable/modules/linear_model.html#logistic-regression\n",
            "  extra_warning_msg=_LOGISTIC_SOLVER_CONVERGENCE_MSG)\n"
          ],
          "name": "stderr"
        },
        {
          "output_type": "stream",
          "text": [
            "[CV] ............................. kmeans__n_clusters=4, total=   0.3s\n",
            "[CV] kmeans__n_clusters=5 ............................................\n"
          ],
          "name": "stdout"
        },
        {
          "output_type": "stream",
          "text": [
            "/usr/local/lib/python3.6/dist-packages/sklearn/linear_model/_logistic.py:940: ConvergenceWarning: lbfgs failed to converge (status=1):\n",
            "STOP: TOTAL NO. of ITERATIONS REACHED LIMIT.\n",
            "\n",
            "Increase the number of iterations (max_iter) or scale the data as shown in:\n",
            "    https://scikit-learn.org/stable/modules/preprocessing.html\n",
            "Please also refer to the documentation for alternative solver options:\n",
            "    https://scikit-learn.org/stable/modules/linear_model.html#logistic-regression\n",
            "  extra_warning_msg=_LOGISTIC_SOLVER_CONVERGENCE_MSG)\n"
          ],
          "name": "stderr"
        },
        {
          "output_type": "stream",
          "text": [
            "[CV] ............................. kmeans__n_clusters=5, total=   0.3s\n",
            "[CV] kmeans__n_clusters=5 ............................................\n"
          ],
          "name": "stdout"
        },
        {
          "output_type": "stream",
          "text": [
            "/usr/local/lib/python3.6/dist-packages/sklearn/linear_model/_logistic.py:940: ConvergenceWarning: lbfgs failed to converge (status=1):\n",
            "STOP: TOTAL NO. of ITERATIONS REACHED LIMIT.\n",
            "\n",
            "Increase the number of iterations (max_iter) or scale the data as shown in:\n",
            "    https://scikit-learn.org/stable/modules/preprocessing.html\n",
            "Please also refer to the documentation for alternative solver options:\n",
            "    https://scikit-learn.org/stable/modules/linear_model.html#logistic-regression\n",
            "  extra_warning_msg=_LOGISTIC_SOLVER_CONVERGENCE_MSG)\n"
          ],
          "name": "stderr"
        },
        {
          "output_type": "stream",
          "text": [
            "[CV] ............................. kmeans__n_clusters=5, total=   0.3s\n",
            "[CV] kmeans__n_clusters=5 ............................................\n"
          ],
          "name": "stdout"
        },
        {
          "output_type": "stream",
          "text": [
            "/usr/local/lib/python3.6/dist-packages/sklearn/linear_model/_logistic.py:940: ConvergenceWarning: lbfgs failed to converge (status=1):\n",
            "STOP: TOTAL NO. of ITERATIONS REACHED LIMIT.\n",
            "\n",
            "Increase the number of iterations (max_iter) or scale the data as shown in:\n",
            "    https://scikit-learn.org/stable/modules/preprocessing.html\n",
            "Please also refer to the documentation for alternative solver options:\n",
            "    https://scikit-learn.org/stable/modules/linear_model.html#logistic-regression\n",
            "  extra_warning_msg=_LOGISTIC_SOLVER_CONVERGENCE_MSG)\n"
          ],
          "name": "stderr"
        },
        {
          "output_type": "stream",
          "text": [
            "[CV] ............................. kmeans__n_clusters=5, total=   0.3s\n",
            "[CV] kmeans__n_clusters=6 ............................................\n"
          ],
          "name": "stdout"
        },
        {
          "output_type": "stream",
          "text": [
            "/usr/local/lib/python3.6/dist-packages/sklearn/linear_model/_logistic.py:940: ConvergenceWarning: lbfgs failed to converge (status=1):\n",
            "STOP: TOTAL NO. of ITERATIONS REACHED LIMIT.\n",
            "\n",
            "Increase the number of iterations (max_iter) or scale the data as shown in:\n",
            "    https://scikit-learn.org/stable/modules/preprocessing.html\n",
            "Please also refer to the documentation for alternative solver options:\n",
            "    https://scikit-learn.org/stable/modules/linear_model.html#logistic-regression\n",
            "  extra_warning_msg=_LOGISTIC_SOLVER_CONVERGENCE_MSG)\n"
          ],
          "name": "stderr"
        },
        {
          "output_type": "stream",
          "text": [
            "[CV] ............................. kmeans__n_clusters=6, total=   0.3s\n",
            "[CV] kmeans__n_clusters=6 ............................................\n"
          ],
          "name": "stdout"
        },
        {
          "output_type": "stream",
          "text": [
            "/usr/local/lib/python3.6/dist-packages/sklearn/linear_model/_logistic.py:940: ConvergenceWarning: lbfgs failed to converge (status=1):\n",
            "STOP: TOTAL NO. of ITERATIONS REACHED LIMIT.\n",
            "\n",
            "Increase the number of iterations (max_iter) or scale the data as shown in:\n",
            "    https://scikit-learn.org/stable/modules/preprocessing.html\n",
            "Please also refer to the documentation for alternative solver options:\n",
            "    https://scikit-learn.org/stable/modules/linear_model.html#logistic-regression\n",
            "  extra_warning_msg=_LOGISTIC_SOLVER_CONVERGENCE_MSG)\n"
          ],
          "name": "stderr"
        },
        {
          "output_type": "stream",
          "text": [
            "[CV] ............................. kmeans__n_clusters=6, total=   0.3s\n",
            "[CV] kmeans__n_clusters=6 ............................................\n"
          ],
          "name": "stdout"
        },
        {
          "output_type": "stream",
          "text": [
            "/usr/local/lib/python3.6/dist-packages/sklearn/linear_model/_logistic.py:940: ConvergenceWarning: lbfgs failed to converge (status=1):\n",
            "STOP: TOTAL NO. of ITERATIONS REACHED LIMIT.\n",
            "\n",
            "Increase the number of iterations (max_iter) or scale the data as shown in:\n",
            "    https://scikit-learn.org/stable/modules/preprocessing.html\n",
            "Please also refer to the documentation for alternative solver options:\n",
            "    https://scikit-learn.org/stable/modules/linear_model.html#logistic-regression\n",
            "  extra_warning_msg=_LOGISTIC_SOLVER_CONVERGENCE_MSG)\n"
          ],
          "name": "stderr"
        },
        {
          "output_type": "stream",
          "text": [
            "[CV] ............................. kmeans__n_clusters=6, total=   0.3s\n",
            "[CV] kmeans__n_clusters=7 ............................................\n"
          ],
          "name": "stdout"
        },
        {
          "output_type": "stream",
          "text": [
            "/usr/local/lib/python3.6/dist-packages/sklearn/linear_model/_logistic.py:940: ConvergenceWarning: lbfgs failed to converge (status=1):\n",
            "STOP: TOTAL NO. of ITERATIONS REACHED LIMIT.\n",
            "\n",
            "Increase the number of iterations (max_iter) or scale the data as shown in:\n",
            "    https://scikit-learn.org/stable/modules/preprocessing.html\n",
            "Please also refer to the documentation for alternative solver options:\n",
            "    https://scikit-learn.org/stable/modules/linear_model.html#logistic-regression\n",
            "  extra_warning_msg=_LOGISTIC_SOLVER_CONVERGENCE_MSG)\n"
          ],
          "name": "stderr"
        },
        {
          "output_type": "stream",
          "text": [
            "[CV] ............................. kmeans__n_clusters=7, total=   0.3s\n",
            "[CV] kmeans__n_clusters=7 ............................................\n"
          ],
          "name": "stdout"
        },
        {
          "output_type": "stream",
          "text": [
            "/usr/local/lib/python3.6/dist-packages/sklearn/linear_model/_logistic.py:940: ConvergenceWarning: lbfgs failed to converge (status=1):\n",
            "STOP: TOTAL NO. of ITERATIONS REACHED LIMIT.\n",
            "\n",
            "Increase the number of iterations (max_iter) or scale the data as shown in:\n",
            "    https://scikit-learn.org/stable/modules/preprocessing.html\n",
            "Please also refer to the documentation for alternative solver options:\n",
            "    https://scikit-learn.org/stable/modules/linear_model.html#logistic-regression\n",
            "  extra_warning_msg=_LOGISTIC_SOLVER_CONVERGENCE_MSG)\n"
          ],
          "name": "stderr"
        },
        {
          "output_type": "stream",
          "text": [
            "[CV] ............................. kmeans__n_clusters=7, total=   0.3s\n",
            "[CV] kmeans__n_clusters=7 ............................................\n"
          ],
          "name": "stdout"
        },
        {
          "output_type": "stream",
          "text": [
            "/usr/local/lib/python3.6/dist-packages/sklearn/linear_model/_logistic.py:940: ConvergenceWarning: lbfgs failed to converge (status=1):\n",
            "STOP: TOTAL NO. of ITERATIONS REACHED LIMIT.\n",
            "\n",
            "Increase the number of iterations (max_iter) or scale the data as shown in:\n",
            "    https://scikit-learn.org/stable/modules/preprocessing.html\n",
            "Please also refer to the documentation for alternative solver options:\n",
            "    https://scikit-learn.org/stable/modules/linear_model.html#logistic-regression\n",
            "  extra_warning_msg=_LOGISTIC_SOLVER_CONVERGENCE_MSG)\n"
          ],
          "name": "stderr"
        },
        {
          "output_type": "stream",
          "text": [
            "[CV] ............................. kmeans__n_clusters=7, total=   0.3s\n",
            "[CV] kmeans__n_clusters=8 ............................................\n"
          ],
          "name": "stdout"
        },
        {
          "output_type": "stream",
          "text": [
            "/usr/local/lib/python3.6/dist-packages/sklearn/linear_model/_logistic.py:940: ConvergenceWarning: lbfgs failed to converge (status=1):\n",
            "STOP: TOTAL NO. of ITERATIONS REACHED LIMIT.\n",
            "\n",
            "Increase the number of iterations (max_iter) or scale the data as shown in:\n",
            "    https://scikit-learn.org/stable/modules/preprocessing.html\n",
            "Please also refer to the documentation for alternative solver options:\n",
            "    https://scikit-learn.org/stable/modules/linear_model.html#logistic-regression\n",
            "  extra_warning_msg=_LOGISTIC_SOLVER_CONVERGENCE_MSG)\n"
          ],
          "name": "stderr"
        },
        {
          "output_type": "stream",
          "text": [
            "[CV] ............................. kmeans__n_clusters=8, total=   0.3s\n",
            "[CV] kmeans__n_clusters=8 ............................................\n"
          ],
          "name": "stdout"
        },
        {
          "output_type": "stream",
          "text": [
            "/usr/local/lib/python3.6/dist-packages/sklearn/linear_model/_logistic.py:940: ConvergenceWarning: lbfgs failed to converge (status=1):\n",
            "STOP: TOTAL NO. of ITERATIONS REACHED LIMIT.\n",
            "\n",
            "Increase the number of iterations (max_iter) or scale the data as shown in:\n",
            "    https://scikit-learn.org/stable/modules/preprocessing.html\n",
            "Please also refer to the documentation for alternative solver options:\n",
            "    https://scikit-learn.org/stable/modules/linear_model.html#logistic-regression\n",
            "  extra_warning_msg=_LOGISTIC_SOLVER_CONVERGENCE_MSG)\n"
          ],
          "name": "stderr"
        },
        {
          "output_type": "stream",
          "text": [
            "[CV] ............................. kmeans__n_clusters=8, total=   0.3s\n",
            "[CV] kmeans__n_clusters=8 ............................................\n"
          ],
          "name": "stdout"
        },
        {
          "output_type": "stream",
          "text": [
            "/usr/local/lib/python3.6/dist-packages/sklearn/linear_model/_logistic.py:940: ConvergenceWarning: lbfgs failed to converge (status=1):\n",
            "STOP: TOTAL NO. of ITERATIONS REACHED LIMIT.\n",
            "\n",
            "Increase the number of iterations (max_iter) or scale the data as shown in:\n",
            "    https://scikit-learn.org/stable/modules/preprocessing.html\n",
            "Please also refer to the documentation for alternative solver options:\n",
            "    https://scikit-learn.org/stable/modules/linear_model.html#logistic-regression\n",
            "  extra_warning_msg=_LOGISTIC_SOLVER_CONVERGENCE_MSG)\n"
          ],
          "name": "stderr"
        },
        {
          "output_type": "stream",
          "text": [
            "[CV] ............................. kmeans__n_clusters=8, total=   0.4s\n",
            "[CV] kmeans__n_clusters=9 ............................................\n"
          ],
          "name": "stdout"
        },
        {
          "output_type": "stream",
          "text": [
            "/usr/local/lib/python3.6/dist-packages/sklearn/linear_model/_logistic.py:940: ConvergenceWarning: lbfgs failed to converge (status=1):\n",
            "STOP: TOTAL NO. of ITERATIONS REACHED LIMIT.\n",
            "\n",
            "Increase the number of iterations (max_iter) or scale the data as shown in:\n",
            "    https://scikit-learn.org/stable/modules/preprocessing.html\n",
            "Please also refer to the documentation for alternative solver options:\n",
            "    https://scikit-learn.org/stable/modules/linear_model.html#logistic-regression\n",
            "  extra_warning_msg=_LOGISTIC_SOLVER_CONVERGENCE_MSG)\n"
          ],
          "name": "stderr"
        },
        {
          "output_type": "stream",
          "text": [
            "[CV] ............................. kmeans__n_clusters=9, total=   0.3s\n",
            "[CV] kmeans__n_clusters=9 ............................................\n"
          ],
          "name": "stdout"
        },
        {
          "output_type": "stream",
          "text": [
            "/usr/local/lib/python3.6/dist-packages/sklearn/linear_model/_logistic.py:940: ConvergenceWarning: lbfgs failed to converge (status=1):\n",
            "STOP: TOTAL NO. of ITERATIONS REACHED LIMIT.\n",
            "\n",
            "Increase the number of iterations (max_iter) or scale the data as shown in:\n",
            "    https://scikit-learn.org/stable/modules/preprocessing.html\n",
            "Please also refer to the documentation for alternative solver options:\n",
            "    https://scikit-learn.org/stable/modules/linear_model.html#logistic-regression\n",
            "  extra_warning_msg=_LOGISTIC_SOLVER_CONVERGENCE_MSG)\n"
          ],
          "name": "stderr"
        },
        {
          "output_type": "stream",
          "text": [
            "[CV] ............................. kmeans__n_clusters=9, total=   0.3s\n",
            "[CV] kmeans__n_clusters=9 ............................................\n"
          ],
          "name": "stdout"
        },
        {
          "output_type": "stream",
          "text": [
            "/usr/local/lib/python3.6/dist-packages/sklearn/linear_model/_logistic.py:940: ConvergenceWarning: lbfgs failed to converge (status=1):\n",
            "STOP: TOTAL NO. of ITERATIONS REACHED LIMIT.\n",
            "\n",
            "Increase the number of iterations (max_iter) or scale the data as shown in:\n",
            "    https://scikit-learn.org/stable/modules/preprocessing.html\n",
            "Please also refer to the documentation for alternative solver options:\n",
            "    https://scikit-learn.org/stable/modules/linear_model.html#logistic-regression\n",
            "  extra_warning_msg=_LOGISTIC_SOLVER_CONVERGENCE_MSG)\n"
          ],
          "name": "stderr"
        },
        {
          "output_type": "stream",
          "text": [
            "[CV] ............................. kmeans__n_clusters=9, total=   0.3s\n",
            "[CV] kmeans__n_clusters=10 ...........................................\n"
          ],
          "name": "stdout"
        },
        {
          "output_type": "stream",
          "text": [
            "/usr/local/lib/python3.6/dist-packages/sklearn/linear_model/_logistic.py:940: ConvergenceWarning: lbfgs failed to converge (status=1):\n",
            "STOP: TOTAL NO. of ITERATIONS REACHED LIMIT.\n",
            "\n",
            "Increase the number of iterations (max_iter) or scale the data as shown in:\n",
            "    https://scikit-learn.org/stable/modules/preprocessing.html\n",
            "Please also refer to the documentation for alternative solver options:\n",
            "    https://scikit-learn.org/stable/modules/linear_model.html#logistic-regression\n",
            "  extra_warning_msg=_LOGISTIC_SOLVER_CONVERGENCE_MSG)\n"
          ],
          "name": "stderr"
        },
        {
          "output_type": "stream",
          "text": [
            "[CV] ............................ kmeans__n_clusters=10, total=   0.3s\n",
            "[CV] kmeans__n_clusters=10 ...........................................\n"
          ],
          "name": "stdout"
        },
        {
          "output_type": "stream",
          "text": [
            "/usr/local/lib/python3.6/dist-packages/sklearn/linear_model/_logistic.py:940: ConvergenceWarning: lbfgs failed to converge (status=1):\n",
            "STOP: TOTAL NO. of ITERATIONS REACHED LIMIT.\n",
            "\n",
            "Increase the number of iterations (max_iter) or scale the data as shown in:\n",
            "    https://scikit-learn.org/stable/modules/preprocessing.html\n",
            "Please also refer to the documentation for alternative solver options:\n",
            "    https://scikit-learn.org/stable/modules/linear_model.html#logistic-regression\n",
            "  extra_warning_msg=_LOGISTIC_SOLVER_CONVERGENCE_MSG)\n"
          ],
          "name": "stderr"
        },
        {
          "output_type": "stream",
          "text": [
            "[CV] ............................ kmeans__n_clusters=10, total=   0.4s\n",
            "[CV] kmeans__n_clusters=10 ...........................................\n"
          ],
          "name": "stdout"
        },
        {
          "output_type": "stream",
          "text": [
            "/usr/local/lib/python3.6/dist-packages/sklearn/linear_model/_logistic.py:940: ConvergenceWarning: lbfgs failed to converge (status=1):\n",
            "STOP: TOTAL NO. of ITERATIONS REACHED LIMIT.\n",
            "\n",
            "Increase the number of iterations (max_iter) or scale the data as shown in:\n",
            "    https://scikit-learn.org/stable/modules/preprocessing.html\n",
            "Please also refer to the documentation for alternative solver options:\n",
            "    https://scikit-learn.org/stable/modules/linear_model.html#logistic-regression\n",
            "  extra_warning_msg=_LOGISTIC_SOLVER_CONVERGENCE_MSG)\n"
          ],
          "name": "stderr"
        },
        {
          "output_type": "stream",
          "text": [
            "[CV] ............................ kmeans__n_clusters=10, total=   0.4s\n",
            "[CV] kmeans__n_clusters=11 ...........................................\n"
          ],
          "name": "stdout"
        },
        {
          "output_type": "stream",
          "text": [
            "/usr/local/lib/python3.6/dist-packages/sklearn/linear_model/_logistic.py:940: ConvergenceWarning: lbfgs failed to converge (status=1):\n",
            "STOP: TOTAL NO. of ITERATIONS REACHED LIMIT.\n",
            "\n",
            "Increase the number of iterations (max_iter) or scale the data as shown in:\n",
            "    https://scikit-learn.org/stable/modules/preprocessing.html\n",
            "Please also refer to the documentation for alternative solver options:\n",
            "    https://scikit-learn.org/stable/modules/linear_model.html#logistic-regression\n",
            "  extra_warning_msg=_LOGISTIC_SOLVER_CONVERGENCE_MSG)\n"
          ],
          "name": "stderr"
        },
        {
          "output_type": "stream",
          "text": [
            "[CV] ............................ kmeans__n_clusters=11, total=   0.4s\n",
            "[CV] kmeans__n_clusters=11 ...........................................\n"
          ],
          "name": "stdout"
        },
        {
          "output_type": "stream",
          "text": [
            "/usr/local/lib/python3.6/dist-packages/sklearn/linear_model/_logistic.py:940: ConvergenceWarning: lbfgs failed to converge (status=1):\n",
            "STOP: TOTAL NO. of ITERATIONS REACHED LIMIT.\n",
            "\n",
            "Increase the number of iterations (max_iter) or scale the data as shown in:\n",
            "    https://scikit-learn.org/stable/modules/preprocessing.html\n",
            "Please also refer to the documentation for alternative solver options:\n",
            "    https://scikit-learn.org/stable/modules/linear_model.html#logistic-regression\n",
            "  extra_warning_msg=_LOGISTIC_SOLVER_CONVERGENCE_MSG)\n"
          ],
          "name": "stderr"
        },
        {
          "output_type": "stream",
          "text": [
            "[CV] ............................ kmeans__n_clusters=11, total=   0.4s\n",
            "[CV] kmeans__n_clusters=11 ...........................................\n"
          ],
          "name": "stdout"
        },
        {
          "output_type": "stream",
          "text": [
            "/usr/local/lib/python3.6/dist-packages/sklearn/linear_model/_logistic.py:940: ConvergenceWarning: lbfgs failed to converge (status=1):\n",
            "STOP: TOTAL NO. of ITERATIONS REACHED LIMIT.\n",
            "\n",
            "Increase the number of iterations (max_iter) or scale the data as shown in:\n",
            "    https://scikit-learn.org/stable/modules/preprocessing.html\n",
            "Please also refer to the documentation for alternative solver options:\n",
            "    https://scikit-learn.org/stable/modules/linear_model.html#logistic-regression\n",
            "  extra_warning_msg=_LOGISTIC_SOLVER_CONVERGENCE_MSG)\n"
          ],
          "name": "stderr"
        },
        {
          "output_type": "stream",
          "text": [
            "[CV] ............................ kmeans__n_clusters=11, total=   0.3s\n",
            "[CV] kmeans__n_clusters=12 ...........................................\n"
          ],
          "name": "stdout"
        },
        {
          "output_type": "stream",
          "text": [
            "/usr/local/lib/python3.6/dist-packages/sklearn/linear_model/_logistic.py:940: ConvergenceWarning: lbfgs failed to converge (status=1):\n",
            "STOP: TOTAL NO. of ITERATIONS REACHED LIMIT.\n",
            "\n",
            "Increase the number of iterations (max_iter) or scale the data as shown in:\n",
            "    https://scikit-learn.org/stable/modules/preprocessing.html\n",
            "Please also refer to the documentation for alternative solver options:\n",
            "    https://scikit-learn.org/stable/modules/linear_model.html#logistic-regression\n",
            "  extra_warning_msg=_LOGISTIC_SOLVER_CONVERGENCE_MSG)\n"
          ],
          "name": "stderr"
        },
        {
          "output_type": "stream",
          "text": [
            "[CV] ............................ kmeans__n_clusters=12, total=   0.4s\n",
            "[CV] kmeans__n_clusters=12 ...........................................\n"
          ],
          "name": "stdout"
        },
        {
          "output_type": "stream",
          "text": [
            "/usr/local/lib/python3.6/dist-packages/sklearn/linear_model/_logistic.py:940: ConvergenceWarning: lbfgs failed to converge (status=1):\n",
            "STOP: TOTAL NO. of ITERATIONS REACHED LIMIT.\n",
            "\n",
            "Increase the number of iterations (max_iter) or scale the data as shown in:\n",
            "    https://scikit-learn.org/stable/modules/preprocessing.html\n",
            "Please also refer to the documentation for alternative solver options:\n",
            "    https://scikit-learn.org/stable/modules/linear_model.html#logistic-regression\n",
            "  extra_warning_msg=_LOGISTIC_SOLVER_CONVERGENCE_MSG)\n"
          ],
          "name": "stderr"
        },
        {
          "output_type": "stream",
          "text": [
            "[CV] ............................ kmeans__n_clusters=12, total=   0.4s\n",
            "[CV] kmeans__n_clusters=12 ...........................................\n"
          ],
          "name": "stdout"
        },
        {
          "output_type": "stream",
          "text": [
            "/usr/local/lib/python3.6/dist-packages/sklearn/linear_model/_logistic.py:940: ConvergenceWarning: lbfgs failed to converge (status=1):\n",
            "STOP: TOTAL NO. of ITERATIONS REACHED LIMIT.\n",
            "\n",
            "Increase the number of iterations (max_iter) or scale the data as shown in:\n",
            "    https://scikit-learn.org/stable/modules/preprocessing.html\n",
            "Please also refer to the documentation for alternative solver options:\n",
            "    https://scikit-learn.org/stable/modules/linear_model.html#logistic-regression\n",
            "  extra_warning_msg=_LOGISTIC_SOLVER_CONVERGENCE_MSG)\n"
          ],
          "name": "stderr"
        },
        {
          "output_type": "stream",
          "text": [
            "[CV] ............................ kmeans__n_clusters=12, total=   0.4s\n",
            "[CV] kmeans__n_clusters=13 ...........................................\n"
          ],
          "name": "stdout"
        },
        {
          "output_type": "stream",
          "text": [
            "/usr/local/lib/python3.6/dist-packages/sklearn/linear_model/_logistic.py:940: ConvergenceWarning: lbfgs failed to converge (status=1):\n",
            "STOP: TOTAL NO. of ITERATIONS REACHED LIMIT.\n",
            "\n",
            "Increase the number of iterations (max_iter) or scale the data as shown in:\n",
            "    https://scikit-learn.org/stable/modules/preprocessing.html\n",
            "Please also refer to the documentation for alternative solver options:\n",
            "    https://scikit-learn.org/stable/modules/linear_model.html#logistic-regression\n",
            "  extra_warning_msg=_LOGISTIC_SOLVER_CONVERGENCE_MSG)\n"
          ],
          "name": "stderr"
        },
        {
          "output_type": "stream",
          "text": [
            "[CV] ............................ kmeans__n_clusters=13, total=   0.4s\n",
            "[CV] kmeans__n_clusters=13 ...........................................\n"
          ],
          "name": "stdout"
        },
        {
          "output_type": "stream",
          "text": [
            "/usr/local/lib/python3.6/dist-packages/sklearn/linear_model/_logistic.py:940: ConvergenceWarning: lbfgs failed to converge (status=1):\n",
            "STOP: TOTAL NO. of ITERATIONS REACHED LIMIT.\n",
            "\n",
            "Increase the number of iterations (max_iter) or scale the data as shown in:\n",
            "    https://scikit-learn.org/stable/modules/preprocessing.html\n",
            "Please also refer to the documentation for alternative solver options:\n",
            "    https://scikit-learn.org/stable/modules/linear_model.html#logistic-regression\n",
            "  extra_warning_msg=_LOGISTIC_SOLVER_CONVERGENCE_MSG)\n"
          ],
          "name": "stderr"
        },
        {
          "output_type": "stream",
          "text": [
            "[CV] ............................ kmeans__n_clusters=13, total=   0.4s\n",
            "[CV] kmeans__n_clusters=13 ...........................................\n"
          ],
          "name": "stdout"
        },
        {
          "output_type": "stream",
          "text": [
            "/usr/local/lib/python3.6/dist-packages/sklearn/linear_model/_logistic.py:940: ConvergenceWarning: lbfgs failed to converge (status=1):\n",
            "STOP: TOTAL NO. of ITERATIONS REACHED LIMIT.\n",
            "\n",
            "Increase the number of iterations (max_iter) or scale the data as shown in:\n",
            "    https://scikit-learn.org/stable/modules/preprocessing.html\n",
            "Please also refer to the documentation for alternative solver options:\n",
            "    https://scikit-learn.org/stable/modules/linear_model.html#logistic-regression\n",
            "  extra_warning_msg=_LOGISTIC_SOLVER_CONVERGENCE_MSG)\n"
          ],
          "name": "stderr"
        },
        {
          "output_type": "stream",
          "text": [
            "[CV] ............................ kmeans__n_clusters=13, total=   0.4s\n",
            "[CV] kmeans__n_clusters=14 ...........................................\n"
          ],
          "name": "stdout"
        },
        {
          "output_type": "stream",
          "text": [
            "/usr/local/lib/python3.6/dist-packages/sklearn/linear_model/_logistic.py:940: ConvergenceWarning: lbfgs failed to converge (status=1):\n",
            "STOP: TOTAL NO. of ITERATIONS REACHED LIMIT.\n",
            "\n",
            "Increase the number of iterations (max_iter) or scale the data as shown in:\n",
            "    https://scikit-learn.org/stable/modules/preprocessing.html\n",
            "Please also refer to the documentation for alternative solver options:\n",
            "    https://scikit-learn.org/stable/modules/linear_model.html#logistic-regression\n",
            "  extra_warning_msg=_LOGISTIC_SOLVER_CONVERGENCE_MSG)\n"
          ],
          "name": "stderr"
        },
        {
          "output_type": "stream",
          "text": [
            "[CV] ............................ kmeans__n_clusters=14, total=   0.4s\n",
            "[CV] kmeans__n_clusters=14 ...........................................\n"
          ],
          "name": "stdout"
        },
        {
          "output_type": "stream",
          "text": [
            "/usr/local/lib/python3.6/dist-packages/sklearn/linear_model/_logistic.py:940: ConvergenceWarning: lbfgs failed to converge (status=1):\n",
            "STOP: TOTAL NO. of ITERATIONS REACHED LIMIT.\n",
            "\n",
            "Increase the number of iterations (max_iter) or scale the data as shown in:\n",
            "    https://scikit-learn.org/stable/modules/preprocessing.html\n",
            "Please also refer to the documentation for alternative solver options:\n",
            "    https://scikit-learn.org/stable/modules/linear_model.html#logistic-regression\n",
            "  extra_warning_msg=_LOGISTIC_SOLVER_CONVERGENCE_MSG)\n"
          ],
          "name": "stderr"
        },
        {
          "output_type": "stream",
          "text": [
            "[CV] ............................ kmeans__n_clusters=14, total=   0.4s\n",
            "[CV] kmeans__n_clusters=14 ...........................................\n"
          ],
          "name": "stdout"
        },
        {
          "output_type": "stream",
          "text": [
            "/usr/local/lib/python3.6/dist-packages/sklearn/linear_model/_logistic.py:940: ConvergenceWarning: lbfgs failed to converge (status=1):\n",
            "STOP: TOTAL NO. of ITERATIONS REACHED LIMIT.\n",
            "\n",
            "Increase the number of iterations (max_iter) or scale the data as shown in:\n",
            "    https://scikit-learn.org/stable/modules/preprocessing.html\n",
            "Please also refer to the documentation for alternative solver options:\n",
            "    https://scikit-learn.org/stable/modules/linear_model.html#logistic-regression\n",
            "  extra_warning_msg=_LOGISTIC_SOLVER_CONVERGENCE_MSG)\n"
          ],
          "name": "stderr"
        },
        {
          "output_type": "stream",
          "text": [
            "[CV] ............................ kmeans__n_clusters=14, total=   0.4s\n",
            "[CV] kmeans__n_clusters=15 ...........................................\n"
          ],
          "name": "stdout"
        },
        {
          "output_type": "stream",
          "text": [
            "/usr/local/lib/python3.6/dist-packages/sklearn/linear_model/_logistic.py:940: ConvergenceWarning: lbfgs failed to converge (status=1):\n",
            "STOP: TOTAL NO. of ITERATIONS REACHED LIMIT.\n",
            "\n",
            "Increase the number of iterations (max_iter) or scale the data as shown in:\n",
            "    https://scikit-learn.org/stable/modules/preprocessing.html\n",
            "Please also refer to the documentation for alternative solver options:\n",
            "    https://scikit-learn.org/stable/modules/linear_model.html#logistic-regression\n",
            "  extra_warning_msg=_LOGISTIC_SOLVER_CONVERGENCE_MSG)\n"
          ],
          "name": "stderr"
        },
        {
          "output_type": "stream",
          "text": [
            "[CV] ............................ kmeans__n_clusters=15, total=   0.5s\n",
            "[CV] kmeans__n_clusters=15 ...........................................\n"
          ],
          "name": "stdout"
        },
        {
          "output_type": "stream",
          "text": [
            "/usr/local/lib/python3.6/dist-packages/sklearn/linear_model/_logistic.py:940: ConvergenceWarning: lbfgs failed to converge (status=1):\n",
            "STOP: TOTAL NO. of ITERATIONS REACHED LIMIT.\n",
            "\n",
            "Increase the number of iterations (max_iter) or scale the data as shown in:\n",
            "    https://scikit-learn.org/stable/modules/preprocessing.html\n",
            "Please also refer to the documentation for alternative solver options:\n",
            "    https://scikit-learn.org/stable/modules/linear_model.html#logistic-regression\n",
            "  extra_warning_msg=_LOGISTIC_SOLVER_CONVERGENCE_MSG)\n"
          ],
          "name": "stderr"
        },
        {
          "output_type": "stream",
          "text": [
            "[CV] ............................ kmeans__n_clusters=15, total=   0.4s\n",
            "[CV] kmeans__n_clusters=15 ...........................................\n"
          ],
          "name": "stdout"
        },
        {
          "output_type": "stream",
          "text": [
            "/usr/local/lib/python3.6/dist-packages/sklearn/linear_model/_logistic.py:940: ConvergenceWarning: lbfgs failed to converge (status=1):\n",
            "STOP: TOTAL NO. of ITERATIONS REACHED LIMIT.\n",
            "\n",
            "Increase the number of iterations (max_iter) or scale the data as shown in:\n",
            "    https://scikit-learn.org/stable/modules/preprocessing.html\n",
            "Please also refer to the documentation for alternative solver options:\n",
            "    https://scikit-learn.org/stable/modules/linear_model.html#logistic-regression\n",
            "  extra_warning_msg=_LOGISTIC_SOLVER_CONVERGENCE_MSG)\n"
          ],
          "name": "stderr"
        },
        {
          "output_type": "stream",
          "text": [
            "[CV] ............................ kmeans__n_clusters=15, total=   0.4s\n",
            "[CV] kmeans__n_clusters=16 ...........................................\n"
          ],
          "name": "stdout"
        },
        {
          "output_type": "stream",
          "text": [
            "/usr/local/lib/python3.6/dist-packages/sklearn/linear_model/_logistic.py:940: ConvergenceWarning: lbfgs failed to converge (status=1):\n",
            "STOP: TOTAL NO. of ITERATIONS REACHED LIMIT.\n",
            "\n",
            "Increase the number of iterations (max_iter) or scale the data as shown in:\n",
            "    https://scikit-learn.org/stable/modules/preprocessing.html\n",
            "Please also refer to the documentation for alternative solver options:\n",
            "    https://scikit-learn.org/stable/modules/linear_model.html#logistic-regression\n",
            "  extra_warning_msg=_LOGISTIC_SOLVER_CONVERGENCE_MSG)\n"
          ],
          "name": "stderr"
        },
        {
          "output_type": "stream",
          "text": [
            "[CV] ............................ kmeans__n_clusters=16, total=   0.4s\n",
            "[CV] kmeans__n_clusters=16 ...........................................\n"
          ],
          "name": "stdout"
        },
        {
          "output_type": "stream",
          "text": [
            "/usr/local/lib/python3.6/dist-packages/sklearn/linear_model/_logistic.py:940: ConvergenceWarning: lbfgs failed to converge (status=1):\n",
            "STOP: TOTAL NO. of ITERATIONS REACHED LIMIT.\n",
            "\n",
            "Increase the number of iterations (max_iter) or scale the data as shown in:\n",
            "    https://scikit-learn.org/stable/modules/preprocessing.html\n",
            "Please also refer to the documentation for alternative solver options:\n",
            "    https://scikit-learn.org/stable/modules/linear_model.html#logistic-regression\n",
            "  extra_warning_msg=_LOGISTIC_SOLVER_CONVERGENCE_MSG)\n"
          ],
          "name": "stderr"
        },
        {
          "output_type": "stream",
          "text": [
            "[CV] ............................ kmeans__n_clusters=16, total=   0.4s\n",
            "[CV] kmeans__n_clusters=16 ...........................................\n"
          ],
          "name": "stdout"
        },
        {
          "output_type": "stream",
          "text": [
            "/usr/local/lib/python3.6/dist-packages/sklearn/linear_model/_logistic.py:940: ConvergenceWarning: lbfgs failed to converge (status=1):\n",
            "STOP: TOTAL NO. of ITERATIONS REACHED LIMIT.\n",
            "\n",
            "Increase the number of iterations (max_iter) or scale the data as shown in:\n",
            "    https://scikit-learn.org/stable/modules/preprocessing.html\n",
            "Please also refer to the documentation for alternative solver options:\n",
            "    https://scikit-learn.org/stable/modules/linear_model.html#logistic-regression\n",
            "  extra_warning_msg=_LOGISTIC_SOLVER_CONVERGENCE_MSG)\n"
          ],
          "name": "stderr"
        },
        {
          "output_type": "stream",
          "text": [
            "[CV] ............................ kmeans__n_clusters=16, total=   0.4s\n",
            "[CV] kmeans__n_clusters=17 ...........................................\n"
          ],
          "name": "stdout"
        },
        {
          "output_type": "stream",
          "text": [
            "/usr/local/lib/python3.6/dist-packages/sklearn/linear_model/_logistic.py:940: ConvergenceWarning: lbfgs failed to converge (status=1):\n",
            "STOP: TOTAL NO. of ITERATIONS REACHED LIMIT.\n",
            "\n",
            "Increase the number of iterations (max_iter) or scale the data as shown in:\n",
            "    https://scikit-learn.org/stable/modules/preprocessing.html\n",
            "Please also refer to the documentation for alternative solver options:\n",
            "    https://scikit-learn.org/stable/modules/linear_model.html#logistic-regression\n",
            "  extra_warning_msg=_LOGISTIC_SOLVER_CONVERGENCE_MSG)\n"
          ],
          "name": "stderr"
        },
        {
          "output_type": "stream",
          "text": [
            "[CV] ............................ kmeans__n_clusters=17, total=   0.4s\n",
            "[CV] kmeans__n_clusters=17 ...........................................\n"
          ],
          "name": "stdout"
        },
        {
          "output_type": "stream",
          "text": [
            "/usr/local/lib/python3.6/dist-packages/sklearn/linear_model/_logistic.py:940: ConvergenceWarning: lbfgs failed to converge (status=1):\n",
            "STOP: TOTAL NO. of ITERATIONS REACHED LIMIT.\n",
            "\n",
            "Increase the number of iterations (max_iter) or scale the data as shown in:\n",
            "    https://scikit-learn.org/stable/modules/preprocessing.html\n",
            "Please also refer to the documentation for alternative solver options:\n",
            "    https://scikit-learn.org/stable/modules/linear_model.html#logistic-regression\n",
            "  extra_warning_msg=_LOGISTIC_SOLVER_CONVERGENCE_MSG)\n"
          ],
          "name": "stderr"
        },
        {
          "output_type": "stream",
          "text": [
            "[CV] ............................ kmeans__n_clusters=17, total=   0.4s\n",
            "[CV] kmeans__n_clusters=17 ...........................................\n"
          ],
          "name": "stdout"
        },
        {
          "output_type": "stream",
          "text": [
            "/usr/local/lib/python3.6/dist-packages/sklearn/linear_model/_logistic.py:940: ConvergenceWarning: lbfgs failed to converge (status=1):\n",
            "STOP: TOTAL NO. of ITERATIONS REACHED LIMIT.\n",
            "\n",
            "Increase the number of iterations (max_iter) or scale the data as shown in:\n",
            "    https://scikit-learn.org/stable/modules/preprocessing.html\n",
            "Please also refer to the documentation for alternative solver options:\n",
            "    https://scikit-learn.org/stable/modules/linear_model.html#logistic-regression\n",
            "  extra_warning_msg=_LOGISTIC_SOLVER_CONVERGENCE_MSG)\n"
          ],
          "name": "stderr"
        },
        {
          "output_type": "stream",
          "text": [
            "[CV] ............................ kmeans__n_clusters=17, total=   0.4s\n",
            "[CV] kmeans__n_clusters=18 ...........................................\n"
          ],
          "name": "stdout"
        },
        {
          "output_type": "stream",
          "text": [
            "/usr/local/lib/python3.6/dist-packages/sklearn/linear_model/_logistic.py:940: ConvergenceWarning: lbfgs failed to converge (status=1):\n",
            "STOP: TOTAL NO. of ITERATIONS REACHED LIMIT.\n",
            "\n",
            "Increase the number of iterations (max_iter) or scale the data as shown in:\n",
            "    https://scikit-learn.org/stable/modules/preprocessing.html\n",
            "Please also refer to the documentation for alternative solver options:\n",
            "    https://scikit-learn.org/stable/modules/linear_model.html#logistic-regression\n",
            "  extra_warning_msg=_LOGISTIC_SOLVER_CONVERGENCE_MSG)\n"
          ],
          "name": "stderr"
        },
        {
          "output_type": "stream",
          "text": [
            "[CV] ............................ kmeans__n_clusters=18, total=   0.5s\n",
            "[CV] kmeans__n_clusters=18 ...........................................\n"
          ],
          "name": "stdout"
        },
        {
          "output_type": "stream",
          "text": [
            "/usr/local/lib/python3.6/dist-packages/sklearn/linear_model/_logistic.py:940: ConvergenceWarning: lbfgs failed to converge (status=1):\n",
            "STOP: TOTAL NO. of ITERATIONS REACHED LIMIT.\n",
            "\n",
            "Increase the number of iterations (max_iter) or scale the data as shown in:\n",
            "    https://scikit-learn.org/stable/modules/preprocessing.html\n",
            "Please also refer to the documentation for alternative solver options:\n",
            "    https://scikit-learn.org/stable/modules/linear_model.html#logistic-regression\n",
            "  extra_warning_msg=_LOGISTIC_SOLVER_CONVERGENCE_MSG)\n"
          ],
          "name": "stderr"
        },
        {
          "output_type": "stream",
          "text": [
            "[CV] ............................ kmeans__n_clusters=18, total=   0.5s\n",
            "[CV] kmeans__n_clusters=18 ...........................................\n"
          ],
          "name": "stdout"
        },
        {
          "output_type": "stream",
          "text": [
            "/usr/local/lib/python3.6/dist-packages/sklearn/linear_model/_logistic.py:940: ConvergenceWarning: lbfgs failed to converge (status=1):\n",
            "STOP: TOTAL NO. of ITERATIONS REACHED LIMIT.\n",
            "\n",
            "Increase the number of iterations (max_iter) or scale the data as shown in:\n",
            "    https://scikit-learn.org/stable/modules/preprocessing.html\n",
            "Please also refer to the documentation for alternative solver options:\n",
            "    https://scikit-learn.org/stable/modules/linear_model.html#logistic-regression\n",
            "  extra_warning_msg=_LOGISTIC_SOLVER_CONVERGENCE_MSG)\n"
          ],
          "name": "stderr"
        },
        {
          "output_type": "stream",
          "text": [
            "[CV] ............................ kmeans__n_clusters=18, total=   0.4s\n",
            "[CV] kmeans__n_clusters=19 ...........................................\n"
          ],
          "name": "stdout"
        },
        {
          "output_type": "stream",
          "text": [
            "/usr/local/lib/python3.6/dist-packages/sklearn/linear_model/_logistic.py:940: ConvergenceWarning: lbfgs failed to converge (status=1):\n",
            "STOP: TOTAL NO. of ITERATIONS REACHED LIMIT.\n",
            "\n",
            "Increase the number of iterations (max_iter) or scale the data as shown in:\n",
            "    https://scikit-learn.org/stable/modules/preprocessing.html\n",
            "Please also refer to the documentation for alternative solver options:\n",
            "    https://scikit-learn.org/stable/modules/linear_model.html#logistic-regression\n",
            "  extra_warning_msg=_LOGISTIC_SOLVER_CONVERGENCE_MSG)\n"
          ],
          "name": "stderr"
        },
        {
          "output_type": "stream",
          "text": [
            "[CV] ............................ kmeans__n_clusters=19, total=   0.5s\n",
            "[CV] kmeans__n_clusters=19 ...........................................\n"
          ],
          "name": "stdout"
        },
        {
          "output_type": "stream",
          "text": [
            "/usr/local/lib/python3.6/dist-packages/sklearn/linear_model/_logistic.py:940: ConvergenceWarning: lbfgs failed to converge (status=1):\n",
            "STOP: TOTAL NO. of ITERATIONS REACHED LIMIT.\n",
            "\n",
            "Increase the number of iterations (max_iter) or scale the data as shown in:\n",
            "    https://scikit-learn.org/stable/modules/preprocessing.html\n",
            "Please also refer to the documentation for alternative solver options:\n",
            "    https://scikit-learn.org/stable/modules/linear_model.html#logistic-regression\n",
            "  extra_warning_msg=_LOGISTIC_SOLVER_CONVERGENCE_MSG)\n"
          ],
          "name": "stderr"
        },
        {
          "output_type": "stream",
          "text": [
            "[CV] ............................ kmeans__n_clusters=19, total=   0.5s\n",
            "[CV] kmeans__n_clusters=19 ...........................................\n"
          ],
          "name": "stdout"
        },
        {
          "output_type": "stream",
          "text": [
            "/usr/local/lib/python3.6/dist-packages/sklearn/linear_model/_logistic.py:940: ConvergenceWarning: lbfgs failed to converge (status=1):\n",
            "STOP: TOTAL NO. of ITERATIONS REACHED LIMIT.\n",
            "\n",
            "Increase the number of iterations (max_iter) or scale the data as shown in:\n",
            "    https://scikit-learn.org/stable/modules/preprocessing.html\n",
            "Please also refer to the documentation for alternative solver options:\n",
            "    https://scikit-learn.org/stable/modules/linear_model.html#logistic-regression\n",
            "  extra_warning_msg=_LOGISTIC_SOLVER_CONVERGENCE_MSG)\n"
          ],
          "name": "stderr"
        },
        {
          "output_type": "stream",
          "text": [
            "[CV] ............................ kmeans__n_clusters=19, total=   0.5s\n",
            "[CV] kmeans__n_clusters=20 ...........................................\n"
          ],
          "name": "stdout"
        },
        {
          "output_type": "stream",
          "text": [
            "/usr/local/lib/python3.6/dist-packages/sklearn/linear_model/_logistic.py:940: ConvergenceWarning: lbfgs failed to converge (status=1):\n",
            "STOP: TOTAL NO. of ITERATIONS REACHED LIMIT.\n",
            "\n",
            "Increase the number of iterations (max_iter) or scale the data as shown in:\n",
            "    https://scikit-learn.org/stable/modules/preprocessing.html\n",
            "Please also refer to the documentation for alternative solver options:\n",
            "    https://scikit-learn.org/stable/modules/linear_model.html#logistic-regression\n",
            "  extra_warning_msg=_LOGISTIC_SOLVER_CONVERGENCE_MSG)\n"
          ],
          "name": "stderr"
        },
        {
          "output_type": "stream",
          "text": [
            "[CV] ............................ kmeans__n_clusters=20, total=   0.5s\n",
            "[CV] kmeans__n_clusters=20 ...........................................\n"
          ],
          "name": "stdout"
        },
        {
          "output_type": "stream",
          "text": [
            "/usr/local/lib/python3.6/dist-packages/sklearn/linear_model/_logistic.py:940: ConvergenceWarning: lbfgs failed to converge (status=1):\n",
            "STOP: TOTAL NO. of ITERATIONS REACHED LIMIT.\n",
            "\n",
            "Increase the number of iterations (max_iter) or scale the data as shown in:\n",
            "    https://scikit-learn.org/stable/modules/preprocessing.html\n",
            "Please also refer to the documentation for alternative solver options:\n",
            "    https://scikit-learn.org/stable/modules/linear_model.html#logistic-regression\n",
            "  extra_warning_msg=_LOGISTIC_SOLVER_CONVERGENCE_MSG)\n"
          ],
          "name": "stderr"
        },
        {
          "output_type": "stream",
          "text": [
            "[CV] ............................ kmeans__n_clusters=20, total=   0.5s\n",
            "[CV] kmeans__n_clusters=20 ...........................................\n"
          ],
          "name": "stdout"
        },
        {
          "output_type": "stream",
          "text": [
            "/usr/local/lib/python3.6/dist-packages/sklearn/linear_model/_logistic.py:940: ConvergenceWarning: lbfgs failed to converge (status=1):\n",
            "STOP: TOTAL NO. of ITERATIONS REACHED LIMIT.\n",
            "\n",
            "Increase the number of iterations (max_iter) or scale the data as shown in:\n",
            "    https://scikit-learn.org/stable/modules/preprocessing.html\n",
            "Please also refer to the documentation for alternative solver options:\n",
            "    https://scikit-learn.org/stable/modules/linear_model.html#logistic-regression\n",
            "  extra_warning_msg=_LOGISTIC_SOLVER_CONVERGENCE_MSG)\n"
          ],
          "name": "stderr"
        },
        {
          "output_type": "stream",
          "text": [
            "[CV] ............................ kmeans__n_clusters=20, total=   0.5s\n",
            "[CV] kmeans__n_clusters=21 ...........................................\n"
          ],
          "name": "stdout"
        },
        {
          "output_type": "stream",
          "text": [
            "/usr/local/lib/python3.6/dist-packages/sklearn/linear_model/_logistic.py:940: ConvergenceWarning: lbfgs failed to converge (status=1):\n",
            "STOP: TOTAL NO. of ITERATIONS REACHED LIMIT.\n",
            "\n",
            "Increase the number of iterations (max_iter) or scale the data as shown in:\n",
            "    https://scikit-learn.org/stable/modules/preprocessing.html\n",
            "Please also refer to the documentation for alternative solver options:\n",
            "    https://scikit-learn.org/stable/modules/linear_model.html#logistic-regression\n",
            "  extra_warning_msg=_LOGISTIC_SOLVER_CONVERGENCE_MSG)\n"
          ],
          "name": "stderr"
        },
        {
          "output_type": "stream",
          "text": [
            "[CV] ............................ kmeans__n_clusters=21, total=   0.4s\n",
            "[CV] kmeans__n_clusters=21 ...........................................\n"
          ],
          "name": "stdout"
        },
        {
          "output_type": "stream",
          "text": [
            "/usr/local/lib/python3.6/dist-packages/sklearn/linear_model/_logistic.py:940: ConvergenceWarning: lbfgs failed to converge (status=1):\n",
            "STOP: TOTAL NO. of ITERATIONS REACHED LIMIT.\n",
            "\n",
            "Increase the number of iterations (max_iter) or scale the data as shown in:\n",
            "    https://scikit-learn.org/stable/modules/preprocessing.html\n",
            "Please also refer to the documentation for alternative solver options:\n",
            "    https://scikit-learn.org/stable/modules/linear_model.html#logistic-regression\n",
            "  extra_warning_msg=_LOGISTIC_SOLVER_CONVERGENCE_MSG)\n"
          ],
          "name": "stderr"
        },
        {
          "output_type": "stream",
          "text": [
            "[CV] ............................ kmeans__n_clusters=21, total=   0.5s\n",
            "[CV] kmeans__n_clusters=21 ...........................................\n"
          ],
          "name": "stdout"
        },
        {
          "output_type": "stream",
          "text": [
            "/usr/local/lib/python3.6/dist-packages/sklearn/linear_model/_logistic.py:940: ConvergenceWarning: lbfgs failed to converge (status=1):\n",
            "STOP: TOTAL NO. of ITERATIONS REACHED LIMIT.\n",
            "\n",
            "Increase the number of iterations (max_iter) or scale the data as shown in:\n",
            "    https://scikit-learn.org/stable/modules/preprocessing.html\n",
            "Please also refer to the documentation for alternative solver options:\n",
            "    https://scikit-learn.org/stable/modules/linear_model.html#logistic-regression\n",
            "  extra_warning_msg=_LOGISTIC_SOLVER_CONVERGENCE_MSG)\n"
          ],
          "name": "stderr"
        },
        {
          "output_type": "stream",
          "text": [
            "[CV] ............................ kmeans__n_clusters=21, total=   0.5s\n",
            "[CV] kmeans__n_clusters=22 ...........................................\n"
          ],
          "name": "stdout"
        },
        {
          "output_type": "stream",
          "text": [
            "/usr/local/lib/python3.6/dist-packages/sklearn/linear_model/_logistic.py:940: ConvergenceWarning: lbfgs failed to converge (status=1):\n",
            "STOP: TOTAL NO. of ITERATIONS REACHED LIMIT.\n",
            "\n",
            "Increase the number of iterations (max_iter) or scale the data as shown in:\n",
            "    https://scikit-learn.org/stable/modules/preprocessing.html\n",
            "Please also refer to the documentation for alternative solver options:\n",
            "    https://scikit-learn.org/stable/modules/linear_model.html#logistic-regression\n",
            "  extra_warning_msg=_LOGISTIC_SOLVER_CONVERGENCE_MSG)\n"
          ],
          "name": "stderr"
        },
        {
          "output_type": "stream",
          "text": [
            "[CV] ............................ kmeans__n_clusters=22, total=   0.5s\n",
            "[CV] kmeans__n_clusters=22 ...........................................\n"
          ],
          "name": "stdout"
        },
        {
          "output_type": "stream",
          "text": [
            "/usr/local/lib/python3.6/dist-packages/sklearn/linear_model/_logistic.py:940: ConvergenceWarning: lbfgs failed to converge (status=1):\n",
            "STOP: TOTAL NO. of ITERATIONS REACHED LIMIT.\n",
            "\n",
            "Increase the number of iterations (max_iter) or scale the data as shown in:\n",
            "    https://scikit-learn.org/stable/modules/preprocessing.html\n",
            "Please also refer to the documentation for alternative solver options:\n",
            "    https://scikit-learn.org/stable/modules/linear_model.html#logistic-regression\n",
            "  extra_warning_msg=_LOGISTIC_SOLVER_CONVERGENCE_MSG)\n"
          ],
          "name": "stderr"
        },
        {
          "output_type": "stream",
          "text": [
            "[CV] ............................ kmeans__n_clusters=22, total=   0.5s\n",
            "[CV] kmeans__n_clusters=22 ...........................................\n"
          ],
          "name": "stdout"
        },
        {
          "output_type": "stream",
          "text": [
            "/usr/local/lib/python3.6/dist-packages/sklearn/linear_model/_logistic.py:940: ConvergenceWarning: lbfgs failed to converge (status=1):\n",
            "STOP: TOTAL NO. of ITERATIONS REACHED LIMIT.\n",
            "\n",
            "Increase the number of iterations (max_iter) or scale the data as shown in:\n",
            "    https://scikit-learn.org/stable/modules/preprocessing.html\n",
            "Please also refer to the documentation for alternative solver options:\n",
            "    https://scikit-learn.org/stable/modules/linear_model.html#logistic-regression\n",
            "  extra_warning_msg=_LOGISTIC_SOLVER_CONVERGENCE_MSG)\n"
          ],
          "name": "stderr"
        },
        {
          "output_type": "stream",
          "text": [
            "[CV] ............................ kmeans__n_clusters=22, total=   0.5s\n",
            "[CV] kmeans__n_clusters=23 ...........................................\n"
          ],
          "name": "stdout"
        },
        {
          "output_type": "stream",
          "text": [
            "/usr/local/lib/python3.6/dist-packages/sklearn/linear_model/_logistic.py:940: ConvergenceWarning: lbfgs failed to converge (status=1):\n",
            "STOP: TOTAL NO. of ITERATIONS REACHED LIMIT.\n",
            "\n",
            "Increase the number of iterations (max_iter) or scale the data as shown in:\n",
            "    https://scikit-learn.org/stable/modules/preprocessing.html\n",
            "Please also refer to the documentation for alternative solver options:\n",
            "    https://scikit-learn.org/stable/modules/linear_model.html#logistic-regression\n",
            "  extra_warning_msg=_LOGISTIC_SOLVER_CONVERGENCE_MSG)\n"
          ],
          "name": "stderr"
        },
        {
          "output_type": "stream",
          "text": [
            "[CV] ............................ kmeans__n_clusters=23, total=   0.5s\n",
            "[CV] kmeans__n_clusters=23 ...........................................\n"
          ],
          "name": "stdout"
        },
        {
          "output_type": "stream",
          "text": [
            "/usr/local/lib/python3.6/dist-packages/sklearn/linear_model/_logistic.py:940: ConvergenceWarning: lbfgs failed to converge (status=1):\n",
            "STOP: TOTAL NO. of ITERATIONS REACHED LIMIT.\n",
            "\n",
            "Increase the number of iterations (max_iter) or scale the data as shown in:\n",
            "    https://scikit-learn.org/stable/modules/preprocessing.html\n",
            "Please also refer to the documentation for alternative solver options:\n",
            "    https://scikit-learn.org/stable/modules/linear_model.html#logistic-regression\n",
            "  extra_warning_msg=_LOGISTIC_SOLVER_CONVERGENCE_MSG)\n"
          ],
          "name": "stderr"
        },
        {
          "output_type": "stream",
          "text": [
            "[CV] ............................ kmeans__n_clusters=23, total=   0.5s\n",
            "[CV] kmeans__n_clusters=23 ...........................................\n"
          ],
          "name": "stdout"
        },
        {
          "output_type": "stream",
          "text": [
            "/usr/local/lib/python3.6/dist-packages/sklearn/linear_model/_logistic.py:940: ConvergenceWarning: lbfgs failed to converge (status=1):\n",
            "STOP: TOTAL NO. of ITERATIONS REACHED LIMIT.\n",
            "\n",
            "Increase the number of iterations (max_iter) or scale the data as shown in:\n",
            "    https://scikit-learn.org/stable/modules/preprocessing.html\n",
            "Please also refer to the documentation for alternative solver options:\n",
            "    https://scikit-learn.org/stable/modules/linear_model.html#logistic-regression\n",
            "  extra_warning_msg=_LOGISTIC_SOLVER_CONVERGENCE_MSG)\n"
          ],
          "name": "stderr"
        },
        {
          "output_type": "stream",
          "text": [
            "[CV] ............................ kmeans__n_clusters=23, total=   0.5s\n",
            "[CV] kmeans__n_clusters=24 ...........................................\n"
          ],
          "name": "stdout"
        },
        {
          "output_type": "stream",
          "text": [
            "/usr/local/lib/python3.6/dist-packages/sklearn/linear_model/_logistic.py:940: ConvergenceWarning: lbfgs failed to converge (status=1):\n",
            "STOP: TOTAL NO. of ITERATIONS REACHED LIMIT.\n",
            "\n",
            "Increase the number of iterations (max_iter) or scale the data as shown in:\n",
            "    https://scikit-learn.org/stable/modules/preprocessing.html\n",
            "Please also refer to the documentation for alternative solver options:\n",
            "    https://scikit-learn.org/stable/modules/linear_model.html#logistic-regression\n",
            "  extra_warning_msg=_LOGISTIC_SOLVER_CONVERGENCE_MSG)\n"
          ],
          "name": "stderr"
        },
        {
          "output_type": "stream",
          "text": [
            "[CV] ............................ kmeans__n_clusters=24, total=   0.5s\n",
            "[CV] kmeans__n_clusters=24 ...........................................\n"
          ],
          "name": "stdout"
        },
        {
          "output_type": "stream",
          "text": [
            "/usr/local/lib/python3.6/dist-packages/sklearn/linear_model/_logistic.py:940: ConvergenceWarning: lbfgs failed to converge (status=1):\n",
            "STOP: TOTAL NO. of ITERATIONS REACHED LIMIT.\n",
            "\n",
            "Increase the number of iterations (max_iter) or scale the data as shown in:\n",
            "    https://scikit-learn.org/stable/modules/preprocessing.html\n",
            "Please also refer to the documentation for alternative solver options:\n",
            "    https://scikit-learn.org/stable/modules/linear_model.html#logistic-regression\n",
            "  extra_warning_msg=_LOGISTIC_SOLVER_CONVERGENCE_MSG)\n"
          ],
          "name": "stderr"
        },
        {
          "output_type": "stream",
          "text": [
            "[CV] ............................ kmeans__n_clusters=24, total=   0.5s\n",
            "[CV] kmeans__n_clusters=24 ...........................................\n"
          ],
          "name": "stdout"
        },
        {
          "output_type": "stream",
          "text": [
            "/usr/local/lib/python3.6/dist-packages/sklearn/linear_model/_logistic.py:940: ConvergenceWarning: lbfgs failed to converge (status=1):\n",
            "STOP: TOTAL NO. of ITERATIONS REACHED LIMIT.\n",
            "\n",
            "Increase the number of iterations (max_iter) or scale the data as shown in:\n",
            "    https://scikit-learn.org/stable/modules/preprocessing.html\n",
            "Please also refer to the documentation for alternative solver options:\n",
            "    https://scikit-learn.org/stable/modules/linear_model.html#logistic-regression\n",
            "  extra_warning_msg=_LOGISTIC_SOLVER_CONVERGENCE_MSG)\n"
          ],
          "name": "stderr"
        },
        {
          "output_type": "stream",
          "text": [
            "[CV] ............................ kmeans__n_clusters=24, total=   0.5s\n",
            "[CV] kmeans__n_clusters=25 ...........................................\n"
          ],
          "name": "stdout"
        },
        {
          "output_type": "stream",
          "text": [
            "/usr/local/lib/python3.6/dist-packages/sklearn/linear_model/_logistic.py:940: ConvergenceWarning: lbfgs failed to converge (status=1):\n",
            "STOP: TOTAL NO. of ITERATIONS REACHED LIMIT.\n",
            "\n",
            "Increase the number of iterations (max_iter) or scale the data as shown in:\n",
            "    https://scikit-learn.org/stable/modules/preprocessing.html\n",
            "Please also refer to the documentation for alternative solver options:\n",
            "    https://scikit-learn.org/stable/modules/linear_model.html#logistic-regression\n",
            "  extra_warning_msg=_LOGISTIC_SOLVER_CONVERGENCE_MSG)\n"
          ],
          "name": "stderr"
        },
        {
          "output_type": "stream",
          "text": [
            "[CV] ............................ kmeans__n_clusters=25, total=   0.5s\n",
            "[CV] kmeans__n_clusters=25 ...........................................\n"
          ],
          "name": "stdout"
        },
        {
          "output_type": "stream",
          "text": [
            "/usr/local/lib/python3.6/dist-packages/sklearn/linear_model/_logistic.py:940: ConvergenceWarning: lbfgs failed to converge (status=1):\n",
            "STOP: TOTAL NO. of ITERATIONS REACHED LIMIT.\n",
            "\n",
            "Increase the number of iterations (max_iter) or scale the data as shown in:\n",
            "    https://scikit-learn.org/stable/modules/preprocessing.html\n",
            "Please also refer to the documentation for alternative solver options:\n",
            "    https://scikit-learn.org/stable/modules/linear_model.html#logistic-regression\n",
            "  extra_warning_msg=_LOGISTIC_SOLVER_CONVERGENCE_MSG)\n"
          ],
          "name": "stderr"
        },
        {
          "output_type": "stream",
          "text": [
            "[CV] ............................ kmeans__n_clusters=25, total=   0.5s\n",
            "[CV] kmeans__n_clusters=25 ...........................................\n"
          ],
          "name": "stdout"
        },
        {
          "output_type": "stream",
          "text": [
            "/usr/local/lib/python3.6/dist-packages/sklearn/linear_model/_logistic.py:940: ConvergenceWarning: lbfgs failed to converge (status=1):\n",
            "STOP: TOTAL NO. of ITERATIONS REACHED LIMIT.\n",
            "\n",
            "Increase the number of iterations (max_iter) or scale the data as shown in:\n",
            "    https://scikit-learn.org/stable/modules/preprocessing.html\n",
            "Please also refer to the documentation for alternative solver options:\n",
            "    https://scikit-learn.org/stable/modules/linear_model.html#logistic-regression\n",
            "  extra_warning_msg=_LOGISTIC_SOLVER_CONVERGENCE_MSG)\n"
          ],
          "name": "stderr"
        },
        {
          "output_type": "stream",
          "text": [
            "[CV] ............................ kmeans__n_clusters=25, total=   0.5s\n",
            "[CV] kmeans__n_clusters=26 ...........................................\n"
          ],
          "name": "stdout"
        },
        {
          "output_type": "stream",
          "text": [
            "/usr/local/lib/python3.6/dist-packages/sklearn/linear_model/_logistic.py:940: ConvergenceWarning: lbfgs failed to converge (status=1):\n",
            "STOP: TOTAL NO. of ITERATIONS REACHED LIMIT.\n",
            "\n",
            "Increase the number of iterations (max_iter) or scale the data as shown in:\n",
            "    https://scikit-learn.org/stable/modules/preprocessing.html\n",
            "Please also refer to the documentation for alternative solver options:\n",
            "    https://scikit-learn.org/stable/modules/linear_model.html#logistic-regression\n",
            "  extra_warning_msg=_LOGISTIC_SOLVER_CONVERGENCE_MSG)\n"
          ],
          "name": "stderr"
        },
        {
          "output_type": "stream",
          "text": [
            "[CV] ............................ kmeans__n_clusters=26, total=   0.5s\n",
            "[CV] kmeans__n_clusters=26 ...........................................\n"
          ],
          "name": "stdout"
        },
        {
          "output_type": "stream",
          "text": [
            "/usr/local/lib/python3.6/dist-packages/sklearn/linear_model/_logistic.py:940: ConvergenceWarning: lbfgs failed to converge (status=1):\n",
            "STOP: TOTAL NO. of ITERATIONS REACHED LIMIT.\n",
            "\n",
            "Increase the number of iterations (max_iter) or scale the data as shown in:\n",
            "    https://scikit-learn.org/stable/modules/preprocessing.html\n",
            "Please also refer to the documentation for alternative solver options:\n",
            "    https://scikit-learn.org/stable/modules/linear_model.html#logistic-regression\n",
            "  extra_warning_msg=_LOGISTIC_SOLVER_CONVERGENCE_MSG)\n"
          ],
          "name": "stderr"
        },
        {
          "output_type": "stream",
          "text": [
            "[CV] ............................ kmeans__n_clusters=26, total=   0.5s\n",
            "[CV] kmeans__n_clusters=26 ...........................................\n"
          ],
          "name": "stdout"
        },
        {
          "output_type": "stream",
          "text": [
            "/usr/local/lib/python3.6/dist-packages/sklearn/linear_model/_logistic.py:940: ConvergenceWarning: lbfgs failed to converge (status=1):\n",
            "STOP: TOTAL NO. of ITERATIONS REACHED LIMIT.\n",
            "\n",
            "Increase the number of iterations (max_iter) or scale the data as shown in:\n",
            "    https://scikit-learn.org/stable/modules/preprocessing.html\n",
            "Please also refer to the documentation for alternative solver options:\n",
            "    https://scikit-learn.org/stable/modules/linear_model.html#logistic-regression\n",
            "  extra_warning_msg=_LOGISTIC_SOLVER_CONVERGENCE_MSG)\n"
          ],
          "name": "stderr"
        },
        {
          "output_type": "stream",
          "text": [
            "[CV] ............................ kmeans__n_clusters=26, total=   0.5s\n",
            "[CV] kmeans__n_clusters=27 ...........................................\n"
          ],
          "name": "stdout"
        },
        {
          "output_type": "stream",
          "text": [
            "/usr/local/lib/python3.6/dist-packages/sklearn/linear_model/_logistic.py:940: ConvergenceWarning: lbfgs failed to converge (status=1):\n",
            "STOP: TOTAL NO. of ITERATIONS REACHED LIMIT.\n",
            "\n",
            "Increase the number of iterations (max_iter) or scale the data as shown in:\n",
            "    https://scikit-learn.org/stable/modules/preprocessing.html\n",
            "Please also refer to the documentation for alternative solver options:\n",
            "    https://scikit-learn.org/stable/modules/linear_model.html#logistic-regression\n",
            "  extra_warning_msg=_LOGISTIC_SOLVER_CONVERGENCE_MSG)\n"
          ],
          "name": "stderr"
        },
        {
          "output_type": "stream",
          "text": [
            "[CV] ............................ kmeans__n_clusters=27, total=   0.5s\n",
            "[CV] kmeans__n_clusters=27 ...........................................\n"
          ],
          "name": "stdout"
        },
        {
          "output_type": "stream",
          "text": [
            "/usr/local/lib/python3.6/dist-packages/sklearn/linear_model/_logistic.py:940: ConvergenceWarning: lbfgs failed to converge (status=1):\n",
            "STOP: TOTAL NO. of ITERATIONS REACHED LIMIT.\n",
            "\n",
            "Increase the number of iterations (max_iter) or scale the data as shown in:\n",
            "    https://scikit-learn.org/stable/modules/preprocessing.html\n",
            "Please also refer to the documentation for alternative solver options:\n",
            "    https://scikit-learn.org/stable/modules/linear_model.html#logistic-regression\n",
            "  extra_warning_msg=_LOGISTIC_SOLVER_CONVERGENCE_MSG)\n"
          ],
          "name": "stderr"
        },
        {
          "output_type": "stream",
          "text": [
            "[CV] ............................ kmeans__n_clusters=27, total=   0.5s\n",
            "[CV] kmeans__n_clusters=27 ...........................................\n"
          ],
          "name": "stdout"
        },
        {
          "output_type": "stream",
          "text": [
            "/usr/local/lib/python3.6/dist-packages/sklearn/linear_model/_logistic.py:940: ConvergenceWarning: lbfgs failed to converge (status=1):\n",
            "STOP: TOTAL NO. of ITERATIONS REACHED LIMIT.\n",
            "\n",
            "Increase the number of iterations (max_iter) or scale the data as shown in:\n",
            "    https://scikit-learn.org/stable/modules/preprocessing.html\n",
            "Please also refer to the documentation for alternative solver options:\n",
            "    https://scikit-learn.org/stable/modules/linear_model.html#logistic-regression\n",
            "  extra_warning_msg=_LOGISTIC_SOLVER_CONVERGENCE_MSG)\n"
          ],
          "name": "stderr"
        },
        {
          "output_type": "stream",
          "text": [
            "[CV] ............................ kmeans__n_clusters=27, total=   0.5s\n",
            "[CV] kmeans__n_clusters=28 ...........................................\n"
          ],
          "name": "stdout"
        },
        {
          "output_type": "stream",
          "text": [
            "/usr/local/lib/python3.6/dist-packages/sklearn/linear_model/_logistic.py:940: ConvergenceWarning: lbfgs failed to converge (status=1):\n",
            "STOP: TOTAL NO. of ITERATIONS REACHED LIMIT.\n",
            "\n",
            "Increase the number of iterations (max_iter) or scale the data as shown in:\n",
            "    https://scikit-learn.org/stable/modules/preprocessing.html\n",
            "Please also refer to the documentation for alternative solver options:\n",
            "    https://scikit-learn.org/stable/modules/linear_model.html#logistic-regression\n",
            "  extra_warning_msg=_LOGISTIC_SOLVER_CONVERGENCE_MSG)\n"
          ],
          "name": "stderr"
        },
        {
          "output_type": "stream",
          "text": [
            "[CV] ............................ kmeans__n_clusters=28, total=   0.6s\n",
            "[CV] kmeans__n_clusters=28 ...........................................\n"
          ],
          "name": "stdout"
        },
        {
          "output_type": "stream",
          "text": [
            "/usr/local/lib/python3.6/dist-packages/sklearn/linear_model/_logistic.py:940: ConvergenceWarning: lbfgs failed to converge (status=1):\n",
            "STOP: TOTAL NO. of ITERATIONS REACHED LIMIT.\n",
            "\n",
            "Increase the number of iterations (max_iter) or scale the data as shown in:\n",
            "    https://scikit-learn.org/stable/modules/preprocessing.html\n",
            "Please also refer to the documentation for alternative solver options:\n",
            "    https://scikit-learn.org/stable/modules/linear_model.html#logistic-regression\n",
            "  extra_warning_msg=_LOGISTIC_SOLVER_CONVERGENCE_MSG)\n"
          ],
          "name": "stderr"
        },
        {
          "output_type": "stream",
          "text": [
            "[CV] ............................ kmeans__n_clusters=28, total=   0.5s\n",
            "[CV] kmeans__n_clusters=28 ...........................................\n"
          ],
          "name": "stdout"
        },
        {
          "output_type": "stream",
          "text": [
            "/usr/local/lib/python3.6/dist-packages/sklearn/linear_model/_logistic.py:940: ConvergenceWarning: lbfgs failed to converge (status=1):\n",
            "STOP: TOTAL NO. of ITERATIONS REACHED LIMIT.\n",
            "\n",
            "Increase the number of iterations (max_iter) or scale the data as shown in:\n",
            "    https://scikit-learn.org/stable/modules/preprocessing.html\n",
            "Please also refer to the documentation for alternative solver options:\n",
            "    https://scikit-learn.org/stable/modules/linear_model.html#logistic-regression\n",
            "  extra_warning_msg=_LOGISTIC_SOLVER_CONVERGENCE_MSG)\n"
          ],
          "name": "stderr"
        },
        {
          "output_type": "stream",
          "text": [
            "[CV] ............................ kmeans__n_clusters=28, total=   0.6s\n",
            "[CV] kmeans__n_clusters=29 ...........................................\n"
          ],
          "name": "stdout"
        },
        {
          "output_type": "stream",
          "text": [
            "/usr/local/lib/python3.6/dist-packages/sklearn/linear_model/_logistic.py:940: ConvergenceWarning: lbfgs failed to converge (status=1):\n",
            "STOP: TOTAL NO. of ITERATIONS REACHED LIMIT.\n",
            "\n",
            "Increase the number of iterations (max_iter) or scale the data as shown in:\n",
            "    https://scikit-learn.org/stable/modules/preprocessing.html\n",
            "Please also refer to the documentation for alternative solver options:\n",
            "    https://scikit-learn.org/stable/modules/linear_model.html#logistic-regression\n",
            "  extra_warning_msg=_LOGISTIC_SOLVER_CONVERGENCE_MSG)\n"
          ],
          "name": "stderr"
        },
        {
          "output_type": "stream",
          "text": [
            "[CV] ............................ kmeans__n_clusters=29, total=   0.6s\n",
            "[CV] kmeans__n_clusters=29 ...........................................\n"
          ],
          "name": "stdout"
        },
        {
          "output_type": "stream",
          "text": [
            "/usr/local/lib/python3.6/dist-packages/sklearn/linear_model/_logistic.py:940: ConvergenceWarning: lbfgs failed to converge (status=1):\n",
            "STOP: TOTAL NO. of ITERATIONS REACHED LIMIT.\n",
            "\n",
            "Increase the number of iterations (max_iter) or scale the data as shown in:\n",
            "    https://scikit-learn.org/stable/modules/preprocessing.html\n",
            "Please also refer to the documentation for alternative solver options:\n",
            "    https://scikit-learn.org/stable/modules/linear_model.html#logistic-regression\n",
            "  extra_warning_msg=_LOGISTIC_SOLVER_CONVERGENCE_MSG)\n"
          ],
          "name": "stderr"
        },
        {
          "output_type": "stream",
          "text": [
            "[CV] ............................ kmeans__n_clusters=29, total=   0.5s\n",
            "[CV] kmeans__n_clusters=29 ...........................................\n"
          ],
          "name": "stdout"
        },
        {
          "output_type": "stream",
          "text": [
            "/usr/local/lib/python3.6/dist-packages/sklearn/linear_model/_logistic.py:940: ConvergenceWarning: lbfgs failed to converge (status=1):\n",
            "STOP: TOTAL NO. of ITERATIONS REACHED LIMIT.\n",
            "\n",
            "Increase the number of iterations (max_iter) or scale the data as shown in:\n",
            "    https://scikit-learn.org/stable/modules/preprocessing.html\n",
            "Please also refer to the documentation for alternative solver options:\n",
            "    https://scikit-learn.org/stable/modules/linear_model.html#logistic-regression\n",
            "  extra_warning_msg=_LOGISTIC_SOLVER_CONVERGENCE_MSG)\n"
          ],
          "name": "stderr"
        },
        {
          "output_type": "stream",
          "text": [
            "[CV] ............................ kmeans__n_clusters=29, total=   0.6s\n",
            "[CV] kmeans__n_clusters=30 ...........................................\n"
          ],
          "name": "stdout"
        },
        {
          "output_type": "stream",
          "text": [
            "/usr/local/lib/python3.6/dist-packages/sklearn/linear_model/_logistic.py:940: ConvergenceWarning: lbfgs failed to converge (status=1):\n",
            "STOP: TOTAL NO. of ITERATIONS REACHED LIMIT.\n",
            "\n",
            "Increase the number of iterations (max_iter) or scale the data as shown in:\n",
            "    https://scikit-learn.org/stable/modules/preprocessing.html\n",
            "Please also refer to the documentation for alternative solver options:\n",
            "    https://scikit-learn.org/stable/modules/linear_model.html#logistic-regression\n",
            "  extra_warning_msg=_LOGISTIC_SOLVER_CONVERGENCE_MSG)\n"
          ],
          "name": "stderr"
        },
        {
          "output_type": "stream",
          "text": [
            "[CV] ............................ kmeans__n_clusters=30, total=   0.6s\n",
            "[CV] kmeans__n_clusters=30 ...........................................\n"
          ],
          "name": "stdout"
        },
        {
          "output_type": "stream",
          "text": [
            "/usr/local/lib/python3.6/dist-packages/sklearn/linear_model/_logistic.py:940: ConvergenceWarning: lbfgs failed to converge (status=1):\n",
            "STOP: TOTAL NO. of ITERATIONS REACHED LIMIT.\n",
            "\n",
            "Increase the number of iterations (max_iter) or scale the data as shown in:\n",
            "    https://scikit-learn.org/stable/modules/preprocessing.html\n",
            "Please also refer to the documentation for alternative solver options:\n",
            "    https://scikit-learn.org/stable/modules/linear_model.html#logistic-regression\n",
            "  extra_warning_msg=_LOGISTIC_SOLVER_CONVERGENCE_MSG)\n"
          ],
          "name": "stderr"
        },
        {
          "output_type": "stream",
          "text": [
            "[CV] ............................ kmeans__n_clusters=30, total=   0.6s\n",
            "[CV] kmeans__n_clusters=30 ...........................................\n"
          ],
          "name": "stdout"
        },
        {
          "output_type": "stream",
          "text": [
            "/usr/local/lib/python3.6/dist-packages/sklearn/linear_model/_logistic.py:940: ConvergenceWarning: lbfgs failed to converge (status=1):\n",
            "STOP: TOTAL NO. of ITERATIONS REACHED LIMIT.\n",
            "\n",
            "Increase the number of iterations (max_iter) or scale the data as shown in:\n",
            "    https://scikit-learn.org/stable/modules/preprocessing.html\n",
            "Please also refer to the documentation for alternative solver options:\n",
            "    https://scikit-learn.org/stable/modules/linear_model.html#logistic-regression\n",
            "  extra_warning_msg=_LOGISTIC_SOLVER_CONVERGENCE_MSG)\n"
          ],
          "name": "stderr"
        },
        {
          "output_type": "stream",
          "text": [
            "[CV] ............................ kmeans__n_clusters=30, total=   0.6s\n",
            "[CV] kmeans__n_clusters=31 ...........................................\n"
          ],
          "name": "stdout"
        },
        {
          "output_type": "stream",
          "text": [
            "/usr/local/lib/python3.6/dist-packages/sklearn/linear_model/_logistic.py:940: ConvergenceWarning: lbfgs failed to converge (status=1):\n",
            "STOP: TOTAL NO. of ITERATIONS REACHED LIMIT.\n",
            "\n",
            "Increase the number of iterations (max_iter) or scale the data as shown in:\n",
            "    https://scikit-learn.org/stable/modules/preprocessing.html\n",
            "Please also refer to the documentation for alternative solver options:\n",
            "    https://scikit-learn.org/stable/modules/linear_model.html#logistic-regression\n",
            "  extra_warning_msg=_LOGISTIC_SOLVER_CONVERGENCE_MSG)\n"
          ],
          "name": "stderr"
        },
        {
          "output_type": "stream",
          "text": [
            "[CV] ............................ kmeans__n_clusters=31, total=   0.6s\n",
            "[CV] kmeans__n_clusters=31 ...........................................\n"
          ],
          "name": "stdout"
        },
        {
          "output_type": "stream",
          "text": [
            "/usr/local/lib/python3.6/dist-packages/sklearn/linear_model/_logistic.py:940: ConvergenceWarning: lbfgs failed to converge (status=1):\n",
            "STOP: TOTAL NO. of ITERATIONS REACHED LIMIT.\n",
            "\n",
            "Increase the number of iterations (max_iter) or scale the data as shown in:\n",
            "    https://scikit-learn.org/stable/modules/preprocessing.html\n",
            "Please also refer to the documentation for alternative solver options:\n",
            "    https://scikit-learn.org/stable/modules/linear_model.html#logistic-regression\n",
            "  extra_warning_msg=_LOGISTIC_SOLVER_CONVERGENCE_MSG)\n"
          ],
          "name": "stderr"
        },
        {
          "output_type": "stream",
          "text": [
            "[CV] ............................ kmeans__n_clusters=31, total=   0.6s\n",
            "[CV] kmeans__n_clusters=31 ...........................................\n"
          ],
          "name": "stdout"
        },
        {
          "output_type": "stream",
          "text": [
            "/usr/local/lib/python3.6/dist-packages/sklearn/linear_model/_logistic.py:940: ConvergenceWarning: lbfgs failed to converge (status=1):\n",
            "STOP: TOTAL NO. of ITERATIONS REACHED LIMIT.\n",
            "\n",
            "Increase the number of iterations (max_iter) or scale the data as shown in:\n",
            "    https://scikit-learn.org/stable/modules/preprocessing.html\n",
            "Please also refer to the documentation for alternative solver options:\n",
            "    https://scikit-learn.org/stable/modules/linear_model.html#logistic-regression\n",
            "  extra_warning_msg=_LOGISTIC_SOLVER_CONVERGENCE_MSG)\n"
          ],
          "name": "stderr"
        },
        {
          "output_type": "stream",
          "text": [
            "[CV] ............................ kmeans__n_clusters=31, total=   0.6s\n",
            "[CV] kmeans__n_clusters=32 ...........................................\n"
          ],
          "name": "stdout"
        },
        {
          "output_type": "stream",
          "text": [
            "/usr/local/lib/python3.6/dist-packages/sklearn/linear_model/_logistic.py:940: ConvergenceWarning: lbfgs failed to converge (status=1):\n",
            "STOP: TOTAL NO. of ITERATIONS REACHED LIMIT.\n",
            "\n",
            "Increase the number of iterations (max_iter) or scale the data as shown in:\n",
            "    https://scikit-learn.org/stable/modules/preprocessing.html\n",
            "Please also refer to the documentation for alternative solver options:\n",
            "    https://scikit-learn.org/stable/modules/linear_model.html#logistic-regression\n",
            "  extra_warning_msg=_LOGISTIC_SOLVER_CONVERGENCE_MSG)\n"
          ],
          "name": "stderr"
        },
        {
          "output_type": "stream",
          "text": [
            "[CV] ............................ kmeans__n_clusters=32, total=   0.6s\n",
            "[CV] kmeans__n_clusters=32 ...........................................\n"
          ],
          "name": "stdout"
        },
        {
          "output_type": "stream",
          "text": [
            "/usr/local/lib/python3.6/dist-packages/sklearn/linear_model/_logistic.py:940: ConvergenceWarning: lbfgs failed to converge (status=1):\n",
            "STOP: TOTAL NO. of ITERATIONS REACHED LIMIT.\n",
            "\n",
            "Increase the number of iterations (max_iter) or scale the data as shown in:\n",
            "    https://scikit-learn.org/stable/modules/preprocessing.html\n",
            "Please also refer to the documentation for alternative solver options:\n",
            "    https://scikit-learn.org/stable/modules/linear_model.html#logistic-regression\n",
            "  extra_warning_msg=_LOGISTIC_SOLVER_CONVERGENCE_MSG)\n"
          ],
          "name": "stderr"
        },
        {
          "output_type": "stream",
          "text": [
            "[CV] ............................ kmeans__n_clusters=32, total=   0.6s\n",
            "[CV] kmeans__n_clusters=32 ...........................................\n"
          ],
          "name": "stdout"
        },
        {
          "output_type": "stream",
          "text": [
            "/usr/local/lib/python3.6/dist-packages/sklearn/linear_model/_logistic.py:940: ConvergenceWarning: lbfgs failed to converge (status=1):\n",
            "STOP: TOTAL NO. of ITERATIONS REACHED LIMIT.\n",
            "\n",
            "Increase the number of iterations (max_iter) or scale the data as shown in:\n",
            "    https://scikit-learn.org/stable/modules/preprocessing.html\n",
            "Please also refer to the documentation for alternative solver options:\n",
            "    https://scikit-learn.org/stable/modules/linear_model.html#logistic-regression\n",
            "  extra_warning_msg=_LOGISTIC_SOLVER_CONVERGENCE_MSG)\n"
          ],
          "name": "stderr"
        },
        {
          "output_type": "stream",
          "text": [
            "[CV] ............................ kmeans__n_clusters=32, total=   0.6s\n",
            "[CV] kmeans__n_clusters=33 ...........................................\n"
          ],
          "name": "stdout"
        },
        {
          "output_type": "stream",
          "text": [
            "/usr/local/lib/python3.6/dist-packages/sklearn/linear_model/_logistic.py:940: ConvergenceWarning: lbfgs failed to converge (status=1):\n",
            "STOP: TOTAL NO. of ITERATIONS REACHED LIMIT.\n",
            "\n",
            "Increase the number of iterations (max_iter) or scale the data as shown in:\n",
            "    https://scikit-learn.org/stable/modules/preprocessing.html\n",
            "Please also refer to the documentation for alternative solver options:\n",
            "    https://scikit-learn.org/stable/modules/linear_model.html#logistic-regression\n",
            "  extra_warning_msg=_LOGISTIC_SOLVER_CONVERGENCE_MSG)\n"
          ],
          "name": "stderr"
        },
        {
          "output_type": "stream",
          "text": [
            "[CV] ............................ kmeans__n_clusters=33, total=   0.7s\n",
            "[CV] kmeans__n_clusters=33 ...........................................\n"
          ],
          "name": "stdout"
        },
        {
          "output_type": "stream",
          "text": [
            "/usr/local/lib/python3.6/dist-packages/sklearn/linear_model/_logistic.py:940: ConvergenceWarning: lbfgs failed to converge (status=1):\n",
            "STOP: TOTAL NO. of ITERATIONS REACHED LIMIT.\n",
            "\n",
            "Increase the number of iterations (max_iter) or scale the data as shown in:\n",
            "    https://scikit-learn.org/stable/modules/preprocessing.html\n",
            "Please also refer to the documentation for alternative solver options:\n",
            "    https://scikit-learn.org/stable/modules/linear_model.html#logistic-regression\n",
            "  extra_warning_msg=_LOGISTIC_SOLVER_CONVERGENCE_MSG)\n"
          ],
          "name": "stderr"
        },
        {
          "output_type": "stream",
          "text": [
            "[CV] ............................ kmeans__n_clusters=33, total=   0.6s\n",
            "[CV] kmeans__n_clusters=33 ...........................................\n"
          ],
          "name": "stdout"
        },
        {
          "output_type": "stream",
          "text": [
            "/usr/local/lib/python3.6/dist-packages/sklearn/linear_model/_logistic.py:940: ConvergenceWarning: lbfgs failed to converge (status=1):\n",
            "STOP: TOTAL NO. of ITERATIONS REACHED LIMIT.\n",
            "\n",
            "Increase the number of iterations (max_iter) or scale the data as shown in:\n",
            "    https://scikit-learn.org/stable/modules/preprocessing.html\n",
            "Please also refer to the documentation for alternative solver options:\n",
            "    https://scikit-learn.org/stable/modules/linear_model.html#logistic-regression\n",
            "  extra_warning_msg=_LOGISTIC_SOLVER_CONVERGENCE_MSG)\n"
          ],
          "name": "stderr"
        },
        {
          "output_type": "stream",
          "text": [
            "[CV] ............................ kmeans__n_clusters=33, total=   0.6s\n",
            "[CV] kmeans__n_clusters=34 ...........................................\n"
          ],
          "name": "stdout"
        },
        {
          "output_type": "stream",
          "text": [
            "/usr/local/lib/python3.6/dist-packages/sklearn/linear_model/_logistic.py:940: ConvergenceWarning: lbfgs failed to converge (status=1):\n",
            "STOP: TOTAL NO. of ITERATIONS REACHED LIMIT.\n",
            "\n",
            "Increase the number of iterations (max_iter) or scale the data as shown in:\n",
            "    https://scikit-learn.org/stable/modules/preprocessing.html\n",
            "Please also refer to the documentation for alternative solver options:\n",
            "    https://scikit-learn.org/stable/modules/linear_model.html#logistic-regression\n",
            "  extra_warning_msg=_LOGISTIC_SOLVER_CONVERGENCE_MSG)\n"
          ],
          "name": "stderr"
        },
        {
          "output_type": "stream",
          "text": [
            "[CV] ............................ kmeans__n_clusters=34, total=   0.6s\n",
            "[CV] kmeans__n_clusters=34 ...........................................\n"
          ],
          "name": "stdout"
        },
        {
          "output_type": "stream",
          "text": [
            "/usr/local/lib/python3.6/dist-packages/sklearn/linear_model/_logistic.py:940: ConvergenceWarning: lbfgs failed to converge (status=1):\n",
            "STOP: TOTAL NO. of ITERATIONS REACHED LIMIT.\n",
            "\n",
            "Increase the number of iterations (max_iter) or scale the data as shown in:\n",
            "    https://scikit-learn.org/stable/modules/preprocessing.html\n",
            "Please also refer to the documentation for alternative solver options:\n",
            "    https://scikit-learn.org/stable/modules/linear_model.html#logistic-regression\n",
            "  extra_warning_msg=_LOGISTIC_SOLVER_CONVERGENCE_MSG)\n"
          ],
          "name": "stderr"
        },
        {
          "output_type": "stream",
          "text": [
            "[CV] ............................ kmeans__n_clusters=34, total=   0.6s\n",
            "[CV] kmeans__n_clusters=34 ...........................................\n"
          ],
          "name": "stdout"
        },
        {
          "output_type": "stream",
          "text": [
            "/usr/local/lib/python3.6/dist-packages/sklearn/linear_model/_logistic.py:940: ConvergenceWarning: lbfgs failed to converge (status=1):\n",
            "STOP: TOTAL NO. of ITERATIONS REACHED LIMIT.\n",
            "\n",
            "Increase the number of iterations (max_iter) or scale the data as shown in:\n",
            "    https://scikit-learn.org/stable/modules/preprocessing.html\n",
            "Please also refer to the documentation for alternative solver options:\n",
            "    https://scikit-learn.org/stable/modules/linear_model.html#logistic-regression\n",
            "  extra_warning_msg=_LOGISTIC_SOLVER_CONVERGENCE_MSG)\n"
          ],
          "name": "stderr"
        },
        {
          "output_type": "stream",
          "text": [
            "[CV] ............................ kmeans__n_clusters=34, total=   0.6s\n",
            "[CV] kmeans__n_clusters=35 ...........................................\n"
          ],
          "name": "stdout"
        },
        {
          "output_type": "stream",
          "text": [
            "/usr/local/lib/python3.6/dist-packages/sklearn/linear_model/_logistic.py:940: ConvergenceWarning: lbfgs failed to converge (status=1):\n",
            "STOP: TOTAL NO. of ITERATIONS REACHED LIMIT.\n",
            "\n",
            "Increase the number of iterations (max_iter) or scale the data as shown in:\n",
            "    https://scikit-learn.org/stable/modules/preprocessing.html\n",
            "Please also refer to the documentation for alternative solver options:\n",
            "    https://scikit-learn.org/stable/modules/linear_model.html#logistic-regression\n",
            "  extra_warning_msg=_LOGISTIC_SOLVER_CONVERGENCE_MSG)\n"
          ],
          "name": "stderr"
        },
        {
          "output_type": "stream",
          "text": [
            "[CV] ............................ kmeans__n_clusters=35, total=   0.6s\n",
            "[CV] kmeans__n_clusters=35 ...........................................\n"
          ],
          "name": "stdout"
        },
        {
          "output_type": "stream",
          "text": [
            "/usr/local/lib/python3.6/dist-packages/sklearn/linear_model/_logistic.py:940: ConvergenceWarning: lbfgs failed to converge (status=1):\n",
            "STOP: TOTAL NO. of ITERATIONS REACHED LIMIT.\n",
            "\n",
            "Increase the number of iterations (max_iter) or scale the data as shown in:\n",
            "    https://scikit-learn.org/stable/modules/preprocessing.html\n",
            "Please also refer to the documentation for alternative solver options:\n",
            "    https://scikit-learn.org/stable/modules/linear_model.html#logistic-regression\n",
            "  extra_warning_msg=_LOGISTIC_SOLVER_CONVERGENCE_MSG)\n"
          ],
          "name": "stderr"
        },
        {
          "output_type": "stream",
          "text": [
            "[CV] ............................ kmeans__n_clusters=35, total=   0.6s\n",
            "[CV] kmeans__n_clusters=35 ...........................................\n"
          ],
          "name": "stdout"
        },
        {
          "output_type": "stream",
          "text": [
            "/usr/local/lib/python3.6/dist-packages/sklearn/linear_model/_logistic.py:940: ConvergenceWarning: lbfgs failed to converge (status=1):\n",
            "STOP: TOTAL NO. of ITERATIONS REACHED LIMIT.\n",
            "\n",
            "Increase the number of iterations (max_iter) or scale the data as shown in:\n",
            "    https://scikit-learn.org/stable/modules/preprocessing.html\n",
            "Please also refer to the documentation for alternative solver options:\n",
            "    https://scikit-learn.org/stable/modules/linear_model.html#logistic-regression\n",
            "  extra_warning_msg=_LOGISTIC_SOLVER_CONVERGENCE_MSG)\n"
          ],
          "name": "stderr"
        },
        {
          "output_type": "stream",
          "text": [
            "[CV] ............................ kmeans__n_clusters=35, total=   0.6s\n",
            "[CV] kmeans__n_clusters=36 ...........................................\n"
          ],
          "name": "stdout"
        },
        {
          "output_type": "stream",
          "text": [
            "/usr/local/lib/python3.6/dist-packages/sklearn/linear_model/_logistic.py:940: ConvergenceWarning: lbfgs failed to converge (status=1):\n",
            "STOP: TOTAL NO. of ITERATIONS REACHED LIMIT.\n",
            "\n",
            "Increase the number of iterations (max_iter) or scale the data as shown in:\n",
            "    https://scikit-learn.org/stable/modules/preprocessing.html\n",
            "Please also refer to the documentation for alternative solver options:\n",
            "    https://scikit-learn.org/stable/modules/linear_model.html#logistic-regression\n",
            "  extra_warning_msg=_LOGISTIC_SOLVER_CONVERGENCE_MSG)\n"
          ],
          "name": "stderr"
        },
        {
          "output_type": "stream",
          "text": [
            "[CV] ............................ kmeans__n_clusters=36, total=   0.6s\n",
            "[CV] kmeans__n_clusters=36 ...........................................\n"
          ],
          "name": "stdout"
        },
        {
          "output_type": "stream",
          "text": [
            "/usr/local/lib/python3.6/dist-packages/sklearn/linear_model/_logistic.py:940: ConvergenceWarning: lbfgs failed to converge (status=1):\n",
            "STOP: TOTAL NO. of ITERATIONS REACHED LIMIT.\n",
            "\n",
            "Increase the number of iterations (max_iter) or scale the data as shown in:\n",
            "    https://scikit-learn.org/stable/modules/preprocessing.html\n",
            "Please also refer to the documentation for alternative solver options:\n",
            "    https://scikit-learn.org/stable/modules/linear_model.html#logistic-regression\n",
            "  extra_warning_msg=_LOGISTIC_SOLVER_CONVERGENCE_MSG)\n"
          ],
          "name": "stderr"
        },
        {
          "output_type": "stream",
          "text": [
            "[CV] ............................ kmeans__n_clusters=36, total=   0.6s\n",
            "[CV] kmeans__n_clusters=36 ...........................................\n"
          ],
          "name": "stdout"
        },
        {
          "output_type": "stream",
          "text": [
            "/usr/local/lib/python3.6/dist-packages/sklearn/linear_model/_logistic.py:940: ConvergenceWarning: lbfgs failed to converge (status=1):\n",
            "STOP: TOTAL NO. of ITERATIONS REACHED LIMIT.\n",
            "\n",
            "Increase the number of iterations (max_iter) or scale the data as shown in:\n",
            "    https://scikit-learn.org/stable/modules/preprocessing.html\n",
            "Please also refer to the documentation for alternative solver options:\n",
            "    https://scikit-learn.org/stable/modules/linear_model.html#logistic-regression\n",
            "  extra_warning_msg=_LOGISTIC_SOLVER_CONVERGENCE_MSG)\n"
          ],
          "name": "stderr"
        },
        {
          "output_type": "stream",
          "text": [
            "[CV] ............................ kmeans__n_clusters=36, total=   0.6s\n",
            "[CV] kmeans__n_clusters=37 ...........................................\n"
          ],
          "name": "stdout"
        },
        {
          "output_type": "stream",
          "text": [
            "/usr/local/lib/python3.6/dist-packages/sklearn/linear_model/_logistic.py:940: ConvergenceWarning: lbfgs failed to converge (status=1):\n",
            "STOP: TOTAL NO. of ITERATIONS REACHED LIMIT.\n",
            "\n",
            "Increase the number of iterations (max_iter) or scale the data as shown in:\n",
            "    https://scikit-learn.org/stable/modules/preprocessing.html\n",
            "Please also refer to the documentation for alternative solver options:\n",
            "    https://scikit-learn.org/stable/modules/linear_model.html#logistic-regression\n",
            "  extra_warning_msg=_LOGISTIC_SOLVER_CONVERGENCE_MSG)\n"
          ],
          "name": "stderr"
        },
        {
          "output_type": "stream",
          "text": [
            "[CV] ............................ kmeans__n_clusters=37, total=   0.6s\n",
            "[CV] kmeans__n_clusters=37 ...........................................\n"
          ],
          "name": "stdout"
        },
        {
          "output_type": "stream",
          "text": [
            "/usr/local/lib/python3.6/dist-packages/sklearn/linear_model/_logistic.py:940: ConvergenceWarning: lbfgs failed to converge (status=1):\n",
            "STOP: TOTAL NO. of ITERATIONS REACHED LIMIT.\n",
            "\n",
            "Increase the number of iterations (max_iter) or scale the data as shown in:\n",
            "    https://scikit-learn.org/stable/modules/preprocessing.html\n",
            "Please also refer to the documentation for alternative solver options:\n",
            "    https://scikit-learn.org/stable/modules/linear_model.html#logistic-regression\n",
            "  extra_warning_msg=_LOGISTIC_SOLVER_CONVERGENCE_MSG)\n"
          ],
          "name": "stderr"
        },
        {
          "output_type": "stream",
          "text": [
            "[CV] ............................ kmeans__n_clusters=37, total=   0.6s\n",
            "[CV] kmeans__n_clusters=37 ...........................................\n"
          ],
          "name": "stdout"
        },
        {
          "output_type": "stream",
          "text": [
            "/usr/local/lib/python3.6/dist-packages/sklearn/linear_model/_logistic.py:940: ConvergenceWarning: lbfgs failed to converge (status=1):\n",
            "STOP: TOTAL NO. of ITERATIONS REACHED LIMIT.\n",
            "\n",
            "Increase the number of iterations (max_iter) or scale the data as shown in:\n",
            "    https://scikit-learn.org/stable/modules/preprocessing.html\n",
            "Please also refer to the documentation for alternative solver options:\n",
            "    https://scikit-learn.org/stable/modules/linear_model.html#logistic-regression\n",
            "  extra_warning_msg=_LOGISTIC_SOLVER_CONVERGENCE_MSG)\n"
          ],
          "name": "stderr"
        },
        {
          "output_type": "stream",
          "text": [
            "[CV] ............................ kmeans__n_clusters=37, total=   0.7s\n",
            "[CV] kmeans__n_clusters=38 ...........................................\n"
          ],
          "name": "stdout"
        },
        {
          "output_type": "stream",
          "text": [
            "/usr/local/lib/python3.6/dist-packages/sklearn/linear_model/_logistic.py:940: ConvergenceWarning: lbfgs failed to converge (status=1):\n",
            "STOP: TOTAL NO. of ITERATIONS REACHED LIMIT.\n",
            "\n",
            "Increase the number of iterations (max_iter) or scale the data as shown in:\n",
            "    https://scikit-learn.org/stable/modules/preprocessing.html\n",
            "Please also refer to the documentation for alternative solver options:\n",
            "    https://scikit-learn.org/stable/modules/linear_model.html#logistic-regression\n",
            "  extra_warning_msg=_LOGISTIC_SOLVER_CONVERGENCE_MSG)\n"
          ],
          "name": "stderr"
        },
        {
          "output_type": "stream",
          "text": [
            "[CV] ............................ kmeans__n_clusters=38, total=   0.6s\n",
            "[CV] kmeans__n_clusters=38 ...........................................\n"
          ],
          "name": "stdout"
        },
        {
          "output_type": "stream",
          "text": [
            "/usr/local/lib/python3.6/dist-packages/sklearn/linear_model/_logistic.py:940: ConvergenceWarning: lbfgs failed to converge (status=1):\n",
            "STOP: TOTAL NO. of ITERATIONS REACHED LIMIT.\n",
            "\n",
            "Increase the number of iterations (max_iter) or scale the data as shown in:\n",
            "    https://scikit-learn.org/stable/modules/preprocessing.html\n",
            "Please also refer to the documentation for alternative solver options:\n",
            "    https://scikit-learn.org/stable/modules/linear_model.html#logistic-regression\n",
            "  extra_warning_msg=_LOGISTIC_SOLVER_CONVERGENCE_MSG)\n"
          ],
          "name": "stderr"
        },
        {
          "output_type": "stream",
          "text": [
            "[CV] ............................ kmeans__n_clusters=38, total=   0.6s\n",
            "[CV] kmeans__n_clusters=38 ...........................................\n"
          ],
          "name": "stdout"
        },
        {
          "output_type": "stream",
          "text": [
            "/usr/local/lib/python3.6/dist-packages/sklearn/linear_model/_logistic.py:940: ConvergenceWarning: lbfgs failed to converge (status=1):\n",
            "STOP: TOTAL NO. of ITERATIONS REACHED LIMIT.\n",
            "\n",
            "Increase the number of iterations (max_iter) or scale the data as shown in:\n",
            "    https://scikit-learn.org/stable/modules/preprocessing.html\n",
            "Please also refer to the documentation for alternative solver options:\n",
            "    https://scikit-learn.org/stable/modules/linear_model.html#logistic-regression\n",
            "  extra_warning_msg=_LOGISTIC_SOLVER_CONVERGENCE_MSG)\n"
          ],
          "name": "stderr"
        },
        {
          "output_type": "stream",
          "text": [
            "[CV] ............................ kmeans__n_clusters=38, total=   0.7s\n",
            "[CV] kmeans__n_clusters=39 ...........................................\n"
          ],
          "name": "stdout"
        },
        {
          "output_type": "stream",
          "text": [
            "/usr/local/lib/python3.6/dist-packages/sklearn/linear_model/_logistic.py:940: ConvergenceWarning: lbfgs failed to converge (status=1):\n",
            "STOP: TOTAL NO. of ITERATIONS REACHED LIMIT.\n",
            "\n",
            "Increase the number of iterations (max_iter) or scale the data as shown in:\n",
            "    https://scikit-learn.org/stable/modules/preprocessing.html\n",
            "Please also refer to the documentation for alternative solver options:\n",
            "    https://scikit-learn.org/stable/modules/linear_model.html#logistic-regression\n",
            "  extra_warning_msg=_LOGISTIC_SOLVER_CONVERGENCE_MSG)\n"
          ],
          "name": "stderr"
        },
        {
          "output_type": "stream",
          "text": [
            "[CV] ............................ kmeans__n_clusters=39, total=   0.6s\n",
            "[CV] kmeans__n_clusters=39 ...........................................\n"
          ],
          "name": "stdout"
        },
        {
          "output_type": "stream",
          "text": [
            "/usr/local/lib/python3.6/dist-packages/sklearn/linear_model/_logistic.py:940: ConvergenceWarning: lbfgs failed to converge (status=1):\n",
            "STOP: TOTAL NO. of ITERATIONS REACHED LIMIT.\n",
            "\n",
            "Increase the number of iterations (max_iter) or scale the data as shown in:\n",
            "    https://scikit-learn.org/stable/modules/preprocessing.html\n",
            "Please also refer to the documentation for alternative solver options:\n",
            "    https://scikit-learn.org/stable/modules/linear_model.html#logistic-regression\n",
            "  extra_warning_msg=_LOGISTIC_SOLVER_CONVERGENCE_MSG)\n"
          ],
          "name": "stderr"
        },
        {
          "output_type": "stream",
          "text": [
            "[CV] ............................ kmeans__n_clusters=39, total=   0.7s\n",
            "[CV] kmeans__n_clusters=39 ...........................................\n"
          ],
          "name": "stdout"
        },
        {
          "output_type": "stream",
          "text": [
            "/usr/local/lib/python3.6/dist-packages/sklearn/linear_model/_logistic.py:940: ConvergenceWarning: lbfgs failed to converge (status=1):\n",
            "STOP: TOTAL NO. of ITERATIONS REACHED LIMIT.\n",
            "\n",
            "Increase the number of iterations (max_iter) or scale the data as shown in:\n",
            "    https://scikit-learn.org/stable/modules/preprocessing.html\n",
            "Please also refer to the documentation for alternative solver options:\n",
            "    https://scikit-learn.org/stable/modules/linear_model.html#logistic-regression\n",
            "  extra_warning_msg=_LOGISTIC_SOLVER_CONVERGENCE_MSG)\n"
          ],
          "name": "stderr"
        },
        {
          "output_type": "stream",
          "text": [
            "[CV] ............................ kmeans__n_clusters=39, total=   0.7s\n",
            "[CV] kmeans__n_clusters=40 ...........................................\n"
          ],
          "name": "stdout"
        },
        {
          "output_type": "stream",
          "text": [
            "/usr/local/lib/python3.6/dist-packages/sklearn/linear_model/_logistic.py:940: ConvergenceWarning: lbfgs failed to converge (status=1):\n",
            "STOP: TOTAL NO. of ITERATIONS REACHED LIMIT.\n",
            "\n",
            "Increase the number of iterations (max_iter) or scale the data as shown in:\n",
            "    https://scikit-learn.org/stable/modules/preprocessing.html\n",
            "Please also refer to the documentation for alternative solver options:\n",
            "    https://scikit-learn.org/stable/modules/linear_model.html#logistic-regression\n",
            "  extra_warning_msg=_LOGISTIC_SOLVER_CONVERGENCE_MSG)\n"
          ],
          "name": "stderr"
        },
        {
          "output_type": "stream",
          "text": [
            "[CV] ............................ kmeans__n_clusters=40, total=   0.7s\n",
            "[CV] kmeans__n_clusters=40 ...........................................\n"
          ],
          "name": "stdout"
        },
        {
          "output_type": "stream",
          "text": [
            "/usr/local/lib/python3.6/dist-packages/sklearn/linear_model/_logistic.py:940: ConvergenceWarning: lbfgs failed to converge (status=1):\n",
            "STOP: TOTAL NO. of ITERATIONS REACHED LIMIT.\n",
            "\n",
            "Increase the number of iterations (max_iter) or scale the data as shown in:\n",
            "    https://scikit-learn.org/stable/modules/preprocessing.html\n",
            "Please also refer to the documentation for alternative solver options:\n",
            "    https://scikit-learn.org/stable/modules/linear_model.html#logistic-regression\n",
            "  extra_warning_msg=_LOGISTIC_SOLVER_CONVERGENCE_MSG)\n"
          ],
          "name": "stderr"
        },
        {
          "output_type": "stream",
          "text": [
            "[CV] ............................ kmeans__n_clusters=40, total=   0.7s\n",
            "[CV] kmeans__n_clusters=40 ...........................................\n"
          ],
          "name": "stdout"
        },
        {
          "output_type": "stream",
          "text": [
            "/usr/local/lib/python3.6/dist-packages/sklearn/linear_model/_logistic.py:940: ConvergenceWarning: lbfgs failed to converge (status=1):\n",
            "STOP: TOTAL NO. of ITERATIONS REACHED LIMIT.\n",
            "\n",
            "Increase the number of iterations (max_iter) or scale the data as shown in:\n",
            "    https://scikit-learn.org/stable/modules/preprocessing.html\n",
            "Please also refer to the documentation for alternative solver options:\n",
            "    https://scikit-learn.org/stable/modules/linear_model.html#logistic-regression\n",
            "  extra_warning_msg=_LOGISTIC_SOLVER_CONVERGENCE_MSG)\n"
          ],
          "name": "stderr"
        },
        {
          "output_type": "stream",
          "text": [
            "[CV] ............................ kmeans__n_clusters=40, total=   0.7s\n",
            "[CV] kmeans__n_clusters=41 ...........................................\n"
          ],
          "name": "stdout"
        },
        {
          "output_type": "stream",
          "text": [
            "/usr/local/lib/python3.6/dist-packages/sklearn/linear_model/_logistic.py:940: ConvergenceWarning: lbfgs failed to converge (status=1):\n",
            "STOP: TOTAL NO. of ITERATIONS REACHED LIMIT.\n",
            "\n",
            "Increase the number of iterations (max_iter) or scale the data as shown in:\n",
            "    https://scikit-learn.org/stable/modules/preprocessing.html\n",
            "Please also refer to the documentation for alternative solver options:\n",
            "    https://scikit-learn.org/stable/modules/linear_model.html#logistic-regression\n",
            "  extra_warning_msg=_LOGISTIC_SOLVER_CONVERGENCE_MSG)\n"
          ],
          "name": "stderr"
        },
        {
          "output_type": "stream",
          "text": [
            "[CV] ............................ kmeans__n_clusters=41, total=   0.7s\n",
            "[CV] kmeans__n_clusters=41 ...........................................\n"
          ],
          "name": "stdout"
        },
        {
          "output_type": "stream",
          "text": [
            "/usr/local/lib/python3.6/dist-packages/sklearn/linear_model/_logistic.py:940: ConvergenceWarning: lbfgs failed to converge (status=1):\n",
            "STOP: TOTAL NO. of ITERATIONS REACHED LIMIT.\n",
            "\n",
            "Increase the number of iterations (max_iter) or scale the data as shown in:\n",
            "    https://scikit-learn.org/stable/modules/preprocessing.html\n",
            "Please also refer to the documentation for alternative solver options:\n",
            "    https://scikit-learn.org/stable/modules/linear_model.html#logistic-regression\n",
            "  extra_warning_msg=_LOGISTIC_SOLVER_CONVERGENCE_MSG)\n"
          ],
          "name": "stderr"
        },
        {
          "output_type": "stream",
          "text": [
            "[CV] ............................ kmeans__n_clusters=41, total=   0.7s\n",
            "[CV] kmeans__n_clusters=41 ...........................................\n"
          ],
          "name": "stdout"
        },
        {
          "output_type": "stream",
          "text": [
            "/usr/local/lib/python3.6/dist-packages/sklearn/linear_model/_logistic.py:940: ConvergenceWarning: lbfgs failed to converge (status=1):\n",
            "STOP: TOTAL NO. of ITERATIONS REACHED LIMIT.\n",
            "\n",
            "Increase the number of iterations (max_iter) or scale the data as shown in:\n",
            "    https://scikit-learn.org/stable/modules/preprocessing.html\n",
            "Please also refer to the documentation for alternative solver options:\n",
            "    https://scikit-learn.org/stable/modules/linear_model.html#logistic-regression\n",
            "  extra_warning_msg=_LOGISTIC_SOLVER_CONVERGENCE_MSG)\n"
          ],
          "name": "stderr"
        },
        {
          "output_type": "stream",
          "text": [
            "[CV] ............................ kmeans__n_clusters=41, total=   0.7s\n",
            "[CV] kmeans__n_clusters=42 ...........................................\n"
          ],
          "name": "stdout"
        },
        {
          "output_type": "stream",
          "text": [
            "/usr/local/lib/python3.6/dist-packages/sklearn/linear_model/_logistic.py:940: ConvergenceWarning: lbfgs failed to converge (status=1):\n",
            "STOP: TOTAL NO. of ITERATIONS REACHED LIMIT.\n",
            "\n",
            "Increase the number of iterations (max_iter) or scale the data as shown in:\n",
            "    https://scikit-learn.org/stable/modules/preprocessing.html\n",
            "Please also refer to the documentation for alternative solver options:\n",
            "    https://scikit-learn.org/stable/modules/linear_model.html#logistic-regression\n",
            "  extra_warning_msg=_LOGISTIC_SOLVER_CONVERGENCE_MSG)\n"
          ],
          "name": "stderr"
        },
        {
          "output_type": "stream",
          "text": [
            "[CV] ............................ kmeans__n_clusters=42, total=   0.7s\n",
            "[CV] kmeans__n_clusters=42 ...........................................\n"
          ],
          "name": "stdout"
        },
        {
          "output_type": "stream",
          "text": [
            "/usr/local/lib/python3.6/dist-packages/sklearn/linear_model/_logistic.py:940: ConvergenceWarning: lbfgs failed to converge (status=1):\n",
            "STOP: TOTAL NO. of ITERATIONS REACHED LIMIT.\n",
            "\n",
            "Increase the number of iterations (max_iter) or scale the data as shown in:\n",
            "    https://scikit-learn.org/stable/modules/preprocessing.html\n",
            "Please also refer to the documentation for alternative solver options:\n",
            "    https://scikit-learn.org/stable/modules/linear_model.html#logistic-regression\n",
            "  extra_warning_msg=_LOGISTIC_SOLVER_CONVERGENCE_MSG)\n"
          ],
          "name": "stderr"
        },
        {
          "output_type": "stream",
          "text": [
            "[CV] ............................ kmeans__n_clusters=42, total=   0.7s\n",
            "[CV] kmeans__n_clusters=42 ...........................................\n"
          ],
          "name": "stdout"
        },
        {
          "output_type": "stream",
          "text": [
            "/usr/local/lib/python3.6/dist-packages/sklearn/linear_model/_logistic.py:940: ConvergenceWarning: lbfgs failed to converge (status=1):\n",
            "STOP: TOTAL NO. of ITERATIONS REACHED LIMIT.\n",
            "\n",
            "Increase the number of iterations (max_iter) or scale the data as shown in:\n",
            "    https://scikit-learn.org/stable/modules/preprocessing.html\n",
            "Please also refer to the documentation for alternative solver options:\n",
            "    https://scikit-learn.org/stable/modules/linear_model.html#logistic-regression\n",
            "  extra_warning_msg=_LOGISTIC_SOLVER_CONVERGENCE_MSG)\n"
          ],
          "name": "stderr"
        },
        {
          "output_type": "stream",
          "text": [
            "[CV] ............................ kmeans__n_clusters=42, total=   0.7s\n",
            "[CV] kmeans__n_clusters=43 ...........................................\n"
          ],
          "name": "stdout"
        },
        {
          "output_type": "stream",
          "text": [
            "/usr/local/lib/python3.6/dist-packages/sklearn/linear_model/_logistic.py:940: ConvergenceWarning: lbfgs failed to converge (status=1):\n",
            "STOP: TOTAL NO. of ITERATIONS REACHED LIMIT.\n",
            "\n",
            "Increase the number of iterations (max_iter) or scale the data as shown in:\n",
            "    https://scikit-learn.org/stable/modules/preprocessing.html\n",
            "Please also refer to the documentation for alternative solver options:\n",
            "    https://scikit-learn.org/stable/modules/linear_model.html#logistic-regression\n",
            "  extra_warning_msg=_LOGISTIC_SOLVER_CONVERGENCE_MSG)\n"
          ],
          "name": "stderr"
        },
        {
          "output_type": "stream",
          "text": [
            "[CV] ............................ kmeans__n_clusters=43, total=   0.7s\n",
            "[CV] kmeans__n_clusters=43 ...........................................\n"
          ],
          "name": "stdout"
        },
        {
          "output_type": "stream",
          "text": [
            "/usr/local/lib/python3.6/dist-packages/sklearn/linear_model/_logistic.py:940: ConvergenceWarning: lbfgs failed to converge (status=1):\n",
            "STOP: TOTAL NO. of ITERATIONS REACHED LIMIT.\n",
            "\n",
            "Increase the number of iterations (max_iter) or scale the data as shown in:\n",
            "    https://scikit-learn.org/stable/modules/preprocessing.html\n",
            "Please also refer to the documentation for alternative solver options:\n",
            "    https://scikit-learn.org/stable/modules/linear_model.html#logistic-regression\n",
            "  extra_warning_msg=_LOGISTIC_SOLVER_CONVERGENCE_MSG)\n"
          ],
          "name": "stderr"
        },
        {
          "output_type": "stream",
          "text": [
            "[CV] ............................ kmeans__n_clusters=43, total=   0.7s\n",
            "[CV] kmeans__n_clusters=43 ...........................................\n"
          ],
          "name": "stdout"
        },
        {
          "output_type": "stream",
          "text": [
            "/usr/local/lib/python3.6/dist-packages/sklearn/linear_model/_logistic.py:940: ConvergenceWarning: lbfgs failed to converge (status=1):\n",
            "STOP: TOTAL NO. of ITERATIONS REACHED LIMIT.\n",
            "\n",
            "Increase the number of iterations (max_iter) or scale the data as shown in:\n",
            "    https://scikit-learn.org/stable/modules/preprocessing.html\n",
            "Please also refer to the documentation for alternative solver options:\n",
            "    https://scikit-learn.org/stable/modules/linear_model.html#logistic-regression\n",
            "  extra_warning_msg=_LOGISTIC_SOLVER_CONVERGENCE_MSG)\n"
          ],
          "name": "stderr"
        },
        {
          "output_type": "stream",
          "text": [
            "[CV] ............................ kmeans__n_clusters=43, total=   0.7s\n",
            "[CV] kmeans__n_clusters=44 ...........................................\n"
          ],
          "name": "stdout"
        },
        {
          "output_type": "stream",
          "text": [
            "/usr/local/lib/python3.6/dist-packages/sklearn/linear_model/_logistic.py:940: ConvergenceWarning: lbfgs failed to converge (status=1):\n",
            "STOP: TOTAL NO. of ITERATIONS REACHED LIMIT.\n",
            "\n",
            "Increase the number of iterations (max_iter) or scale the data as shown in:\n",
            "    https://scikit-learn.org/stable/modules/preprocessing.html\n",
            "Please also refer to the documentation for alternative solver options:\n",
            "    https://scikit-learn.org/stable/modules/linear_model.html#logistic-regression\n",
            "  extra_warning_msg=_LOGISTIC_SOLVER_CONVERGENCE_MSG)\n"
          ],
          "name": "stderr"
        },
        {
          "output_type": "stream",
          "text": [
            "[CV] ............................ kmeans__n_clusters=44, total=   0.7s\n",
            "[CV] kmeans__n_clusters=44 ...........................................\n"
          ],
          "name": "stdout"
        },
        {
          "output_type": "stream",
          "text": [
            "/usr/local/lib/python3.6/dist-packages/sklearn/linear_model/_logistic.py:940: ConvergenceWarning: lbfgs failed to converge (status=1):\n",
            "STOP: TOTAL NO. of ITERATIONS REACHED LIMIT.\n",
            "\n",
            "Increase the number of iterations (max_iter) or scale the data as shown in:\n",
            "    https://scikit-learn.org/stable/modules/preprocessing.html\n",
            "Please also refer to the documentation for alternative solver options:\n",
            "    https://scikit-learn.org/stable/modules/linear_model.html#logistic-regression\n",
            "  extra_warning_msg=_LOGISTIC_SOLVER_CONVERGENCE_MSG)\n"
          ],
          "name": "stderr"
        },
        {
          "output_type": "stream",
          "text": [
            "[CV] ............................ kmeans__n_clusters=44, total=   0.7s\n",
            "[CV] kmeans__n_clusters=44 ...........................................\n"
          ],
          "name": "stdout"
        },
        {
          "output_type": "stream",
          "text": [
            "/usr/local/lib/python3.6/dist-packages/sklearn/linear_model/_logistic.py:940: ConvergenceWarning: lbfgs failed to converge (status=1):\n",
            "STOP: TOTAL NO. of ITERATIONS REACHED LIMIT.\n",
            "\n",
            "Increase the number of iterations (max_iter) or scale the data as shown in:\n",
            "    https://scikit-learn.org/stable/modules/preprocessing.html\n",
            "Please also refer to the documentation for alternative solver options:\n",
            "    https://scikit-learn.org/stable/modules/linear_model.html#logistic-regression\n",
            "  extra_warning_msg=_LOGISTIC_SOLVER_CONVERGENCE_MSG)\n"
          ],
          "name": "stderr"
        },
        {
          "output_type": "stream",
          "text": [
            "[CV] ............................ kmeans__n_clusters=44, total=   0.7s\n",
            "[CV] kmeans__n_clusters=45 ...........................................\n"
          ],
          "name": "stdout"
        },
        {
          "output_type": "stream",
          "text": [
            "/usr/local/lib/python3.6/dist-packages/sklearn/linear_model/_logistic.py:940: ConvergenceWarning: lbfgs failed to converge (status=1):\n",
            "STOP: TOTAL NO. of ITERATIONS REACHED LIMIT.\n",
            "\n",
            "Increase the number of iterations (max_iter) or scale the data as shown in:\n",
            "    https://scikit-learn.org/stable/modules/preprocessing.html\n",
            "Please also refer to the documentation for alternative solver options:\n",
            "    https://scikit-learn.org/stable/modules/linear_model.html#logistic-regression\n",
            "  extra_warning_msg=_LOGISTIC_SOLVER_CONVERGENCE_MSG)\n"
          ],
          "name": "stderr"
        },
        {
          "output_type": "stream",
          "text": [
            "[CV] ............................ kmeans__n_clusters=45, total=   0.7s\n",
            "[CV] kmeans__n_clusters=45 ...........................................\n"
          ],
          "name": "stdout"
        },
        {
          "output_type": "stream",
          "text": [
            "/usr/local/lib/python3.6/dist-packages/sklearn/linear_model/_logistic.py:940: ConvergenceWarning: lbfgs failed to converge (status=1):\n",
            "STOP: TOTAL NO. of ITERATIONS REACHED LIMIT.\n",
            "\n",
            "Increase the number of iterations (max_iter) or scale the data as shown in:\n",
            "    https://scikit-learn.org/stable/modules/preprocessing.html\n",
            "Please also refer to the documentation for alternative solver options:\n",
            "    https://scikit-learn.org/stable/modules/linear_model.html#logistic-regression\n",
            "  extra_warning_msg=_LOGISTIC_SOLVER_CONVERGENCE_MSG)\n"
          ],
          "name": "stderr"
        },
        {
          "output_type": "stream",
          "text": [
            "[CV] ............................ kmeans__n_clusters=45, total=   0.7s\n",
            "[CV] kmeans__n_clusters=45 ...........................................\n"
          ],
          "name": "stdout"
        },
        {
          "output_type": "stream",
          "text": [
            "/usr/local/lib/python3.6/dist-packages/sklearn/linear_model/_logistic.py:940: ConvergenceWarning: lbfgs failed to converge (status=1):\n",
            "STOP: TOTAL NO. of ITERATIONS REACHED LIMIT.\n",
            "\n",
            "Increase the number of iterations (max_iter) or scale the data as shown in:\n",
            "    https://scikit-learn.org/stable/modules/preprocessing.html\n",
            "Please also refer to the documentation for alternative solver options:\n",
            "    https://scikit-learn.org/stable/modules/linear_model.html#logistic-regression\n",
            "  extra_warning_msg=_LOGISTIC_SOLVER_CONVERGENCE_MSG)\n"
          ],
          "name": "stderr"
        },
        {
          "output_type": "stream",
          "text": [
            "[CV] ............................ kmeans__n_clusters=45, total=   0.7s\n",
            "[CV] kmeans__n_clusters=46 ...........................................\n"
          ],
          "name": "stdout"
        },
        {
          "output_type": "stream",
          "text": [
            "/usr/local/lib/python3.6/dist-packages/sklearn/linear_model/_logistic.py:940: ConvergenceWarning: lbfgs failed to converge (status=1):\n",
            "STOP: TOTAL NO. of ITERATIONS REACHED LIMIT.\n",
            "\n",
            "Increase the number of iterations (max_iter) or scale the data as shown in:\n",
            "    https://scikit-learn.org/stable/modules/preprocessing.html\n",
            "Please also refer to the documentation for alternative solver options:\n",
            "    https://scikit-learn.org/stable/modules/linear_model.html#logistic-regression\n",
            "  extra_warning_msg=_LOGISTIC_SOLVER_CONVERGENCE_MSG)\n"
          ],
          "name": "stderr"
        },
        {
          "output_type": "stream",
          "text": [
            "[CV] ............................ kmeans__n_clusters=46, total=   0.8s\n",
            "[CV] kmeans__n_clusters=46 ...........................................\n"
          ],
          "name": "stdout"
        },
        {
          "output_type": "stream",
          "text": [
            "/usr/local/lib/python3.6/dist-packages/sklearn/linear_model/_logistic.py:940: ConvergenceWarning: lbfgs failed to converge (status=1):\n",
            "STOP: TOTAL NO. of ITERATIONS REACHED LIMIT.\n",
            "\n",
            "Increase the number of iterations (max_iter) or scale the data as shown in:\n",
            "    https://scikit-learn.org/stable/modules/preprocessing.html\n",
            "Please also refer to the documentation for alternative solver options:\n",
            "    https://scikit-learn.org/stable/modules/linear_model.html#logistic-regression\n",
            "  extra_warning_msg=_LOGISTIC_SOLVER_CONVERGENCE_MSG)\n"
          ],
          "name": "stderr"
        },
        {
          "output_type": "stream",
          "text": [
            "[CV] ............................ kmeans__n_clusters=46, total=   0.7s\n",
            "[CV] kmeans__n_clusters=46 ...........................................\n"
          ],
          "name": "stdout"
        },
        {
          "output_type": "stream",
          "text": [
            "/usr/local/lib/python3.6/dist-packages/sklearn/linear_model/_logistic.py:940: ConvergenceWarning: lbfgs failed to converge (status=1):\n",
            "STOP: TOTAL NO. of ITERATIONS REACHED LIMIT.\n",
            "\n",
            "Increase the number of iterations (max_iter) or scale the data as shown in:\n",
            "    https://scikit-learn.org/stable/modules/preprocessing.html\n",
            "Please also refer to the documentation for alternative solver options:\n",
            "    https://scikit-learn.org/stable/modules/linear_model.html#logistic-regression\n",
            "  extra_warning_msg=_LOGISTIC_SOLVER_CONVERGENCE_MSG)\n"
          ],
          "name": "stderr"
        },
        {
          "output_type": "stream",
          "text": [
            "[CV] ............................ kmeans__n_clusters=46, total=   0.7s\n",
            "[CV] kmeans__n_clusters=47 ...........................................\n"
          ],
          "name": "stdout"
        },
        {
          "output_type": "stream",
          "text": [
            "/usr/local/lib/python3.6/dist-packages/sklearn/linear_model/_logistic.py:940: ConvergenceWarning: lbfgs failed to converge (status=1):\n",
            "STOP: TOTAL NO. of ITERATIONS REACHED LIMIT.\n",
            "\n",
            "Increase the number of iterations (max_iter) or scale the data as shown in:\n",
            "    https://scikit-learn.org/stable/modules/preprocessing.html\n",
            "Please also refer to the documentation for alternative solver options:\n",
            "    https://scikit-learn.org/stable/modules/linear_model.html#logistic-regression\n",
            "  extra_warning_msg=_LOGISTIC_SOLVER_CONVERGENCE_MSG)\n"
          ],
          "name": "stderr"
        },
        {
          "output_type": "stream",
          "text": [
            "[CV] ............................ kmeans__n_clusters=47, total=   0.7s\n",
            "[CV] kmeans__n_clusters=47 ...........................................\n"
          ],
          "name": "stdout"
        },
        {
          "output_type": "stream",
          "text": [
            "/usr/local/lib/python3.6/dist-packages/sklearn/linear_model/_logistic.py:940: ConvergenceWarning: lbfgs failed to converge (status=1):\n",
            "STOP: TOTAL NO. of ITERATIONS REACHED LIMIT.\n",
            "\n",
            "Increase the number of iterations (max_iter) or scale the data as shown in:\n",
            "    https://scikit-learn.org/stable/modules/preprocessing.html\n",
            "Please also refer to the documentation for alternative solver options:\n",
            "    https://scikit-learn.org/stable/modules/linear_model.html#logistic-regression\n",
            "  extra_warning_msg=_LOGISTIC_SOLVER_CONVERGENCE_MSG)\n"
          ],
          "name": "stderr"
        },
        {
          "output_type": "stream",
          "text": [
            "[CV] ............................ kmeans__n_clusters=47, total=   0.8s\n",
            "[CV] kmeans__n_clusters=47 ...........................................\n"
          ],
          "name": "stdout"
        },
        {
          "output_type": "stream",
          "text": [
            "/usr/local/lib/python3.6/dist-packages/sklearn/linear_model/_logistic.py:940: ConvergenceWarning: lbfgs failed to converge (status=1):\n",
            "STOP: TOTAL NO. of ITERATIONS REACHED LIMIT.\n",
            "\n",
            "Increase the number of iterations (max_iter) or scale the data as shown in:\n",
            "    https://scikit-learn.org/stable/modules/preprocessing.html\n",
            "Please also refer to the documentation for alternative solver options:\n",
            "    https://scikit-learn.org/stable/modules/linear_model.html#logistic-regression\n",
            "  extra_warning_msg=_LOGISTIC_SOLVER_CONVERGENCE_MSG)\n"
          ],
          "name": "stderr"
        },
        {
          "output_type": "stream",
          "text": [
            "[CV] ............................ kmeans__n_clusters=47, total=   0.7s\n",
            "[CV] kmeans__n_clusters=48 ...........................................\n"
          ],
          "name": "stdout"
        },
        {
          "output_type": "stream",
          "text": [
            "/usr/local/lib/python3.6/dist-packages/sklearn/linear_model/_logistic.py:940: ConvergenceWarning: lbfgs failed to converge (status=1):\n",
            "STOP: TOTAL NO. of ITERATIONS REACHED LIMIT.\n",
            "\n",
            "Increase the number of iterations (max_iter) or scale the data as shown in:\n",
            "    https://scikit-learn.org/stable/modules/preprocessing.html\n",
            "Please also refer to the documentation for alternative solver options:\n",
            "    https://scikit-learn.org/stable/modules/linear_model.html#logistic-regression\n",
            "  extra_warning_msg=_LOGISTIC_SOLVER_CONVERGENCE_MSG)\n"
          ],
          "name": "stderr"
        },
        {
          "output_type": "stream",
          "text": [
            "[CV] ............................ kmeans__n_clusters=48, total=   0.7s\n",
            "[CV] kmeans__n_clusters=48 ...........................................\n"
          ],
          "name": "stdout"
        },
        {
          "output_type": "stream",
          "text": [
            "/usr/local/lib/python3.6/dist-packages/sklearn/linear_model/_logistic.py:940: ConvergenceWarning: lbfgs failed to converge (status=1):\n",
            "STOP: TOTAL NO. of ITERATIONS REACHED LIMIT.\n",
            "\n",
            "Increase the number of iterations (max_iter) or scale the data as shown in:\n",
            "    https://scikit-learn.org/stable/modules/preprocessing.html\n",
            "Please also refer to the documentation for alternative solver options:\n",
            "    https://scikit-learn.org/stable/modules/linear_model.html#logistic-regression\n",
            "  extra_warning_msg=_LOGISTIC_SOLVER_CONVERGENCE_MSG)\n"
          ],
          "name": "stderr"
        },
        {
          "output_type": "stream",
          "text": [
            "[CV] ............................ kmeans__n_clusters=48, total=   0.8s\n",
            "[CV] kmeans__n_clusters=48 ...........................................\n"
          ],
          "name": "stdout"
        },
        {
          "output_type": "stream",
          "text": [
            "/usr/local/lib/python3.6/dist-packages/sklearn/linear_model/_logistic.py:940: ConvergenceWarning: lbfgs failed to converge (status=1):\n",
            "STOP: TOTAL NO. of ITERATIONS REACHED LIMIT.\n",
            "\n",
            "Increase the number of iterations (max_iter) or scale the data as shown in:\n",
            "    https://scikit-learn.org/stable/modules/preprocessing.html\n",
            "Please also refer to the documentation for alternative solver options:\n",
            "    https://scikit-learn.org/stable/modules/linear_model.html#logistic-regression\n",
            "  extra_warning_msg=_LOGISTIC_SOLVER_CONVERGENCE_MSG)\n"
          ],
          "name": "stderr"
        },
        {
          "output_type": "stream",
          "text": [
            "[CV] ............................ kmeans__n_clusters=48, total=   0.8s\n",
            "[CV] kmeans__n_clusters=49 ...........................................\n"
          ],
          "name": "stdout"
        },
        {
          "output_type": "stream",
          "text": [
            "/usr/local/lib/python3.6/dist-packages/sklearn/linear_model/_logistic.py:940: ConvergenceWarning: lbfgs failed to converge (status=1):\n",
            "STOP: TOTAL NO. of ITERATIONS REACHED LIMIT.\n",
            "\n",
            "Increase the number of iterations (max_iter) or scale the data as shown in:\n",
            "    https://scikit-learn.org/stable/modules/preprocessing.html\n",
            "Please also refer to the documentation for alternative solver options:\n",
            "    https://scikit-learn.org/stable/modules/linear_model.html#logistic-regression\n",
            "  extra_warning_msg=_LOGISTIC_SOLVER_CONVERGENCE_MSG)\n"
          ],
          "name": "stderr"
        },
        {
          "output_type": "stream",
          "text": [
            "[CV] ............................ kmeans__n_clusters=49, total=   0.8s\n",
            "[CV] kmeans__n_clusters=49 ...........................................\n"
          ],
          "name": "stdout"
        },
        {
          "output_type": "stream",
          "text": [
            "/usr/local/lib/python3.6/dist-packages/sklearn/linear_model/_logistic.py:940: ConvergenceWarning: lbfgs failed to converge (status=1):\n",
            "STOP: TOTAL NO. of ITERATIONS REACHED LIMIT.\n",
            "\n",
            "Increase the number of iterations (max_iter) or scale the data as shown in:\n",
            "    https://scikit-learn.org/stable/modules/preprocessing.html\n",
            "Please also refer to the documentation for alternative solver options:\n",
            "    https://scikit-learn.org/stable/modules/linear_model.html#logistic-regression\n",
            "  extra_warning_msg=_LOGISTIC_SOLVER_CONVERGENCE_MSG)\n"
          ],
          "name": "stderr"
        },
        {
          "output_type": "stream",
          "text": [
            "[CV] ............................ kmeans__n_clusters=49, total=   0.8s\n",
            "[CV] kmeans__n_clusters=49 ...........................................\n"
          ],
          "name": "stdout"
        },
        {
          "output_type": "stream",
          "text": [
            "/usr/local/lib/python3.6/dist-packages/sklearn/linear_model/_logistic.py:940: ConvergenceWarning: lbfgs failed to converge (status=1):\n",
            "STOP: TOTAL NO. of ITERATIONS REACHED LIMIT.\n",
            "\n",
            "Increase the number of iterations (max_iter) or scale the data as shown in:\n",
            "    https://scikit-learn.org/stable/modules/preprocessing.html\n",
            "Please also refer to the documentation for alternative solver options:\n",
            "    https://scikit-learn.org/stable/modules/linear_model.html#logistic-regression\n",
            "  extra_warning_msg=_LOGISTIC_SOLVER_CONVERGENCE_MSG)\n"
          ],
          "name": "stderr"
        },
        {
          "output_type": "stream",
          "text": [
            "[CV] ............................ kmeans__n_clusters=49, total=   0.8s\n",
            "[CV] kmeans__n_clusters=50 ...........................................\n"
          ],
          "name": "stdout"
        },
        {
          "output_type": "stream",
          "text": [
            "/usr/local/lib/python3.6/dist-packages/sklearn/linear_model/_logistic.py:940: ConvergenceWarning: lbfgs failed to converge (status=1):\n",
            "STOP: TOTAL NO. of ITERATIONS REACHED LIMIT.\n",
            "\n",
            "Increase the number of iterations (max_iter) or scale the data as shown in:\n",
            "    https://scikit-learn.org/stable/modules/preprocessing.html\n",
            "Please also refer to the documentation for alternative solver options:\n",
            "    https://scikit-learn.org/stable/modules/linear_model.html#logistic-regression\n",
            "  extra_warning_msg=_LOGISTIC_SOLVER_CONVERGENCE_MSG)\n"
          ],
          "name": "stderr"
        },
        {
          "output_type": "stream",
          "text": [
            "[CV] ............................ kmeans__n_clusters=50, total=   0.8s\n",
            "[CV] kmeans__n_clusters=50 ...........................................\n"
          ],
          "name": "stdout"
        },
        {
          "output_type": "stream",
          "text": [
            "/usr/local/lib/python3.6/dist-packages/sklearn/linear_model/_logistic.py:940: ConvergenceWarning: lbfgs failed to converge (status=1):\n",
            "STOP: TOTAL NO. of ITERATIONS REACHED LIMIT.\n",
            "\n",
            "Increase the number of iterations (max_iter) or scale the data as shown in:\n",
            "    https://scikit-learn.org/stable/modules/preprocessing.html\n",
            "Please also refer to the documentation for alternative solver options:\n",
            "    https://scikit-learn.org/stable/modules/linear_model.html#logistic-regression\n",
            "  extra_warning_msg=_LOGISTIC_SOLVER_CONVERGENCE_MSG)\n"
          ],
          "name": "stderr"
        },
        {
          "output_type": "stream",
          "text": [
            "[CV] ............................ kmeans__n_clusters=50, total=   0.8s\n",
            "[CV] kmeans__n_clusters=50 ...........................................\n"
          ],
          "name": "stdout"
        },
        {
          "output_type": "stream",
          "text": [
            "/usr/local/lib/python3.6/dist-packages/sklearn/linear_model/_logistic.py:940: ConvergenceWarning: lbfgs failed to converge (status=1):\n",
            "STOP: TOTAL NO. of ITERATIONS REACHED LIMIT.\n",
            "\n",
            "Increase the number of iterations (max_iter) or scale the data as shown in:\n",
            "    https://scikit-learn.org/stable/modules/preprocessing.html\n",
            "Please also refer to the documentation for alternative solver options:\n",
            "    https://scikit-learn.org/stable/modules/linear_model.html#logistic-regression\n",
            "  extra_warning_msg=_LOGISTIC_SOLVER_CONVERGENCE_MSG)\n"
          ],
          "name": "stderr"
        },
        {
          "output_type": "stream",
          "text": [
            "[CV] ............................ kmeans__n_clusters=50, total=   0.8s\n",
            "[CV] kmeans__n_clusters=51 ...........................................\n"
          ],
          "name": "stdout"
        },
        {
          "output_type": "stream",
          "text": [
            "/usr/local/lib/python3.6/dist-packages/sklearn/linear_model/_logistic.py:940: ConvergenceWarning: lbfgs failed to converge (status=1):\n",
            "STOP: TOTAL NO. of ITERATIONS REACHED LIMIT.\n",
            "\n",
            "Increase the number of iterations (max_iter) or scale the data as shown in:\n",
            "    https://scikit-learn.org/stable/modules/preprocessing.html\n",
            "Please also refer to the documentation for alternative solver options:\n",
            "    https://scikit-learn.org/stable/modules/linear_model.html#logistic-regression\n",
            "  extra_warning_msg=_LOGISTIC_SOLVER_CONVERGENCE_MSG)\n"
          ],
          "name": "stderr"
        },
        {
          "output_type": "stream",
          "text": [
            "[CV] ............................ kmeans__n_clusters=51, total=   0.8s\n",
            "[CV] kmeans__n_clusters=51 ...........................................\n"
          ],
          "name": "stdout"
        },
        {
          "output_type": "stream",
          "text": [
            "/usr/local/lib/python3.6/dist-packages/sklearn/linear_model/_logistic.py:940: ConvergenceWarning: lbfgs failed to converge (status=1):\n",
            "STOP: TOTAL NO. of ITERATIONS REACHED LIMIT.\n",
            "\n",
            "Increase the number of iterations (max_iter) or scale the data as shown in:\n",
            "    https://scikit-learn.org/stable/modules/preprocessing.html\n",
            "Please also refer to the documentation for alternative solver options:\n",
            "    https://scikit-learn.org/stable/modules/linear_model.html#logistic-regression\n",
            "  extra_warning_msg=_LOGISTIC_SOLVER_CONVERGENCE_MSG)\n"
          ],
          "name": "stderr"
        },
        {
          "output_type": "stream",
          "text": [
            "[CV] ............................ kmeans__n_clusters=51, total=   0.8s\n",
            "[CV] kmeans__n_clusters=51 ...........................................\n"
          ],
          "name": "stdout"
        },
        {
          "output_type": "stream",
          "text": [
            "/usr/local/lib/python3.6/dist-packages/sklearn/linear_model/_logistic.py:940: ConvergenceWarning: lbfgs failed to converge (status=1):\n",
            "STOP: TOTAL NO. of ITERATIONS REACHED LIMIT.\n",
            "\n",
            "Increase the number of iterations (max_iter) or scale the data as shown in:\n",
            "    https://scikit-learn.org/stable/modules/preprocessing.html\n",
            "Please also refer to the documentation for alternative solver options:\n",
            "    https://scikit-learn.org/stable/modules/linear_model.html#logistic-regression\n",
            "  extra_warning_msg=_LOGISTIC_SOLVER_CONVERGENCE_MSG)\n"
          ],
          "name": "stderr"
        },
        {
          "output_type": "stream",
          "text": [
            "[CV] ............................ kmeans__n_clusters=51, total=   0.8s\n",
            "[CV] kmeans__n_clusters=52 ...........................................\n"
          ],
          "name": "stdout"
        },
        {
          "output_type": "stream",
          "text": [
            "/usr/local/lib/python3.6/dist-packages/sklearn/linear_model/_logistic.py:940: ConvergenceWarning: lbfgs failed to converge (status=1):\n",
            "STOP: TOTAL NO. of ITERATIONS REACHED LIMIT.\n",
            "\n",
            "Increase the number of iterations (max_iter) or scale the data as shown in:\n",
            "    https://scikit-learn.org/stable/modules/preprocessing.html\n",
            "Please also refer to the documentation for alternative solver options:\n",
            "    https://scikit-learn.org/stable/modules/linear_model.html#logistic-regression\n",
            "  extra_warning_msg=_LOGISTIC_SOLVER_CONVERGENCE_MSG)\n"
          ],
          "name": "stderr"
        },
        {
          "output_type": "stream",
          "text": [
            "[CV] ............................ kmeans__n_clusters=52, total=   0.8s\n",
            "[CV] kmeans__n_clusters=52 ...........................................\n"
          ],
          "name": "stdout"
        },
        {
          "output_type": "stream",
          "text": [
            "/usr/local/lib/python3.6/dist-packages/sklearn/linear_model/_logistic.py:940: ConvergenceWarning: lbfgs failed to converge (status=1):\n",
            "STOP: TOTAL NO. of ITERATIONS REACHED LIMIT.\n",
            "\n",
            "Increase the number of iterations (max_iter) or scale the data as shown in:\n",
            "    https://scikit-learn.org/stable/modules/preprocessing.html\n",
            "Please also refer to the documentation for alternative solver options:\n",
            "    https://scikit-learn.org/stable/modules/linear_model.html#logistic-regression\n",
            "  extra_warning_msg=_LOGISTIC_SOLVER_CONVERGENCE_MSG)\n"
          ],
          "name": "stderr"
        },
        {
          "output_type": "stream",
          "text": [
            "[CV] ............................ kmeans__n_clusters=52, total=   0.8s\n",
            "[CV] kmeans__n_clusters=52 ...........................................\n"
          ],
          "name": "stdout"
        },
        {
          "output_type": "stream",
          "text": [
            "/usr/local/lib/python3.6/dist-packages/sklearn/linear_model/_logistic.py:940: ConvergenceWarning: lbfgs failed to converge (status=1):\n",
            "STOP: TOTAL NO. of ITERATIONS REACHED LIMIT.\n",
            "\n",
            "Increase the number of iterations (max_iter) or scale the data as shown in:\n",
            "    https://scikit-learn.org/stable/modules/preprocessing.html\n",
            "Please also refer to the documentation for alternative solver options:\n",
            "    https://scikit-learn.org/stable/modules/linear_model.html#logistic-regression\n",
            "  extra_warning_msg=_LOGISTIC_SOLVER_CONVERGENCE_MSG)\n"
          ],
          "name": "stderr"
        },
        {
          "output_type": "stream",
          "text": [
            "[CV] ............................ kmeans__n_clusters=52, total=   0.8s\n",
            "[CV] kmeans__n_clusters=53 ...........................................\n"
          ],
          "name": "stdout"
        },
        {
          "output_type": "stream",
          "text": [
            "/usr/local/lib/python3.6/dist-packages/sklearn/linear_model/_logistic.py:940: ConvergenceWarning: lbfgs failed to converge (status=1):\n",
            "STOP: TOTAL NO. of ITERATIONS REACHED LIMIT.\n",
            "\n",
            "Increase the number of iterations (max_iter) or scale the data as shown in:\n",
            "    https://scikit-learn.org/stable/modules/preprocessing.html\n",
            "Please also refer to the documentation for alternative solver options:\n",
            "    https://scikit-learn.org/stable/modules/linear_model.html#logistic-regression\n",
            "  extra_warning_msg=_LOGISTIC_SOLVER_CONVERGENCE_MSG)\n"
          ],
          "name": "stderr"
        },
        {
          "output_type": "stream",
          "text": [
            "[CV] ............................ kmeans__n_clusters=53, total=   0.8s\n",
            "[CV] kmeans__n_clusters=53 ...........................................\n"
          ],
          "name": "stdout"
        },
        {
          "output_type": "stream",
          "text": [
            "/usr/local/lib/python3.6/dist-packages/sklearn/linear_model/_logistic.py:940: ConvergenceWarning: lbfgs failed to converge (status=1):\n",
            "STOP: TOTAL NO. of ITERATIONS REACHED LIMIT.\n",
            "\n",
            "Increase the number of iterations (max_iter) or scale the data as shown in:\n",
            "    https://scikit-learn.org/stable/modules/preprocessing.html\n",
            "Please also refer to the documentation for alternative solver options:\n",
            "    https://scikit-learn.org/stable/modules/linear_model.html#logistic-regression\n",
            "  extra_warning_msg=_LOGISTIC_SOLVER_CONVERGENCE_MSG)\n"
          ],
          "name": "stderr"
        },
        {
          "output_type": "stream",
          "text": [
            "[CV] ............................ kmeans__n_clusters=53, total=   0.8s\n",
            "[CV] kmeans__n_clusters=53 ...........................................\n"
          ],
          "name": "stdout"
        },
        {
          "output_type": "stream",
          "text": [
            "/usr/local/lib/python3.6/dist-packages/sklearn/linear_model/_logistic.py:940: ConvergenceWarning: lbfgs failed to converge (status=1):\n",
            "STOP: TOTAL NO. of ITERATIONS REACHED LIMIT.\n",
            "\n",
            "Increase the number of iterations (max_iter) or scale the data as shown in:\n",
            "    https://scikit-learn.org/stable/modules/preprocessing.html\n",
            "Please also refer to the documentation for alternative solver options:\n",
            "    https://scikit-learn.org/stable/modules/linear_model.html#logistic-regression\n",
            "  extra_warning_msg=_LOGISTIC_SOLVER_CONVERGENCE_MSG)\n"
          ],
          "name": "stderr"
        },
        {
          "output_type": "stream",
          "text": [
            "[CV] ............................ kmeans__n_clusters=53, total=   0.8s\n",
            "[CV] kmeans__n_clusters=54 ...........................................\n"
          ],
          "name": "stdout"
        },
        {
          "output_type": "stream",
          "text": [
            "/usr/local/lib/python3.6/dist-packages/sklearn/linear_model/_logistic.py:940: ConvergenceWarning: lbfgs failed to converge (status=1):\n",
            "STOP: TOTAL NO. of ITERATIONS REACHED LIMIT.\n",
            "\n",
            "Increase the number of iterations (max_iter) or scale the data as shown in:\n",
            "    https://scikit-learn.org/stable/modules/preprocessing.html\n",
            "Please also refer to the documentation for alternative solver options:\n",
            "    https://scikit-learn.org/stable/modules/linear_model.html#logistic-regression\n",
            "  extra_warning_msg=_LOGISTIC_SOLVER_CONVERGENCE_MSG)\n"
          ],
          "name": "stderr"
        },
        {
          "output_type": "stream",
          "text": [
            "[CV] ............................ kmeans__n_clusters=54, total=   0.8s\n",
            "[CV] kmeans__n_clusters=54 ...........................................\n"
          ],
          "name": "stdout"
        },
        {
          "output_type": "stream",
          "text": [
            "/usr/local/lib/python3.6/dist-packages/sklearn/linear_model/_logistic.py:940: ConvergenceWarning: lbfgs failed to converge (status=1):\n",
            "STOP: TOTAL NO. of ITERATIONS REACHED LIMIT.\n",
            "\n",
            "Increase the number of iterations (max_iter) or scale the data as shown in:\n",
            "    https://scikit-learn.org/stable/modules/preprocessing.html\n",
            "Please also refer to the documentation for alternative solver options:\n",
            "    https://scikit-learn.org/stable/modules/linear_model.html#logistic-regression\n",
            "  extra_warning_msg=_LOGISTIC_SOLVER_CONVERGENCE_MSG)\n"
          ],
          "name": "stderr"
        },
        {
          "output_type": "stream",
          "text": [
            "[CV] ............................ kmeans__n_clusters=54, total=   0.8s\n",
            "[CV] kmeans__n_clusters=54 ...........................................\n"
          ],
          "name": "stdout"
        },
        {
          "output_type": "stream",
          "text": [
            "/usr/local/lib/python3.6/dist-packages/sklearn/linear_model/_logistic.py:940: ConvergenceWarning: lbfgs failed to converge (status=1):\n",
            "STOP: TOTAL NO. of ITERATIONS REACHED LIMIT.\n",
            "\n",
            "Increase the number of iterations (max_iter) or scale the data as shown in:\n",
            "    https://scikit-learn.org/stable/modules/preprocessing.html\n",
            "Please also refer to the documentation for alternative solver options:\n",
            "    https://scikit-learn.org/stable/modules/linear_model.html#logistic-regression\n",
            "  extra_warning_msg=_LOGISTIC_SOLVER_CONVERGENCE_MSG)\n"
          ],
          "name": "stderr"
        },
        {
          "output_type": "stream",
          "text": [
            "[CV] ............................ kmeans__n_clusters=54, total=   0.8s\n",
            "[CV] kmeans__n_clusters=55 ...........................................\n"
          ],
          "name": "stdout"
        },
        {
          "output_type": "stream",
          "text": [
            "/usr/local/lib/python3.6/dist-packages/sklearn/linear_model/_logistic.py:940: ConvergenceWarning: lbfgs failed to converge (status=1):\n",
            "STOP: TOTAL NO. of ITERATIONS REACHED LIMIT.\n",
            "\n",
            "Increase the number of iterations (max_iter) or scale the data as shown in:\n",
            "    https://scikit-learn.org/stable/modules/preprocessing.html\n",
            "Please also refer to the documentation for alternative solver options:\n",
            "    https://scikit-learn.org/stable/modules/linear_model.html#logistic-regression\n",
            "  extra_warning_msg=_LOGISTIC_SOLVER_CONVERGENCE_MSG)\n"
          ],
          "name": "stderr"
        },
        {
          "output_type": "stream",
          "text": [
            "[CV] ............................ kmeans__n_clusters=55, total=   0.8s\n",
            "[CV] kmeans__n_clusters=55 ...........................................\n"
          ],
          "name": "stdout"
        },
        {
          "output_type": "stream",
          "text": [
            "/usr/local/lib/python3.6/dist-packages/sklearn/linear_model/_logistic.py:940: ConvergenceWarning: lbfgs failed to converge (status=1):\n",
            "STOP: TOTAL NO. of ITERATIONS REACHED LIMIT.\n",
            "\n",
            "Increase the number of iterations (max_iter) or scale the data as shown in:\n",
            "    https://scikit-learn.org/stable/modules/preprocessing.html\n",
            "Please also refer to the documentation for alternative solver options:\n",
            "    https://scikit-learn.org/stable/modules/linear_model.html#logistic-regression\n",
            "  extra_warning_msg=_LOGISTIC_SOLVER_CONVERGENCE_MSG)\n"
          ],
          "name": "stderr"
        },
        {
          "output_type": "stream",
          "text": [
            "[CV] ............................ kmeans__n_clusters=55, total=   0.8s\n",
            "[CV] kmeans__n_clusters=55 ...........................................\n"
          ],
          "name": "stdout"
        },
        {
          "output_type": "stream",
          "text": [
            "/usr/local/lib/python3.6/dist-packages/sklearn/linear_model/_logistic.py:940: ConvergenceWarning: lbfgs failed to converge (status=1):\n",
            "STOP: TOTAL NO. of ITERATIONS REACHED LIMIT.\n",
            "\n",
            "Increase the number of iterations (max_iter) or scale the data as shown in:\n",
            "    https://scikit-learn.org/stable/modules/preprocessing.html\n",
            "Please also refer to the documentation for alternative solver options:\n",
            "    https://scikit-learn.org/stable/modules/linear_model.html#logistic-regression\n",
            "  extra_warning_msg=_LOGISTIC_SOLVER_CONVERGENCE_MSG)\n"
          ],
          "name": "stderr"
        },
        {
          "output_type": "stream",
          "text": [
            "[CV] ............................ kmeans__n_clusters=55, total=   0.8s\n",
            "[CV] kmeans__n_clusters=56 ...........................................\n"
          ],
          "name": "stdout"
        },
        {
          "output_type": "stream",
          "text": [
            "/usr/local/lib/python3.6/dist-packages/sklearn/linear_model/_logistic.py:940: ConvergenceWarning: lbfgs failed to converge (status=1):\n",
            "STOP: TOTAL NO. of ITERATIONS REACHED LIMIT.\n",
            "\n",
            "Increase the number of iterations (max_iter) or scale the data as shown in:\n",
            "    https://scikit-learn.org/stable/modules/preprocessing.html\n",
            "Please also refer to the documentation for alternative solver options:\n",
            "    https://scikit-learn.org/stable/modules/linear_model.html#logistic-regression\n",
            "  extra_warning_msg=_LOGISTIC_SOLVER_CONVERGENCE_MSG)\n"
          ],
          "name": "stderr"
        },
        {
          "output_type": "stream",
          "text": [
            "[CV] ............................ kmeans__n_clusters=56, total=   0.8s\n",
            "[CV] kmeans__n_clusters=56 ...........................................\n"
          ],
          "name": "stdout"
        },
        {
          "output_type": "stream",
          "text": [
            "/usr/local/lib/python3.6/dist-packages/sklearn/linear_model/_logistic.py:940: ConvergenceWarning: lbfgs failed to converge (status=1):\n",
            "STOP: TOTAL NO. of ITERATIONS REACHED LIMIT.\n",
            "\n",
            "Increase the number of iterations (max_iter) or scale the data as shown in:\n",
            "    https://scikit-learn.org/stable/modules/preprocessing.html\n",
            "Please also refer to the documentation for alternative solver options:\n",
            "    https://scikit-learn.org/stable/modules/linear_model.html#logistic-regression\n",
            "  extra_warning_msg=_LOGISTIC_SOLVER_CONVERGENCE_MSG)\n"
          ],
          "name": "stderr"
        },
        {
          "output_type": "stream",
          "text": [
            "[CV] ............................ kmeans__n_clusters=56, total=   0.8s\n",
            "[CV] kmeans__n_clusters=56 ...........................................\n"
          ],
          "name": "stdout"
        },
        {
          "output_type": "stream",
          "text": [
            "/usr/local/lib/python3.6/dist-packages/sklearn/linear_model/_logistic.py:940: ConvergenceWarning: lbfgs failed to converge (status=1):\n",
            "STOP: TOTAL NO. of ITERATIONS REACHED LIMIT.\n",
            "\n",
            "Increase the number of iterations (max_iter) or scale the data as shown in:\n",
            "    https://scikit-learn.org/stable/modules/preprocessing.html\n",
            "Please also refer to the documentation for alternative solver options:\n",
            "    https://scikit-learn.org/stable/modules/linear_model.html#logistic-regression\n",
            "  extra_warning_msg=_LOGISTIC_SOLVER_CONVERGENCE_MSG)\n"
          ],
          "name": "stderr"
        },
        {
          "output_type": "stream",
          "text": [
            "[CV] ............................ kmeans__n_clusters=56, total=   0.8s\n",
            "[CV] kmeans__n_clusters=57 ...........................................\n"
          ],
          "name": "stdout"
        },
        {
          "output_type": "stream",
          "text": [
            "/usr/local/lib/python3.6/dist-packages/sklearn/linear_model/_logistic.py:940: ConvergenceWarning: lbfgs failed to converge (status=1):\n",
            "STOP: TOTAL NO. of ITERATIONS REACHED LIMIT.\n",
            "\n",
            "Increase the number of iterations (max_iter) or scale the data as shown in:\n",
            "    https://scikit-learn.org/stable/modules/preprocessing.html\n",
            "Please also refer to the documentation for alternative solver options:\n",
            "    https://scikit-learn.org/stable/modules/linear_model.html#logistic-regression\n",
            "  extra_warning_msg=_LOGISTIC_SOLVER_CONVERGENCE_MSG)\n"
          ],
          "name": "stderr"
        },
        {
          "output_type": "stream",
          "text": [
            "[CV] ............................ kmeans__n_clusters=57, total=   0.9s\n",
            "[CV] kmeans__n_clusters=57 ...........................................\n"
          ],
          "name": "stdout"
        },
        {
          "output_type": "stream",
          "text": [
            "/usr/local/lib/python3.6/dist-packages/sklearn/linear_model/_logistic.py:940: ConvergenceWarning: lbfgs failed to converge (status=1):\n",
            "STOP: TOTAL NO. of ITERATIONS REACHED LIMIT.\n",
            "\n",
            "Increase the number of iterations (max_iter) or scale the data as shown in:\n",
            "    https://scikit-learn.org/stable/modules/preprocessing.html\n",
            "Please also refer to the documentation for alternative solver options:\n",
            "    https://scikit-learn.org/stable/modules/linear_model.html#logistic-regression\n",
            "  extra_warning_msg=_LOGISTIC_SOLVER_CONVERGENCE_MSG)\n"
          ],
          "name": "stderr"
        },
        {
          "output_type": "stream",
          "text": [
            "[CV] ............................ kmeans__n_clusters=57, total=   0.9s\n",
            "[CV] kmeans__n_clusters=57 ...........................................\n"
          ],
          "name": "stdout"
        },
        {
          "output_type": "stream",
          "text": [
            "/usr/local/lib/python3.6/dist-packages/sklearn/linear_model/_logistic.py:940: ConvergenceWarning: lbfgs failed to converge (status=1):\n",
            "STOP: TOTAL NO. of ITERATIONS REACHED LIMIT.\n",
            "\n",
            "Increase the number of iterations (max_iter) or scale the data as shown in:\n",
            "    https://scikit-learn.org/stable/modules/preprocessing.html\n",
            "Please also refer to the documentation for alternative solver options:\n",
            "    https://scikit-learn.org/stable/modules/linear_model.html#logistic-regression\n",
            "  extra_warning_msg=_LOGISTIC_SOLVER_CONVERGENCE_MSG)\n"
          ],
          "name": "stderr"
        },
        {
          "output_type": "stream",
          "text": [
            "[CV] ............................ kmeans__n_clusters=57, total=   0.8s\n",
            "[CV] kmeans__n_clusters=58 ...........................................\n"
          ],
          "name": "stdout"
        },
        {
          "output_type": "stream",
          "text": [
            "/usr/local/lib/python3.6/dist-packages/sklearn/linear_model/_logistic.py:940: ConvergenceWarning: lbfgs failed to converge (status=1):\n",
            "STOP: TOTAL NO. of ITERATIONS REACHED LIMIT.\n",
            "\n",
            "Increase the number of iterations (max_iter) or scale the data as shown in:\n",
            "    https://scikit-learn.org/stable/modules/preprocessing.html\n",
            "Please also refer to the documentation for alternative solver options:\n",
            "    https://scikit-learn.org/stable/modules/linear_model.html#logistic-regression\n",
            "  extra_warning_msg=_LOGISTIC_SOLVER_CONVERGENCE_MSG)\n"
          ],
          "name": "stderr"
        },
        {
          "output_type": "stream",
          "text": [
            "[CV] ............................ kmeans__n_clusters=58, total=   0.8s\n",
            "[CV] kmeans__n_clusters=58 ...........................................\n"
          ],
          "name": "stdout"
        },
        {
          "output_type": "stream",
          "text": [
            "/usr/local/lib/python3.6/dist-packages/sklearn/linear_model/_logistic.py:940: ConvergenceWarning: lbfgs failed to converge (status=1):\n",
            "STOP: TOTAL NO. of ITERATIONS REACHED LIMIT.\n",
            "\n",
            "Increase the number of iterations (max_iter) or scale the data as shown in:\n",
            "    https://scikit-learn.org/stable/modules/preprocessing.html\n",
            "Please also refer to the documentation for alternative solver options:\n",
            "    https://scikit-learn.org/stable/modules/linear_model.html#logistic-regression\n",
            "  extra_warning_msg=_LOGISTIC_SOLVER_CONVERGENCE_MSG)\n"
          ],
          "name": "stderr"
        },
        {
          "output_type": "stream",
          "text": [
            "[CV] ............................ kmeans__n_clusters=58, total=   0.9s\n",
            "[CV] kmeans__n_clusters=58 ...........................................\n"
          ],
          "name": "stdout"
        },
        {
          "output_type": "stream",
          "text": [
            "/usr/local/lib/python3.6/dist-packages/sklearn/linear_model/_logistic.py:940: ConvergenceWarning: lbfgs failed to converge (status=1):\n",
            "STOP: TOTAL NO. of ITERATIONS REACHED LIMIT.\n",
            "\n",
            "Increase the number of iterations (max_iter) or scale the data as shown in:\n",
            "    https://scikit-learn.org/stable/modules/preprocessing.html\n",
            "Please also refer to the documentation for alternative solver options:\n",
            "    https://scikit-learn.org/stable/modules/linear_model.html#logistic-regression\n",
            "  extra_warning_msg=_LOGISTIC_SOLVER_CONVERGENCE_MSG)\n"
          ],
          "name": "stderr"
        },
        {
          "output_type": "stream",
          "text": [
            "[CV] ............................ kmeans__n_clusters=58, total=   0.9s\n",
            "[CV] kmeans__n_clusters=59 ...........................................\n"
          ],
          "name": "stdout"
        },
        {
          "output_type": "stream",
          "text": [
            "/usr/local/lib/python3.6/dist-packages/sklearn/linear_model/_logistic.py:940: ConvergenceWarning: lbfgs failed to converge (status=1):\n",
            "STOP: TOTAL NO. of ITERATIONS REACHED LIMIT.\n",
            "\n",
            "Increase the number of iterations (max_iter) or scale the data as shown in:\n",
            "    https://scikit-learn.org/stable/modules/preprocessing.html\n",
            "Please also refer to the documentation for alternative solver options:\n",
            "    https://scikit-learn.org/stable/modules/linear_model.html#logistic-regression\n",
            "  extra_warning_msg=_LOGISTIC_SOLVER_CONVERGENCE_MSG)\n"
          ],
          "name": "stderr"
        },
        {
          "output_type": "stream",
          "text": [
            "[CV] ............................ kmeans__n_clusters=59, total=   0.9s\n",
            "[CV] kmeans__n_clusters=59 ...........................................\n"
          ],
          "name": "stdout"
        },
        {
          "output_type": "stream",
          "text": [
            "/usr/local/lib/python3.6/dist-packages/sklearn/linear_model/_logistic.py:940: ConvergenceWarning: lbfgs failed to converge (status=1):\n",
            "STOP: TOTAL NO. of ITERATIONS REACHED LIMIT.\n",
            "\n",
            "Increase the number of iterations (max_iter) or scale the data as shown in:\n",
            "    https://scikit-learn.org/stable/modules/preprocessing.html\n",
            "Please also refer to the documentation for alternative solver options:\n",
            "    https://scikit-learn.org/stable/modules/linear_model.html#logistic-regression\n",
            "  extra_warning_msg=_LOGISTIC_SOLVER_CONVERGENCE_MSG)\n"
          ],
          "name": "stderr"
        },
        {
          "output_type": "stream",
          "text": [
            "[CV] ............................ kmeans__n_clusters=59, total=   0.8s\n",
            "[CV] kmeans__n_clusters=59 ...........................................\n"
          ],
          "name": "stdout"
        },
        {
          "output_type": "stream",
          "text": [
            "/usr/local/lib/python3.6/dist-packages/sklearn/linear_model/_logistic.py:940: ConvergenceWarning: lbfgs failed to converge (status=1):\n",
            "STOP: TOTAL NO. of ITERATIONS REACHED LIMIT.\n",
            "\n",
            "Increase the number of iterations (max_iter) or scale the data as shown in:\n",
            "    https://scikit-learn.org/stable/modules/preprocessing.html\n",
            "Please also refer to the documentation for alternative solver options:\n",
            "    https://scikit-learn.org/stable/modules/linear_model.html#logistic-regression\n",
            "  extra_warning_msg=_LOGISTIC_SOLVER_CONVERGENCE_MSG)\n"
          ],
          "name": "stderr"
        },
        {
          "output_type": "stream",
          "text": [
            "[CV] ............................ kmeans__n_clusters=59, total=   0.8s\n",
            "[CV] kmeans__n_clusters=60 ...........................................\n"
          ],
          "name": "stdout"
        },
        {
          "output_type": "stream",
          "text": [
            "/usr/local/lib/python3.6/dist-packages/sklearn/linear_model/_logistic.py:940: ConvergenceWarning: lbfgs failed to converge (status=1):\n",
            "STOP: TOTAL NO. of ITERATIONS REACHED LIMIT.\n",
            "\n",
            "Increase the number of iterations (max_iter) or scale the data as shown in:\n",
            "    https://scikit-learn.org/stable/modules/preprocessing.html\n",
            "Please also refer to the documentation for alternative solver options:\n",
            "    https://scikit-learn.org/stable/modules/linear_model.html#logistic-regression\n",
            "  extra_warning_msg=_LOGISTIC_SOLVER_CONVERGENCE_MSG)\n"
          ],
          "name": "stderr"
        },
        {
          "output_type": "stream",
          "text": [
            "[CV] ............................ kmeans__n_clusters=60, total=   0.9s\n",
            "[CV] kmeans__n_clusters=60 ...........................................\n"
          ],
          "name": "stdout"
        },
        {
          "output_type": "stream",
          "text": [
            "/usr/local/lib/python3.6/dist-packages/sklearn/linear_model/_logistic.py:940: ConvergenceWarning: lbfgs failed to converge (status=1):\n",
            "STOP: TOTAL NO. of ITERATIONS REACHED LIMIT.\n",
            "\n",
            "Increase the number of iterations (max_iter) or scale the data as shown in:\n",
            "    https://scikit-learn.org/stable/modules/preprocessing.html\n",
            "Please also refer to the documentation for alternative solver options:\n",
            "    https://scikit-learn.org/stable/modules/linear_model.html#logistic-regression\n",
            "  extra_warning_msg=_LOGISTIC_SOLVER_CONVERGENCE_MSG)\n"
          ],
          "name": "stderr"
        },
        {
          "output_type": "stream",
          "text": [
            "[CV] ............................ kmeans__n_clusters=60, total=   0.9s\n",
            "[CV] kmeans__n_clusters=60 ...........................................\n"
          ],
          "name": "stdout"
        },
        {
          "output_type": "stream",
          "text": [
            "/usr/local/lib/python3.6/dist-packages/sklearn/linear_model/_logistic.py:940: ConvergenceWarning: lbfgs failed to converge (status=1):\n",
            "STOP: TOTAL NO. of ITERATIONS REACHED LIMIT.\n",
            "\n",
            "Increase the number of iterations (max_iter) or scale the data as shown in:\n",
            "    https://scikit-learn.org/stable/modules/preprocessing.html\n",
            "Please also refer to the documentation for alternative solver options:\n",
            "    https://scikit-learn.org/stable/modules/linear_model.html#logistic-regression\n",
            "  extra_warning_msg=_LOGISTIC_SOLVER_CONVERGENCE_MSG)\n"
          ],
          "name": "stderr"
        },
        {
          "output_type": "stream",
          "text": [
            "[CV] ............................ kmeans__n_clusters=60, total=   0.9s\n",
            "[CV] kmeans__n_clusters=61 ...........................................\n"
          ],
          "name": "stdout"
        },
        {
          "output_type": "stream",
          "text": [
            "/usr/local/lib/python3.6/dist-packages/sklearn/linear_model/_logistic.py:940: ConvergenceWarning: lbfgs failed to converge (status=1):\n",
            "STOP: TOTAL NO. of ITERATIONS REACHED LIMIT.\n",
            "\n",
            "Increase the number of iterations (max_iter) or scale the data as shown in:\n",
            "    https://scikit-learn.org/stable/modules/preprocessing.html\n",
            "Please also refer to the documentation for alternative solver options:\n",
            "    https://scikit-learn.org/stable/modules/linear_model.html#logistic-regression\n",
            "  extra_warning_msg=_LOGISTIC_SOLVER_CONVERGENCE_MSG)\n"
          ],
          "name": "stderr"
        },
        {
          "output_type": "stream",
          "text": [
            "[CV] ............................ kmeans__n_clusters=61, total=   0.9s\n",
            "[CV] kmeans__n_clusters=61 ...........................................\n"
          ],
          "name": "stdout"
        },
        {
          "output_type": "stream",
          "text": [
            "/usr/local/lib/python3.6/dist-packages/sklearn/linear_model/_logistic.py:940: ConvergenceWarning: lbfgs failed to converge (status=1):\n",
            "STOP: TOTAL NO. of ITERATIONS REACHED LIMIT.\n",
            "\n",
            "Increase the number of iterations (max_iter) or scale the data as shown in:\n",
            "    https://scikit-learn.org/stable/modules/preprocessing.html\n",
            "Please also refer to the documentation for alternative solver options:\n",
            "    https://scikit-learn.org/stable/modules/linear_model.html#logistic-regression\n",
            "  extra_warning_msg=_LOGISTIC_SOLVER_CONVERGENCE_MSG)\n"
          ],
          "name": "stderr"
        },
        {
          "output_type": "stream",
          "text": [
            "[CV] ............................ kmeans__n_clusters=61, total=   0.9s\n",
            "[CV] kmeans__n_clusters=61 ...........................................\n"
          ],
          "name": "stdout"
        },
        {
          "output_type": "stream",
          "text": [
            "/usr/local/lib/python3.6/dist-packages/sklearn/linear_model/_logistic.py:940: ConvergenceWarning: lbfgs failed to converge (status=1):\n",
            "STOP: TOTAL NO. of ITERATIONS REACHED LIMIT.\n",
            "\n",
            "Increase the number of iterations (max_iter) or scale the data as shown in:\n",
            "    https://scikit-learn.org/stable/modules/preprocessing.html\n",
            "Please also refer to the documentation for alternative solver options:\n",
            "    https://scikit-learn.org/stable/modules/linear_model.html#logistic-regression\n",
            "  extra_warning_msg=_LOGISTIC_SOLVER_CONVERGENCE_MSG)\n"
          ],
          "name": "stderr"
        },
        {
          "output_type": "stream",
          "text": [
            "[CV] ............................ kmeans__n_clusters=61, total=   0.9s\n",
            "[CV] kmeans__n_clusters=62 ...........................................\n"
          ],
          "name": "stdout"
        },
        {
          "output_type": "stream",
          "text": [
            "/usr/local/lib/python3.6/dist-packages/sklearn/linear_model/_logistic.py:940: ConvergenceWarning: lbfgs failed to converge (status=1):\n",
            "STOP: TOTAL NO. of ITERATIONS REACHED LIMIT.\n",
            "\n",
            "Increase the number of iterations (max_iter) or scale the data as shown in:\n",
            "    https://scikit-learn.org/stable/modules/preprocessing.html\n",
            "Please also refer to the documentation for alternative solver options:\n",
            "    https://scikit-learn.org/stable/modules/linear_model.html#logistic-regression\n",
            "  extra_warning_msg=_LOGISTIC_SOLVER_CONVERGENCE_MSG)\n"
          ],
          "name": "stderr"
        },
        {
          "output_type": "stream",
          "text": [
            "[CV] ............................ kmeans__n_clusters=62, total=   0.9s\n",
            "[CV] kmeans__n_clusters=62 ...........................................\n"
          ],
          "name": "stdout"
        },
        {
          "output_type": "stream",
          "text": [
            "/usr/local/lib/python3.6/dist-packages/sklearn/linear_model/_logistic.py:940: ConvergenceWarning: lbfgs failed to converge (status=1):\n",
            "STOP: TOTAL NO. of ITERATIONS REACHED LIMIT.\n",
            "\n",
            "Increase the number of iterations (max_iter) or scale the data as shown in:\n",
            "    https://scikit-learn.org/stable/modules/preprocessing.html\n",
            "Please also refer to the documentation for alternative solver options:\n",
            "    https://scikit-learn.org/stable/modules/linear_model.html#logistic-regression\n",
            "  extra_warning_msg=_LOGISTIC_SOLVER_CONVERGENCE_MSG)\n"
          ],
          "name": "stderr"
        },
        {
          "output_type": "stream",
          "text": [
            "[CV] ............................ kmeans__n_clusters=62, total=   0.9s\n",
            "[CV] kmeans__n_clusters=62 ...........................................\n"
          ],
          "name": "stdout"
        },
        {
          "output_type": "stream",
          "text": [
            "/usr/local/lib/python3.6/dist-packages/sklearn/linear_model/_logistic.py:940: ConvergenceWarning: lbfgs failed to converge (status=1):\n",
            "STOP: TOTAL NO. of ITERATIONS REACHED LIMIT.\n",
            "\n",
            "Increase the number of iterations (max_iter) or scale the data as shown in:\n",
            "    https://scikit-learn.org/stable/modules/preprocessing.html\n",
            "Please also refer to the documentation for alternative solver options:\n",
            "    https://scikit-learn.org/stable/modules/linear_model.html#logistic-regression\n",
            "  extra_warning_msg=_LOGISTIC_SOLVER_CONVERGENCE_MSG)\n"
          ],
          "name": "stderr"
        },
        {
          "output_type": "stream",
          "text": [
            "[CV] ............................ kmeans__n_clusters=62, total=   0.9s\n",
            "[CV] kmeans__n_clusters=63 ...........................................\n"
          ],
          "name": "stdout"
        },
        {
          "output_type": "stream",
          "text": [
            "/usr/local/lib/python3.6/dist-packages/sklearn/linear_model/_logistic.py:940: ConvergenceWarning: lbfgs failed to converge (status=1):\n",
            "STOP: TOTAL NO. of ITERATIONS REACHED LIMIT.\n",
            "\n",
            "Increase the number of iterations (max_iter) or scale the data as shown in:\n",
            "    https://scikit-learn.org/stable/modules/preprocessing.html\n",
            "Please also refer to the documentation for alternative solver options:\n",
            "    https://scikit-learn.org/stable/modules/linear_model.html#logistic-regression\n",
            "  extra_warning_msg=_LOGISTIC_SOLVER_CONVERGENCE_MSG)\n"
          ],
          "name": "stderr"
        },
        {
          "output_type": "stream",
          "text": [
            "[CV] ............................ kmeans__n_clusters=63, total=   0.9s\n",
            "[CV] kmeans__n_clusters=63 ...........................................\n"
          ],
          "name": "stdout"
        },
        {
          "output_type": "stream",
          "text": [
            "/usr/local/lib/python3.6/dist-packages/sklearn/linear_model/_logistic.py:940: ConvergenceWarning: lbfgs failed to converge (status=1):\n",
            "STOP: TOTAL NO. of ITERATIONS REACHED LIMIT.\n",
            "\n",
            "Increase the number of iterations (max_iter) or scale the data as shown in:\n",
            "    https://scikit-learn.org/stable/modules/preprocessing.html\n",
            "Please also refer to the documentation for alternative solver options:\n",
            "    https://scikit-learn.org/stable/modules/linear_model.html#logistic-regression\n",
            "  extra_warning_msg=_LOGISTIC_SOLVER_CONVERGENCE_MSG)\n"
          ],
          "name": "stderr"
        },
        {
          "output_type": "stream",
          "text": [
            "[CV] ............................ kmeans__n_clusters=63, total=   0.9s\n",
            "[CV] kmeans__n_clusters=63 ...........................................\n"
          ],
          "name": "stdout"
        },
        {
          "output_type": "stream",
          "text": [
            "/usr/local/lib/python3.6/dist-packages/sklearn/linear_model/_logistic.py:940: ConvergenceWarning: lbfgs failed to converge (status=1):\n",
            "STOP: TOTAL NO. of ITERATIONS REACHED LIMIT.\n",
            "\n",
            "Increase the number of iterations (max_iter) or scale the data as shown in:\n",
            "    https://scikit-learn.org/stable/modules/preprocessing.html\n",
            "Please also refer to the documentation for alternative solver options:\n",
            "    https://scikit-learn.org/stable/modules/linear_model.html#logistic-regression\n",
            "  extra_warning_msg=_LOGISTIC_SOLVER_CONVERGENCE_MSG)\n"
          ],
          "name": "stderr"
        },
        {
          "output_type": "stream",
          "text": [
            "[CV] ............................ kmeans__n_clusters=63, total=   0.9s\n",
            "[CV] kmeans__n_clusters=64 ...........................................\n"
          ],
          "name": "stdout"
        },
        {
          "output_type": "stream",
          "text": [
            "/usr/local/lib/python3.6/dist-packages/sklearn/linear_model/_logistic.py:940: ConvergenceWarning: lbfgs failed to converge (status=1):\n",
            "STOP: TOTAL NO. of ITERATIONS REACHED LIMIT.\n",
            "\n",
            "Increase the number of iterations (max_iter) or scale the data as shown in:\n",
            "    https://scikit-learn.org/stable/modules/preprocessing.html\n",
            "Please also refer to the documentation for alternative solver options:\n",
            "    https://scikit-learn.org/stable/modules/linear_model.html#logistic-regression\n",
            "  extra_warning_msg=_LOGISTIC_SOLVER_CONVERGENCE_MSG)\n"
          ],
          "name": "stderr"
        },
        {
          "output_type": "stream",
          "text": [
            "[CV] ............................ kmeans__n_clusters=64, total=   0.9s\n",
            "[CV] kmeans__n_clusters=64 ...........................................\n"
          ],
          "name": "stdout"
        },
        {
          "output_type": "stream",
          "text": [
            "/usr/local/lib/python3.6/dist-packages/sklearn/linear_model/_logistic.py:940: ConvergenceWarning: lbfgs failed to converge (status=1):\n",
            "STOP: TOTAL NO. of ITERATIONS REACHED LIMIT.\n",
            "\n",
            "Increase the number of iterations (max_iter) or scale the data as shown in:\n",
            "    https://scikit-learn.org/stable/modules/preprocessing.html\n",
            "Please also refer to the documentation for alternative solver options:\n",
            "    https://scikit-learn.org/stable/modules/linear_model.html#logistic-regression\n",
            "  extra_warning_msg=_LOGISTIC_SOLVER_CONVERGENCE_MSG)\n"
          ],
          "name": "stderr"
        },
        {
          "output_type": "stream",
          "text": [
            "[CV] ............................ kmeans__n_clusters=64, total=   1.0s\n",
            "[CV] kmeans__n_clusters=64 ...........................................\n"
          ],
          "name": "stdout"
        },
        {
          "output_type": "stream",
          "text": [
            "/usr/local/lib/python3.6/dist-packages/sklearn/linear_model/_logistic.py:940: ConvergenceWarning: lbfgs failed to converge (status=1):\n",
            "STOP: TOTAL NO. of ITERATIONS REACHED LIMIT.\n",
            "\n",
            "Increase the number of iterations (max_iter) or scale the data as shown in:\n",
            "    https://scikit-learn.org/stable/modules/preprocessing.html\n",
            "Please also refer to the documentation for alternative solver options:\n",
            "    https://scikit-learn.org/stable/modules/linear_model.html#logistic-regression\n",
            "  extra_warning_msg=_LOGISTIC_SOLVER_CONVERGENCE_MSG)\n"
          ],
          "name": "stderr"
        },
        {
          "output_type": "stream",
          "text": [
            "[CV] ............................ kmeans__n_clusters=64, total=   0.9s\n",
            "[CV] kmeans__n_clusters=65 ...........................................\n"
          ],
          "name": "stdout"
        },
        {
          "output_type": "stream",
          "text": [
            "/usr/local/lib/python3.6/dist-packages/sklearn/linear_model/_logistic.py:940: ConvergenceWarning: lbfgs failed to converge (status=1):\n",
            "STOP: TOTAL NO. of ITERATIONS REACHED LIMIT.\n",
            "\n",
            "Increase the number of iterations (max_iter) or scale the data as shown in:\n",
            "    https://scikit-learn.org/stable/modules/preprocessing.html\n",
            "Please also refer to the documentation for alternative solver options:\n",
            "    https://scikit-learn.org/stable/modules/linear_model.html#logistic-regression\n",
            "  extra_warning_msg=_LOGISTIC_SOLVER_CONVERGENCE_MSG)\n"
          ],
          "name": "stderr"
        },
        {
          "output_type": "stream",
          "text": [
            "[CV] ............................ kmeans__n_clusters=65, total=   0.9s\n",
            "[CV] kmeans__n_clusters=65 ...........................................\n"
          ],
          "name": "stdout"
        },
        {
          "output_type": "stream",
          "text": [
            "/usr/local/lib/python3.6/dist-packages/sklearn/linear_model/_logistic.py:940: ConvergenceWarning: lbfgs failed to converge (status=1):\n",
            "STOP: TOTAL NO. of ITERATIONS REACHED LIMIT.\n",
            "\n",
            "Increase the number of iterations (max_iter) or scale the data as shown in:\n",
            "    https://scikit-learn.org/stable/modules/preprocessing.html\n",
            "Please also refer to the documentation for alternative solver options:\n",
            "    https://scikit-learn.org/stable/modules/linear_model.html#logistic-regression\n",
            "  extra_warning_msg=_LOGISTIC_SOLVER_CONVERGENCE_MSG)\n"
          ],
          "name": "stderr"
        },
        {
          "output_type": "stream",
          "text": [
            "[CV] ............................ kmeans__n_clusters=65, total=   0.9s\n",
            "[CV] kmeans__n_clusters=65 ...........................................\n"
          ],
          "name": "stdout"
        },
        {
          "output_type": "stream",
          "text": [
            "/usr/local/lib/python3.6/dist-packages/sklearn/linear_model/_logistic.py:940: ConvergenceWarning: lbfgs failed to converge (status=1):\n",
            "STOP: TOTAL NO. of ITERATIONS REACHED LIMIT.\n",
            "\n",
            "Increase the number of iterations (max_iter) or scale the data as shown in:\n",
            "    https://scikit-learn.org/stable/modules/preprocessing.html\n",
            "Please also refer to the documentation for alternative solver options:\n",
            "    https://scikit-learn.org/stable/modules/linear_model.html#logistic-regression\n",
            "  extra_warning_msg=_LOGISTIC_SOLVER_CONVERGENCE_MSG)\n"
          ],
          "name": "stderr"
        },
        {
          "output_type": "stream",
          "text": [
            "[CV] ............................ kmeans__n_clusters=65, total=   0.9s\n",
            "[CV] kmeans__n_clusters=66 ...........................................\n"
          ],
          "name": "stdout"
        },
        {
          "output_type": "stream",
          "text": [
            "/usr/local/lib/python3.6/dist-packages/sklearn/linear_model/_logistic.py:940: ConvergenceWarning: lbfgs failed to converge (status=1):\n",
            "STOP: TOTAL NO. of ITERATIONS REACHED LIMIT.\n",
            "\n",
            "Increase the number of iterations (max_iter) or scale the data as shown in:\n",
            "    https://scikit-learn.org/stable/modules/preprocessing.html\n",
            "Please also refer to the documentation for alternative solver options:\n",
            "    https://scikit-learn.org/stable/modules/linear_model.html#logistic-regression\n",
            "  extra_warning_msg=_LOGISTIC_SOLVER_CONVERGENCE_MSG)\n"
          ],
          "name": "stderr"
        },
        {
          "output_type": "stream",
          "text": [
            "[CV] ............................ kmeans__n_clusters=66, total=   0.9s\n",
            "[CV] kmeans__n_clusters=66 ...........................................\n"
          ],
          "name": "stdout"
        },
        {
          "output_type": "stream",
          "text": [
            "/usr/local/lib/python3.6/dist-packages/sklearn/linear_model/_logistic.py:940: ConvergenceWarning: lbfgs failed to converge (status=1):\n",
            "STOP: TOTAL NO. of ITERATIONS REACHED LIMIT.\n",
            "\n",
            "Increase the number of iterations (max_iter) or scale the data as shown in:\n",
            "    https://scikit-learn.org/stable/modules/preprocessing.html\n",
            "Please also refer to the documentation for alternative solver options:\n",
            "    https://scikit-learn.org/stable/modules/linear_model.html#logistic-regression\n",
            "  extra_warning_msg=_LOGISTIC_SOLVER_CONVERGENCE_MSG)\n"
          ],
          "name": "stderr"
        },
        {
          "output_type": "stream",
          "text": [
            "[CV] ............................ kmeans__n_clusters=66, total=   0.9s\n",
            "[CV] kmeans__n_clusters=66 ...........................................\n"
          ],
          "name": "stdout"
        },
        {
          "output_type": "stream",
          "text": [
            "/usr/local/lib/python3.6/dist-packages/sklearn/linear_model/_logistic.py:940: ConvergenceWarning: lbfgs failed to converge (status=1):\n",
            "STOP: TOTAL NO. of ITERATIONS REACHED LIMIT.\n",
            "\n",
            "Increase the number of iterations (max_iter) or scale the data as shown in:\n",
            "    https://scikit-learn.org/stable/modules/preprocessing.html\n",
            "Please also refer to the documentation for alternative solver options:\n",
            "    https://scikit-learn.org/stable/modules/linear_model.html#logistic-regression\n",
            "  extra_warning_msg=_LOGISTIC_SOLVER_CONVERGENCE_MSG)\n"
          ],
          "name": "stderr"
        },
        {
          "output_type": "stream",
          "text": [
            "[CV] ............................ kmeans__n_clusters=66, total=   1.0s\n",
            "[CV] kmeans__n_clusters=67 ...........................................\n"
          ],
          "name": "stdout"
        },
        {
          "output_type": "stream",
          "text": [
            "/usr/local/lib/python3.6/dist-packages/sklearn/linear_model/_logistic.py:940: ConvergenceWarning: lbfgs failed to converge (status=1):\n",
            "STOP: TOTAL NO. of ITERATIONS REACHED LIMIT.\n",
            "\n",
            "Increase the number of iterations (max_iter) or scale the data as shown in:\n",
            "    https://scikit-learn.org/stable/modules/preprocessing.html\n",
            "Please also refer to the documentation for alternative solver options:\n",
            "    https://scikit-learn.org/stable/modules/linear_model.html#logistic-regression\n",
            "  extra_warning_msg=_LOGISTIC_SOLVER_CONVERGENCE_MSG)\n"
          ],
          "name": "stderr"
        },
        {
          "output_type": "stream",
          "text": [
            "[CV] ............................ kmeans__n_clusters=67, total=   0.9s\n",
            "[CV] kmeans__n_clusters=67 ...........................................\n"
          ],
          "name": "stdout"
        },
        {
          "output_type": "stream",
          "text": [
            "/usr/local/lib/python3.6/dist-packages/sklearn/linear_model/_logistic.py:940: ConvergenceWarning: lbfgs failed to converge (status=1):\n",
            "STOP: TOTAL NO. of ITERATIONS REACHED LIMIT.\n",
            "\n",
            "Increase the number of iterations (max_iter) or scale the data as shown in:\n",
            "    https://scikit-learn.org/stable/modules/preprocessing.html\n",
            "Please also refer to the documentation for alternative solver options:\n",
            "    https://scikit-learn.org/stable/modules/linear_model.html#logistic-regression\n",
            "  extra_warning_msg=_LOGISTIC_SOLVER_CONVERGENCE_MSG)\n"
          ],
          "name": "stderr"
        },
        {
          "output_type": "stream",
          "text": [
            "[CV] ............................ kmeans__n_clusters=67, total=   0.9s\n",
            "[CV] kmeans__n_clusters=67 ...........................................\n"
          ],
          "name": "stdout"
        },
        {
          "output_type": "stream",
          "text": [
            "/usr/local/lib/python3.6/dist-packages/sklearn/linear_model/_logistic.py:940: ConvergenceWarning: lbfgs failed to converge (status=1):\n",
            "STOP: TOTAL NO. of ITERATIONS REACHED LIMIT.\n",
            "\n",
            "Increase the number of iterations (max_iter) or scale the data as shown in:\n",
            "    https://scikit-learn.org/stable/modules/preprocessing.html\n",
            "Please also refer to the documentation for alternative solver options:\n",
            "    https://scikit-learn.org/stable/modules/linear_model.html#logistic-regression\n",
            "  extra_warning_msg=_LOGISTIC_SOLVER_CONVERGENCE_MSG)\n"
          ],
          "name": "stderr"
        },
        {
          "output_type": "stream",
          "text": [
            "[CV] ............................ kmeans__n_clusters=67, total=   0.9s\n",
            "[CV] kmeans__n_clusters=68 ...........................................\n"
          ],
          "name": "stdout"
        },
        {
          "output_type": "stream",
          "text": [
            "/usr/local/lib/python3.6/dist-packages/sklearn/linear_model/_logistic.py:940: ConvergenceWarning: lbfgs failed to converge (status=1):\n",
            "STOP: TOTAL NO. of ITERATIONS REACHED LIMIT.\n",
            "\n",
            "Increase the number of iterations (max_iter) or scale the data as shown in:\n",
            "    https://scikit-learn.org/stable/modules/preprocessing.html\n",
            "Please also refer to the documentation for alternative solver options:\n",
            "    https://scikit-learn.org/stable/modules/linear_model.html#logistic-regression\n",
            "  extra_warning_msg=_LOGISTIC_SOLVER_CONVERGENCE_MSG)\n"
          ],
          "name": "stderr"
        },
        {
          "output_type": "stream",
          "text": [
            "[CV] ............................ kmeans__n_clusters=68, total=   0.9s\n",
            "[CV] kmeans__n_clusters=68 ...........................................\n"
          ],
          "name": "stdout"
        },
        {
          "output_type": "stream",
          "text": [
            "/usr/local/lib/python3.6/dist-packages/sklearn/linear_model/_logistic.py:940: ConvergenceWarning: lbfgs failed to converge (status=1):\n",
            "STOP: TOTAL NO. of ITERATIONS REACHED LIMIT.\n",
            "\n",
            "Increase the number of iterations (max_iter) or scale the data as shown in:\n",
            "    https://scikit-learn.org/stable/modules/preprocessing.html\n",
            "Please also refer to the documentation for alternative solver options:\n",
            "    https://scikit-learn.org/stable/modules/linear_model.html#logistic-regression\n",
            "  extra_warning_msg=_LOGISTIC_SOLVER_CONVERGENCE_MSG)\n"
          ],
          "name": "stderr"
        },
        {
          "output_type": "stream",
          "text": [
            "[CV] ............................ kmeans__n_clusters=68, total=   1.0s\n",
            "[CV] kmeans__n_clusters=68 ...........................................\n"
          ],
          "name": "stdout"
        },
        {
          "output_type": "stream",
          "text": [
            "/usr/local/lib/python3.6/dist-packages/sklearn/linear_model/_logistic.py:940: ConvergenceWarning: lbfgs failed to converge (status=1):\n",
            "STOP: TOTAL NO. of ITERATIONS REACHED LIMIT.\n",
            "\n",
            "Increase the number of iterations (max_iter) or scale the data as shown in:\n",
            "    https://scikit-learn.org/stable/modules/preprocessing.html\n",
            "Please also refer to the documentation for alternative solver options:\n",
            "    https://scikit-learn.org/stable/modules/linear_model.html#logistic-regression\n",
            "  extra_warning_msg=_LOGISTIC_SOLVER_CONVERGENCE_MSG)\n"
          ],
          "name": "stderr"
        },
        {
          "output_type": "stream",
          "text": [
            "[CV] ............................ kmeans__n_clusters=68, total=   1.0s\n",
            "[CV] kmeans__n_clusters=69 ...........................................\n"
          ],
          "name": "stdout"
        },
        {
          "output_type": "stream",
          "text": [
            "/usr/local/lib/python3.6/dist-packages/sklearn/linear_model/_logistic.py:940: ConvergenceWarning: lbfgs failed to converge (status=1):\n",
            "STOP: TOTAL NO. of ITERATIONS REACHED LIMIT.\n",
            "\n",
            "Increase the number of iterations (max_iter) or scale the data as shown in:\n",
            "    https://scikit-learn.org/stable/modules/preprocessing.html\n",
            "Please also refer to the documentation for alternative solver options:\n",
            "    https://scikit-learn.org/stable/modules/linear_model.html#logistic-regression\n",
            "  extra_warning_msg=_LOGISTIC_SOLVER_CONVERGENCE_MSG)\n"
          ],
          "name": "stderr"
        },
        {
          "output_type": "stream",
          "text": [
            "[CV] ............................ kmeans__n_clusters=69, total=   1.0s\n",
            "[CV] kmeans__n_clusters=69 ...........................................\n"
          ],
          "name": "stdout"
        },
        {
          "output_type": "stream",
          "text": [
            "/usr/local/lib/python3.6/dist-packages/sklearn/linear_model/_logistic.py:940: ConvergenceWarning: lbfgs failed to converge (status=1):\n",
            "STOP: TOTAL NO. of ITERATIONS REACHED LIMIT.\n",
            "\n",
            "Increase the number of iterations (max_iter) or scale the data as shown in:\n",
            "    https://scikit-learn.org/stable/modules/preprocessing.html\n",
            "Please also refer to the documentation for alternative solver options:\n",
            "    https://scikit-learn.org/stable/modules/linear_model.html#logistic-regression\n",
            "  extra_warning_msg=_LOGISTIC_SOLVER_CONVERGENCE_MSG)\n"
          ],
          "name": "stderr"
        },
        {
          "output_type": "stream",
          "text": [
            "[CV] ............................ kmeans__n_clusters=69, total=   1.0s\n",
            "[CV] kmeans__n_clusters=69 ...........................................\n"
          ],
          "name": "stdout"
        },
        {
          "output_type": "stream",
          "text": [
            "/usr/local/lib/python3.6/dist-packages/sklearn/linear_model/_logistic.py:940: ConvergenceWarning: lbfgs failed to converge (status=1):\n",
            "STOP: TOTAL NO. of ITERATIONS REACHED LIMIT.\n",
            "\n",
            "Increase the number of iterations (max_iter) or scale the data as shown in:\n",
            "    https://scikit-learn.org/stable/modules/preprocessing.html\n",
            "Please also refer to the documentation for alternative solver options:\n",
            "    https://scikit-learn.org/stable/modules/linear_model.html#logistic-regression\n",
            "  extra_warning_msg=_LOGISTIC_SOLVER_CONVERGENCE_MSG)\n"
          ],
          "name": "stderr"
        },
        {
          "output_type": "stream",
          "text": [
            "[CV] ............................ kmeans__n_clusters=69, total=   0.9s\n",
            "[CV] kmeans__n_clusters=70 ...........................................\n"
          ],
          "name": "stdout"
        },
        {
          "output_type": "stream",
          "text": [
            "/usr/local/lib/python3.6/dist-packages/sklearn/linear_model/_logistic.py:940: ConvergenceWarning: lbfgs failed to converge (status=1):\n",
            "STOP: TOTAL NO. of ITERATIONS REACHED LIMIT.\n",
            "\n",
            "Increase the number of iterations (max_iter) or scale the data as shown in:\n",
            "    https://scikit-learn.org/stable/modules/preprocessing.html\n",
            "Please also refer to the documentation for alternative solver options:\n",
            "    https://scikit-learn.org/stable/modules/linear_model.html#logistic-regression\n",
            "  extra_warning_msg=_LOGISTIC_SOLVER_CONVERGENCE_MSG)\n"
          ],
          "name": "stderr"
        },
        {
          "output_type": "stream",
          "text": [
            "[CV] ............................ kmeans__n_clusters=70, total=   1.0s\n",
            "[CV] kmeans__n_clusters=70 ...........................................\n"
          ],
          "name": "stdout"
        },
        {
          "output_type": "stream",
          "text": [
            "/usr/local/lib/python3.6/dist-packages/sklearn/linear_model/_logistic.py:940: ConvergenceWarning: lbfgs failed to converge (status=1):\n",
            "STOP: TOTAL NO. of ITERATIONS REACHED LIMIT.\n",
            "\n",
            "Increase the number of iterations (max_iter) or scale the data as shown in:\n",
            "    https://scikit-learn.org/stable/modules/preprocessing.html\n",
            "Please also refer to the documentation for alternative solver options:\n",
            "    https://scikit-learn.org/stable/modules/linear_model.html#logistic-regression\n",
            "  extra_warning_msg=_LOGISTIC_SOLVER_CONVERGENCE_MSG)\n"
          ],
          "name": "stderr"
        },
        {
          "output_type": "stream",
          "text": [
            "[CV] ............................ kmeans__n_clusters=70, total=   1.0s\n",
            "[CV] kmeans__n_clusters=70 ...........................................\n"
          ],
          "name": "stdout"
        },
        {
          "output_type": "stream",
          "text": [
            "/usr/local/lib/python3.6/dist-packages/sklearn/linear_model/_logistic.py:940: ConvergenceWarning: lbfgs failed to converge (status=1):\n",
            "STOP: TOTAL NO. of ITERATIONS REACHED LIMIT.\n",
            "\n",
            "Increase the number of iterations (max_iter) or scale the data as shown in:\n",
            "    https://scikit-learn.org/stable/modules/preprocessing.html\n",
            "Please also refer to the documentation for alternative solver options:\n",
            "    https://scikit-learn.org/stable/modules/linear_model.html#logistic-regression\n",
            "  extra_warning_msg=_LOGISTIC_SOLVER_CONVERGENCE_MSG)\n"
          ],
          "name": "stderr"
        },
        {
          "output_type": "stream",
          "text": [
            "[CV] ............................ kmeans__n_clusters=70, total=   1.0s\n",
            "[CV] kmeans__n_clusters=71 ...........................................\n"
          ],
          "name": "stdout"
        },
        {
          "output_type": "stream",
          "text": [
            "/usr/local/lib/python3.6/dist-packages/sklearn/linear_model/_logistic.py:940: ConvergenceWarning: lbfgs failed to converge (status=1):\n",
            "STOP: TOTAL NO. of ITERATIONS REACHED LIMIT.\n",
            "\n",
            "Increase the number of iterations (max_iter) or scale the data as shown in:\n",
            "    https://scikit-learn.org/stable/modules/preprocessing.html\n",
            "Please also refer to the documentation for alternative solver options:\n",
            "    https://scikit-learn.org/stable/modules/linear_model.html#logistic-regression\n",
            "  extra_warning_msg=_LOGISTIC_SOLVER_CONVERGENCE_MSG)\n"
          ],
          "name": "stderr"
        },
        {
          "output_type": "stream",
          "text": [
            "[CV] ............................ kmeans__n_clusters=71, total=   1.0s\n",
            "[CV] kmeans__n_clusters=71 ...........................................\n"
          ],
          "name": "stdout"
        },
        {
          "output_type": "stream",
          "text": [
            "/usr/local/lib/python3.6/dist-packages/sklearn/linear_model/_logistic.py:940: ConvergenceWarning: lbfgs failed to converge (status=1):\n",
            "STOP: TOTAL NO. of ITERATIONS REACHED LIMIT.\n",
            "\n",
            "Increase the number of iterations (max_iter) or scale the data as shown in:\n",
            "    https://scikit-learn.org/stable/modules/preprocessing.html\n",
            "Please also refer to the documentation for alternative solver options:\n",
            "    https://scikit-learn.org/stable/modules/linear_model.html#logistic-regression\n",
            "  extra_warning_msg=_LOGISTIC_SOLVER_CONVERGENCE_MSG)\n"
          ],
          "name": "stderr"
        },
        {
          "output_type": "stream",
          "text": [
            "[CV] ............................ kmeans__n_clusters=71, total=   1.0s\n",
            "[CV] kmeans__n_clusters=71 ...........................................\n"
          ],
          "name": "stdout"
        },
        {
          "output_type": "stream",
          "text": [
            "/usr/local/lib/python3.6/dist-packages/sklearn/linear_model/_logistic.py:940: ConvergenceWarning: lbfgs failed to converge (status=1):\n",
            "STOP: TOTAL NO. of ITERATIONS REACHED LIMIT.\n",
            "\n",
            "Increase the number of iterations (max_iter) or scale the data as shown in:\n",
            "    https://scikit-learn.org/stable/modules/preprocessing.html\n",
            "Please also refer to the documentation for alternative solver options:\n",
            "    https://scikit-learn.org/stable/modules/linear_model.html#logistic-regression\n",
            "  extra_warning_msg=_LOGISTIC_SOLVER_CONVERGENCE_MSG)\n"
          ],
          "name": "stderr"
        },
        {
          "output_type": "stream",
          "text": [
            "[CV] ............................ kmeans__n_clusters=71, total=   1.0s\n",
            "[CV] kmeans__n_clusters=72 ...........................................\n"
          ],
          "name": "stdout"
        },
        {
          "output_type": "stream",
          "text": [
            "/usr/local/lib/python3.6/dist-packages/sklearn/linear_model/_logistic.py:940: ConvergenceWarning: lbfgs failed to converge (status=1):\n",
            "STOP: TOTAL NO. of ITERATIONS REACHED LIMIT.\n",
            "\n",
            "Increase the number of iterations (max_iter) or scale the data as shown in:\n",
            "    https://scikit-learn.org/stable/modules/preprocessing.html\n",
            "Please also refer to the documentation for alternative solver options:\n",
            "    https://scikit-learn.org/stable/modules/linear_model.html#logistic-regression\n",
            "  extra_warning_msg=_LOGISTIC_SOLVER_CONVERGENCE_MSG)\n"
          ],
          "name": "stderr"
        },
        {
          "output_type": "stream",
          "text": [
            "[CV] ............................ kmeans__n_clusters=72, total=   1.0s\n",
            "[CV] kmeans__n_clusters=72 ...........................................\n"
          ],
          "name": "stdout"
        },
        {
          "output_type": "stream",
          "text": [
            "/usr/local/lib/python3.6/dist-packages/sklearn/linear_model/_logistic.py:940: ConvergenceWarning: lbfgs failed to converge (status=1):\n",
            "STOP: TOTAL NO. of ITERATIONS REACHED LIMIT.\n",
            "\n",
            "Increase the number of iterations (max_iter) or scale the data as shown in:\n",
            "    https://scikit-learn.org/stable/modules/preprocessing.html\n",
            "Please also refer to the documentation for alternative solver options:\n",
            "    https://scikit-learn.org/stable/modules/linear_model.html#logistic-regression\n",
            "  extra_warning_msg=_LOGISTIC_SOLVER_CONVERGENCE_MSG)\n"
          ],
          "name": "stderr"
        },
        {
          "output_type": "stream",
          "text": [
            "[CV] ............................ kmeans__n_clusters=72, total=   1.0s\n",
            "[CV] kmeans__n_clusters=72 ...........................................\n"
          ],
          "name": "stdout"
        },
        {
          "output_type": "stream",
          "text": [
            "/usr/local/lib/python3.6/dist-packages/sklearn/linear_model/_logistic.py:940: ConvergenceWarning: lbfgs failed to converge (status=1):\n",
            "STOP: TOTAL NO. of ITERATIONS REACHED LIMIT.\n",
            "\n",
            "Increase the number of iterations (max_iter) or scale the data as shown in:\n",
            "    https://scikit-learn.org/stable/modules/preprocessing.html\n",
            "Please also refer to the documentation for alternative solver options:\n",
            "    https://scikit-learn.org/stable/modules/linear_model.html#logistic-regression\n",
            "  extra_warning_msg=_LOGISTIC_SOLVER_CONVERGENCE_MSG)\n"
          ],
          "name": "stderr"
        },
        {
          "output_type": "stream",
          "text": [
            "[CV] ............................ kmeans__n_clusters=72, total=   1.0s\n",
            "[CV] kmeans__n_clusters=73 ...........................................\n"
          ],
          "name": "stdout"
        },
        {
          "output_type": "stream",
          "text": [
            "/usr/local/lib/python3.6/dist-packages/sklearn/linear_model/_logistic.py:940: ConvergenceWarning: lbfgs failed to converge (status=1):\n",
            "STOP: TOTAL NO. of ITERATIONS REACHED LIMIT.\n",
            "\n",
            "Increase the number of iterations (max_iter) or scale the data as shown in:\n",
            "    https://scikit-learn.org/stable/modules/preprocessing.html\n",
            "Please also refer to the documentation for alternative solver options:\n",
            "    https://scikit-learn.org/stable/modules/linear_model.html#logistic-regression\n",
            "  extra_warning_msg=_LOGISTIC_SOLVER_CONVERGENCE_MSG)\n"
          ],
          "name": "stderr"
        },
        {
          "output_type": "stream",
          "text": [
            "[CV] ............................ kmeans__n_clusters=73, total=   1.0s\n",
            "[CV] kmeans__n_clusters=73 ...........................................\n"
          ],
          "name": "stdout"
        },
        {
          "output_type": "stream",
          "text": [
            "/usr/local/lib/python3.6/dist-packages/sklearn/linear_model/_logistic.py:940: ConvergenceWarning: lbfgs failed to converge (status=1):\n",
            "STOP: TOTAL NO. of ITERATIONS REACHED LIMIT.\n",
            "\n",
            "Increase the number of iterations (max_iter) or scale the data as shown in:\n",
            "    https://scikit-learn.org/stable/modules/preprocessing.html\n",
            "Please also refer to the documentation for alternative solver options:\n",
            "    https://scikit-learn.org/stable/modules/linear_model.html#logistic-regression\n",
            "  extra_warning_msg=_LOGISTIC_SOLVER_CONVERGENCE_MSG)\n"
          ],
          "name": "stderr"
        },
        {
          "output_type": "stream",
          "text": [
            "[CV] ............................ kmeans__n_clusters=73, total=   1.0s\n",
            "[CV] kmeans__n_clusters=73 ...........................................\n"
          ],
          "name": "stdout"
        },
        {
          "output_type": "stream",
          "text": [
            "/usr/local/lib/python3.6/dist-packages/sklearn/linear_model/_logistic.py:940: ConvergenceWarning: lbfgs failed to converge (status=1):\n",
            "STOP: TOTAL NO. of ITERATIONS REACHED LIMIT.\n",
            "\n",
            "Increase the number of iterations (max_iter) or scale the data as shown in:\n",
            "    https://scikit-learn.org/stable/modules/preprocessing.html\n",
            "Please also refer to the documentation for alternative solver options:\n",
            "    https://scikit-learn.org/stable/modules/linear_model.html#logistic-regression\n",
            "  extra_warning_msg=_LOGISTIC_SOLVER_CONVERGENCE_MSG)\n"
          ],
          "name": "stderr"
        },
        {
          "output_type": "stream",
          "text": [
            "[CV] ............................ kmeans__n_clusters=73, total=   1.0s\n",
            "[CV] kmeans__n_clusters=74 ...........................................\n"
          ],
          "name": "stdout"
        },
        {
          "output_type": "stream",
          "text": [
            "/usr/local/lib/python3.6/dist-packages/sklearn/linear_model/_logistic.py:940: ConvergenceWarning: lbfgs failed to converge (status=1):\n",
            "STOP: TOTAL NO. of ITERATIONS REACHED LIMIT.\n",
            "\n",
            "Increase the number of iterations (max_iter) or scale the data as shown in:\n",
            "    https://scikit-learn.org/stable/modules/preprocessing.html\n",
            "Please also refer to the documentation for alternative solver options:\n",
            "    https://scikit-learn.org/stable/modules/linear_model.html#logistic-regression\n",
            "  extra_warning_msg=_LOGISTIC_SOLVER_CONVERGENCE_MSG)\n"
          ],
          "name": "stderr"
        },
        {
          "output_type": "stream",
          "text": [
            "[CV] ............................ kmeans__n_clusters=74, total=   1.0s\n",
            "[CV] kmeans__n_clusters=74 ...........................................\n"
          ],
          "name": "stdout"
        },
        {
          "output_type": "stream",
          "text": [
            "/usr/local/lib/python3.6/dist-packages/sklearn/linear_model/_logistic.py:940: ConvergenceWarning: lbfgs failed to converge (status=1):\n",
            "STOP: TOTAL NO. of ITERATIONS REACHED LIMIT.\n",
            "\n",
            "Increase the number of iterations (max_iter) or scale the data as shown in:\n",
            "    https://scikit-learn.org/stable/modules/preprocessing.html\n",
            "Please also refer to the documentation for alternative solver options:\n",
            "    https://scikit-learn.org/stable/modules/linear_model.html#logistic-regression\n",
            "  extra_warning_msg=_LOGISTIC_SOLVER_CONVERGENCE_MSG)\n"
          ],
          "name": "stderr"
        },
        {
          "output_type": "stream",
          "text": [
            "[CV] ............................ kmeans__n_clusters=74, total=   1.0s\n",
            "[CV] kmeans__n_clusters=74 ...........................................\n"
          ],
          "name": "stdout"
        },
        {
          "output_type": "stream",
          "text": [
            "/usr/local/lib/python3.6/dist-packages/sklearn/linear_model/_logistic.py:940: ConvergenceWarning: lbfgs failed to converge (status=1):\n",
            "STOP: TOTAL NO. of ITERATIONS REACHED LIMIT.\n",
            "\n",
            "Increase the number of iterations (max_iter) or scale the data as shown in:\n",
            "    https://scikit-learn.org/stable/modules/preprocessing.html\n",
            "Please also refer to the documentation for alternative solver options:\n",
            "    https://scikit-learn.org/stable/modules/linear_model.html#logistic-regression\n",
            "  extra_warning_msg=_LOGISTIC_SOLVER_CONVERGENCE_MSG)\n"
          ],
          "name": "stderr"
        },
        {
          "output_type": "stream",
          "text": [
            "[CV] ............................ kmeans__n_clusters=74, total=   1.0s\n",
            "[CV] kmeans__n_clusters=75 ...........................................\n"
          ],
          "name": "stdout"
        },
        {
          "output_type": "stream",
          "text": [
            "/usr/local/lib/python3.6/dist-packages/sklearn/linear_model/_logistic.py:940: ConvergenceWarning: lbfgs failed to converge (status=1):\n",
            "STOP: TOTAL NO. of ITERATIONS REACHED LIMIT.\n",
            "\n",
            "Increase the number of iterations (max_iter) or scale the data as shown in:\n",
            "    https://scikit-learn.org/stable/modules/preprocessing.html\n",
            "Please also refer to the documentation for alternative solver options:\n",
            "    https://scikit-learn.org/stable/modules/linear_model.html#logistic-regression\n",
            "  extra_warning_msg=_LOGISTIC_SOLVER_CONVERGENCE_MSG)\n"
          ],
          "name": "stderr"
        },
        {
          "output_type": "stream",
          "text": [
            "[CV] ............................ kmeans__n_clusters=75, total=   1.0s\n",
            "[CV] kmeans__n_clusters=75 ...........................................\n"
          ],
          "name": "stdout"
        },
        {
          "output_type": "stream",
          "text": [
            "/usr/local/lib/python3.6/dist-packages/sklearn/linear_model/_logistic.py:940: ConvergenceWarning: lbfgs failed to converge (status=1):\n",
            "STOP: TOTAL NO. of ITERATIONS REACHED LIMIT.\n",
            "\n",
            "Increase the number of iterations (max_iter) or scale the data as shown in:\n",
            "    https://scikit-learn.org/stable/modules/preprocessing.html\n",
            "Please also refer to the documentation for alternative solver options:\n",
            "    https://scikit-learn.org/stable/modules/linear_model.html#logistic-regression\n",
            "  extra_warning_msg=_LOGISTIC_SOLVER_CONVERGENCE_MSG)\n"
          ],
          "name": "stderr"
        },
        {
          "output_type": "stream",
          "text": [
            "[CV] ............................ kmeans__n_clusters=75, total=   1.0s\n",
            "[CV] kmeans__n_clusters=75 ...........................................\n"
          ],
          "name": "stdout"
        },
        {
          "output_type": "stream",
          "text": [
            "/usr/local/lib/python3.6/dist-packages/sklearn/linear_model/_logistic.py:940: ConvergenceWarning: lbfgs failed to converge (status=1):\n",
            "STOP: TOTAL NO. of ITERATIONS REACHED LIMIT.\n",
            "\n",
            "Increase the number of iterations (max_iter) or scale the data as shown in:\n",
            "    https://scikit-learn.org/stable/modules/preprocessing.html\n",
            "Please also refer to the documentation for alternative solver options:\n",
            "    https://scikit-learn.org/stable/modules/linear_model.html#logistic-regression\n",
            "  extra_warning_msg=_LOGISTIC_SOLVER_CONVERGENCE_MSG)\n"
          ],
          "name": "stderr"
        },
        {
          "output_type": "stream",
          "text": [
            "[CV] ............................ kmeans__n_clusters=75, total=   1.0s\n",
            "[CV] kmeans__n_clusters=76 ...........................................\n"
          ],
          "name": "stdout"
        },
        {
          "output_type": "stream",
          "text": [
            "/usr/local/lib/python3.6/dist-packages/sklearn/linear_model/_logistic.py:940: ConvergenceWarning: lbfgs failed to converge (status=1):\n",
            "STOP: TOTAL NO. of ITERATIONS REACHED LIMIT.\n",
            "\n",
            "Increase the number of iterations (max_iter) or scale the data as shown in:\n",
            "    https://scikit-learn.org/stable/modules/preprocessing.html\n",
            "Please also refer to the documentation for alternative solver options:\n",
            "    https://scikit-learn.org/stable/modules/linear_model.html#logistic-regression\n",
            "  extra_warning_msg=_LOGISTIC_SOLVER_CONVERGENCE_MSG)\n"
          ],
          "name": "stderr"
        },
        {
          "output_type": "stream",
          "text": [
            "[CV] ............................ kmeans__n_clusters=76, total=   1.0s\n",
            "[CV] kmeans__n_clusters=76 ...........................................\n"
          ],
          "name": "stdout"
        },
        {
          "output_type": "stream",
          "text": [
            "/usr/local/lib/python3.6/dist-packages/sklearn/linear_model/_logistic.py:940: ConvergenceWarning: lbfgs failed to converge (status=1):\n",
            "STOP: TOTAL NO. of ITERATIONS REACHED LIMIT.\n",
            "\n",
            "Increase the number of iterations (max_iter) or scale the data as shown in:\n",
            "    https://scikit-learn.org/stable/modules/preprocessing.html\n",
            "Please also refer to the documentation for alternative solver options:\n",
            "    https://scikit-learn.org/stable/modules/linear_model.html#logistic-regression\n",
            "  extra_warning_msg=_LOGISTIC_SOLVER_CONVERGENCE_MSG)\n"
          ],
          "name": "stderr"
        },
        {
          "output_type": "stream",
          "text": [
            "[CV] ............................ kmeans__n_clusters=76, total=   1.0s\n",
            "[CV] kmeans__n_clusters=76 ...........................................\n"
          ],
          "name": "stdout"
        },
        {
          "output_type": "stream",
          "text": [
            "/usr/local/lib/python3.6/dist-packages/sklearn/linear_model/_logistic.py:940: ConvergenceWarning: lbfgs failed to converge (status=1):\n",
            "STOP: TOTAL NO. of ITERATIONS REACHED LIMIT.\n",
            "\n",
            "Increase the number of iterations (max_iter) or scale the data as shown in:\n",
            "    https://scikit-learn.org/stable/modules/preprocessing.html\n",
            "Please also refer to the documentation for alternative solver options:\n",
            "    https://scikit-learn.org/stable/modules/linear_model.html#logistic-regression\n",
            "  extra_warning_msg=_LOGISTIC_SOLVER_CONVERGENCE_MSG)\n"
          ],
          "name": "stderr"
        },
        {
          "output_type": "stream",
          "text": [
            "[CV] ............................ kmeans__n_clusters=76, total=   1.1s\n",
            "[CV] kmeans__n_clusters=77 ...........................................\n"
          ],
          "name": "stdout"
        },
        {
          "output_type": "stream",
          "text": [
            "/usr/local/lib/python3.6/dist-packages/sklearn/linear_model/_logistic.py:940: ConvergenceWarning: lbfgs failed to converge (status=1):\n",
            "STOP: TOTAL NO. of ITERATIONS REACHED LIMIT.\n",
            "\n",
            "Increase the number of iterations (max_iter) or scale the data as shown in:\n",
            "    https://scikit-learn.org/stable/modules/preprocessing.html\n",
            "Please also refer to the documentation for alternative solver options:\n",
            "    https://scikit-learn.org/stable/modules/linear_model.html#logistic-regression\n",
            "  extra_warning_msg=_LOGISTIC_SOLVER_CONVERGENCE_MSG)\n"
          ],
          "name": "stderr"
        },
        {
          "output_type": "stream",
          "text": [
            "[CV] ............................ kmeans__n_clusters=77, total=   1.1s\n",
            "[CV] kmeans__n_clusters=77 ...........................................\n"
          ],
          "name": "stdout"
        },
        {
          "output_type": "stream",
          "text": [
            "/usr/local/lib/python3.6/dist-packages/sklearn/linear_model/_logistic.py:940: ConvergenceWarning: lbfgs failed to converge (status=1):\n",
            "STOP: TOTAL NO. of ITERATIONS REACHED LIMIT.\n",
            "\n",
            "Increase the number of iterations (max_iter) or scale the data as shown in:\n",
            "    https://scikit-learn.org/stable/modules/preprocessing.html\n",
            "Please also refer to the documentation for alternative solver options:\n",
            "    https://scikit-learn.org/stable/modules/linear_model.html#logistic-regression\n",
            "  extra_warning_msg=_LOGISTIC_SOLVER_CONVERGENCE_MSG)\n"
          ],
          "name": "stderr"
        },
        {
          "output_type": "stream",
          "text": [
            "[CV] ............................ kmeans__n_clusters=77, total=   1.1s\n",
            "[CV] kmeans__n_clusters=77 ...........................................\n"
          ],
          "name": "stdout"
        },
        {
          "output_type": "stream",
          "text": [
            "/usr/local/lib/python3.6/dist-packages/sklearn/linear_model/_logistic.py:940: ConvergenceWarning: lbfgs failed to converge (status=1):\n",
            "STOP: TOTAL NO. of ITERATIONS REACHED LIMIT.\n",
            "\n",
            "Increase the number of iterations (max_iter) or scale the data as shown in:\n",
            "    https://scikit-learn.org/stable/modules/preprocessing.html\n",
            "Please also refer to the documentation for alternative solver options:\n",
            "    https://scikit-learn.org/stable/modules/linear_model.html#logistic-regression\n",
            "  extra_warning_msg=_LOGISTIC_SOLVER_CONVERGENCE_MSG)\n"
          ],
          "name": "stderr"
        },
        {
          "output_type": "stream",
          "text": [
            "[CV] ............................ kmeans__n_clusters=77, total=   1.1s\n",
            "[CV] kmeans__n_clusters=78 ...........................................\n"
          ],
          "name": "stdout"
        },
        {
          "output_type": "stream",
          "text": [
            "/usr/local/lib/python3.6/dist-packages/sklearn/linear_model/_logistic.py:940: ConvergenceWarning: lbfgs failed to converge (status=1):\n",
            "STOP: TOTAL NO. of ITERATIONS REACHED LIMIT.\n",
            "\n",
            "Increase the number of iterations (max_iter) or scale the data as shown in:\n",
            "    https://scikit-learn.org/stable/modules/preprocessing.html\n",
            "Please also refer to the documentation for alternative solver options:\n",
            "    https://scikit-learn.org/stable/modules/linear_model.html#logistic-regression\n",
            "  extra_warning_msg=_LOGISTIC_SOLVER_CONVERGENCE_MSG)\n"
          ],
          "name": "stderr"
        },
        {
          "output_type": "stream",
          "text": [
            "[CV] ............................ kmeans__n_clusters=78, total=   1.1s\n",
            "[CV] kmeans__n_clusters=78 ...........................................\n"
          ],
          "name": "stdout"
        },
        {
          "output_type": "stream",
          "text": [
            "/usr/local/lib/python3.6/dist-packages/sklearn/linear_model/_logistic.py:940: ConvergenceWarning: lbfgs failed to converge (status=1):\n",
            "STOP: TOTAL NO. of ITERATIONS REACHED LIMIT.\n",
            "\n",
            "Increase the number of iterations (max_iter) or scale the data as shown in:\n",
            "    https://scikit-learn.org/stable/modules/preprocessing.html\n",
            "Please also refer to the documentation for alternative solver options:\n",
            "    https://scikit-learn.org/stable/modules/linear_model.html#logistic-regression\n",
            "  extra_warning_msg=_LOGISTIC_SOLVER_CONVERGENCE_MSG)\n"
          ],
          "name": "stderr"
        },
        {
          "output_type": "stream",
          "text": [
            "[CV] ............................ kmeans__n_clusters=78, total=   1.1s\n",
            "[CV] kmeans__n_clusters=78 ...........................................\n"
          ],
          "name": "stdout"
        },
        {
          "output_type": "stream",
          "text": [
            "/usr/local/lib/python3.6/dist-packages/sklearn/linear_model/_logistic.py:940: ConvergenceWarning: lbfgs failed to converge (status=1):\n",
            "STOP: TOTAL NO. of ITERATIONS REACHED LIMIT.\n",
            "\n",
            "Increase the number of iterations (max_iter) or scale the data as shown in:\n",
            "    https://scikit-learn.org/stable/modules/preprocessing.html\n",
            "Please also refer to the documentation for alternative solver options:\n",
            "    https://scikit-learn.org/stable/modules/linear_model.html#logistic-regression\n",
            "  extra_warning_msg=_LOGISTIC_SOLVER_CONVERGENCE_MSG)\n"
          ],
          "name": "stderr"
        },
        {
          "output_type": "stream",
          "text": [
            "[CV] ............................ kmeans__n_clusters=78, total=   1.1s\n",
            "[CV] kmeans__n_clusters=79 ...........................................\n"
          ],
          "name": "stdout"
        },
        {
          "output_type": "stream",
          "text": [
            "/usr/local/lib/python3.6/dist-packages/sklearn/linear_model/_logistic.py:940: ConvergenceWarning: lbfgs failed to converge (status=1):\n",
            "STOP: TOTAL NO. of ITERATIONS REACHED LIMIT.\n",
            "\n",
            "Increase the number of iterations (max_iter) or scale the data as shown in:\n",
            "    https://scikit-learn.org/stable/modules/preprocessing.html\n",
            "Please also refer to the documentation for alternative solver options:\n",
            "    https://scikit-learn.org/stable/modules/linear_model.html#logistic-regression\n",
            "  extra_warning_msg=_LOGISTIC_SOLVER_CONVERGENCE_MSG)\n"
          ],
          "name": "stderr"
        },
        {
          "output_type": "stream",
          "text": [
            "[CV] ............................ kmeans__n_clusters=79, total=   1.1s\n",
            "[CV] kmeans__n_clusters=79 ...........................................\n"
          ],
          "name": "stdout"
        },
        {
          "output_type": "stream",
          "text": [
            "/usr/local/lib/python3.6/dist-packages/sklearn/linear_model/_logistic.py:940: ConvergenceWarning: lbfgs failed to converge (status=1):\n",
            "STOP: TOTAL NO. of ITERATIONS REACHED LIMIT.\n",
            "\n",
            "Increase the number of iterations (max_iter) or scale the data as shown in:\n",
            "    https://scikit-learn.org/stable/modules/preprocessing.html\n",
            "Please also refer to the documentation for alternative solver options:\n",
            "    https://scikit-learn.org/stable/modules/linear_model.html#logistic-regression\n",
            "  extra_warning_msg=_LOGISTIC_SOLVER_CONVERGENCE_MSG)\n"
          ],
          "name": "stderr"
        },
        {
          "output_type": "stream",
          "text": [
            "[CV] ............................ kmeans__n_clusters=79, total=   1.1s\n",
            "[CV] kmeans__n_clusters=79 ...........................................\n"
          ],
          "name": "stdout"
        },
        {
          "output_type": "stream",
          "text": [
            "/usr/local/lib/python3.6/dist-packages/sklearn/linear_model/_logistic.py:940: ConvergenceWarning: lbfgs failed to converge (status=1):\n",
            "STOP: TOTAL NO. of ITERATIONS REACHED LIMIT.\n",
            "\n",
            "Increase the number of iterations (max_iter) or scale the data as shown in:\n",
            "    https://scikit-learn.org/stable/modules/preprocessing.html\n",
            "Please also refer to the documentation for alternative solver options:\n",
            "    https://scikit-learn.org/stable/modules/linear_model.html#logistic-regression\n",
            "  extra_warning_msg=_LOGISTIC_SOLVER_CONVERGENCE_MSG)\n"
          ],
          "name": "stderr"
        },
        {
          "output_type": "stream",
          "text": [
            "[CV] ............................ kmeans__n_clusters=79, total=   1.1s\n",
            "[CV] kmeans__n_clusters=80 ...........................................\n"
          ],
          "name": "stdout"
        },
        {
          "output_type": "stream",
          "text": [
            "/usr/local/lib/python3.6/dist-packages/sklearn/linear_model/_logistic.py:940: ConvergenceWarning: lbfgs failed to converge (status=1):\n",
            "STOP: TOTAL NO. of ITERATIONS REACHED LIMIT.\n",
            "\n",
            "Increase the number of iterations (max_iter) or scale the data as shown in:\n",
            "    https://scikit-learn.org/stable/modules/preprocessing.html\n",
            "Please also refer to the documentation for alternative solver options:\n",
            "    https://scikit-learn.org/stable/modules/linear_model.html#logistic-regression\n",
            "  extra_warning_msg=_LOGISTIC_SOLVER_CONVERGENCE_MSG)\n"
          ],
          "name": "stderr"
        },
        {
          "output_type": "stream",
          "text": [
            "[CV] ............................ kmeans__n_clusters=80, total=   1.1s\n",
            "[CV] kmeans__n_clusters=80 ...........................................\n"
          ],
          "name": "stdout"
        },
        {
          "output_type": "stream",
          "text": [
            "/usr/local/lib/python3.6/dist-packages/sklearn/linear_model/_logistic.py:940: ConvergenceWarning: lbfgs failed to converge (status=1):\n",
            "STOP: TOTAL NO. of ITERATIONS REACHED LIMIT.\n",
            "\n",
            "Increase the number of iterations (max_iter) or scale the data as shown in:\n",
            "    https://scikit-learn.org/stable/modules/preprocessing.html\n",
            "Please also refer to the documentation for alternative solver options:\n",
            "    https://scikit-learn.org/stable/modules/linear_model.html#logistic-regression\n",
            "  extra_warning_msg=_LOGISTIC_SOLVER_CONVERGENCE_MSG)\n"
          ],
          "name": "stderr"
        },
        {
          "output_type": "stream",
          "text": [
            "[CV] ............................ kmeans__n_clusters=80, total=   1.1s\n",
            "[CV] kmeans__n_clusters=80 ...........................................\n"
          ],
          "name": "stdout"
        },
        {
          "output_type": "stream",
          "text": [
            "/usr/local/lib/python3.6/dist-packages/sklearn/linear_model/_logistic.py:940: ConvergenceWarning: lbfgs failed to converge (status=1):\n",
            "STOP: TOTAL NO. of ITERATIONS REACHED LIMIT.\n",
            "\n",
            "Increase the number of iterations (max_iter) or scale the data as shown in:\n",
            "    https://scikit-learn.org/stable/modules/preprocessing.html\n",
            "Please also refer to the documentation for alternative solver options:\n",
            "    https://scikit-learn.org/stable/modules/linear_model.html#logistic-regression\n",
            "  extra_warning_msg=_LOGISTIC_SOLVER_CONVERGENCE_MSG)\n"
          ],
          "name": "stderr"
        },
        {
          "output_type": "stream",
          "text": [
            "[CV] ............................ kmeans__n_clusters=80, total=   1.1s\n",
            "[CV] kmeans__n_clusters=81 ...........................................\n"
          ],
          "name": "stdout"
        },
        {
          "output_type": "stream",
          "text": [
            "/usr/local/lib/python3.6/dist-packages/sklearn/linear_model/_logistic.py:940: ConvergenceWarning: lbfgs failed to converge (status=1):\n",
            "STOP: TOTAL NO. of ITERATIONS REACHED LIMIT.\n",
            "\n",
            "Increase the number of iterations (max_iter) or scale the data as shown in:\n",
            "    https://scikit-learn.org/stable/modules/preprocessing.html\n",
            "Please also refer to the documentation for alternative solver options:\n",
            "    https://scikit-learn.org/stable/modules/linear_model.html#logistic-regression\n",
            "  extra_warning_msg=_LOGISTIC_SOLVER_CONVERGENCE_MSG)\n"
          ],
          "name": "stderr"
        },
        {
          "output_type": "stream",
          "text": [
            "[CV] ............................ kmeans__n_clusters=81, total=   1.1s\n",
            "[CV] kmeans__n_clusters=81 ...........................................\n"
          ],
          "name": "stdout"
        },
        {
          "output_type": "stream",
          "text": [
            "/usr/local/lib/python3.6/dist-packages/sklearn/linear_model/_logistic.py:940: ConvergenceWarning: lbfgs failed to converge (status=1):\n",
            "STOP: TOTAL NO. of ITERATIONS REACHED LIMIT.\n",
            "\n",
            "Increase the number of iterations (max_iter) or scale the data as shown in:\n",
            "    https://scikit-learn.org/stable/modules/preprocessing.html\n",
            "Please also refer to the documentation for alternative solver options:\n",
            "    https://scikit-learn.org/stable/modules/linear_model.html#logistic-regression\n",
            "  extra_warning_msg=_LOGISTIC_SOLVER_CONVERGENCE_MSG)\n"
          ],
          "name": "stderr"
        },
        {
          "output_type": "stream",
          "text": [
            "[CV] ............................ kmeans__n_clusters=81, total=   1.1s\n",
            "[CV] kmeans__n_clusters=81 ...........................................\n"
          ],
          "name": "stdout"
        },
        {
          "output_type": "stream",
          "text": [
            "/usr/local/lib/python3.6/dist-packages/sklearn/linear_model/_logistic.py:940: ConvergenceWarning: lbfgs failed to converge (status=1):\n",
            "STOP: TOTAL NO. of ITERATIONS REACHED LIMIT.\n",
            "\n",
            "Increase the number of iterations (max_iter) or scale the data as shown in:\n",
            "    https://scikit-learn.org/stable/modules/preprocessing.html\n",
            "Please also refer to the documentation for alternative solver options:\n",
            "    https://scikit-learn.org/stable/modules/linear_model.html#logistic-regression\n",
            "  extra_warning_msg=_LOGISTIC_SOLVER_CONVERGENCE_MSG)\n"
          ],
          "name": "stderr"
        },
        {
          "output_type": "stream",
          "text": [
            "[CV] ............................ kmeans__n_clusters=81, total=   1.1s\n",
            "[CV] kmeans__n_clusters=82 ...........................................\n"
          ],
          "name": "stdout"
        },
        {
          "output_type": "stream",
          "text": [
            "/usr/local/lib/python3.6/dist-packages/sklearn/linear_model/_logistic.py:940: ConvergenceWarning: lbfgs failed to converge (status=1):\n",
            "STOP: TOTAL NO. of ITERATIONS REACHED LIMIT.\n",
            "\n",
            "Increase the number of iterations (max_iter) or scale the data as shown in:\n",
            "    https://scikit-learn.org/stable/modules/preprocessing.html\n",
            "Please also refer to the documentation for alternative solver options:\n",
            "    https://scikit-learn.org/stable/modules/linear_model.html#logistic-regression\n",
            "  extra_warning_msg=_LOGISTIC_SOLVER_CONVERGENCE_MSG)\n"
          ],
          "name": "stderr"
        },
        {
          "output_type": "stream",
          "text": [
            "[CV] ............................ kmeans__n_clusters=82, total=   1.1s\n",
            "[CV] kmeans__n_clusters=82 ...........................................\n"
          ],
          "name": "stdout"
        },
        {
          "output_type": "stream",
          "text": [
            "/usr/local/lib/python3.6/dist-packages/sklearn/linear_model/_logistic.py:940: ConvergenceWarning: lbfgs failed to converge (status=1):\n",
            "STOP: TOTAL NO. of ITERATIONS REACHED LIMIT.\n",
            "\n",
            "Increase the number of iterations (max_iter) or scale the data as shown in:\n",
            "    https://scikit-learn.org/stable/modules/preprocessing.html\n",
            "Please also refer to the documentation for alternative solver options:\n",
            "    https://scikit-learn.org/stable/modules/linear_model.html#logistic-regression\n",
            "  extra_warning_msg=_LOGISTIC_SOLVER_CONVERGENCE_MSG)\n"
          ],
          "name": "stderr"
        },
        {
          "output_type": "stream",
          "text": [
            "[CV] ............................ kmeans__n_clusters=82, total=   1.1s\n",
            "[CV] kmeans__n_clusters=82 ...........................................\n"
          ],
          "name": "stdout"
        },
        {
          "output_type": "stream",
          "text": [
            "/usr/local/lib/python3.6/dist-packages/sklearn/linear_model/_logistic.py:940: ConvergenceWarning: lbfgs failed to converge (status=1):\n",
            "STOP: TOTAL NO. of ITERATIONS REACHED LIMIT.\n",
            "\n",
            "Increase the number of iterations (max_iter) or scale the data as shown in:\n",
            "    https://scikit-learn.org/stable/modules/preprocessing.html\n",
            "Please also refer to the documentation for alternative solver options:\n",
            "    https://scikit-learn.org/stable/modules/linear_model.html#logistic-regression\n",
            "  extra_warning_msg=_LOGISTIC_SOLVER_CONVERGENCE_MSG)\n"
          ],
          "name": "stderr"
        },
        {
          "output_type": "stream",
          "text": [
            "[CV] ............................ kmeans__n_clusters=82, total=   1.1s\n",
            "[CV] kmeans__n_clusters=83 ...........................................\n"
          ],
          "name": "stdout"
        },
        {
          "output_type": "stream",
          "text": [
            "/usr/local/lib/python3.6/dist-packages/sklearn/linear_model/_logistic.py:940: ConvergenceWarning: lbfgs failed to converge (status=1):\n",
            "STOP: TOTAL NO. of ITERATIONS REACHED LIMIT.\n",
            "\n",
            "Increase the number of iterations (max_iter) or scale the data as shown in:\n",
            "    https://scikit-learn.org/stable/modules/preprocessing.html\n",
            "Please also refer to the documentation for alternative solver options:\n",
            "    https://scikit-learn.org/stable/modules/linear_model.html#logistic-regression\n",
            "  extra_warning_msg=_LOGISTIC_SOLVER_CONVERGENCE_MSG)\n"
          ],
          "name": "stderr"
        },
        {
          "output_type": "stream",
          "text": [
            "[CV] ............................ kmeans__n_clusters=83, total=   1.1s\n",
            "[CV] kmeans__n_clusters=83 ...........................................\n"
          ],
          "name": "stdout"
        },
        {
          "output_type": "stream",
          "text": [
            "/usr/local/lib/python3.6/dist-packages/sklearn/linear_model/_logistic.py:940: ConvergenceWarning: lbfgs failed to converge (status=1):\n",
            "STOP: TOTAL NO. of ITERATIONS REACHED LIMIT.\n",
            "\n",
            "Increase the number of iterations (max_iter) or scale the data as shown in:\n",
            "    https://scikit-learn.org/stable/modules/preprocessing.html\n",
            "Please also refer to the documentation for alternative solver options:\n",
            "    https://scikit-learn.org/stable/modules/linear_model.html#logistic-regression\n",
            "  extra_warning_msg=_LOGISTIC_SOLVER_CONVERGENCE_MSG)\n"
          ],
          "name": "stderr"
        },
        {
          "output_type": "stream",
          "text": [
            "[CV] ............................ kmeans__n_clusters=83, total=   1.1s\n",
            "[CV] kmeans__n_clusters=83 ...........................................\n"
          ],
          "name": "stdout"
        },
        {
          "output_type": "stream",
          "text": [
            "/usr/local/lib/python3.6/dist-packages/sklearn/linear_model/_logistic.py:940: ConvergenceWarning: lbfgs failed to converge (status=1):\n",
            "STOP: TOTAL NO. of ITERATIONS REACHED LIMIT.\n",
            "\n",
            "Increase the number of iterations (max_iter) or scale the data as shown in:\n",
            "    https://scikit-learn.org/stable/modules/preprocessing.html\n",
            "Please also refer to the documentation for alternative solver options:\n",
            "    https://scikit-learn.org/stable/modules/linear_model.html#logistic-regression\n",
            "  extra_warning_msg=_LOGISTIC_SOLVER_CONVERGENCE_MSG)\n"
          ],
          "name": "stderr"
        },
        {
          "output_type": "stream",
          "text": [
            "[CV] ............................ kmeans__n_clusters=83, total=   1.1s\n",
            "[CV] kmeans__n_clusters=84 ...........................................\n"
          ],
          "name": "stdout"
        },
        {
          "output_type": "stream",
          "text": [
            "/usr/local/lib/python3.6/dist-packages/sklearn/linear_model/_logistic.py:940: ConvergenceWarning: lbfgs failed to converge (status=1):\n",
            "STOP: TOTAL NO. of ITERATIONS REACHED LIMIT.\n",
            "\n",
            "Increase the number of iterations (max_iter) or scale the data as shown in:\n",
            "    https://scikit-learn.org/stable/modules/preprocessing.html\n",
            "Please also refer to the documentation for alternative solver options:\n",
            "    https://scikit-learn.org/stable/modules/linear_model.html#logistic-regression\n",
            "  extra_warning_msg=_LOGISTIC_SOLVER_CONVERGENCE_MSG)\n"
          ],
          "name": "stderr"
        },
        {
          "output_type": "stream",
          "text": [
            "[CV] ............................ kmeans__n_clusters=84, total=   1.1s\n",
            "[CV] kmeans__n_clusters=84 ...........................................\n"
          ],
          "name": "stdout"
        },
        {
          "output_type": "stream",
          "text": [
            "/usr/local/lib/python3.6/dist-packages/sklearn/linear_model/_logistic.py:940: ConvergenceWarning: lbfgs failed to converge (status=1):\n",
            "STOP: TOTAL NO. of ITERATIONS REACHED LIMIT.\n",
            "\n",
            "Increase the number of iterations (max_iter) or scale the data as shown in:\n",
            "    https://scikit-learn.org/stable/modules/preprocessing.html\n",
            "Please also refer to the documentation for alternative solver options:\n",
            "    https://scikit-learn.org/stable/modules/linear_model.html#logistic-regression\n",
            "  extra_warning_msg=_LOGISTIC_SOLVER_CONVERGENCE_MSG)\n"
          ],
          "name": "stderr"
        },
        {
          "output_type": "stream",
          "text": [
            "[CV] ............................ kmeans__n_clusters=84, total=   1.1s\n",
            "[CV] kmeans__n_clusters=84 ...........................................\n"
          ],
          "name": "stdout"
        },
        {
          "output_type": "stream",
          "text": [
            "/usr/local/lib/python3.6/dist-packages/sklearn/linear_model/_logistic.py:940: ConvergenceWarning: lbfgs failed to converge (status=1):\n",
            "STOP: TOTAL NO. of ITERATIONS REACHED LIMIT.\n",
            "\n",
            "Increase the number of iterations (max_iter) or scale the data as shown in:\n",
            "    https://scikit-learn.org/stable/modules/preprocessing.html\n",
            "Please also refer to the documentation for alternative solver options:\n",
            "    https://scikit-learn.org/stable/modules/linear_model.html#logistic-regression\n",
            "  extra_warning_msg=_LOGISTIC_SOLVER_CONVERGENCE_MSG)\n"
          ],
          "name": "stderr"
        },
        {
          "output_type": "stream",
          "text": [
            "[CV] ............................ kmeans__n_clusters=84, total=   1.1s\n",
            "[CV] kmeans__n_clusters=85 ...........................................\n"
          ],
          "name": "stdout"
        },
        {
          "output_type": "stream",
          "text": [
            "/usr/local/lib/python3.6/dist-packages/sklearn/linear_model/_logistic.py:940: ConvergenceWarning: lbfgs failed to converge (status=1):\n",
            "STOP: TOTAL NO. of ITERATIONS REACHED LIMIT.\n",
            "\n",
            "Increase the number of iterations (max_iter) or scale the data as shown in:\n",
            "    https://scikit-learn.org/stable/modules/preprocessing.html\n",
            "Please also refer to the documentation for alternative solver options:\n",
            "    https://scikit-learn.org/stable/modules/linear_model.html#logistic-regression\n",
            "  extra_warning_msg=_LOGISTIC_SOLVER_CONVERGENCE_MSG)\n"
          ],
          "name": "stderr"
        },
        {
          "output_type": "stream",
          "text": [
            "[CV] ............................ kmeans__n_clusters=85, total=   1.1s\n",
            "[CV] kmeans__n_clusters=85 ...........................................\n"
          ],
          "name": "stdout"
        },
        {
          "output_type": "stream",
          "text": [
            "/usr/local/lib/python3.6/dist-packages/sklearn/linear_model/_logistic.py:940: ConvergenceWarning: lbfgs failed to converge (status=1):\n",
            "STOP: TOTAL NO. of ITERATIONS REACHED LIMIT.\n",
            "\n",
            "Increase the number of iterations (max_iter) or scale the data as shown in:\n",
            "    https://scikit-learn.org/stable/modules/preprocessing.html\n",
            "Please also refer to the documentation for alternative solver options:\n",
            "    https://scikit-learn.org/stable/modules/linear_model.html#logistic-regression\n",
            "  extra_warning_msg=_LOGISTIC_SOLVER_CONVERGENCE_MSG)\n"
          ],
          "name": "stderr"
        },
        {
          "output_type": "stream",
          "text": [
            "[CV] ............................ kmeans__n_clusters=85, total=   1.1s\n",
            "[CV] kmeans__n_clusters=85 ...........................................\n"
          ],
          "name": "stdout"
        },
        {
          "output_type": "stream",
          "text": [
            "/usr/local/lib/python3.6/dist-packages/sklearn/linear_model/_logistic.py:940: ConvergenceWarning: lbfgs failed to converge (status=1):\n",
            "STOP: TOTAL NO. of ITERATIONS REACHED LIMIT.\n",
            "\n",
            "Increase the number of iterations (max_iter) or scale the data as shown in:\n",
            "    https://scikit-learn.org/stable/modules/preprocessing.html\n",
            "Please also refer to the documentation for alternative solver options:\n",
            "    https://scikit-learn.org/stable/modules/linear_model.html#logistic-regression\n",
            "  extra_warning_msg=_LOGISTIC_SOLVER_CONVERGENCE_MSG)\n"
          ],
          "name": "stderr"
        },
        {
          "output_type": "stream",
          "text": [
            "[CV] ............................ kmeans__n_clusters=85, total=   1.1s\n",
            "[CV] kmeans__n_clusters=86 ...........................................\n"
          ],
          "name": "stdout"
        },
        {
          "output_type": "stream",
          "text": [
            "/usr/local/lib/python3.6/dist-packages/sklearn/linear_model/_logistic.py:940: ConvergenceWarning: lbfgs failed to converge (status=1):\n",
            "STOP: TOTAL NO. of ITERATIONS REACHED LIMIT.\n",
            "\n",
            "Increase the number of iterations (max_iter) or scale the data as shown in:\n",
            "    https://scikit-learn.org/stable/modules/preprocessing.html\n",
            "Please also refer to the documentation for alternative solver options:\n",
            "    https://scikit-learn.org/stable/modules/linear_model.html#logistic-regression\n",
            "  extra_warning_msg=_LOGISTIC_SOLVER_CONVERGENCE_MSG)\n"
          ],
          "name": "stderr"
        },
        {
          "output_type": "stream",
          "text": [
            "[CV] ............................ kmeans__n_clusters=86, total=   1.1s\n",
            "[CV] kmeans__n_clusters=86 ...........................................\n"
          ],
          "name": "stdout"
        },
        {
          "output_type": "stream",
          "text": [
            "/usr/local/lib/python3.6/dist-packages/sklearn/linear_model/_logistic.py:940: ConvergenceWarning: lbfgs failed to converge (status=1):\n",
            "STOP: TOTAL NO. of ITERATIONS REACHED LIMIT.\n",
            "\n",
            "Increase the number of iterations (max_iter) or scale the data as shown in:\n",
            "    https://scikit-learn.org/stable/modules/preprocessing.html\n",
            "Please also refer to the documentation for alternative solver options:\n",
            "    https://scikit-learn.org/stable/modules/linear_model.html#logistic-regression\n",
            "  extra_warning_msg=_LOGISTIC_SOLVER_CONVERGENCE_MSG)\n"
          ],
          "name": "stderr"
        },
        {
          "output_type": "stream",
          "text": [
            "[CV] ............................ kmeans__n_clusters=86, total=   1.2s\n",
            "[CV] kmeans__n_clusters=86 ...........................................\n"
          ],
          "name": "stdout"
        },
        {
          "output_type": "stream",
          "text": [
            "/usr/local/lib/python3.6/dist-packages/sklearn/linear_model/_logistic.py:940: ConvergenceWarning: lbfgs failed to converge (status=1):\n",
            "STOP: TOTAL NO. of ITERATIONS REACHED LIMIT.\n",
            "\n",
            "Increase the number of iterations (max_iter) or scale the data as shown in:\n",
            "    https://scikit-learn.org/stable/modules/preprocessing.html\n",
            "Please also refer to the documentation for alternative solver options:\n",
            "    https://scikit-learn.org/stable/modules/linear_model.html#logistic-regression\n",
            "  extra_warning_msg=_LOGISTIC_SOLVER_CONVERGENCE_MSG)\n"
          ],
          "name": "stderr"
        },
        {
          "output_type": "stream",
          "text": [
            "[CV] ............................ kmeans__n_clusters=86, total=   1.2s\n",
            "[CV] kmeans__n_clusters=87 ...........................................\n"
          ],
          "name": "stdout"
        },
        {
          "output_type": "stream",
          "text": [
            "/usr/local/lib/python3.6/dist-packages/sklearn/linear_model/_logistic.py:940: ConvergenceWarning: lbfgs failed to converge (status=1):\n",
            "STOP: TOTAL NO. of ITERATIONS REACHED LIMIT.\n",
            "\n",
            "Increase the number of iterations (max_iter) or scale the data as shown in:\n",
            "    https://scikit-learn.org/stable/modules/preprocessing.html\n",
            "Please also refer to the documentation for alternative solver options:\n",
            "    https://scikit-learn.org/stable/modules/linear_model.html#logistic-regression\n",
            "  extra_warning_msg=_LOGISTIC_SOLVER_CONVERGENCE_MSG)\n"
          ],
          "name": "stderr"
        },
        {
          "output_type": "stream",
          "text": [
            "[CV] ............................ kmeans__n_clusters=87, total=   1.1s\n",
            "[CV] kmeans__n_clusters=87 ...........................................\n"
          ],
          "name": "stdout"
        },
        {
          "output_type": "stream",
          "text": [
            "/usr/local/lib/python3.6/dist-packages/sklearn/linear_model/_logistic.py:940: ConvergenceWarning: lbfgs failed to converge (status=1):\n",
            "STOP: TOTAL NO. of ITERATIONS REACHED LIMIT.\n",
            "\n",
            "Increase the number of iterations (max_iter) or scale the data as shown in:\n",
            "    https://scikit-learn.org/stable/modules/preprocessing.html\n",
            "Please also refer to the documentation for alternative solver options:\n",
            "    https://scikit-learn.org/stable/modules/linear_model.html#logistic-regression\n",
            "  extra_warning_msg=_LOGISTIC_SOLVER_CONVERGENCE_MSG)\n"
          ],
          "name": "stderr"
        },
        {
          "output_type": "stream",
          "text": [
            "[CV] ............................ kmeans__n_clusters=87, total=   1.2s\n",
            "[CV] kmeans__n_clusters=87 ...........................................\n"
          ],
          "name": "stdout"
        },
        {
          "output_type": "stream",
          "text": [
            "/usr/local/lib/python3.6/dist-packages/sklearn/linear_model/_logistic.py:940: ConvergenceWarning: lbfgs failed to converge (status=1):\n",
            "STOP: TOTAL NO. of ITERATIONS REACHED LIMIT.\n",
            "\n",
            "Increase the number of iterations (max_iter) or scale the data as shown in:\n",
            "    https://scikit-learn.org/stable/modules/preprocessing.html\n",
            "Please also refer to the documentation for alternative solver options:\n",
            "    https://scikit-learn.org/stable/modules/linear_model.html#logistic-regression\n",
            "  extra_warning_msg=_LOGISTIC_SOLVER_CONVERGENCE_MSG)\n"
          ],
          "name": "stderr"
        },
        {
          "output_type": "stream",
          "text": [
            "[CV] ............................ kmeans__n_clusters=87, total=   1.1s\n",
            "[CV] kmeans__n_clusters=88 ...........................................\n"
          ],
          "name": "stdout"
        },
        {
          "output_type": "stream",
          "text": [
            "/usr/local/lib/python3.6/dist-packages/sklearn/linear_model/_logistic.py:940: ConvergenceWarning: lbfgs failed to converge (status=1):\n",
            "STOP: TOTAL NO. of ITERATIONS REACHED LIMIT.\n",
            "\n",
            "Increase the number of iterations (max_iter) or scale the data as shown in:\n",
            "    https://scikit-learn.org/stable/modules/preprocessing.html\n",
            "Please also refer to the documentation for alternative solver options:\n",
            "    https://scikit-learn.org/stable/modules/linear_model.html#logistic-regression\n",
            "  extra_warning_msg=_LOGISTIC_SOLVER_CONVERGENCE_MSG)\n"
          ],
          "name": "stderr"
        },
        {
          "output_type": "stream",
          "text": [
            "[CV] ............................ kmeans__n_clusters=88, total=   1.1s\n",
            "[CV] kmeans__n_clusters=88 ...........................................\n"
          ],
          "name": "stdout"
        },
        {
          "output_type": "stream",
          "text": [
            "/usr/local/lib/python3.6/dist-packages/sklearn/linear_model/_logistic.py:940: ConvergenceWarning: lbfgs failed to converge (status=1):\n",
            "STOP: TOTAL NO. of ITERATIONS REACHED LIMIT.\n",
            "\n",
            "Increase the number of iterations (max_iter) or scale the data as shown in:\n",
            "    https://scikit-learn.org/stable/modules/preprocessing.html\n",
            "Please also refer to the documentation for alternative solver options:\n",
            "    https://scikit-learn.org/stable/modules/linear_model.html#logistic-regression\n",
            "  extra_warning_msg=_LOGISTIC_SOLVER_CONVERGENCE_MSG)\n"
          ],
          "name": "stderr"
        },
        {
          "output_type": "stream",
          "text": [
            "[CV] ............................ kmeans__n_clusters=88, total=   1.2s\n",
            "[CV] kmeans__n_clusters=88 ...........................................\n"
          ],
          "name": "stdout"
        },
        {
          "output_type": "stream",
          "text": [
            "/usr/local/lib/python3.6/dist-packages/sklearn/linear_model/_logistic.py:940: ConvergenceWarning: lbfgs failed to converge (status=1):\n",
            "STOP: TOTAL NO. of ITERATIONS REACHED LIMIT.\n",
            "\n",
            "Increase the number of iterations (max_iter) or scale the data as shown in:\n",
            "    https://scikit-learn.org/stable/modules/preprocessing.html\n",
            "Please also refer to the documentation for alternative solver options:\n",
            "    https://scikit-learn.org/stable/modules/linear_model.html#logistic-regression\n",
            "  extra_warning_msg=_LOGISTIC_SOLVER_CONVERGENCE_MSG)\n"
          ],
          "name": "stderr"
        },
        {
          "output_type": "stream",
          "text": [
            "[CV] ............................ kmeans__n_clusters=88, total=   1.1s\n",
            "[CV] kmeans__n_clusters=89 ...........................................\n"
          ],
          "name": "stdout"
        },
        {
          "output_type": "stream",
          "text": [
            "/usr/local/lib/python3.6/dist-packages/sklearn/linear_model/_logistic.py:940: ConvergenceWarning: lbfgs failed to converge (status=1):\n",
            "STOP: TOTAL NO. of ITERATIONS REACHED LIMIT.\n",
            "\n",
            "Increase the number of iterations (max_iter) or scale the data as shown in:\n",
            "    https://scikit-learn.org/stable/modules/preprocessing.html\n",
            "Please also refer to the documentation for alternative solver options:\n",
            "    https://scikit-learn.org/stable/modules/linear_model.html#logistic-regression\n",
            "  extra_warning_msg=_LOGISTIC_SOLVER_CONVERGENCE_MSG)\n"
          ],
          "name": "stderr"
        },
        {
          "output_type": "stream",
          "text": [
            "[CV] ............................ kmeans__n_clusters=89, total=   1.1s\n",
            "[CV] kmeans__n_clusters=89 ...........................................\n"
          ],
          "name": "stdout"
        },
        {
          "output_type": "stream",
          "text": [
            "/usr/local/lib/python3.6/dist-packages/sklearn/linear_model/_logistic.py:940: ConvergenceWarning: lbfgs failed to converge (status=1):\n",
            "STOP: TOTAL NO. of ITERATIONS REACHED LIMIT.\n",
            "\n",
            "Increase the number of iterations (max_iter) or scale the data as shown in:\n",
            "    https://scikit-learn.org/stable/modules/preprocessing.html\n",
            "Please also refer to the documentation for alternative solver options:\n",
            "    https://scikit-learn.org/stable/modules/linear_model.html#logistic-regression\n",
            "  extra_warning_msg=_LOGISTIC_SOLVER_CONVERGENCE_MSG)\n"
          ],
          "name": "stderr"
        },
        {
          "output_type": "stream",
          "text": [
            "[CV] ............................ kmeans__n_clusters=89, total=   1.1s\n",
            "[CV] kmeans__n_clusters=89 ...........................................\n"
          ],
          "name": "stdout"
        },
        {
          "output_type": "stream",
          "text": [
            "/usr/local/lib/python3.6/dist-packages/sklearn/linear_model/_logistic.py:940: ConvergenceWarning: lbfgs failed to converge (status=1):\n",
            "STOP: TOTAL NO. of ITERATIONS REACHED LIMIT.\n",
            "\n",
            "Increase the number of iterations (max_iter) or scale the data as shown in:\n",
            "    https://scikit-learn.org/stable/modules/preprocessing.html\n",
            "Please also refer to the documentation for alternative solver options:\n",
            "    https://scikit-learn.org/stable/modules/linear_model.html#logistic-regression\n",
            "  extra_warning_msg=_LOGISTIC_SOLVER_CONVERGENCE_MSG)\n"
          ],
          "name": "stderr"
        },
        {
          "output_type": "stream",
          "text": [
            "[CV] ............................ kmeans__n_clusters=89, total=   1.2s\n",
            "[CV] kmeans__n_clusters=90 ...........................................\n"
          ],
          "name": "stdout"
        },
        {
          "output_type": "stream",
          "text": [
            "/usr/local/lib/python3.6/dist-packages/sklearn/linear_model/_logistic.py:940: ConvergenceWarning: lbfgs failed to converge (status=1):\n",
            "STOP: TOTAL NO. of ITERATIONS REACHED LIMIT.\n",
            "\n",
            "Increase the number of iterations (max_iter) or scale the data as shown in:\n",
            "    https://scikit-learn.org/stable/modules/preprocessing.html\n",
            "Please also refer to the documentation for alternative solver options:\n",
            "    https://scikit-learn.org/stable/modules/linear_model.html#logistic-regression\n",
            "  extra_warning_msg=_LOGISTIC_SOLVER_CONVERGENCE_MSG)\n"
          ],
          "name": "stderr"
        },
        {
          "output_type": "stream",
          "text": [
            "[CV] ............................ kmeans__n_clusters=90, total=   1.2s\n",
            "[CV] kmeans__n_clusters=90 ...........................................\n"
          ],
          "name": "stdout"
        },
        {
          "output_type": "stream",
          "text": [
            "/usr/local/lib/python3.6/dist-packages/sklearn/linear_model/_logistic.py:940: ConvergenceWarning: lbfgs failed to converge (status=1):\n",
            "STOP: TOTAL NO. of ITERATIONS REACHED LIMIT.\n",
            "\n",
            "Increase the number of iterations (max_iter) or scale the data as shown in:\n",
            "    https://scikit-learn.org/stable/modules/preprocessing.html\n",
            "Please also refer to the documentation for alternative solver options:\n",
            "    https://scikit-learn.org/stable/modules/linear_model.html#logistic-regression\n",
            "  extra_warning_msg=_LOGISTIC_SOLVER_CONVERGENCE_MSG)\n"
          ],
          "name": "stderr"
        },
        {
          "output_type": "stream",
          "text": [
            "[CV] ............................ kmeans__n_clusters=90, total=   1.2s\n",
            "[CV] kmeans__n_clusters=90 ...........................................\n"
          ],
          "name": "stdout"
        },
        {
          "output_type": "stream",
          "text": [
            "/usr/local/lib/python3.6/dist-packages/sklearn/linear_model/_logistic.py:940: ConvergenceWarning: lbfgs failed to converge (status=1):\n",
            "STOP: TOTAL NO. of ITERATIONS REACHED LIMIT.\n",
            "\n",
            "Increase the number of iterations (max_iter) or scale the data as shown in:\n",
            "    https://scikit-learn.org/stable/modules/preprocessing.html\n",
            "Please also refer to the documentation for alternative solver options:\n",
            "    https://scikit-learn.org/stable/modules/linear_model.html#logistic-regression\n",
            "  extra_warning_msg=_LOGISTIC_SOLVER_CONVERGENCE_MSG)\n"
          ],
          "name": "stderr"
        },
        {
          "output_type": "stream",
          "text": [
            "[CV] ............................ kmeans__n_clusters=90, total=   1.2s\n",
            "[CV] kmeans__n_clusters=91 ...........................................\n"
          ],
          "name": "stdout"
        },
        {
          "output_type": "stream",
          "text": [
            "/usr/local/lib/python3.6/dist-packages/sklearn/linear_model/_logistic.py:940: ConvergenceWarning: lbfgs failed to converge (status=1):\n",
            "STOP: TOTAL NO. of ITERATIONS REACHED LIMIT.\n",
            "\n",
            "Increase the number of iterations (max_iter) or scale the data as shown in:\n",
            "    https://scikit-learn.org/stable/modules/preprocessing.html\n",
            "Please also refer to the documentation for alternative solver options:\n",
            "    https://scikit-learn.org/stable/modules/linear_model.html#logistic-regression\n",
            "  extra_warning_msg=_LOGISTIC_SOLVER_CONVERGENCE_MSG)\n"
          ],
          "name": "stderr"
        },
        {
          "output_type": "stream",
          "text": [
            "[CV] ............................ kmeans__n_clusters=91, total=   1.2s\n",
            "[CV] kmeans__n_clusters=91 ...........................................\n"
          ],
          "name": "stdout"
        },
        {
          "output_type": "stream",
          "text": [
            "/usr/local/lib/python3.6/dist-packages/sklearn/linear_model/_logistic.py:940: ConvergenceWarning: lbfgs failed to converge (status=1):\n",
            "STOP: TOTAL NO. of ITERATIONS REACHED LIMIT.\n",
            "\n",
            "Increase the number of iterations (max_iter) or scale the data as shown in:\n",
            "    https://scikit-learn.org/stable/modules/preprocessing.html\n",
            "Please also refer to the documentation for alternative solver options:\n",
            "    https://scikit-learn.org/stable/modules/linear_model.html#logistic-regression\n",
            "  extra_warning_msg=_LOGISTIC_SOLVER_CONVERGENCE_MSG)\n"
          ],
          "name": "stderr"
        },
        {
          "output_type": "stream",
          "text": [
            "[CV] ............................ kmeans__n_clusters=91, total=   1.2s\n",
            "[CV] kmeans__n_clusters=91 ...........................................\n"
          ],
          "name": "stdout"
        },
        {
          "output_type": "stream",
          "text": [
            "/usr/local/lib/python3.6/dist-packages/sklearn/linear_model/_logistic.py:940: ConvergenceWarning: lbfgs failed to converge (status=1):\n",
            "STOP: TOTAL NO. of ITERATIONS REACHED LIMIT.\n",
            "\n",
            "Increase the number of iterations (max_iter) or scale the data as shown in:\n",
            "    https://scikit-learn.org/stable/modules/preprocessing.html\n",
            "Please also refer to the documentation for alternative solver options:\n",
            "    https://scikit-learn.org/stable/modules/linear_model.html#logistic-regression\n",
            "  extra_warning_msg=_LOGISTIC_SOLVER_CONVERGENCE_MSG)\n"
          ],
          "name": "stderr"
        },
        {
          "output_type": "stream",
          "text": [
            "[CV] ............................ kmeans__n_clusters=91, total=   1.2s\n",
            "[CV] kmeans__n_clusters=92 ...........................................\n"
          ],
          "name": "stdout"
        },
        {
          "output_type": "stream",
          "text": [
            "/usr/local/lib/python3.6/dist-packages/sklearn/linear_model/_logistic.py:940: ConvergenceWarning: lbfgs failed to converge (status=1):\n",
            "STOP: TOTAL NO. of ITERATIONS REACHED LIMIT.\n",
            "\n",
            "Increase the number of iterations (max_iter) or scale the data as shown in:\n",
            "    https://scikit-learn.org/stable/modules/preprocessing.html\n",
            "Please also refer to the documentation for alternative solver options:\n",
            "    https://scikit-learn.org/stable/modules/linear_model.html#logistic-regression\n",
            "  extra_warning_msg=_LOGISTIC_SOLVER_CONVERGENCE_MSG)\n"
          ],
          "name": "stderr"
        },
        {
          "output_type": "stream",
          "text": [
            "[CV] ............................ kmeans__n_clusters=92, total=   1.2s\n",
            "[CV] kmeans__n_clusters=92 ...........................................\n"
          ],
          "name": "stdout"
        },
        {
          "output_type": "stream",
          "text": [
            "/usr/local/lib/python3.6/dist-packages/sklearn/linear_model/_logistic.py:940: ConvergenceWarning: lbfgs failed to converge (status=1):\n",
            "STOP: TOTAL NO. of ITERATIONS REACHED LIMIT.\n",
            "\n",
            "Increase the number of iterations (max_iter) or scale the data as shown in:\n",
            "    https://scikit-learn.org/stable/modules/preprocessing.html\n",
            "Please also refer to the documentation for alternative solver options:\n",
            "    https://scikit-learn.org/stable/modules/linear_model.html#logistic-regression\n",
            "  extra_warning_msg=_LOGISTIC_SOLVER_CONVERGENCE_MSG)\n"
          ],
          "name": "stderr"
        },
        {
          "output_type": "stream",
          "text": [
            "[CV] ............................ kmeans__n_clusters=92, total=   1.2s\n",
            "[CV] kmeans__n_clusters=92 ...........................................\n"
          ],
          "name": "stdout"
        },
        {
          "output_type": "stream",
          "text": [
            "/usr/local/lib/python3.6/dist-packages/sklearn/linear_model/_logistic.py:940: ConvergenceWarning: lbfgs failed to converge (status=1):\n",
            "STOP: TOTAL NO. of ITERATIONS REACHED LIMIT.\n",
            "\n",
            "Increase the number of iterations (max_iter) or scale the data as shown in:\n",
            "    https://scikit-learn.org/stable/modules/preprocessing.html\n",
            "Please also refer to the documentation for alternative solver options:\n",
            "    https://scikit-learn.org/stable/modules/linear_model.html#logistic-regression\n",
            "  extra_warning_msg=_LOGISTIC_SOLVER_CONVERGENCE_MSG)\n"
          ],
          "name": "stderr"
        },
        {
          "output_type": "stream",
          "text": [
            "[CV] ............................ kmeans__n_clusters=92, total=   1.2s\n",
            "[CV] kmeans__n_clusters=93 ...........................................\n"
          ],
          "name": "stdout"
        },
        {
          "output_type": "stream",
          "text": [
            "/usr/local/lib/python3.6/dist-packages/sklearn/linear_model/_logistic.py:940: ConvergenceWarning: lbfgs failed to converge (status=1):\n",
            "STOP: TOTAL NO. of ITERATIONS REACHED LIMIT.\n",
            "\n",
            "Increase the number of iterations (max_iter) or scale the data as shown in:\n",
            "    https://scikit-learn.org/stable/modules/preprocessing.html\n",
            "Please also refer to the documentation for alternative solver options:\n",
            "    https://scikit-learn.org/stable/modules/linear_model.html#logistic-regression\n",
            "  extra_warning_msg=_LOGISTIC_SOLVER_CONVERGENCE_MSG)\n"
          ],
          "name": "stderr"
        },
        {
          "output_type": "stream",
          "text": [
            "[CV] ............................ kmeans__n_clusters=93, total=   1.2s\n",
            "[CV] kmeans__n_clusters=93 ...........................................\n"
          ],
          "name": "stdout"
        },
        {
          "output_type": "stream",
          "text": [
            "/usr/local/lib/python3.6/dist-packages/sklearn/linear_model/_logistic.py:940: ConvergenceWarning: lbfgs failed to converge (status=1):\n",
            "STOP: TOTAL NO. of ITERATIONS REACHED LIMIT.\n",
            "\n",
            "Increase the number of iterations (max_iter) or scale the data as shown in:\n",
            "    https://scikit-learn.org/stable/modules/preprocessing.html\n",
            "Please also refer to the documentation for alternative solver options:\n",
            "    https://scikit-learn.org/stable/modules/linear_model.html#logistic-regression\n",
            "  extra_warning_msg=_LOGISTIC_SOLVER_CONVERGENCE_MSG)\n"
          ],
          "name": "stderr"
        },
        {
          "output_type": "stream",
          "text": [
            "[CV] ............................ kmeans__n_clusters=93, total=   1.2s\n",
            "[CV] kmeans__n_clusters=93 ...........................................\n"
          ],
          "name": "stdout"
        },
        {
          "output_type": "stream",
          "text": [
            "/usr/local/lib/python3.6/dist-packages/sklearn/linear_model/_logistic.py:940: ConvergenceWarning: lbfgs failed to converge (status=1):\n",
            "STOP: TOTAL NO. of ITERATIONS REACHED LIMIT.\n",
            "\n",
            "Increase the number of iterations (max_iter) or scale the data as shown in:\n",
            "    https://scikit-learn.org/stable/modules/preprocessing.html\n",
            "Please also refer to the documentation for alternative solver options:\n",
            "    https://scikit-learn.org/stable/modules/linear_model.html#logistic-regression\n",
            "  extra_warning_msg=_LOGISTIC_SOLVER_CONVERGENCE_MSG)\n"
          ],
          "name": "stderr"
        },
        {
          "output_type": "stream",
          "text": [
            "[CV] ............................ kmeans__n_clusters=93, total=   1.2s\n",
            "[CV] kmeans__n_clusters=94 ...........................................\n"
          ],
          "name": "stdout"
        },
        {
          "output_type": "stream",
          "text": [
            "/usr/local/lib/python3.6/dist-packages/sklearn/linear_model/_logistic.py:940: ConvergenceWarning: lbfgs failed to converge (status=1):\n",
            "STOP: TOTAL NO. of ITERATIONS REACHED LIMIT.\n",
            "\n",
            "Increase the number of iterations (max_iter) or scale the data as shown in:\n",
            "    https://scikit-learn.org/stable/modules/preprocessing.html\n",
            "Please also refer to the documentation for alternative solver options:\n",
            "    https://scikit-learn.org/stable/modules/linear_model.html#logistic-regression\n",
            "  extra_warning_msg=_LOGISTIC_SOLVER_CONVERGENCE_MSG)\n"
          ],
          "name": "stderr"
        },
        {
          "output_type": "stream",
          "text": [
            "[CV] ............................ kmeans__n_clusters=94, total=   1.2s\n",
            "[CV] kmeans__n_clusters=94 ...........................................\n"
          ],
          "name": "stdout"
        },
        {
          "output_type": "stream",
          "text": [
            "/usr/local/lib/python3.6/dist-packages/sklearn/linear_model/_logistic.py:940: ConvergenceWarning: lbfgs failed to converge (status=1):\n",
            "STOP: TOTAL NO. of ITERATIONS REACHED LIMIT.\n",
            "\n",
            "Increase the number of iterations (max_iter) or scale the data as shown in:\n",
            "    https://scikit-learn.org/stable/modules/preprocessing.html\n",
            "Please also refer to the documentation for alternative solver options:\n",
            "    https://scikit-learn.org/stable/modules/linear_model.html#logistic-regression\n",
            "  extra_warning_msg=_LOGISTIC_SOLVER_CONVERGENCE_MSG)\n"
          ],
          "name": "stderr"
        },
        {
          "output_type": "stream",
          "text": [
            "[CV] ............................ kmeans__n_clusters=94, total=   1.2s\n",
            "[CV] kmeans__n_clusters=94 ...........................................\n"
          ],
          "name": "stdout"
        },
        {
          "output_type": "stream",
          "text": [
            "/usr/local/lib/python3.6/dist-packages/sklearn/linear_model/_logistic.py:940: ConvergenceWarning: lbfgs failed to converge (status=1):\n",
            "STOP: TOTAL NO. of ITERATIONS REACHED LIMIT.\n",
            "\n",
            "Increase the number of iterations (max_iter) or scale the data as shown in:\n",
            "    https://scikit-learn.org/stable/modules/preprocessing.html\n",
            "Please also refer to the documentation for alternative solver options:\n",
            "    https://scikit-learn.org/stable/modules/linear_model.html#logistic-regression\n",
            "  extra_warning_msg=_LOGISTIC_SOLVER_CONVERGENCE_MSG)\n"
          ],
          "name": "stderr"
        },
        {
          "output_type": "stream",
          "text": [
            "[CV] ............................ kmeans__n_clusters=94, total=   1.2s\n",
            "[CV] kmeans__n_clusters=95 ...........................................\n"
          ],
          "name": "stdout"
        },
        {
          "output_type": "stream",
          "text": [
            "/usr/local/lib/python3.6/dist-packages/sklearn/linear_model/_logistic.py:940: ConvergenceWarning: lbfgs failed to converge (status=1):\n",
            "STOP: TOTAL NO. of ITERATIONS REACHED LIMIT.\n",
            "\n",
            "Increase the number of iterations (max_iter) or scale the data as shown in:\n",
            "    https://scikit-learn.org/stable/modules/preprocessing.html\n",
            "Please also refer to the documentation for alternative solver options:\n",
            "    https://scikit-learn.org/stable/modules/linear_model.html#logistic-regression\n",
            "  extra_warning_msg=_LOGISTIC_SOLVER_CONVERGENCE_MSG)\n"
          ],
          "name": "stderr"
        },
        {
          "output_type": "stream",
          "text": [
            "[CV] ............................ kmeans__n_clusters=95, total=   1.2s\n",
            "[CV] kmeans__n_clusters=95 ...........................................\n"
          ],
          "name": "stdout"
        },
        {
          "output_type": "stream",
          "text": [
            "/usr/local/lib/python3.6/dist-packages/sklearn/linear_model/_logistic.py:940: ConvergenceWarning: lbfgs failed to converge (status=1):\n",
            "STOP: TOTAL NO. of ITERATIONS REACHED LIMIT.\n",
            "\n",
            "Increase the number of iterations (max_iter) or scale the data as shown in:\n",
            "    https://scikit-learn.org/stable/modules/preprocessing.html\n",
            "Please also refer to the documentation for alternative solver options:\n",
            "    https://scikit-learn.org/stable/modules/linear_model.html#logistic-regression\n",
            "  extra_warning_msg=_LOGISTIC_SOLVER_CONVERGENCE_MSG)\n"
          ],
          "name": "stderr"
        },
        {
          "output_type": "stream",
          "text": [
            "[CV] ............................ kmeans__n_clusters=95, total=   1.2s\n",
            "[CV] kmeans__n_clusters=95 ...........................................\n"
          ],
          "name": "stdout"
        },
        {
          "output_type": "stream",
          "text": [
            "/usr/local/lib/python3.6/dist-packages/sklearn/linear_model/_logistic.py:940: ConvergenceWarning: lbfgs failed to converge (status=1):\n",
            "STOP: TOTAL NO. of ITERATIONS REACHED LIMIT.\n",
            "\n",
            "Increase the number of iterations (max_iter) or scale the data as shown in:\n",
            "    https://scikit-learn.org/stable/modules/preprocessing.html\n",
            "Please also refer to the documentation for alternative solver options:\n",
            "    https://scikit-learn.org/stable/modules/linear_model.html#logistic-regression\n",
            "  extra_warning_msg=_LOGISTIC_SOLVER_CONVERGENCE_MSG)\n"
          ],
          "name": "stderr"
        },
        {
          "output_type": "stream",
          "text": [
            "[CV] ............................ kmeans__n_clusters=95, total=   1.2s\n",
            "[CV] kmeans__n_clusters=96 ...........................................\n"
          ],
          "name": "stdout"
        },
        {
          "output_type": "stream",
          "text": [
            "/usr/local/lib/python3.6/dist-packages/sklearn/linear_model/_logistic.py:940: ConvergenceWarning: lbfgs failed to converge (status=1):\n",
            "STOP: TOTAL NO. of ITERATIONS REACHED LIMIT.\n",
            "\n",
            "Increase the number of iterations (max_iter) or scale the data as shown in:\n",
            "    https://scikit-learn.org/stable/modules/preprocessing.html\n",
            "Please also refer to the documentation for alternative solver options:\n",
            "    https://scikit-learn.org/stable/modules/linear_model.html#logistic-regression\n",
            "  extra_warning_msg=_LOGISTIC_SOLVER_CONVERGENCE_MSG)\n"
          ],
          "name": "stderr"
        },
        {
          "output_type": "stream",
          "text": [
            "[CV] ............................ kmeans__n_clusters=96, total=   1.3s\n",
            "[CV] kmeans__n_clusters=96 ...........................................\n"
          ],
          "name": "stdout"
        },
        {
          "output_type": "stream",
          "text": [
            "/usr/local/lib/python3.6/dist-packages/sklearn/linear_model/_logistic.py:940: ConvergenceWarning: lbfgs failed to converge (status=1):\n",
            "STOP: TOTAL NO. of ITERATIONS REACHED LIMIT.\n",
            "\n",
            "Increase the number of iterations (max_iter) or scale the data as shown in:\n",
            "    https://scikit-learn.org/stable/modules/preprocessing.html\n",
            "Please also refer to the documentation for alternative solver options:\n",
            "    https://scikit-learn.org/stable/modules/linear_model.html#logistic-regression\n",
            "  extra_warning_msg=_LOGISTIC_SOLVER_CONVERGENCE_MSG)\n"
          ],
          "name": "stderr"
        },
        {
          "output_type": "stream",
          "text": [
            "[CV] ............................ kmeans__n_clusters=96, total=   1.2s\n",
            "[CV] kmeans__n_clusters=96 ...........................................\n"
          ],
          "name": "stdout"
        },
        {
          "output_type": "stream",
          "text": [
            "/usr/local/lib/python3.6/dist-packages/sklearn/linear_model/_logistic.py:940: ConvergenceWarning: lbfgs failed to converge (status=1):\n",
            "STOP: TOTAL NO. of ITERATIONS REACHED LIMIT.\n",
            "\n",
            "Increase the number of iterations (max_iter) or scale the data as shown in:\n",
            "    https://scikit-learn.org/stable/modules/preprocessing.html\n",
            "Please also refer to the documentation for alternative solver options:\n",
            "    https://scikit-learn.org/stable/modules/linear_model.html#logistic-regression\n",
            "  extra_warning_msg=_LOGISTIC_SOLVER_CONVERGENCE_MSG)\n"
          ],
          "name": "stderr"
        },
        {
          "output_type": "stream",
          "text": [
            "[CV] ............................ kmeans__n_clusters=96, total=   1.2s\n",
            "[CV] kmeans__n_clusters=97 ...........................................\n"
          ],
          "name": "stdout"
        },
        {
          "output_type": "stream",
          "text": [
            "/usr/local/lib/python3.6/dist-packages/sklearn/linear_model/_logistic.py:940: ConvergenceWarning: lbfgs failed to converge (status=1):\n",
            "STOP: TOTAL NO. of ITERATIONS REACHED LIMIT.\n",
            "\n",
            "Increase the number of iterations (max_iter) or scale the data as shown in:\n",
            "    https://scikit-learn.org/stable/modules/preprocessing.html\n",
            "Please also refer to the documentation for alternative solver options:\n",
            "    https://scikit-learn.org/stable/modules/linear_model.html#logistic-regression\n",
            "  extra_warning_msg=_LOGISTIC_SOLVER_CONVERGENCE_MSG)\n"
          ],
          "name": "stderr"
        },
        {
          "output_type": "stream",
          "text": [
            "[CV] ............................ kmeans__n_clusters=97, total=   1.2s\n",
            "[CV] kmeans__n_clusters=97 ...........................................\n"
          ],
          "name": "stdout"
        },
        {
          "output_type": "stream",
          "text": [
            "/usr/local/lib/python3.6/dist-packages/sklearn/linear_model/_logistic.py:940: ConvergenceWarning: lbfgs failed to converge (status=1):\n",
            "STOP: TOTAL NO. of ITERATIONS REACHED LIMIT.\n",
            "\n",
            "Increase the number of iterations (max_iter) or scale the data as shown in:\n",
            "    https://scikit-learn.org/stable/modules/preprocessing.html\n",
            "Please also refer to the documentation for alternative solver options:\n",
            "    https://scikit-learn.org/stable/modules/linear_model.html#logistic-regression\n",
            "  extra_warning_msg=_LOGISTIC_SOLVER_CONVERGENCE_MSG)\n"
          ],
          "name": "stderr"
        },
        {
          "output_type": "stream",
          "text": [
            "[CV] ............................ kmeans__n_clusters=97, total=   1.2s\n",
            "[CV] kmeans__n_clusters=97 ...........................................\n"
          ],
          "name": "stdout"
        },
        {
          "output_type": "stream",
          "text": [
            "/usr/local/lib/python3.6/dist-packages/sklearn/linear_model/_logistic.py:940: ConvergenceWarning: lbfgs failed to converge (status=1):\n",
            "STOP: TOTAL NO. of ITERATIONS REACHED LIMIT.\n",
            "\n",
            "Increase the number of iterations (max_iter) or scale the data as shown in:\n",
            "    https://scikit-learn.org/stable/modules/preprocessing.html\n",
            "Please also refer to the documentation for alternative solver options:\n",
            "    https://scikit-learn.org/stable/modules/linear_model.html#logistic-regression\n",
            "  extra_warning_msg=_LOGISTIC_SOLVER_CONVERGENCE_MSG)\n"
          ],
          "name": "stderr"
        },
        {
          "output_type": "stream",
          "text": [
            "[CV] ............................ kmeans__n_clusters=97, total=   1.2s\n",
            "[CV] kmeans__n_clusters=98 ...........................................\n"
          ],
          "name": "stdout"
        },
        {
          "output_type": "stream",
          "text": [
            "/usr/local/lib/python3.6/dist-packages/sklearn/linear_model/_logistic.py:940: ConvergenceWarning: lbfgs failed to converge (status=1):\n",
            "STOP: TOTAL NO. of ITERATIONS REACHED LIMIT.\n",
            "\n",
            "Increase the number of iterations (max_iter) or scale the data as shown in:\n",
            "    https://scikit-learn.org/stable/modules/preprocessing.html\n",
            "Please also refer to the documentation for alternative solver options:\n",
            "    https://scikit-learn.org/stable/modules/linear_model.html#logistic-regression\n",
            "  extra_warning_msg=_LOGISTIC_SOLVER_CONVERGENCE_MSG)\n"
          ],
          "name": "stderr"
        },
        {
          "output_type": "stream",
          "text": [
            "[CV] ............................ kmeans__n_clusters=98, total=   1.3s\n",
            "[CV] kmeans__n_clusters=98 ...........................................\n"
          ],
          "name": "stdout"
        },
        {
          "output_type": "stream",
          "text": [
            "/usr/local/lib/python3.6/dist-packages/sklearn/linear_model/_logistic.py:940: ConvergenceWarning: lbfgs failed to converge (status=1):\n",
            "STOP: TOTAL NO. of ITERATIONS REACHED LIMIT.\n",
            "\n",
            "Increase the number of iterations (max_iter) or scale the data as shown in:\n",
            "    https://scikit-learn.org/stable/modules/preprocessing.html\n",
            "Please also refer to the documentation for alternative solver options:\n",
            "    https://scikit-learn.org/stable/modules/linear_model.html#logistic-regression\n",
            "  extra_warning_msg=_LOGISTIC_SOLVER_CONVERGENCE_MSG)\n"
          ],
          "name": "stderr"
        },
        {
          "output_type": "stream",
          "text": [
            "[CV] ............................ kmeans__n_clusters=98, total=   1.3s\n",
            "[CV] kmeans__n_clusters=98 ...........................................\n"
          ],
          "name": "stdout"
        },
        {
          "output_type": "stream",
          "text": [
            "/usr/local/lib/python3.6/dist-packages/sklearn/linear_model/_logistic.py:940: ConvergenceWarning: lbfgs failed to converge (status=1):\n",
            "STOP: TOTAL NO. of ITERATIONS REACHED LIMIT.\n",
            "\n",
            "Increase the number of iterations (max_iter) or scale the data as shown in:\n",
            "    https://scikit-learn.org/stable/modules/preprocessing.html\n",
            "Please also refer to the documentation for alternative solver options:\n",
            "    https://scikit-learn.org/stable/modules/linear_model.html#logistic-regression\n",
            "  extra_warning_msg=_LOGISTIC_SOLVER_CONVERGENCE_MSG)\n"
          ],
          "name": "stderr"
        },
        {
          "output_type": "stream",
          "text": [
            "[CV] ............................ kmeans__n_clusters=98, total=   1.2s\n",
            "[CV] kmeans__n_clusters=99 ...........................................\n"
          ],
          "name": "stdout"
        },
        {
          "output_type": "stream",
          "text": [
            "/usr/local/lib/python3.6/dist-packages/sklearn/linear_model/_logistic.py:940: ConvergenceWarning: lbfgs failed to converge (status=1):\n",
            "STOP: TOTAL NO. of ITERATIONS REACHED LIMIT.\n",
            "\n",
            "Increase the number of iterations (max_iter) or scale the data as shown in:\n",
            "    https://scikit-learn.org/stable/modules/preprocessing.html\n",
            "Please also refer to the documentation for alternative solver options:\n",
            "    https://scikit-learn.org/stable/modules/linear_model.html#logistic-regression\n",
            "  extra_warning_msg=_LOGISTIC_SOLVER_CONVERGENCE_MSG)\n"
          ],
          "name": "stderr"
        },
        {
          "output_type": "stream",
          "text": [
            "[CV] ............................ kmeans__n_clusters=99, total=   1.3s\n",
            "[CV] kmeans__n_clusters=99 ...........................................\n"
          ],
          "name": "stdout"
        },
        {
          "output_type": "stream",
          "text": [
            "/usr/local/lib/python3.6/dist-packages/sklearn/linear_model/_logistic.py:940: ConvergenceWarning: lbfgs failed to converge (status=1):\n",
            "STOP: TOTAL NO. of ITERATIONS REACHED LIMIT.\n",
            "\n",
            "Increase the number of iterations (max_iter) or scale the data as shown in:\n",
            "    https://scikit-learn.org/stable/modules/preprocessing.html\n",
            "Please also refer to the documentation for alternative solver options:\n",
            "    https://scikit-learn.org/stable/modules/linear_model.html#logistic-regression\n",
            "  extra_warning_msg=_LOGISTIC_SOLVER_CONVERGENCE_MSG)\n"
          ],
          "name": "stderr"
        },
        {
          "output_type": "stream",
          "text": [
            "[CV] ............................ kmeans__n_clusters=99, total=   1.3s\n",
            "[CV] kmeans__n_clusters=99 ...........................................\n"
          ],
          "name": "stdout"
        },
        {
          "output_type": "stream",
          "text": [
            "/usr/local/lib/python3.6/dist-packages/sklearn/linear_model/_logistic.py:940: ConvergenceWarning: lbfgs failed to converge (status=1):\n",
            "STOP: TOTAL NO. of ITERATIONS REACHED LIMIT.\n",
            "\n",
            "Increase the number of iterations (max_iter) or scale the data as shown in:\n",
            "    https://scikit-learn.org/stable/modules/preprocessing.html\n",
            "Please also refer to the documentation for alternative solver options:\n",
            "    https://scikit-learn.org/stable/modules/linear_model.html#logistic-regression\n",
            "  extra_warning_msg=_LOGISTIC_SOLVER_CONVERGENCE_MSG)\n",
            "[Parallel(n_jobs=1)]: Done 294 out of 294 | elapsed:  3.8min finished\n"
          ],
          "name": "stderr"
        },
        {
          "output_type": "stream",
          "text": [
            "[CV] ............................ kmeans__n_clusters=99, total=   1.2s\n",
            "{'kmeans__n_clusters': 68}\n",
            "New LR score with GRIDSEARCH: 0.9466666666666667\n"
          ],
          "name": "stdout"
        },
        {
          "output_type": "stream",
          "text": [
            "/usr/local/lib/python3.6/dist-packages/sklearn/linear_model/_logistic.py:940: ConvergenceWarning: lbfgs failed to converge (status=1):\n",
            "STOP: TOTAL NO. of ITERATIONS REACHED LIMIT.\n",
            "\n",
            "Increase the number of iterations (max_iter) or scale the data as shown in:\n",
            "    https://scikit-learn.org/stable/modules/preprocessing.html\n",
            "Please also refer to the documentation for alternative solver options:\n",
            "    https://scikit-learn.org/stable/modules/linear_model.html#logistic-regression\n",
            "  extra_warning_msg=_LOGISTIC_SOLVER_CONVERGENCE_MSG)\n"
          ],
          "name": "stderr"
        }
      ]
    }
  ]
}